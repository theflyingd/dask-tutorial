{
 "cells": [
  {
   "cell_type": "markdown",
   "metadata": {},
   "source": [
    "<img src=\"http://dask.readthedocs.io/en/latest/_images/dask_horizontal.svg\"\n",
    "     align=\"right\"\n",
    "     width=\"30%\"\n",
    "     alt=\"Dask logo\\\">\n",
    "\n",
    "# Distributed - spread your data and computation across a cluster\n",
    "\n",
    "As we covered at the beginning Dask has the ability to run work on multiple machines using the distributed scheduler.\n",
    "\n",
    "Until now we have actually been using the distributed scheduler for our work, but just on a single machine.\n",
    "\n",
    "When we instantiate a `Client()` object with no arguments it will attempt to locate a Dask cluster. It will check your local Dask config and environment variables to see if connection information has been specified. If not it will create an instance of `LocalCluster` and use that.\n",
    "\n",
    "*Specifying connection information in config is useful for system administrators to provide access to their users. We do this in the [Dask Helm Chart for Kubernetes](https://github.com/dask/helm-chart/blob/master/dask/templates/dask-jupyter-deployment.yaml#L46-L48), the chart installs a multi-node Dask cluster and a Jupyter server on a Kubernetes cluster and Jupyter is preconfigured to discover the distributed cluster.*"
   ]
  },
  {
   "cell_type": "markdown",
   "metadata": {},
   "source": [
    "## Local Cluster\n",
    "\n",
    "Let's explore the `LocalCluster` object ourselves and see what it is doing."
   ]
  },
  {
   "cell_type": "code",
   "execution_count": 1,
   "metadata": {
    "execution": {
     "iopub.execute_input": "2022-08-15T20:33:32.808933Z",
     "iopub.status.busy": "2022-08-15T20:33:32.808620Z",
     "iopub.status.idle": "2022-08-15T20:33:33.222869Z",
     "shell.execute_reply": "2022-08-15T20:33:33.222132Z"
    }
   },
   "outputs": [],
   "source": [
    "from dask.distributed import LocalCluster, Client"
   ]
  },
  {
   "cell_type": "code",
   "execution_count": 2,
   "metadata": {
    "execution": {
     "iopub.execute_input": "2022-08-15T20:33:33.227125Z",
     "iopub.status.busy": "2022-08-15T20:33:33.226483Z",
     "iopub.status.idle": "2022-08-15T20:33:35.491047Z",
     "shell.execute_reply": "2022-08-15T20:33:35.490431Z"
    }
   },
   "outputs": [
    {
     "data": {
      "application/vnd.jupyter.widget-view+json": {
       "model_id": "314b6f0b3aa4416b9552fe225b39c61e",
       "version_major": 2,
       "version_minor": 0
      },
      "text/plain": [
       "Tab(children=(HTML(value='<div class=\"jp-RenderedHTMLCommon jp-RenderedHTML jp-mod-trusted jp-OutputArea-outpu…"
      ]
     },
     "metadata": {},
     "output_type": "display_data"
    }
   ],
   "source": [
    "cluster = LocalCluster()\n",
    "cluster"
   ]
  },
  {
   "cell_type": "markdown",
   "metadata": {},
   "source": [
    "Creating a cluster object will create a Dask scheduler and a number of Dask workers. If no arguments are specified then it will autodetect the number of CPU cores your system has and the amount of memory and create workers to appropriately fill that.\n",
    "\n",
    "You can also specify these arguments yourself. Let's have a look at the docstring to see the options we have available.\n",
    "\n",
    "*These arguments can also be passed to `Client` and in the case where it creates a `LocalCluster` they will just be passed on down the line.*"
   ]
  },
  {
   "cell_type": "code",
   "execution_count": 3,
   "metadata": {
    "execution": {
     "iopub.execute_input": "2022-08-15T20:33:35.500393Z",
     "iopub.status.busy": "2022-08-15T20:33:35.499941Z",
     "iopub.status.idle": "2022-08-15T20:33:35.551500Z",
     "shell.execute_reply": "2022-08-15T20:33:35.550504Z"
    }
   },
   "outputs": [],
   "source": [
    "LocalCluster?"
   ]
  },
  {
   "cell_type": "markdown",
   "metadata": {},
   "source": [
    "Our cluster object has attributes and methods which we can use to access information about our cluster. For instance we can get the log output from the scheduler and all the workers with the `get_logs()` method."
   ]
  },
  {
   "cell_type": "code",
   "execution_count": 4,
   "metadata": {
    "execution": {
     "iopub.execute_input": "2022-08-15T20:33:35.555639Z",
     "iopub.status.busy": "2022-08-15T20:33:35.555292Z",
     "iopub.status.idle": "2022-08-15T20:33:35.591823Z",
     "shell.execute_reply": "2022-08-15T20:33:35.590965Z"
    }
   },
   "outputs": [
    {
     "data": {
      "text/html": [
       "\n",
       "    <details>\n",
       "    <summary style='display:list-item'>Cluster</summary>\n",
       "    \n",
       "    \n",
       "        <p style=\"font-family: monospace; margin: 0;\"></p>\n",
       "    \n",
       "\n",
       "    </details>\n",
       "\n",
       "    <details>\n",
       "    <summary style='display:list-item'>Scheduler</summary>\n",
       "    \n",
       "    \n",
       "        <p style=\"font-family: monospace; margin: 0;\">2022-08-15 20:33:33,969 - distributed.scheduler - INFO - State start</p>\n",
       "    \n",
       "\n",
       "    \n",
       "        <p style=\"font-family: monospace; margin: 0;\">2022-08-15 20:33:33,972 - distributed.scheduler - INFO - Clear task state</p>\n",
       "    \n",
       "\n",
       "    \n",
       "        <p style=\"font-family: monospace; margin: 0;\">2022-08-15 20:33:33,973 - distributed.scheduler - INFO -   Scheduler at:     tcp://127.0.0.1:34779</p>\n",
       "    \n",
       "\n",
       "    \n",
       "        <p style=\"font-family: monospace; margin: 0;\">2022-08-15 20:33:33,973 - distributed.scheduler - INFO -   dashboard at:            127.0.0.1:8787</p>\n",
       "    \n",
       "\n",
       "    \n",
       "        <p style=\"font-family: monospace; margin: 0;\">2022-08-15 20:33:35,140 - distributed.scheduler - INFO - Register worker &lt;WorkerState &#x27;tcp://127.0.0.1:46645&#x27;, name: 1, status: running, memory: 0, processing: 0&gt;</p>\n",
       "    \n",
       "\n",
       "    \n",
       "        <p style=\"font-family: monospace; margin: 0;\">2022-08-15 20:33:35,143 - distributed.scheduler - INFO - Starting worker compute stream, tcp://127.0.0.1:46645</p>\n",
       "    \n",
       "\n",
       "    \n",
       "        <p style=\"font-family: monospace; margin: 0;\">2022-08-15 20:33:35,216 - distributed.scheduler - INFO - Register worker &lt;WorkerState &#x27;tcp://127.0.0.1:38569&#x27;, name: 0, status: running, memory: 0, processing: 0&gt;</p>\n",
       "    \n",
       "\n",
       "    \n",
       "        <p style=\"font-family: monospace; margin: 0;\">2022-08-15 20:33:35,216 - distributed.scheduler - INFO - Starting worker compute stream, tcp://127.0.0.1:38569</p>\n",
       "    \n",
       "\n",
       "    </details>\n",
       "\n",
       "    <details>\n",
       "    <summary style='display:list-item'>tcp://127.0.0.1:38569</summary>\n",
       "    \n",
       "    \n",
       "        <p style=\"font-family: monospace; margin: 0;\">2022-08-15 20:33:34,872 - distributed.worker - INFO -       Start worker at:      tcp://127.0.0.1:38569</p>\n",
       "    \n",
       "\n",
       "    \n",
       "        <p style=\"font-family: monospace; margin: 0;\">2022-08-15 20:33:34,872 - distributed.worker - INFO -          Listening to:      tcp://127.0.0.1:38569</p>\n",
       "    \n",
       "\n",
       "    \n",
       "        <p style=\"font-family: monospace; margin: 0;\">2022-08-15 20:33:34,872 - distributed.worker - INFO -          dashboard at:            127.0.0.1:33693</p>\n",
       "    \n",
       "\n",
       "    \n",
       "        <p style=\"font-family: monospace; margin: 0;\">2022-08-15 20:33:34,872 - distributed.worker - INFO - Waiting to connect to:      tcp://127.0.0.1:34779</p>\n",
       "    \n",
       "\n",
       "    \n",
       "        <p style=\"font-family: monospace; margin: 0;\">2022-08-15 20:33:34,872 - distributed.worker - INFO - -------------------------------------------------</p>\n",
       "    \n",
       "\n",
       "    \n",
       "        <p style=\"font-family: monospace; margin: 0;\">2022-08-15 20:33:34,872 - distributed.worker - INFO -               Threads:                          1</p>\n",
       "    \n",
       "\n",
       "    \n",
       "        <p style=\"font-family: monospace; margin: 0;\">2022-08-15 20:33:34,872 - distributed.worker - INFO -                Memory:                   3.39 GiB</p>\n",
       "    \n",
       "\n",
       "    \n",
       "        <p style=\"font-family: monospace; margin: 0;\">2022-08-15 20:33:34,872 - distributed.worker - INFO -       Local Directory: /home/runner/work/dask-tutorial/dask-tutorial/dask-worker-space/worker-smqglhdp</p>\n",
       "    \n",
       "\n",
       "    \n",
       "        <p style=\"font-family: monospace; margin: 0;\">2022-08-15 20:33:34,872 - distributed.worker - INFO - -------------------------------------------------</p>\n",
       "    \n",
       "\n",
       "    \n",
       "        <p style=\"font-family: monospace; margin: 0;\">2022-08-15 20:33:35,216 - distributed.worker - INFO -         Registered to:      tcp://127.0.0.1:34779</p>\n",
       "    \n",
       "\n",
       "    \n",
       "        <p style=\"font-family: monospace; margin: 0;\">2022-08-15 20:33:35,217 - distributed.worker - INFO - -------------------------------------------------</p>\n",
       "    \n",
       "\n",
       "    </details>\n",
       "\n",
       "    <details>\n",
       "    <summary style='display:list-item'>tcp://127.0.0.1:46645</summary>\n",
       "    \n",
       "    \n",
       "        <p style=\"font-family: monospace; margin: 0;\">2022-08-15 20:33:34,819 - distributed.worker - INFO -       Start worker at:      tcp://127.0.0.1:46645</p>\n",
       "    \n",
       "\n",
       "    \n",
       "        <p style=\"font-family: monospace; margin: 0;\">2022-08-15 20:33:34,819 - distributed.worker - INFO -          Listening to:      tcp://127.0.0.1:46645</p>\n",
       "    \n",
       "\n",
       "    \n",
       "        <p style=\"font-family: monospace; margin: 0;\">2022-08-15 20:33:34,819 - distributed.worker - INFO -          dashboard at:            127.0.0.1:41569</p>\n",
       "    \n",
       "\n",
       "    \n",
       "        <p style=\"font-family: monospace; margin: 0;\">2022-08-15 20:33:34,819 - distributed.worker - INFO - Waiting to connect to:      tcp://127.0.0.1:34779</p>\n",
       "    \n",
       "\n",
       "    \n",
       "        <p style=\"font-family: monospace; margin: 0;\">2022-08-15 20:33:34,819 - distributed.worker - INFO - -------------------------------------------------</p>\n",
       "    \n",
       "\n",
       "    \n",
       "        <p style=\"font-family: monospace; margin: 0;\">2022-08-15 20:33:34,819 - distributed.worker - INFO -               Threads:                          1</p>\n",
       "    \n",
       "\n",
       "    \n",
       "        <p style=\"font-family: monospace; margin: 0;\">2022-08-15 20:33:34,819 - distributed.worker - INFO -                Memory:                   3.39 GiB</p>\n",
       "    \n",
       "\n",
       "    \n",
       "        <p style=\"font-family: monospace; margin: 0;\">2022-08-15 20:33:34,819 - distributed.worker - INFO -       Local Directory: /home/runner/work/dask-tutorial/dask-tutorial/dask-worker-space/worker-vv_kp4k4</p>\n",
       "    \n",
       "\n",
       "    \n",
       "        <p style=\"font-family: monospace; margin: 0;\">2022-08-15 20:33:34,819 - distributed.worker - INFO - -------------------------------------------------</p>\n",
       "    \n",
       "\n",
       "    \n",
       "        <p style=\"font-family: monospace; margin: 0;\">2022-08-15 20:33:35,144 - distributed.worker - INFO -         Registered to:      tcp://127.0.0.1:34779</p>\n",
       "    \n",
       "\n",
       "    \n",
       "        <p style=\"font-family: monospace; margin: 0;\">2022-08-15 20:33:35,144 - distributed.worker - INFO - -------------------------------------------------</p>\n",
       "    \n",
       "\n",
       "    </details>\n"
      ],
      "text/plain": [
       "{'Cluster': '',\n",
       " 'Scheduler': \"2022-08-15 20:33:33,969 - distributed.scheduler - INFO - State start\\n2022-08-15 20:33:33,972 - distributed.scheduler - INFO - Clear task state\\n2022-08-15 20:33:33,973 - distributed.scheduler - INFO -   Scheduler at:     tcp://127.0.0.1:34779\\n2022-08-15 20:33:33,973 - distributed.scheduler - INFO -   dashboard at:            127.0.0.1:8787\\n2022-08-15 20:33:35,140 - distributed.scheduler - INFO - Register worker <WorkerState 'tcp://127.0.0.1:46645', name: 1, status: running, memory: 0, processing: 0>\\n2022-08-15 20:33:35,143 - distributed.scheduler - INFO - Starting worker compute stream, tcp://127.0.0.1:46645\\n2022-08-15 20:33:35,216 - distributed.scheduler - INFO - Register worker <WorkerState 'tcp://127.0.0.1:38569', name: 0, status: running, memory: 0, processing: 0>\\n2022-08-15 20:33:35,216 - distributed.scheduler - INFO - Starting worker compute stream, tcp://127.0.0.1:38569\",\n",
       " 'tcp://127.0.0.1:38569': '2022-08-15 20:33:34,872 - distributed.worker - INFO -       Start worker at:      tcp://127.0.0.1:38569\\n2022-08-15 20:33:34,872 - distributed.worker - INFO -          Listening to:      tcp://127.0.0.1:38569\\n2022-08-15 20:33:34,872 - distributed.worker - INFO -          dashboard at:            127.0.0.1:33693\\n2022-08-15 20:33:34,872 - distributed.worker - INFO - Waiting to connect to:      tcp://127.0.0.1:34779\\n2022-08-15 20:33:34,872 - distributed.worker - INFO - -------------------------------------------------\\n2022-08-15 20:33:34,872 - distributed.worker - INFO -               Threads:                          1\\n2022-08-15 20:33:34,872 - distributed.worker - INFO -                Memory:                   3.39 GiB\\n2022-08-15 20:33:34,872 - distributed.worker - INFO -       Local Directory: /home/runner/work/dask-tutorial/dask-tutorial/dask-worker-space/worker-smqglhdp\\n2022-08-15 20:33:34,872 - distributed.worker - INFO - -------------------------------------------------\\n2022-08-15 20:33:35,216 - distributed.worker - INFO -         Registered to:      tcp://127.0.0.1:34779\\n2022-08-15 20:33:35,217 - distributed.worker - INFO - -------------------------------------------------',\n",
       " 'tcp://127.0.0.1:46645': '2022-08-15 20:33:34,819 - distributed.worker - INFO -       Start worker at:      tcp://127.0.0.1:46645\\n2022-08-15 20:33:34,819 - distributed.worker - INFO -          Listening to:      tcp://127.0.0.1:46645\\n2022-08-15 20:33:34,819 - distributed.worker - INFO -          dashboard at:            127.0.0.1:41569\\n2022-08-15 20:33:34,819 - distributed.worker - INFO - Waiting to connect to:      tcp://127.0.0.1:34779\\n2022-08-15 20:33:34,819 - distributed.worker - INFO - -------------------------------------------------\\n2022-08-15 20:33:34,819 - distributed.worker - INFO -               Threads:                          1\\n2022-08-15 20:33:34,819 - distributed.worker - INFO -                Memory:                   3.39 GiB\\n2022-08-15 20:33:34,819 - distributed.worker - INFO -       Local Directory: /home/runner/work/dask-tutorial/dask-tutorial/dask-worker-space/worker-vv_kp4k4\\n2022-08-15 20:33:34,819 - distributed.worker - INFO - -------------------------------------------------\\n2022-08-15 20:33:35,144 - distributed.worker - INFO -         Registered to:      tcp://127.0.0.1:34779\\n2022-08-15 20:33:35,144 - distributed.worker - INFO - -------------------------------------------------'}"
      ]
     },
     "execution_count": 4,
     "metadata": {},
     "output_type": "execute_result"
    }
   ],
   "source": [
    "cluster.get_logs()"
   ]
  },
  {
   "cell_type": "markdown",
   "metadata": {},
   "source": [
    "We can access the url that the Dask dashboard is being hosted at."
   ]
  },
  {
   "cell_type": "code",
   "execution_count": 5,
   "metadata": {
    "execution": {
     "iopub.execute_input": "2022-08-15T20:33:35.596554Z",
     "iopub.status.busy": "2022-08-15T20:33:35.595809Z",
     "iopub.status.idle": "2022-08-15T20:33:35.603219Z",
     "shell.execute_reply": "2022-08-15T20:33:35.602620Z"
    }
   },
   "outputs": [
    {
     "data": {
      "text/plain": [
       "'http://127.0.0.1:8787/status'"
      ]
     },
     "execution_count": 5,
     "metadata": {},
     "output_type": "execute_result"
    }
   ],
   "source": [
    "cluster.dashboard_link"
   ]
  },
  {
   "cell_type": "markdown",
   "metadata": {},
   "source": [
    "In order for Dask to use our cluster we still need to create a `Client` object, but as we have already created a cluster we can pass that directly to our client."
   ]
  },
  {
   "cell_type": "code",
   "execution_count": 6,
   "metadata": {
    "execution": {
     "iopub.execute_input": "2022-08-15T20:33:35.607244Z",
     "iopub.status.busy": "2022-08-15T20:33:35.606741Z",
     "iopub.status.idle": "2022-08-15T20:33:35.645278Z",
     "shell.execute_reply": "2022-08-15T20:33:35.644497Z"
    }
   },
   "outputs": [
    {
     "data": {
      "text/html": [
       "<div>\n",
       "    <div style=\"width: 24px; height: 24px; background-color: #e1e1e1; border: 3px solid #9D9D9D; border-radius: 5px; position: absolute;\"> </div>\n",
       "    <div style=\"margin-left: 48px;\">\n",
       "        <h3 style=\"margin-bottom: 0px;\">Client</h3>\n",
       "        <p style=\"color: #9D9D9D; margin-bottom: 0px;\">Client-89580631-1cd9-11ed-9195-000d3a8d8ec4</p>\n",
       "        <table style=\"width: 100%; text-align: left;\">\n",
       "\n",
       "        <tr>\n",
       "        \n",
       "            <td style=\"text-align: left;\"><strong>Connection method:</strong> Cluster object</td>\n",
       "            <td style=\"text-align: left;\"><strong>Cluster type:</strong> distributed.LocalCluster</td>\n",
       "        \n",
       "        </tr>\n",
       "\n",
       "        \n",
       "            <tr>\n",
       "                <td style=\"text-align: left;\">\n",
       "                    <strong>Dashboard: </strong> <a href=\"http://127.0.0.1:8787/status\" target=\"_blank\">http://127.0.0.1:8787/status</a>\n",
       "                </td>\n",
       "                <td style=\"text-align: left;\"></td>\n",
       "            </tr>\n",
       "        \n",
       "\n",
       "        </table>\n",
       "\n",
       "        \n",
       "            <details>\n",
       "            <summary style=\"margin-bottom: 20px;\"><h3 style=\"display: inline;\">Cluster Info</h3></summary>\n",
       "            <div class=\"jp-RenderedHTMLCommon jp-RenderedHTML jp-mod-trusted jp-OutputArea-output\">\n",
       "    <div style=\"width: 24px; height: 24px; background-color: #e1e1e1; border: 3px solid #9D9D9D; border-radius: 5px; position: absolute;\">\n",
       "    </div>\n",
       "    <div style=\"margin-left: 48px;\">\n",
       "        <h3 style=\"margin-bottom: 0px; margin-top: 0px;\">LocalCluster</h3>\n",
       "        <p style=\"color: #9D9D9D; margin-bottom: 0px;\">2cbf1ad9</p>\n",
       "        <table style=\"width: 100%; text-align: left;\">\n",
       "            <tr>\n",
       "                <td style=\"text-align: left;\">\n",
       "                    <strong>Dashboard:</strong> <a href=\"http://127.0.0.1:8787/status\" target=\"_blank\">http://127.0.0.1:8787/status</a>\n",
       "                </td>\n",
       "                <td style=\"text-align: left;\">\n",
       "                    <strong>Workers:</strong> 2\n",
       "                </td>\n",
       "            </tr>\n",
       "            <tr>\n",
       "                <td style=\"text-align: left;\">\n",
       "                    <strong>Total threads:</strong> 2\n",
       "                </td>\n",
       "                <td style=\"text-align: left;\">\n",
       "                    <strong>Total memory:</strong> 6.78 GiB\n",
       "                </td>\n",
       "            </tr>\n",
       "            \n",
       "            <tr>\n",
       "    <td style=\"text-align: left;\"><strong>Status:</strong> running</td>\n",
       "    <td style=\"text-align: left;\"><strong>Using processes:</strong> True</td>\n",
       "</tr>\n",
       "\n",
       "            \n",
       "        </table>\n",
       "\n",
       "        <details>\n",
       "            <summary style=\"margin-bottom: 20px;\">\n",
       "                <h3 style=\"display: inline;\">Scheduler Info</h3>\n",
       "            </summary>\n",
       "\n",
       "            <div style=\"\">\n",
       "    <div>\n",
       "        <div style=\"width: 24px; height: 24px; background-color: #FFF7E5; border: 3px solid #FF6132; border-radius: 5px; position: absolute;\"> </div>\n",
       "        <div style=\"margin-left: 48px;\">\n",
       "            <h3 style=\"margin-bottom: 0px;\">Scheduler</h3>\n",
       "            <p style=\"color: #9D9D9D; margin-bottom: 0px;\">Scheduler-09512495-be3e-4190-abc1-cd9c1bfc63db</p>\n",
       "            <table style=\"width: 100%; text-align: left;\">\n",
       "                <tr>\n",
       "                    <td style=\"text-align: left;\">\n",
       "                        <strong>Comm:</strong> tcp://127.0.0.1:34779\n",
       "                    </td>\n",
       "                    <td style=\"text-align: left;\">\n",
       "                        <strong>Workers:</strong> 2\n",
       "                    </td>\n",
       "                </tr>\n",
       "                <tr>\n",
       "                    <td style=\"text-align: left;\">\n",
       "                        <strong>Dashboard:</strong> <a href=\"http://127.0.0.1:8787/status\" target=\"_blank\">http://127.0.0.1:8787/status</a>\n",
       "                    </td>\n",
       "                    <td style=\"text-align: left;\">\n",
       "                        <strong>Total threads:</strong> 2\n",
       "                    </td>\n",
       "                </tr>\n",
       "                <tr>\n",
       "                    <td style=\"text-align: left;\">\n",
       "                        <strong>Started:</strong> Just now\n",
       "                    </td>\n",
       "                    <td style=\"text-align: left;\">\n",
       "                        <strong>Total memory:</strong> 6.78 GiB\n",
       "                    </td>\n",
       "                </tr>\n",
       "            </table>\n",
       "        </div>\n",
       "    </div>\n",
       "\n",
       "    <details style=\"margin-left: 48px;\">\n",
       "        <summary style=\"margin-bottom: 20px;\">\n",
       "            <h3 style=\"display: inline;\">Workers</h3>\n",
       "        </summary>\n",
       "\n",
       "        \n",
       "        <div style=\"margin-bottom: 20px;\">\n",
       "            <div style=\"width: 24px; height: 24px; background-color: #DBF5FF; border: 3px solid #4CC9FF; border-radius: 5px; position: absolute;\"> </div>\n",
       "            <div style=\"margin-left: 48px;\">\n",
       "            <details>\n",
       "                <summary>\n",
       "                    <h4 style=\"margin-bottom: 0px; display: inline;\">Worker: 0</h4>\n",
       "                </summary>\n",
       "                <table style=\"width: 100%; text-align: left;\">\n",
       "                    <tr>\n",
       "                        <td style=\"text-align: left;\">\n",
       "                            <strong>Comm: </strong> tcp://127.0.0.1:38569\n",
       "                        </td>\n",
       "                        <td style=\"text-align: left;\">\n",
       "                            <strong>Total threads: </strong> 1\n",
       "                        </td>\n",
       "                    </tr>\n",
       "                    <tr>\n",
       "                        <td style=\"text-align: left;\">\n",
       "                            <strong>Dashboard: </strong> <a href=\"http://127.0.0.1:33693/status\" target=\"_blank\">http://127.0.0.1:33693/status</a>\n",
       "                        </td>\n",
       "                        <td style=\"text-align: left;\">\n",
       "                            <strong>Memory: </strong> 3.39 GiB\n",
       "                        </td>\n",
       "                    </tr>\n",
       "                    <tr>\n",
       "                        <td style=\"text-align: left;\">\n",
       "                            <strong>Nanny: </strong> tcp://127.0.0.1:38145\n",
       "                        </td>\n",
       "                        <td style=\"text-align: left;\"></td>\n",
       "                    </tr>\n",
       "                    <tr>\n",
       "                        <td colspan=\"2\" style=\"text-align: left;\">\n",
       "                            <strong>Local directory: </strong> /home/runner/work/dask-tutorial/dask-tutorial/dask-worker-space/worker-smqglhdp\n",
       "                        </td>\n",
       "                    </tr>\n",
       "\n",
       "                    \n",
       "\n",
       "                    \n",
       "\n",
       "                </table>\n",
       "            </details>\n",
       "            </div>\n",
       "        </div>\n",
       "        \n",
       "        <div style=\"margin-bottom: 20px;\">\n",
       "            <div style=\"width: 24px; height: 24px; background-color: #DBF5FF; border: 3px solid #4CC9FF; border-radius: 5px; position: absolute;\"> </div>\n",
       "            <div style=\"margin-left: 48px;\">\n",
       "            <details>\n",
       "                <summary>\n",
       "                    <h4 style=\"margin-bottom: 0px; display: inline;\">Worker: 1</h4>\n",
       "                </summary>\n",
       "                <table style=\"width: 100%; text-align: left;\">\n",
       "                    <tr>\n",
       "                        <td style=\"text-align: left;\">\n",
       "                            <strong>Comm: </strong> tcp://127.0.0.1:46645\n",
       "                        </td>\n",
       "                        <td style=\"text-align: left;\">\n",
       "                            <strong>Total threads: </strong> 1\n",
       "                        </td>\n",
       "                    </tr>\n",
       "                    <tr>\n",
       "                        <td style=\"text-align: left;\">\n",
       "                            <strong>Dashboard: </strong> <a href=\"http://127.0.0.1:41569/status\" target=\"_blank\">http://127.0.0.1:41569/status</a>\n",
       "                        </td>\n",
       "                        <td style=\"text-align: left;\">\n",
       "                            <strong>Memory: </strong> 3.39 GiB\n",
       "                        </td>\n",
       "                    </tr>\n",
       "                    <tr>\n",
       "                        <td style=\"text-align: left;\">\n",
       "                            <strong>Nanny: </strong> tcp://127.0.0.1:42527\n",
       "                        </td>\n",
       "                        <td style=\"text-align: left;\"></td>\n",
       "                    </tr>\n",
       "                    <tr>\n",
       "                        <td colspan=\"2\" style=\"text-align: left;\">\n",
       "                            <strong>Local directory: </strong> /home/runner/work/dask-tutorial/dask-tutorial/dask-worker-space/worker-vv_kp4k4\n",
       "                        </td>\n",
       "                    </tr>\n",
       "\n",
       "                    \n",
       "\n",
       "                    \n",
       "\n",
       "                </table>\n",
       "            </details>\n",
       "            </div>\n",
       "        </div>\n",
       "        \n",
       "\n",
       "    </details>\n",
       "</div>\n",
       "\n",
       "        </details>\n",
       "    </div>\n",
       "</div>\n",
       "            </details>\n",
       "        \n",
       "\n",
       "    </div>\n",
       "</div>"
      ],
      "text/plain": [
       "<Client: 'tcp://127.0.0.1:34779' processes=2 threads=2, memory=6.78 GiB>"
      ]
     },
     "execution_count": 6,
     "metadata": {},
     "output_type": "execute_result"
    }
   ],
   "source": [
    "client = Client(cluster)\n",
    "client"
   ]
  },
  {
   "cell_type": "code",
   "execution_count": 7,
   "metadata": {
    "execution": {
     "iopub.execute_input": "2022-08-15T20:33:35.649076Z",
     "iopub.status.busy": "2022-08-15T20:33:35.648616Z",
     "iopub.status.idle": "2022-08-15T20:33:35.653121Z",
     "shell.execute_reply": "2022-08-15T20:33:35.652438Z"
    }
   },
   "outputs": [],
   "source": [
    "del client, cluster"
   ]
  },
  {
   "cell_type": "markdown",
   "metadata": {},
   "source": [
    "## Remote clusters via SSH\n",
    "\n",
    "A common way to distribute your work onto multiple machines is via SSH. Dask has a cluster manager which will handle creating SSH connections for you called `SSHCluster`."
   ]
  },
  {
   "cell_type": "markdown",
   "metadata": {},
   "source": [
    "```python\n",
    "from dask.distributed import SSHCluster\n",
    "```"
   ]
  },
  {
   "cell_type": "markdown",
   "metadata": {},
   "source": [
    "When constructing this cluster manager we need to pass a list of addresses, either hostnames or IP addresses, which we will SSH into and attempt to start a Dask scheduler or worker on."
   ]
  },
  {
   "cell_type": "markdown",
   "metadata": {},
   "source": [
    "```python\n",
    "cluster = SSHCluster([\"localhost\", \"hostA\", \"hostB\"])\n",
    "cluster\n",
    "```"
   ]
  },
  {
   "cell_type": "markdown",
   "metadata": {},
   "source": [
    "When we create our `SSHCluster` object we have given a list of three hostnames.\n",
    "\n",
    "The first host in the list will be used as the scheduler, all other hosts will be used as workers. If you're on the same network it wouldn't be unreasonable to set your local machine as the scheduler and then use other machines as workers.\n",
    "\n",
    "If your servers are remote to you, in the cloud for instance, you may want the scheduler to be a remote machine too to avoid network bottlenecks."
   ]
  },
  {
   "cell_type": "markdown",
   "metadata": {},
   "source": [
    "## Scalable clusters\n",
    "\n",
    "Both of the clusters we have seen so far are fixed size clusters. We are either running locally and using all the resources in our machine, or we are using an explicit number of other machines via SSH.\n",
    "\n",
    "With some cluster managers it is possible to increase and descrease the number of workers either by calling `cluster.scale(n)` in your code where `n` is the desired number of workers. Or you can let Dask do this dynamically by calling `cluster.adapt(minimum=1, maximum=100)` where minimum and maximum are your preferred limits for Dask to abide to.\n",
    "\n",
    "It is always good to keep your minimum to at least 1 as Dask will start running work on a single worker in order to profile how long things take and extrapolate how many additional workers it thinks it needs. Getting new workers may take time depending on your setup so keeping this at 1 or above means this profilling will start immediately.\n",
    "\n",
    "We currently have cluster managers for [Kubernetes](https://kubernetes.dask.org/en/latest/), [Hadoop/Yarn](https://yarn.dask.org/en/latest/), [cloud platforms](https://cloudprovider.dask.org/en/latest/) and [batch systems including PBS, SLURM and SGE](http://jobqueue.dask.org/en/latest/).\n",
    "\n",
    "These cluster managers allow users who have access to resources such as these to bootstrap Dask clusters on to them. If an institution wishes to provide a central service that users can request Dask clusters from there is also [Dask Gateway](https://gateway.dask.org/)."
   ]
  },
  {
   "cell_type": "markdown",
   "metadata": {},
   "source": [
    "## Cluster components\n",
    "\n",
    "The minimum requirements for a functioning Dask cluster is a scheduler process and one worker process.\n",
    "\n",
    "We can start these processes manually via the CLI. Let's start with the scheduler.\n",
    "\n",
    "```console\n",
    "$ dask-scheduler                                                               \n",
    "2022-07-07 14:11:35,661 - distributed.scheduler - INFO - -----------------------------------------------\n",
    "2022-07-07 14:11:37,405 - distributed.scheduler - INFO - State start\n",
    "2022-07-07 14:11:37,408 - distributed.scheduler - INFO - -----------------------------------------------\n",
    "2022-07-07 14:11:37,409 - distributed.scheduler - INFO - Clear task state\n",
    "2022-07-07 14:11:37,409 - distributed.scheduler - INFO -   Scheduler at:   tcp://10.51.100.80:8786\n",
    "2022-07-07 14:11:37,409 - distributed.scheduler - INFO -   dashboard at:                     :8787\n",
    "```\n",
    "\n",
    "Then we can connect a worker on the address that the scheduler is listening on.\n",
    "\n",
    "```console\n",
    "$ dask-worker tcp://10.51.100.80:8786 --nworkers=auto\n",
    "2022-07-07 14:12:53,915 - distributed.nanny - INFO -         Start Nanny at: 'tcp://10.51.100.80:58051'\n",
    "2022-07-07 14:12:53,922 - distributed.nanny - INFO -         Start Nanny at: 'tcp://10.51.100.80:58052'\n",
    "2022-07-07 14:12:53,924 - distributed.nanny - INFO -         Start Nanny at: 'tcp://10.51.100.80:58053'\n",
    "2022-07-07 14:12:53,925 - distributed.nanny - INFO -         Start Nanny at: 'tcp://10.51.100.80:58054'\n",
    "2022-07-07 14:12:55,222 - distributed.worker - INFO -       Start worker at:   tcp://10.51.100.80:58065\n",
    "2022-07-07 14:12:55,222 - distributed.worker - INFO -          Listening to:   tcp://10.51.100.80:58065\n",
    "2022-07-07 14:12:55,223 - distributed.worker - INFO -          dashboard at:         10.51.100.80:58068\n",
    "2022-07-07 14:12:55,223 - distributed.worker - INFO - Waiting to connect to:    tcp://10.51.100.80:8786\n",
    "2022-07-07 14:12:55,223 - distributed.worker - INFO - -------------------------------------------------\n",
    "2022-07-07 14:12:55,223 - distributed.worker - INFO -               Threads:                          3\n",
    "2022-07-07 14:12:55,223 - distributed.worker - INFO -                Memory:                   4.00 GiB\n",
    "2022-07-07 14:12:55,224 - distributed.worker - INFO -       Local Directory: /Users/jtomlinson/Projects/dask/dask-tutorial/dask-worker-space/worker-hlvac6m5\n",
    "2022-07-07 14:12:55,225 - distributed.worker - INFO - -------------------------------------------------\n",
    "2022-07-07 14:12:55,227 - distributed.worker - INFO -       Start worker at:   tcp://10.51.100.80:58066\n",
    "2022-07-07 14:12:55,227 - distributed.worker - INFO -          Listening to:   tcp://10.51.100.80:58066\n",
    "2022-07-07 14:12:55,227 - distributed.worker - INFO -          dashboard at:         10.51.100.80:58070\n",
    "2022-07-07 14:12:55,227 - distributed.worker - INFO - Waiting to connect to:    tcp://10.51.100.80:8786\n",
    "2022-07-07 14:12:55,227 - distributed.worker - INFO - -------------------------------------------------\n",
    "2022-07-07 14:12:55,227 - distributed.worker - INFO -               Threads:                          3\n",
    "2022-07-07 14:12:55,228 - distributed.worker - INFO -                Memory:                   4.00 GiB\n",
    "2022-07-07 14:12:55,228 - distributed.worker - INFO -       Local Directory: /Users/jtomlinson/Projects/dask/dask-tutorial/dask-worker-space/worker-e1suf_7o\n",
    "2022-07-07 14:12:55,229 - distributed.worker - INFO - -------------------------------------------------\n",
    "2022-07-07 14:12:55,231 - distributed.worker - INFO -       Start worker at:   tcp://10.51.100.80:58063\n",
    "2022-07-07 14:12:55,233 - distributed.worker - INFO -          Listening to:   tcp://10.51.100.80:58063\n",
    "2022-07-07 14:12:55,233 - distributed.worker - INFO -          dashboard at:         10.51.100.80:58067\n",
    "2022-07-07 14:12:55,233 - distributed.worker - INFO - Waiting to connect to:    tcp://10.51.100.80:8786\n",
    "2022-07-07 14:12:55,233 - distributed.worker - INFO - -------------------------------------------------\n",
    "2022-07-07 14:12:55,234 - distributed.worker - INFO -               Threads:                          3\n",
    "2022-07-07 14:12:55,234 - distributed.worker - INFO -                Memory:                   4.00 GiB\n",
    "2022-07-07 14:12:55,235 - distributed.worker - INFO -       Local Directory: /Users/jtomlinson/Projects/dask/dask-tutorial/dask-worker-space/worker-oq39ihb4\n",
    "2022-07-07 14:12:55,236 - distributed.worker - INFO - -------------------------------------------------\n",
    "2022-07-07 14:12:55,246 - distributed.worker - INFO -         Registered to:    tcp://10.51.100.80:8786\n",
    "2022-07-07 14:12:55,246 - distributed.worker - INFO - -------------------------------------------------\n",
    "2022-07-07 14:12:55,249 - distributed.core - INFO - Starting established connection\n",
    "2022-07-07 14:12:55,264 - distributed.worker - INFO -         Registered to:    tcp://10.51.100.80:8786\n",
    "2022-07-07 14:12:55,264 - distributed.worker - INFO - -------------------------------------------------\n",
    "2022-07-07 14:12:55,267 - distributed.worker - INFO -         Registered to:    tcp://10.51.100.80:8786\n",
    "2022-07-07 14:12:55,267 - distributed.core - INFO - Starting established connection\n",
    "2022-07-07 14:12:55,267 - distributed.worker - INFO - -------------------------------------------------\n",
    "2022-07-07 14:12:55,269 - distributed.core - INFO - Starting established connection\n",
    "2022-07-07 14:12:55,273 - distributed.worker - INFO -       Start worker at:   tcp://10.51.100.80:58064\n",
    "2022-07-07 14:12:55,273 - distributed.worker - INFO -          Listening to:   tcp://10.51.100.80:58064\n",
    "2022-07-07 14:12:55,273 - distributed.worker - INFO -          dashboard at:         10.51.100.80:58069\n",
    "2022-07-07 14:12:55,273 - distributed.worker - INFO - Waiting to connect to:    tcp://10.51.100.80:8786\n",
    "2022-07-07 14:12:55,274 - distributed.worker - INFO - -------------------------------------------------\n",
    "2022-07-07 14:12:55,274 - distributed.worker - INFO -               Threads:                          3\n",
    "2022-07-07 14:12:55,275 - distributed.worker - INFO -                Memory:                   4.00 GiB\n",
    "2022-07-07 14:12:55,275 - distributed.worker - INFO -       Local Directory: /Users/jtomlinson/Projects/dask/dask-tutorial/dask-worker-space/worker-zfie55ku\n",
    "2022-07-07 14:12:55,276 - distributed.worker - INFO - -------------------------------------------------\n",
    "2022-07-07 14:12:55,299 - distributed.worker - INFO -         Registered to:    tcp://10.51.100.80:8786\n",
    "2022-07-07 14:12:55,300 - distributed.worker - INFO - -------------------------------------------------\n",
    "2022-07-07 14:12:55,302 - distributed.core - INFO - Starting established connection\n",
    "```\n",
    "\n",
    "Then in Python we can connect a client to this cluster and submit some work.\n",
    "\n",
    "```python\n",
    ">>> from dask.distributed import Client\n",
    ">>> client = Client(\"tcp://10.51.100.80:8786\")\n",
    ">>> client.submit(lambda: 1+1)\n",
    "```\n",
    "\n",
    "We can also do this in Python by importing cluster components and creating them directly."
   ]
  },
  {
   "cell_type": "code",
   "execution_count": 8,
   "metadata": {
    "execution": {
     "iopub.execute_input": "2022-08-15T20:33:35.662848Z",
     "iopub.status.busy": "2022-08-15T20:33:35.658254Z",
     "iopub.status.idle": "2022-08-15T20:33:36.863396Z",
     "shell.execute_reply": "2022-08-15T20:33:36.862653Z"
    }
   },
   "outputs": [
    {
     "name": "stderr",
     "output_type": "stream",
     "text": [
      "/usr/share/miniconda3/envs/dask-tutorial/lib/python3.9/site-packages/distributed/node.py:180: UserWarning: Port 8787 is already in use.\n",
      "Perhaps you already have a cluster running?\n",
      "Hosting the HTTP server on port 43975 instead\n",
      "  warnings.warn(\n"
     ]
    },
    {
     "name": "stdout",
     "output_type": "stream",
     "text": [
      "2\n"
     ]
    }
   ],
   "source": [
    "from dask.distributed import Scheduler, Worker, Client\n",
    "\n",
    "async with Scheduler() as scheduler:\n",
    "    async with Worker(scheduler.address) as worker:\n",
    "        async with Client(scheduler.address, asynchronous=True) as client:\n",
    "            print(await client.submit(lambda: 1+1))"
   ]
  },
  {
   "cell_type": "markdown",
   "metadata": {},
   "source": [
    "Most of the time we never have to create these components ourselves and instead can rely on cluster manager objects to do this for us. But in some situations it can be useful to be able to contruct a cluster yourself manually.\n",
    "\n",
    "You may also see a `Nanny` process being referenced from time to time. This is a wrapper for the worker that handles restarting the process if it is killed. When we run `dask-worker` via the CLI a nanny is automatically created for us."
   ]
  },
  {
   "cell_type": "markdown",
   "metadata": {},
   "source": [
    "## Cluster networking\n",
    "\n",
    "By default Dask uses a custom TCP based remote procedure call protocol to communicate between processes. The scheduler and workers all listen on TCP ports for communication.\n",
    "\n",
    "When you start a scheduler it typically listens on port `8786`. When a worker is created it listens on a random high port and communicates that port to the scheduler when it first connects.\n",
    "\n",
    "The scheduler maintains a list of all workers and their address which can be accessed via the workers, therefore both the scheduler and any of the workers can open connections to any other worker at any time. Connections are closed automatically when not in use.\n",
    "\n",
    "The `Client` will only ever connect to the scheduler and all communication to the workers will pass through it. This means that when deploying Dask clusters the scheduler and workers must typically be on the same network and able to access each other via IP and port directly. But the client can run wherever as long as it can access the scheduler communication port. It is common to configure firewall rules or load balancers to provide access to just the scheduler port.\n",
    "\n",
    "Dask also supports other network protocols such as [TLS](https://distributed.dask.org/en/stable/tls.html), [websockets](https://distributed.dask.org/en/stable/protocol.html) and [UCX](https://docs.rapids.ai/api/dask-cuda/nightly/examples/ucx.html)."
   ]
  },
  {
   "cell_type": "markdown",
   "metadata": {},
   "source": [
    "### TLS/SSL for secure communication\n",
    "\n",
    "Dask cluster components can use certificates to mutually authenticate and communicate securely if run in an untrusted envronment. You can either generate certificates for the scheduler, worker and client automatically and distribute those or you can generate temporary credentials. \n",
    "\n",
    "Some cluster managers such as `dask-cloudprovider` will automatically enable TLS and generate one-time certificates when exposing clusters to the internet from the public cloud."
   ]
  },
  {
   "cell_type": "code",
   "execution_count": 9,
   "metadata": {
    "execution": {
     "iopub.execute_input": "2022-08-15T20:33:36.867993Z",
     "iopub.status.busy": "2022-08-15T20:33:36.867545Z",
     "iopub.status.idle": "2022-08-15T20:33:38.109343Z",
     "shell.execute_reply": "2022-08-15T20:33:38.108366Z"
    }
   },
   "outputs": [
    {
     "name": "stderr",
     "output_type": "stream",
     "text": [
      "/usr/share/miniconda3/envs/dask-tutorial/lib/python3.9/site-packages/distributed/node.py:180: UserWarning: Port 8787 is already in use.\n",
      "Perhaps you already have a cluster running?\n",
      "Hosting the HTTP server on port 37687 instead\n",
      "  warnings.warn(\n"
     ]
    },
    {
     "name": "stdout",
     "output_type": "stream",
     "text": [
      "2\n"
     ]
    }
   ],
   "source": [
    "from dask.distributed import Scheduler, Worker, Client\n",
    "from distributed.security import Security\n",
    "\n",
    "security = Security.temporary()\n",
    "\n",
    "async with Scheduler(security=security) as scheduler:\n",
    "    async with Worker(scheduler.address, security=security) as worker:\n",
    "        async with Client(scheduler.address, security=security, asynchronous=True) as client:\n",
    "            print(await client.submit(lambda: 1+1))"
   ]
  },
  {
   "cell_type": "markdown",
   "metadata": {},
   "source": [
    "### Websockets\n",
    "\n",
    "Dask can also communicate via websockets instead of TCP. There is a very small performance overhead to doing this but it means that the dashboard and communication happen on the same port and can be reverse proxied by a layer 7 proxy like nginx. This is necessary for some deployment scenarios where you cannot exprt ports but you can proxy web services."
   ]
  },
  {
   "cell_type": "markdown",
   "metadata": {},
   "source": [
    "### UCX\n",
    "\n",
    "On systems with high performance networking such as Infiniband or NVLink Dask can also leverage [UCX](https://openucx.org/) which provides a unified communication protocol that automatically upgrades communication to use the fastest hardware available. This is vital for good performance on HPC systems with Infiniband or systems with multiple GPU workers."
   ]
  }
 ],
 "metadata": {
  "anaconda-cloud": {},
  "interpreter": {
   "hash": "b7cfefc49ba37c014f46ba4939b08cd2bb5b25f27a21eb8109ce6441079573de"
  },
  "kernelspec": {
   "display_name": "Python 3 (ipykernel)",
   "language": "python",
   "name": "python3"
  },
  "language_info": {
   "codemirror_mode": {
    "name": "ipython",
    "version": 3
   },
   "file_extension": ".py",
   "mimetype": "text/x-python",
   "name": "python",
   "nbconvert_exporter": "python",
   "pygments_lexer": "ipython3",
   "version": "3.9.13"
  },
  "widgets": {
   "application/vnd.jupyter.widget-state+json": {
    "state": {
     "02631d9c49104389b21233e0fe8f6311": {
      "model_module": "@jupyter-widgets/controls",
      "model_module_version": "1.5.0",
      "model_name": "ButtonModel",
      "state": {
       "_dom_classes": [],
       "_model_module": "@jupyter-widgets/controls",
       "_model_module_version": "1.5.0",
       "_model_name": "ButtonModel",
       "_view_count": null,
       "_view_module": "@jupyter-widgets/controls",
       "_view_module_version": "1.5.0",
       "_view_name": "ButtonView",
       "button_style": "",
       "description": "Scale",
       "disabled": false,
       "icon": "",
       "layout": "IPY_MODEL_3aa5848c09de44a9a4c41859ae40b4bf",
       "style": "IPY_MODEL_1ce211de7e1c4b24a694d9b61397ba18",
       "tooltip": ""
      }
     },
     "07d6cd0edd6d4bccb6277a516cfd0d23": {
      "model_module": "@jupyter-widgets/controls",
      "model_module_version": "1.5.0",
      "model_name": "HBoxModel",
      "state": {
       "_dom_classes": [],
       "_model_module": "@jupyter-widgets/controls",
       "_model_module_version": "1.5.0",
       "_model_name": "HBoxModel",
       "_view_count": null,
       "_view_module": "@jupyter-widgets/controls",
       "_view_module_version": "1.5.0",
       "_view_name": "HBoxView",
       "box_style": "",
       "children": [
        "IPY_MODEL_8eeb7165c4f547ee942d9267df874e3c",
        "IPY_MODEL_02631d9c49104389b21233e0fe8f6311"
       ],
       "layout": "IPY_MODEL_ca1af6d04a064c81985e74e6f170e4b6"
      }
     },
     "0bd49937e0214e10afdc65dda578c3e4": {
      "model_module": "@jupyter-widgets/controls",
      "model_module_version": "1.5.0",
      "model_name": "DescriptionStyleModel",
      "state": {
       "_model_module": "@jupyter-widgets/controls",
       "_model_module_version": "1.5.0",
       "_model_name": "DescriptionStyleModel",
       "_view_count": null,
       "_view_module": "@jupyter-widgets/base",
       "_view_module_version": "1.2.0",
       "_view_name": "StyleView",
       "description_width": ""
      }
     },
     "1ce211de7e1c4b24a694d9b61397ba18": {
      "model_module": "@jupyter-widgets/controls",
      "model_module_version": "1.5.0",
      "model_name": "ButtonStyleModel",
      "state": {
       "_model_module": "@jupyter-widgets/controls",
       "_model_module_version": "1.5.0",
       "_model_name": "ButtonStyleModel",
       "_view_count": null,
       "_view_module": "@jupyter-widgets/base",
       "_view_module_version": "1.2.0",
       "_view_name": "StyleView",
       "button_color": null,
       "font_weight": ""
      }
     },
     "2213efc9a5984f868f1eb4e8cb63896d": {
      "model_module": "@jupyter-widgets/controls",
      "model_module_version": "1.5.0",
      "model_name": "DescriptionStyleModel",
      "state": {
       "_model_module": "@jupyter-widgets/controls",
       "_model_module_version": "1.5.0",
       "_model_name": "DescriptionStyleModel",
       "_view_count": null,
       "_view_module": "@jupyter-widgets/base",
       "_view_module_version": "1.2.0",
       "_view_name": "StyleView",
       "description_width": ""
      }
     },
     "314b6f0b3aa4416b9552fe225b39c61e": {
      "model_module": "@jupyter-widgets/controls",
      "model_module_version": "1.5.0",
      "model_name": "TabModel",
      "state": {
       "_dom_classes": [],
       "_model_module": "@jupyter-widgets/controls",
       "_model_module_version": "1.5.0",
       "_model_name": "TabModel",
       "_titles": {
        "0": "Status",
        "1": "Scaling"
       },
       "_view_count": null,
       "_view_module": "@jupyter-widgets/controls",
       "_view_module_version": "1.5.0",
       "_view_name": "TabView",
       "box_style": "",
       "children": [
        "IPY_MODEL_532d31c84cc345be948377d9a54ee80d",
        "IPY_MODEL_6b79a5ee929c4bdb853dea1461a74c51"
       ],
       "layout": "IPY_MODEL_a48998293e8d42df8f66a45c06d42895",
       "selected_index": 0
      }
     },
     "3aa5848c09de44a9a4c41859ae40b4bf": {
      "model_module": "@jupyter-widgets/base",
      "model_module_version": "1.2.0",
      "model_name": "LayoutModel",
      "state": {
       "_model_module": "@jupyter-widgets/base",
       "_model_module_version": "1.2.0",
       "_model_name": "LayoutModel",
       "_view_count": null,
       "_view_module": "@jupyter-widgets/base",
       "_view_module_version": "1.2.0",
       "_view_name": "LayoutView",
       "align_content": null,
       "align_items": null,
       "align_self": null,
       "border": null,
       "bottom": null,
       "display": null,
       "flex": null,
       "flex_flow": null,
       "grid_area": null,
       "grid_auto_columns": null,
       "grid_auto_flow": null,
       "grid_auto_rows": null,
       "grid_column": null,
       "grid_gap": null,
       "grid_row": null,
       "grid_template_areas": null,
       "grid_template_columns": null,
       "grid_template_rows": null,
       "height": null,
       "justify_content": null,
       "justify_items": null,
       "left": null,
       "margin": null,
       "max_height": null,
       "max_width": null,
       "min_height": null,
       "min_width": null,
       "object_fit": null,
       "object_position": null,
       "order": null,
       "overflow": null,
       "overflow_x": null,
       "overflow_y": null,
       "padding": null,
       "right": null,
       "top": null,
       "visibility": null,
       "width": "150px"
      }
     },
     "40bedec8f9cd4fb5b8687c5653aaa892": {
      "model_module": "@jupyter-widgets/controls",
      "model_module_version": "1.5.0",
      "model_name": "ButtonStyleModel",
      "state": {
       "_model_module": "@jupyter-widgets/controls",
       "_model_module_version": "1.5.0",
       "_model_name": "ButtonStyleModel",
       "_view_count": null,
       "_view_module": "@jupyter-widgets/base",
       "_view_module_version": "1.2.0",
       "_view_name": "StyleView",
       "button_color": null,
       "font_weight": ""
      }
     },
     "4e2ad85c8bf7494f91db5f0b4f63c570": {
      "model_module": "@jupyter-widgets/base",
      "model_module_version": "1.2.0",
      "model_name": "LayoutModel",
      "state": {
       "_model_module": "@jupyter-widgets/base",
       "_model_module_version": "1.2.0",
       "_model_name": "LayoutModel",
       "_view_count": null,
       "_view_module": "@jupyter-widgets/base",
       "_view_module_version": "1.2.0",
       "_view_name": "LayoutView",
       "align_content": null,
       "align_items": null,
       "align_self": null,
       "border": null,
       "bottom": null,
       "display": null,
       "flex": null,
       "flex_flow": null,
       "grid_area": null,
       "grid_auto_columns": null,
       "grid_auto_flow": null,
       "grid_auto_rows": null,
       "grid_column": null,
       "grid_gap": null,
       "grid_row": null,
       "grid_template_areas": null,
       "grid_template_columns": null,
       "grid_template_rows": null,
       "height": null,
       "justify_content": null,
       "justify_items": null,
       "left": null,
       "margin": null,
       "max_height": null,
       "max_width": null,
       "min_height": null,
       "min_width": null,
       "object_fit": null,
       "object_position": null,
       "order": null,
       "overflow": null,
       "overflow_x": null,
       "overflow_y": null,
       "padding": null,
       "right": null,
       "top": null,
       "visibility": null,
       "width": null
      }
     },
     "532d31c84cc345be948377d9a54ee80d": {
      "model_module": "@jupyter-widgets/controls",
      "model_module_version": "1.5.0",
      "model_name": "HTMLModel",
      "state": {
       "_dom_classes": [],
       "_model_module": "@jupyter-widgets/controls",
       "_model_module_version": "1.5.0",
       "_model_name": "HTMLModel",
       "_view_count": null,
       "_view_module": "@jupyter-widgets/controls",
       "_view_module_version": "1.5.0",
       "_view_name": "HTMLView",
       "description": "",
       "description_tooltip": null,
       "layout": "IPY_MODEL_7e478a602b4946aca8c75f5a8eff553b",
       "placeholder": "​",
       "style": "IPY_MODEL_2213efc9a5984f868f1eb4e8cb63896d",
       "value": "<div class=\"jp-RenderedHTMLCommon jp-RenderedHTML jp-mod-trusted jp-OutputArea-output\">\n    <div style=\"width: 24px; height: 24px; background-color: #e1e1e1; border: 3px solid #9D9D9D; border-radius: 5px; position: absolute;\">\n    </div>\n    <div style=\"margin-left: 48px;\">\n        <h3 style=\"margin-bottom: 0px; margin-top: 0px;\">LocalCluster</h3>\n        <p style=\"color: #9D9D9D; margin-bottom: 0px;\">2cbf1ad9</p>\n        <table style=\"width: 100%; text-align: left;\">\n            <tr>\n                <td style=\"text-align: left;\">\n                    <strong>Dashboard:</strong> <a href=\"http://127.0.0.1:8787/status\" target=\"_blank\">http://127.0.0.1:8787/status</a>\n                </td>\n                <td style=\"text-align: left;\">\n                    <strong>Workers:</strong> 2\n                </td>\n            </tr>\n            <tr>\n                <td style=\"text-align: left;\">\n                    <strong>Total threads:</strong> 2\n                </td>\n                <td style=\"text-align: left;\">\n                    <strong>Total memory:</strong> 6.78 GiB\n                </td>\n            </tr>\n            \n            <tr>\n    <td style=\"text-align: left;\"><strong>Status:</strong> running</td>\n    <td style=\"text-align: left;\"><strong>Using processes:</strong> True</td>\n</tr>\n\n            \n        </table>\n\n        <details>\n            <summary style=\"margin-bottom: 20px;\">\n                <h3 style=\"display: inline;\">Scheduler Info</h3>\n            </summary>\n\n            <div style=\"\">\n    <div>\n        <div style=\"width: 24px; height: 24px; background-color: #FFF7E5; border: 3px solid #FF6132; border-radius: 5px; position: absolute;\"> </div>\n        <div style=\"margin-left: 48px;\">\n            <h3 style=\"margin-bottom: 0px;\">Scheduler</h3>\n            <p style=\"color: #9D9D9D; margin-bottom: 0px;\">Scheduler-09512495-be3e-4190-abc1-cd9c1bfc63db</p>\n            <table style=\"width: 100%; text-align: left;\">\n                <tr>\n                    <td style=\"text-align: left;\">\n                        <strong>Comm:</strong> tcp://127.0.0.1:34779\n                    </td>\n                    <td style=\"text-align: left;\">\n                        <strong>Workers:</strong> 2\n                    </td>\n                </tr>\n                <tr>\n                    <td style=\"text-align: left;\">\n                        <strong>Dashboard:</strong> <a href=\"http://127.0.0.1:8787/status\" target=\"_blank\">http://127.0.0.1:8787/status</a>\n                    </td>\n                    <td style=\"text-align: left;\">\n                        <strong>Total threads:</strong> 2\n                    </td>\n                </tr>\n                <tr>\n                    <td style=\"text-align: left;\">\n                        <strong>Started:</strong> Just now\n                    </td>\n                    <td style=\"text-align: left;\">\n                        <strong>Total memory:</strong> 6.78 GiB\n                    </td>\n                </tr>\n            </table>\n        </div>\n    </div>\n\n    <details style=\"margin-left: 48px;\">\n        <summary style=\"margin-bottom: 20px;\">\n            <h3 style=\"display: inline;\">Workers</h3>\n        </summary>\n\n        \n        <div style=\"margin-bottom: 20px;\">\n            <div style=\"width: 24px; height: 24px; background-color: #DBF5FF; border: 3px solid #4CC9FF; border-radius: 5px; position: absolute;\"> </div>\n            <div style=\"margin-left: 48px;\">\n            <details>\n                <summary>\n                    <h4 style=\"margin-bottom: 0px; display: inline;\">Worker: 0</h4>\n                </summary>\n                <table style=\"width: 100%; text-align: left;\">\n                    <tr>\n                        <td style=\"text-align: left;\">\n                            <strong>Comm: </strong> tcp://127.0.0.1:38569\n                        </td>\n                        <td style=\"text-align: left;\">\n                            <strong>Total threads: </strong> 1\n                        </td>\n                    </tr>\n                    <tr>\n                        <td style=\"text-align: left;\">\n                            <strong>Dashboard: </strong> <a href=\"http://127.0.0.1:33693/status\" target=\"_blank\">http://127.0.0.1:33693/status</a>\n                        </td>\n                        <td style=\"text-align: left;\">\n                            <strong>Memory: </strong> 3.39 GiB\n                        </td>\n                    </tr>\n                    <tr>\n                        <td style=\"text-align: left;\">\n                            <strong>Nanny: </strong> tcp://127.0.0.1:38145\n                        </td>\n                        <td style=\"text-align: left;\"></td>\n                    </tr>\n                    <tr>\n                        <td colspan=\"2\" style=\"text-align: left;\">\n                            <strong>Local directory: </strong> /home/runner/work/dask-tutorial/dask-tutorial/dask-worker-space/worker-smqglhdp\n                        </td>\n                    </tr>\n\n                    \n\n                    \n\n                </table>\n            </details>\n            </div>\n        </div>\n        \n        <div style=\"margin-bottom: 20px;\">\n            <div style=\"width: 24px; height: 24px; background-color: #DBF5FF; border: 3px solid #4CC9FF; border-radius: 5px; position: absolute;\"> </div>\n            <div style=\"margin-left: 48px;\">\n            <details>\n                <summary>\n                    <h4 style=\"margin-bottom: 0px; display: inline;\">Worker: 1</h4>\n                </summary>\n                <table style=\"width: 100%; text-align: left;\">\n                    <tr>\n                        <td style=\"text-align: left;\">\n                            <strong>Comm: </strong> tcp://127.0.0.1:46645\n                        </td>\n                        <td style=\"text-align: left;\">\n                            <strong>Total threads: </strong> 1\n                        </td>\n                    </tr>\n                    <tr>\n                        <td style=\"text-align: left;\">\n                            <strong>Dashboard: </strong> <a href=\"http://127.0.0.1:41569/status\" target=\"_blank\">http://127.0.0.1:41569/status</a>\n                        </td>\n                        <td style=\"text-align: left;\">\n                            <strong>Memory: </strong> 3.39 GiB\n                        </td>\n                    </tr>\n                    <tr>\n                        <td style=\"text-align: left;\">\n                            <strong>Nanny: </strong> tcp://127.0.0.1:42527\n                        </td>\n                        <td style=\"text-align: left;\"></td>\n                    </tr>\n                    <tr>\n                        <td colspan=\"2\" style=\"text-align: left;\">\n                            <strong>Local directory: </strong> /home/runner/work/dask-tutorial/dask-tutorial/dask-worker-space/worker-vv_kp4k4\n                        </td>\n                    </tr>\n\n                    \n\n                    \n\n                </table>\n            </details>\n            </div>\n        </div>\n        \n\n    </details>\n</div>\n\n        </details>\n    </div>\n</div>"
      }
     },
     "5560fcfb69bf4b69aff121e1b9f7db21": {
      "model_module": "@jupyter-widgets/controls",
      "model_module_version": "1.5.0",
      "model_name": "HBoxModel",
      "state": {
       "_dom_classes": [],
       "_model_module": "@jupyter-widgets/controls",
       "_model_module_version": "1.5.0",
       "_model_name": "HBoxModel",
       "_view_count": null,
       "_view_module": "@jupyter-widgets/controls",
       "_view_module_version": "1.5.0",
       "_view_name": "HBoxView",
       "box_style": "",
       "children": [
        "IPY_MODEL_becd4360503843faa7821e817e42277f",
        "IPY_MODEL_72cd83cade7e493cb6dfe13e08e9e55b",
        "IPY_MODEL_65e6147fd5b04cfb88d8a84440f63916"
       ],
       "layout": "IPY_MODEL_4e2ad85c8bf7494f91db5f0b4f63c570"
      }
     },
     "60db77ceb4a64f2ab5a644e9379ba150": {
      "model_module": "@jupyter-widgets/base",
      "model_module_version": "1.2.0",
      "model_name": "LayoutModel",
      "state": {
       "_model_module": "@jupyter-widgets/base",
       "_model_module_version": "1.2.0",
       "_model_name": "LayoutModel",
       "_view_count": null,
       "_view_module": "@jupyter-widgets/base",
       "_view_module_version": "1.2.0",
       "_view_name": "LayoutView",
       "align_content": null,
       "align_items": null,
       "align_self": null,
       "border": null,
       "bottom": null,
       "display": null,
       "flex": null,
       "flex_flow": null,
       "grid_area": null,
       "grid_auto_columns": null,
       "grid_auto_flow": null,
       "grid_auto_rows": null,
       "grid_column": null,
       "grid_gap": null,
       "grid_row": null,
       "grid_template_areas": null,
       "grid_template_columns": null,
       "grid_template_rows": null,
       "height": null,
       "justify_content": null,
       "justify_items": null,
       "left": null,
       "margin": null,
       "max_height": null,
       "max_width": null,
       "min_height": null,
       "min_width": null,
       "object_fit": null,
       "object_position": null,
       "order": null,
       "overflow": null,
       "overflow_x": null,
       "overflow_y": null,
       "padding": null,
       "right": null,
       "top": null,
       "visibility": null,
       "width": null
      }
     },
     "65e6147fd5b04cfb88d8a84440f63916": {
      "model_module": "@jupyter-widgets/controls",
      "model_module_version": "1.5.0",
      "model_name": "ButtonModel",
      "state": {
       "_dom_classes": [],
       "_model_module": "@jupyter-widgets/controls",
       "_model_module_version": "1.5.0",
       "_model_name": "ButtonModel",
       "_view_count": null,
       "_view_module": "@jupyter-widgets/controls",
       "_view_module_version": "1.5.0",
       "_view_name": "ButtonView",
       "button_style": "",
       "description": "Adapt",
       "disabled": false,
       "icon": "",
       "layout": "IPY_MODEL_3aa5848c09de44a9a4c41859ae40b4bf",
       "style": "IPY_MODEL_40bedec8f9cd4fb5b8687c5653aaa892",
       "tooltip": ""
      }
     },
     "6b79a5ee929c4bdb853dea1461a74c51": {
      "model_module": "@jupyter-widgets/controls",
      "model_module_version": "1.5.0",
      "model_name": "VBoxModel",
      "state": {
       "_dom_classes": [],
       "_model_module": "@jupyter-widgets/controls",
       "_model_module_version": "1.5.0",
       "_model_name": "VBoxModel",
       "_view_count": null,
       "_view_module": "@jupyter-widgets/controls",
       "_view_module_version": "1.5.0",
       "_view_name": "VBoxView",
       "box_style": "",
       "children": [
        "IPY_MODEL_7f4ef1ae35194d998cdcc05a4fcfce07",
        "IPY_MODEL_7fd9541482f44d0892e141be3b524830"
       ],
       "layout": "IPY_MODEL_60db77ceb4a64f2ab5a644e9379ba150"
      }
     },
     "6cf9d2a6a53d41adbb20a7fa969ec42e": {
      "model_module": "@jupyter-widgets/controls",
      "model_module_version": "1.5.0",
      "model_name": "DescriptionStyleModel",
      "state": {
       "_model_module": "@jupyter-widgets/controls",
       "_model_module_version": "1.5.0",
       "_model_name": "DescriptionStyleModel",
       "_view_count": null,
       "_view_module": "@jupyter-widgets/base",
       "_view_module_version": "1.2.0",
       "_view_name": "StyleView",
       "description_width": ""
      }
     },
     "72cd83cade7e493cb6dfe13e08e9e55b": {
      "model_module": "@jupyter-widgets/controls",
      "model_module_version": "1.5.0",
      "model_name": "IntTextModel",
      "state": {
       "_dom_classes": [],
       "_model_module": "@jupyter-widgets/controls",
       "_model_module_version": "1.5.0",
       "_model_name": "IntTextModel",
       "_view_count": null,
       "_view_module": "@jupyter-widgets/controls",
       "_view_module_version": "1.5.0",
       "_view_name": "IntTextView",
       "continuous_update": false,
       "description": "Maximum",
       "description_tooltip": null,
       "disabled": false,
       "layout": "IPY_MODEL_3aa5848c09de44a9a4c41859ae40b4bf",
       "step": 1,
       "style": "IPY_MODEL_fb104ad8c2b442e3bcf6e3ce7bcef65a",
       "value": 0
      }
     },
     "7e478a602b4946aca8c75f5a8eff553b": {
      "model_module": "@jupyter-widgets/base",
      "model_module_version": "1.2.0",
      "model_name": "LayoutModel",
      "state": {
       "_model_module": "@jupyter-widgets/base",
       "_model_module_version": "1.2.0",
       "_model_name": "LayoutModel",
       "_view_count": null,
       "_view_module": "@jupyter-widgets/base",
       "_view_module_version": "1.2.0",
       "_view_name": "LayoutView",
       "align_content": null,
       "align_items": null,
       "align_self": null,
       "border": null,
       "bottom": null,
       "display": null,
       "flex": null,
       "flex_flow": null,
       "grid_area": null,
       "grid_auto_columns": null,
       "grid_auto_flow": null,
       "grid_auto_rows": null,
       "grid_column": null,
       "grid_gap": null,
       "grid_row": null,
       "grid_template_areas": null,
       "grid_template_columns": null,
       "grid_template_rows": null,
       "height": null,
       "justify_content": null,
       "justify_items": null,
       "left": null,
       "margin": null,
       "max_height": null,
       "max_width": null,
       "min_height": null,
       "min_width": null,
       "object_fit": null,
       "object_position": null,
       "order": null,
       "overflow": null,
       "overflow_x": null,
       "overflow_y": null,
       "padding": null,
       "right": null,
       "top": null,
       "visibility": null,
       "width": null
      }
     },
     "7f4ef1ae35194d998cdcc05a4fcfce07": {
      "model_module": "@jupyter-widgets/controls",
      "model_module_version": "1.5.0",
      "model_name": "HTMLModel",
      "state": {
       "_dom_classes": [],
       "_model_module": "@jupyter-widgets/controls",
       "_model_module_version": "1.5.0",
       "_model_name": "HTMLModel",
       "_view_count": null,
       "_view_module": "@jupyter-widgets/controls",
       "_view_module_version": "1.5.0",
       "_view_name": "HTMLView",
       "description": "",
       "description_tooltip": null,
       "layout": "IPY_MODEL_9335fc85648a4791be35552aeb175afa",
       "placeholder": "​",
       "style": "IPY_MODEL_6cf9d2a6a53d41adbb20a7fa969ec42e",
       "value": "\n        <table>\n            <tr><td style=\"text-align: left;\">Scaling mode: Manual</td></tr>\n            <tr><td style=\"text-align: left;\">Workers: 2</td></tr>\n        </table>\n        "
      }
     },
     "7fd9541482f44d0892e141be3b524830": {
      "model_module": "@jupyter-widgets/controls",
      "model_module_version": "1.5.0",
      "model_name": "AccordionModel",
      "state": {
       "_dom_classes": [],
       "_model_module": "@jupyter-widgets/controls",
       "_model_module_version": "1.5.0",
       "_model_name": "AccordionModel",
       "_titles": {
        "0": "Manual Scaling",
        "1": "Adaptive Scaling"
       },
       "_view_count": null,
       "_view_module": "@jupyter-widgets/controls",
       "_view_module_version": "1.5.0",
       "_view_name": "AccordionView",
       "box_style": "",
       "children": [
        "IPY_MODEL_07d6cd0edd6d4bccb6277a516cfd0d23",
        "IPY_MODEL_5560fcfb69bf4b69aff121e1b9f7db21"
       ],
       "layout": "IPY_MODEL_8d6cf75a5a9e4fb38a04c3d7fe29c606",
       "selected_index": null
      }
     },
     "8d6cf75a5a9e4fb38a04c3d7fe29c606": {
      "model_module": "@jupyter-widgets/base",
      "model_module_version": "1.2.0",
      "model_name": "LayoutModel",
      "state": {
       "_model_module": "@jupyter-widgets/base",
       "_model_module_version": "1.2.0",
       "_model_name": "LayoutModel",
       "_view_count": null,
       "_view_module": "@jupyter-widgets/base",
       "_view_module_version": "1.2.0",
       "_view_name": "LayoutView",
       "align_content": null,
       "align_items": null,
       "align_self": null,
       "border": null,
       "bottom": null,
       "display": null,
       "flex": null,
       "flex_flow": null,
       "grid_area": null,
       "grid_auto_columns": null,
       "grid_auto_flow": null,
       "grid_auto_rows": null,
       "grid_column": null,
       "grid_gap": null,
       "grid_row": null,
       "grid_template_areas": null,
       "grid_template_columns": null,
       "grid_template_rows": null,
       "height": null,
       "justify_content": null,
       "justify_items": null,
       "left": null,
       "margin": null,
       "max_height": null,
       "max_width": null,
       "min_height": null,
       "min_width": "500px",
       "object_fit": null,
       "object_position": null,
       "order": null,
       "overflow": null,
       "overflow_x": null,
       "overflow_y": null,
       "padding": null,
       "right": null,
       "top": null,
       "visibility": null,
       "width": null
      }
     },
     "8eeb7165c4f547ee942d9267df874e3c": {
      "model_module": "@jupyter-widgets/controls",
      "model_module_version": "1.5.0",
      "model_name": "IntTextModel",
      "state": {
       "_dom_classes": [],
       "_model_module": "@jupyter-widgets/controls",
       "_model_module_version": "1.5.0",
       "_model_name": "IntTextModel",
       "_view_count": null,
       "_view_module": "@jupyter-widgets/controls",
       "_view_module_version": "1.5.0",
       "_view_name": "IntTextView",
       "continuous_update": false,
       "description": "Workers",
       "description_tooltip": null,
       "disabled": false,
       "layout": "IPY_MODEL_3aa5848c09de44a9a4c41859ae40b4bf",
       "step": 1,
       "style": "IPY_MODEL_0bd49937e0214e10afdc65dda578c3e4",
       "value": 0
      }
     },
     "906daf0f9b8c4100a1eef690938ef216": {
      "model_module": "@jupyter-widgets/controls",
      "model_module_version": "1.5.0",
      "model_name": "DescriptionStyleModel",
      "state": {
       "_model_module": "@jupyter-widgets/controls",
       "_model_module_version": "1.5.0",
       "_model_name": "DescriptionStyleModel",
       "_view_count": null,
       "_view_module": "@jupyter-widgets/base",
       "_view_module_version": "1.2.0",
       "_view_name": "StyleView",
       "description_width": ""
      }
     },
     "9335fc85648a4791be35552aeb175afa": {
      "model_module": "@jupyter-widgets/base",
      "model_module_version": "1.2.0",
      "model_name": "LayoutModel",
      "state": {
       "_model_module": "@jupyter-widgets/base",
       "_model_module_version": "1.2.0",
       "_model_name": "LayoutModel",
       "_view_count": null,
       "_view_module": "@jupyter-widgets/base",
       "_view_module_version": "1.2.0",
       "_view_name": "LayoutView",
       "align_content": null,
       "align_items": null,
       "align_self": null,
       "border": null,
       "bottom": null,
       "display": null,
       "flex": null,
       "flex_flow": null,
       "grid_area": null,
       "grid_auto_columns": null,
       "grid_auto_flow": null,
       "grid_auto_rows": null,
       "grid_column": null,
       "grid_gap": null,
       "grid_row": null,
       "grid_template_areas": null,
       "grid_template_columns": null,
       "grid_template_rows": null,
       "height": null,
       "justify_content": null,
       "justify_items": null,
       "left": null,
       "margin": null,
       "max_height": null,
       "max_width": null,
       "min_height": null,
       "min_width": null,
       "object_fit": null,
       "object_position": null,
       "order": null,
       "overflow": null,
       "overflow_x": null,
       "overflow_y": null,
       "padding": null,
       "right": null,
       "top": null,
       "visibility": null,
       "width": null
      }
     },
     "a48998293e8d42df8f66a45c06d42895": {
      "model_module": "@jupyter-widgets/base",
      "model_module_version": "1.2.0",
      "model_name": "LayoutModel",
      "state": {
       "_model_module": "@jupyter-widgets/base",
       "_model_module_version": "1.2.0",
       "_model_name": "LayoutModel",
       "_view_count": null,
       "_view_module": "@jupyter-widgets/base",
       "_view_module_version": "1.2.0",
       "_view_name": "LayoutView",
       "align_content": null,
       "align_items": null,
       "align_self": null,
       "border": null,
       "bottom": null,
       "display": null,
       "flex": null,
       "flex_flow": null,
       "grid_area": null,
       "grid_auto_columns": null,
       "grid_auto_flow": null,
       "grid_auto_rows": null,
       "grid_column": null,
       "grid_gap": null,
       "grid_row": null,
       "grid_template_areas": null,
       "grid_template_columns": null,
       "grid_template_rows": null,
       "height": null,
       "justify_content": null,
       "justify_items": null,
       "left": null,
       "margin": null,
       "max_height": null,
       "max_width": null,
       "min_height": null,
       "min_width": null,
       "object_fit": null,
       "object_position": null,
       "order": null,
       "overflow": null,
       "overflow_x": null,
       "overflow_y": null,
       "padding": null,
       "right": null,
       "top": null,
       "visibility": null,
       "width": null
      }
     },
     "becd4360503843faa7821e817e42277f": {
      "model_module": "@jupyter-widgets/controls",
      "model_module_version": "1.5.0",
      "model_name": "IntTextModel",
      "state": {
       "_dom_classes": [],
       "_model_module": "@jupyter-widgets/controls",
       "_model_module_version": "1.5.0",
       "_model_name": "IntTextModel",
       "_view_count": null,
       "_view_module": "@jupyter-widgets/controls",
       "_view_module_version": "1.5.0",
       "_view_name": "IntTextView",
       "continuous_update": false,
       "description": "Minimum",
       "description_tooltip": null,
       "disabled": false,
       "layout": "IPY_MODEL_3aa5848c09de44a9a4c41859ae40b4bf",
       "step": 1,
       "style": "IPY_MODEL_906daf0f9b8c4100a1eef690938ef216",
       "value": 0
      }
     },
     "ca1af6d04a064c81985e74e6f170e4b6": {
      "model_module": "@jupyter-widgets/base",
      "model_module_version": "1.2.0",
      "model_name": "LayoutModel",
      "state": {
       "_model_module": "@jupyter-widgets/base",
       "_model_module_version": "1.2.0",
       "_model_name": "LayoutModel",
       "_view_count": null,
       "_view_module": "@jupyter-widgets/base",
       "_view_module_version": "1.2.0",
       "_view_name": "LayoutView",
       "align_content": null,
       "align_items": null,
       "align_self": null,
       "border": null,
       "bottom": null,
       "display": null,
       "flex": null,
       "flex_flow": null,
       "grid_area": null,
       "grid_auto_columns": null,
       "grid_auto_flow": null,
       "grid_auto_rows": null,
       "grid_column": null,
       "grid_gap": null,
       "grid_row": null,
       "grid_template_areas": null,
       "grid_template_columns": null,
       "grid_template_rows": null,
       "height": null,
       "justify_content": null,
       "justify_items": null,
       "left": null,
       "margin": null,
       "max_height": null,
       "max_width": null,
       "min_height": null,
       "min_width": null,
       "object_fit": null,
       "object_position": null,
       "order": null,
       "overflow": null,
       "overflow_x": null,
       "overflow_y": null,
       "padding": null,
       "right": null,
       "top": null,
       "visibility": null,
       "width": null
      }
     },
     "fb104ad8c2b442e3bcf6e3ce7bcef65a": {
      "model_module": "@jupyter-widgets/controls",
      "model_module_version": "1.5.0",
      "model_name": "DescriptionStyleModel",
      "state": {
       "_model_module": "@jupyter-widgets/controls",
       "_model_module_version": "1.5.0",
       "_model_name": "DescriptionStyleModel",
       "_view_count": null,
       "_view_module": "@jupyter-widgets/base",
       "_view_module_version": "1.2.0",
       "_view_name": "StyleView",
       "description_width": ""
      }
     }
    },
    "version_major": 2,
    "version_minor": 0
   }
  }
 },
 "nbformat": 4,
 "nbformat_minor": 4
}
