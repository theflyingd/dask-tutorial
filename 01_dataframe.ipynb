{
 "cells": [
  {
   "cell_type": "markdown",
   "metadata": {
    "tags": []
   },
   "source": [
    "<img src=\"http://dask.readthedocs.io/en/latest/_images/dask_horizontal.svg\"\n",
    "     align=\"right\"\n",
    "     width=\"30%\"\n",
    "     alt=\"Dask logo\\\">\n",
    "\n",
    "\n",
    "# Dask DataFrame - parallelized pandas\n",
    "\n",
    "Looks and feels like the pandas API, but for parallel and distributed workflows. \n",
    "\n",
    "At its core, the `dask.dataframe` module implements a \"blocked parallel\" `DataFrame` object that looks and feels like the pandas API, but for parallel and distributed workflows. One Dask `DataFrame` is comprised of many in-memory pandas `DataFrame`s separated along the index. One operation on a Dask `DataFrame` triggers many pandas operations on the constituent pandas `DataFrame`s in a way that is mindful of potential parallelism and memory constraints.\n"
   ]
  },
  {
   "cell_type": "markdown",
   "metadata": {
    "tags": []
   },
   "source": [
    "<img src=\"https://docs.dask.org/en/stable/_images/dask-dataframe.svg\"\n",
    "     align=\"right\"\n",
    "     width=\"30%\"\n",
    "     alt=\"Dask DataFrame is composed of pandas DataFrames\"/>\n",
    "\n",
    "**Related Documentation**\n",
    "\n",
    "* [DataFrame documentation](https://docs.dask.org/en/latest/dataframe.html)\n",
    "* [DataFrame screencast](https://youtu.be/AT2XtFehFSQ)\n",
    "* [DataFrame API](https://docs.dask.org/en/latest/dataframe-api.html)\n",
    "* [DataFrame examples](https://examples.dask.org/dataframe.html)\n",
    "* [pandas documentation](https://pandas.pydata.org/pandas-docs/stable/)\n",
    "\n",
    "## When to use `dask.dataframe`\n",
    "\n",
    "pandas is great for tabular datasets that fit in memory. A general rule of thumb for pandas is:\n",
    "\n",
    "> \"Have 5 to 10 times as much RAM as the size of your dataset\"\n",
    ">\n",
    "> ~ Wes McKinney (2017) in [10 things I hate about pandas](https://wesmckinney.com/blog/apache-arrow-pandas-internals/)\n",
    "\n",
    "Here \"size of dataset\" means dataset size on _the disk_.\n",
    "\n",
    "Dask becomes useful when the datasets exceed the above rule.\n",
    "\n",
    "In this notebook, you will be working with the New York City Airline data. This dataset is only ~200MB, so that you can download it in a reasonable time, but `dask.dataframe` will scale to  datasets **much** larger than memory.\n",
    "\n"
   ]
  },
  {
   "cell_type": "markdown",
   "metadata": {},
   "source": [
    "## Create datasets"
   ]
  },
  {
   "cell_type": "markdown",
   "metadata": {},
   "source": [
    "Create the datasets you will be using in this notebook:"
   ]
  },
  {
   "cell_type": "code",
   "execution_count": 1,
   "metadata": {
    "execution": {
     "iopub.execute_input": "2022-08-15T20:28:09.414410Z",
     "iopub.status.busy": "2022-08-15T20:28:09.413938Z",
     "iopub.status.idle": "2022-08-15T20:28:10.028285Z",
     "shell.execute_reply": "2022-08-15T20:28:10.027355Z"
    }
   },
   "outputs": [],
   "source": [
    "%run prep.py -d flights"
   ]
  },
  {
   "cell_type": "markdown",
   "metadata": {},
   "source": [
    "## Set up your local cluster"
   ]
  },
  {
   "cell_type": "markdown",
   "metadata": {},
   "source": [
    "Create a local Dask cluster and connect it to the client. Don't worry about this bit of code for now, you will learn more in the Distributed notebook."
   ]
  },
  {
   "cell_type": "code",
   "execution_count": 2,
   "metadata": {
    "execution": {
     "iopub.execute_input": "2022-08-15T20:28:10.034147Z",
     "iopub.status.busy": "2022-08-15T20:28:10.033873Z",
     "iopub.status.idle": "2022-08-15T20:28:12.885358Z",
     "shell.execute_reply": "2022-08-15T20:28:12.884527Z"
    }
   },
   "outputs": [
    {
     "name": "stderr",
     "output_type": "stream",
     "text": [
      "2022-08-15 20:28:12,126 - distributed.diskutils - INFO - Found stale lock file and directory '/home/runner/work/dask-tutorial/dask-tutorial/dask-worker-space/worker-0d9fy_7v', purging\n",
      "2022-08-15 20:28:12,127 - distributed.diskutils - INFO - Found stale lock file and directory '/home/runner/work/dask-tutorial/dask-tutorial/dask-worker-space/worker-2x9lce9g', purging\n"
     ]
    },
    {
     "data": {
      "text/html": [
       "<div>\n",
       "    <div style=\"width: 24px; height: 24px; background-color: #e1e1e1; border: 3px solid #9D9D9D; border-radius: 5px; position: absolute;\"> </div>\n",
       "    <div style=\"margin-left: 48px;\">\n",
       "        <h3 style=\"margin-bottom: 0px;\">Client</h3>\n",
       "        <p style=\"color: #9D9D9D; margin-bottom: 0px;\">Client-c760852b-1cd8-11ed-8c15-000d3a8d8ec4</p>\n",
       "        <table style=\"width: 100%; text-align: left;\">\n",
       "\n",
       "        <tr>\n",
       "        \n",
       "            <td style=\"text-align: left;\"><strong>Connection method:</strong> Cluster object</td>\n",
       "            <td style=\"text-align: left;\"><strong>Cluster type:</strong> distributed.LocalCluster</td>\n",
       "        \n",
       "        </tr>\n",
       "\n",
       "        \n",
       "            <tr>\n",
       "                <td style=\"text-align: left;\">\n",
       "                    <strong>Dashboard: </strong> <a href=\"http://127.0.0.1:8787/status\" target=\"_blank\">http://127.0.0.1:8787/status</a>\n",
       "                </td>\n",
       "                <td style=\"text-align: left;\"></td>\n",
       "            </tr>\n",
       "        \n",
       "\n",
       "        </table>\n",
       "\n",
       "        \n",
       "            <details>\n",
       "            <summary style=\"margin-bottom: 20px;\"><h3 style=\"display: inline;\">Cluster Info</h3></summary>\n",
       "            <div class=\"jp-RenderedHTMLCommon jp-RenderedHTML jp-mod-trusted jp-OutputArea-output\">\n",
       "    <div style=\"width: 24px; height: 24px; background-color: #e1e1e1; border: 3px solid #9D9D9D; border-radius: 5px; position: absolute;\">\n",
       "    </div>\n",
       "    <div style=\"margin-left: 48px;\">\n",
       "        <h3 style=\"margin-bottom: 0px; margin-top: 0px;\">LocalCluster</h3>\n",
       "        <p style=\"color: #9D9D9D; margin-bottom: 0px;\">6c610e21</p>\n",
       "        <table style=\"width: 100%; text-align: left;\">\n",
       "            <tr>\n",
       "                <td style=\"text-align: left;\">\n",
       "                    <strong>Dashboard:</strong> <a href=\"http://127.0.0.1:8787/status\" target=\"_blank\">http://127.0.0.1:8787/status</a>\n",
       "                </td>\n",
       "                <td style=\"text-align: left;\">\n",
       "                    <strong>Workers:</strong> 4\n",
       "                </td>\n",
       "            </tr>\n",
       "            <tr>\n",
       "                <td style=\"text-align: left;\">\n",
       "                    <strong>Total threads:</strong> 4\n",
       "                </td>\n",
       "                <td style=\"text-align: left;\">\n",
       "                    <strong>Total memory:</strong> 6.78 GiB\n",
       "                </td>\n",
       "            </tr>\n",
       "            \n",
       "            <tr>\n",
       "    <td style=\"text-align: left;\"><strong>Status:</strong> running</td>\n",
       "    <td style=\"text-align: left;\"><strong>Using processes:</strong> True</td>\n",
       "</tr>\n",
       "\n",
       "            \n",
       "        </table>\n",
       "\n",
       "        <details>\n",
       "            <summary style=\"margin-bottom: 20px;\">\n",
       "                <h3 style=\"display: inline;\">Scheduler Info</h3>\n",
       "            </summary>\n",
       "\n",
       "            <div style=\"\">\n",
       "    <div>\n",
       "        <div style=\"width: 24px; height: 24px; background-color: #FFF7E5; border: 3px solid #FF6132; border-radius: 5px; position: absolute;\"> </div>\n",
       "        <div style=\"margin-left: 48px;\">\n",
       "            <h3 style=\"margin-bottom: 0px;\">Scheduler</h3>\n",
       "            <p style=\"color: #9D9D9D; margin-bottom: 0px;\">Scheduler-02256ec1-3aaf-4120-95ea-67cf7f6804c3</p>\n",
       "            <table style=\"width: 100%; text-align: left;\">\n",
       "                <tr>\n",
       "                    <td style=\"text-align: left;\">\n",
       "                        <strong>Comm:</strong> tcp://127.0.0.1:44559\n",
       "                    </td>\n",
       "                    <td style=\"text-align: left;\">\n",
       "                        <strong>Workers:</strong> 4\n",
       "                    </td>\n",
       "                </tr>\n",
       "                <tr>\n",
       "                    <td style=\"text-align: left;\">\n",
       "                        <strong>Dashboard:</strong> <a href=\"http://127.0.0.1:8787/status\" target=\"_blank\">http://127.0.0.1:8787/status</a>\n",
       "                    </td>\n",
       "                    <td style=\"text-align: left;\">\n",
       "                        <strong>Total threads:</strong> 4\n",
       "                    </td>\n",
       "                </tr>\n",
       "                <tr>\n",
       "                    <td style=\"text-align: left;\">\n",
       "                        <strong>Started:</strong> Just now\n",
       "                    </td>\n",
       "                    <td style=\"text-align: left;\">\n",
       "                        <strong>Total memory:</strong> 6.78 GiB\n",
       "                    </td>\n",
       "                </tr>\n",
       "            </table>\n",
       "        </div>\n",
       "    </div>\n",
       "\n",
       "    <details style=\"margin-left: 48px;\">\n",
       "        <summary style=\"margin-bottom: 20px;\">\n",
       "            <h3 style=\"display: inline;\">Workers</h3>\n",
       "        </summary>\n",
       "\n",
       "        \n",
       "        <div style=\"margin-bottom: 20px;\">\n",
       "            <div style=\"width: 24px; height: 24px; background-color: #DBF5FF; border: 3px solid #4CC9FF; border-radius: 5px; position: absolute;\"> </div>\n",
       "            <div style=\"margin-left: 48px;\">\n",
       "            <details>\n",
       "                <summary>\n",
       "                    <h4 style=\"margin-bottom: 0px; display: inline;\">Worker: 0</h4>\n",
       "                </summary>\n",
       "                <table style=\"width: 100%; text-align: left;\">\n",
       "                    <tr>\n",
       "                        <td style=\"text-align: left;\">\n",
       "                            <strong>Comm: </strong> tcp://127.0.0.1:39749\n",
       "                        </td>\n",
       "                        <td style=\"text-align: left;\">\n",
       "                            <strong>Total threads: </strong> 1\n",
       "                        </td>\n",
       "                    </tr>\n",
       "                    <tr>\n",
       "                        <td style=\"text-align: left;\">\n",
       "                            <strong>Dashboard: </strong> <a href=\"http://127.0.0.1:39103/status\" target=\"_blank\">http://127.0.0.1:39103/status</a>\n",
       "                        </td>\n",
       "                        <td style=\"text-align: left;\">\n",
       "                            <strong>Memory: </strong> 1.70 GiB\n",
       "                        </td>\n",
       "                    </tr>\n",
       "                    <tr>\n",
       "                        <td style=\"text-align: left;\">\n",
       "                            <strong>Nanny: </strong> tcp://127.0.0.1:39623\n",
       "                        </td>\n",
       "                        <td style=\"text-align: left;\"></td>\n",
       "                    </tr>\n",
       "                    <tr>\n",
       "                        <td colspan=\"2\" style=\"text-align: left;\">\n",
       "                            <strong>Local directory: </strong> /home/runner/work/dask-tutorial/dask-tutorial/dask-worker-space/worker-bhos8f32\n",
       "                        </td>\n",
       "                    </tr>\n",
       "\n",
       "                    \n",
       "\n",
       "                    \n",
       "\n",
       "                </table>\n",
       "            </details>\n",
       "            </div>\n",
       "        </div>\n",
       "        \n",
       "        <div style=\"margin-bottom: 20px;\">\n",
       "            <div style=\"width: 24px; height: 24px; background-color: #DBF5FF; border: 3px solid #4CC9FF; border-radius: 5px; position: absolute;\"> </div>\n",
       "            <div style=\"margin-left: 48px;\">\n",
       "            <details>\n",
       "                <summary>\n",
       "                    <h4 style=\"margin-bottom: 0px; display: inline;\">Worker: 1</h4>\n",
       "                </summary>\n",
       "                <table style=\"width: 100%; text-align: left;\">\n",
       "                    <tr>\n",
       "                        <td style=\"text-align: left;\">\n",
       "                            <strong>Comm: </strong> tcp://127.0.0.1:39755\n",
       "                        </td>\n",
       "                        <td style=\"text-align: left;\">\n",
       "                            <strong>Total threads: </strong> 1\n",
       "                        </td>\n",
       "                    </tr>\n",
       "                    <tr>\n",
       "                        <td style=\"text-align: left;\">\n",
       "                            <strong>Dashboard: </strong> <a href=\"http://127.0.0.1:44145/status\" target=\"_blank\">http://127.0.0.1:44145/status</a>\n",
       "                        </td>\n",
       "                        <td style=\"text-align: left;\">\n",
       "                            <strong>Memory: </strong> 1.70 GiB\n",
       "                        </td>\n",
       "                    </tr>\n",
       "                    <tr>\n",
       "                        <td style=\"text-align: left;\">\n",
       "                            <strong>Nanny: </strong> tcp://127.0.0.1:39483\n",
       "                        </td>\n",
       "                        <td style=\"text-align: left;\"></td>\n",
       "                    </tr>\n",
       "                    <tr>\n",
       "                        <td colspan=\"2\" style=\"text-align: left;\">\n",
       "                            <strong>Local directory: </strong> /home/runner/work/dask-tutorial/dask-tutorial/dask-worker-space/worker-0wxt83r4\n",
       "                        </td>\n",
       "                    </tr>\n",
       "\n",
       "                    \n",
       "\n",
       "                    \n",
       "\n",
       "                </table>\n",
       "            </details>\n",
       "            </div>\n",
       "        </div>\n",
       "        \n",
       "        <div style=\"margin-bottom: 20px;\">\n",
       "            <div style=\"width: 24px; height: 24px; background-color: #DBF5FF; border: 3px solid #4CC9FF; border-radius: 5px; position: absolute;\"> </div>\n",
       "            <div style=\"margin-left: 48px;\">\n",
       "            <details>\n",
       "                <summary>\n",
       "                    <h4 style=\"margin-bottom: 0px; display: inline;\">Worker: 2</h4>\n",
       "                </summary>\n",
       "                <table style=\"width: 100%; text-align: left;\">\n",
       "                    <tr>\n",
       "                        <td style=\"text-align: left;\">\n",
       "                            <strong>Comm: </strong> tcp://127.0.0.1:39997\n",
       "                        </td>\n",
       "                        <td style=\"text-align: left;\">\n",
       "                            <strong>Total threads: </strong> 1\n",
       "                        </td>\n",
       "                    </tr>\n",
       "                    <tr>\n",
       "                        <td style=\"text-align: left;\">\n",
       "                            <strong>Dashboard: </strong> <a href=\"http://127.0.0.1:43199/status\" target=\"_blank\">http://127.0.0.1:43199/status</a>\n",
       "                        </td>\n",
       "                        <td style=\"text-align: left;\">\n",
       "                            <strong>Memory: </strong> 1.70 GiB\n",
       "                        </td>\n",
       "                    </tr>\n",
       "                    <tr>\n",
       "                        <td style=\"text-align: left;\">\n",
       "                            <strong>Nanny: </strong> tcp://127.0.0.1:46315\n",
       "                        </td>\n",
       "                        <td style=\"text-align: left;\"></td>\n",
       "                    </tr>\n",
       "                    <tr>\n",
       "                        <td colspan=\"2\" style=\"text-align: left;\">\n",
       "                            <strong>Local directory: </strong> /home/runner/work/dask-tutorial/dask-tutorial/dask-worker-space/worker-gw0h9dn7\n",
       "                        </td>\n",
       "                    </tr>\n",
       "\n",
       "                    \n",
       "\n",
       "                    \n",
       "\n",
       "                </table>\n",
       "            </details>\n",
       "            </div>\n",
       "        </div>\n",
       "        \n",
       "        <div style=\"margin-bottom: 20px;\">\n",
       "            <div style=\"width: 24px; height: 24px; background-color: #DBF5FF; border: 3px solid #4CC9FF; border-radius: 5px; position: absolute;\"> </div>\n",
       "            <div style=\"margin-left: 48px;\">\n",
       "            <details>\n",
       "                <summary>\n",
       "                    <h4 style=\"margin-bottom: 0px; display: inline;\">Worker: 3</h4>\n",
       "                </summary>\n",
       "                <table style=\"width: 100%; text-align: left;\">\n",
       "                    <tr>\n",
       "                        <td style=\"text-align: left;\">\n",
       "                            <strong>Comm: </strong> tcp://127.0.0.1:33311\n",
       "                        </td>\n",
       "                        <td style=\"text-align: left;\">\n",
       "                            <strong>Total threads: </strong> 1\n",
       "                        </td>\n",
       "                    </tr>\n",
       "                    <tr>\n",
       "                        <td style=\"text-align: left;\">\n",
       "                            <strong>Dashboard: </strong> <a href=\"http://127.0.0.1:32859/status\" target=\"_blank\">http://127.0.0.1:32859/status</a>\n",
       "                        </td>\n",
       "                        <td style=\"text-align: left;\">\n",
       "                            <strong>Memory: </strong> 1.70 GiB\n",
       "                        </td>\n",
       "                    </tr>\n",
       "                    <tr>\n",
       "                        <td style=\"text-align: left;\">\n",
       "                            <strong>Nanny: </strong> tcp://127.0.0.1:45933\n",
       "                        </td>\n",
       "                        <td style=\"text-align: left;\"></td>\n",
       "                    </tr>\n",
       "                    <tr>\n",
       "                        <td colspan=\"2\" style=\"text-align: left;\">\n",
       "                            <strong>Local directory: </strong> /home/runner/work/dask-tutorial/dask-tutorial/dask-worker-space/worker-rl1whr55\n",
       "                        </td>\n",
       "                    </tr>\n",
       "\n",
       "                    \n",
       "\n",
       "                    \n",
       "\n",
       "                </table>\n",
       "            </details>\n",
       "            </div>\n",
       "        </div>\n",
       "        \n",
       "\n",
       "    </details>\n",
       "</div>\n",
       "\n",
       "        </details>\n",
       "    </div>\n",
       "</div>\n",
       "            </details>\n",
       "        \n",
       "\n",
       "    </div>\n",
       "</div>"
      ],
      "text/plain": [
       "<Client: 'tcp://127.0.0.1:44559' processes=4 threads=4, memory=6.78 GiB>"
      ]
     },
     "execution_count": 2,
     "metadata": {},
     "output_type": "execute_result"
    }
   ],
   "source": [
    "from dask.distributed import Client\n",
    "\n",
    "client = Client(n_workers=4)\n",
    "client"
   ]
  },
  {
   "cell_type": "markdown",
   "metadata": {},
   "source": [
    "### Dask Diagnostic Dashboard\n",
    "\n",
    "Dask Distributed provides a useful Dashboard to visualize the state of your cluster and computations.\n",
    "\n",
    "If you're on **JupyterLab or Binder**, you can use the [Dask JupyterLab extension](https://github.com/dask/dask-labextension) (which should be already installed in your environment) to open the dashboard plots:\n",
    "* Click on the Dask logo in the left sidebar\n",
    "* Click on the magnifying glass icon, which will automatically connect to the active dashboard (if that doesn't work, you can type/paste the dashboard link http://127.0.0.1:8787 in the field)\n",
    "* Click on **\"Task Stream\"**, **\"Progress Bar\"**, and **\"Worker Memory\"**, which will open these plots in new tabs\n",
    "* Re-organize the tabs to suit your workflow!\n",
    "\n",
    "Alternatively, click on the dashboard link displayed in the Client details above: http://127.0.0.1:8787/status. It will open a new browser tab with the Dashboard."
   ]
  },
  {
   "cell_type": "markdown",
   "metadata": {
    "tags": []
   },
   "source": [
    "## Reading and working with datasets\n",
    "\n",
    "Let's read an extract of flights in the USA across several years. This data is specific to flights out of the three airports in the New York City area."
   ]
  },
  {
   "cell_type": "code",
   "execution_count": 3,
   "metadata": {
    "execution": {
     "iopub.execute_input": "2022-08-15T20:28:12.889541Z",
     "iopub.status.busy": "2022-08-15T20:28:12.888757Z",
     "iopub.status.idle": "2022-08-15T20:28:12.892890Z",
     "shell.execute_reply": "2022-08-15T20:28:12.892235Z"
    }
   },
   "outputs": [],
   "source": [
    "import os\n",
    "import dask"
   ]
  },
  {
   "cell_type": "markdown",
   "metadata": {},
   "source": [
    "By convention, we import the module `dask.dataframe` as `dd`, and call the corresponding `DataFrame` object `ddf`.\n",
    "\n",
    "**Note**: The term \"Dask DataFrame\" is slightly overloaded. Depending on the context, it can refer to the module or the DataFrame object. To avoid confusion, throughout this notebook:\n",
    "- `dask.dataframe` (note the all lowercase) refers to the API, and\n",
    "- `DataFrame` (note the CamelCase) refers to the object.\n",
    "\n",
    "The following filename includes a glob pattern `*`, so all files in the path matching that pattern will be read into the same `DataFrame`."
   ]
  },
  {
   "cell_type": "code",
   "execution_count": 4,
   "metadata": {
    "execution": {
     "iopub.execute_input": "2022-08-15T20:28:12.896185Z",
     "iopub.status.busy": "2022-08-15T20:28:12.895935Z",
     "iopub.status.idle": "2022-08-15T20:28:13.038587Z",
     "shell.execute_reply": "2022-08-15T20:28:13.037788Z"
    }
   },
   "outputs": [
    {
     "data": {
      "text/html": [
       "<div><strong>Dask DataFrame Structure:</strong></div>\n",
       "<div>\n",
       "<style scoped>\n",
       "    .dataframe tbody tr th:only-of-type {\n",
       "        vertical-align: middle;\n",
       "    }\n",
       "\n",
       "    .dataframe tbody tr th {\n",
       "        vertical-align: top;\n",
       "    }\n",
       "\n",
       "    .dataframe thead th {\n",
       "        text-align: right;\n",
       "    }\n",
       "</style>\n",
       "<table border=\"1\" class=\"dataframe\">\n",
       "  <thead>\n",
       "    <tr style=\"text-align: right;\">\n",
       "      <th></th>\n",
       "      <th>Date</th>\n",
       "      <th>DayOfWeek</th>\n",
       "      <th>DepTime</th>\n",
       "      <th>CRSDepTime</th>\n",
       "      <th>ArrTime</th>\n",
       "      <th>CRSArrTime</th>\n",
       "      <th>UniqueCarrier</th>\n",
       "      <th>FlightNum</th>\n",
       "      <th>TailNum</th>\n",
       "      <th>ActualElapsedTime</th>\n",
       "      <th>CRSElapsedTime</th>\n",
       "      <th>AirTime</th>\n",
       "      <th>ArrDelay</th>\n",
       "      <th>DepDelay</th>\n",
       "      <th>Origin</th>\n",
       "      <th>Dest</th>\n",
       "      <th>Distance</th>\n",
       "      <th>TaxiIn</th>\n",
       "      <th>TaxiOut</th>\n",
       "      <th>Cancelled</th>\n",
       "      <th>Diverted</th>\n",
       "    </tr>\n",
       "    <tr>\n",
       "      <th>npartitions=10</th>\n",
       "      <th></th>\n",
       "      <th></th>\n",
       "      <th></th>\n",
       "      <th></th>\n",
       "      <th></th>\n",
       "      <th></th>\n",
       "      <th></th>\n",
       "      <th></th>\n",
       "      <th></th>\n",
       "      <th></th>\n",
       "      <th></th>\n",
       "      <th></th>\n",
       "      <th></th>\n",
       "      <th></th>\n",
       "      <th></th>\n",
       "      <th></th>\n",
       "      <th></th>\n",
       "      <th></th>\n",
       "      <th></th>\n",
       "      <th></th>\n",
       "      <th></th>\n",
       "    </tr>\n",
       "  </thead>\n",
       "  <tbody>\n",
       "    <tr>\n",
       "      <th></th>\n",
       "      <td>datetime64[ns]</td>\n",
       "      <td>int64</td>\n",
       "      <td>float64</td>\n",
       "      <td>int64</td>\n",
       "      <td>float64</td>\n",
       "      <td>int64</td>\n",
       "      <td>object</td>\n",
       "      <td>int64</td>\n",
       "      <td>float64</td>\n",
       "      <td>float64</td>\n",
       "      <td>int64</td>\n",
       "      <td>float64</td>\n",
       "      <td>float64</td>\n",
       "      <td>float64</td>\n",
       "      <td>object</td>\n",
       "      <td>object</td>\n",
       "      <td>float64</td>\n",
       "      <td>float64</td>\n",
       "      <td>float64</td>\n",
       "      <td>int64</td>\n",
       "      <td>int64</td>\n",
       "    </tr>\n",
       "    <tr>\n",
       "      <th></th>\n",
       "      <td>...</td>\n",
       "      <td>...</td>\n",
       "      <td>...</td>\n",
       "      <td>...</td>\n",
       "      <td>...</td>\n",
       "      <td>...</td>\n",
       "      <td>...</td>\n",
       "      <td>...</td>\n",
       "      <td>...</td>\n",
       "      <td>...</td>\n",
       "      <td>...</td>\n",
       "      <td>...</td>\n",
       "      <td>...</td>\n",
       "      <td>...</td>\n",
       "      <td>...</td>\n",
       "      <td>...</td>\n",
       "      <td>...</td>\n",
       "      <td>...</td>\n",
       "      <td>...</td>\n",
       "      <td>...</td>\n",
       "      <td>...</td>\n",
       "    </tr>\n",
       "    <tr>\n",
       "      <th>...</th>\n",
       "      <td>...</td>\n",
       "      <td>...</td>\n",
       "      <td>...</td>\n",
       "      <td>...</td>\n",
       "      <td>...</td>\n",
       "      <td>...</td>\n",
       "      <td>...</td>\n",
       "      <td>...</td>\n",
       "      <td>...</td>\n",
       "      <td>...</td>\n",
       "      <td>...</td>\n",
       "      <td>...</td>\n",
       "      <td>...</td>\n",
       "      <td>...</td>\n",
       "      <td>...</td>\n",
       "      <td>...</td>\n",
       "      <td>...</td>\n",
       "      <td>...</td>\n",
       "      <td>...</td>\n",
       "      <td>...</td>\n",
       "      <td>...</td>\n",
       "    </tr>\n",
       "    <tr>\n",
       "      <th></th>\n",
       "      <td>...</td>\n",
       "      <td>...</td>\n",
       "      <td>...</td>\n",
       "      <td>...</td>\n",
       "      <td>...</td>\n",
       "      <td>...</td>\n",
       "      <td>...</td>\n",
       "      <td>...</td>\n",
       "      <td>...</td>\n",
       "      <td>...</td>\n",
       "      <td>...</td>\n",
       "      <td>...</td>\n",
       "      <td>...</td>\n",
       "      <td>...</td>\n",
       "      <td>...</td>\n",
       "      <td>...</td>\n",
       "      <td>...</td>\n",
       "      <td>...</td>\n",
       "      <td>...</td>\n",
       "      <td>...</td>\n",
       "      <td>...</td>\n",
       "    </tr>\n",
       "    <tr>\n",
       "      <th></th>\n",
       "      <td>...</td>\n",
       "      <td>...</td>\n",
       "      <td>...</td>\n",
       "      <td>...</td>\n",
       "      <td>...</td>\n",
       "      <td>...</td>\n",
       "      <td>...</td>\n",
       "      <td>...</td>\n",
       "      <td>...</td>\n",
       "      <td>...</td>\n",
       "      <td>...</td>\n",
       "      <td>...</td>\n",
       "      <td>...</td>\n",
       "      <td>...</td>\n",
       "      <td>...</td>\n",
       "      <td>...</td>\n",
       "      <td>...</td>\n",
       "      <td>...</td>\n",
       "      <td>...</td>\n",
       "      <td>...</td>\n",
       "      <td>...</td>\n",
       "    </tr>\n",
       "  </tbody>\n",
       "</table>\n",
       "</div>\n",
       "<div>Dask Name: read-csv, 10 tasks</div>"
      ],
      "text/plain": [
       "Dask DataFrame Structure:\n",
       "                          Date DayOfWeek  DepTime CRSDepTime  ArrTime CRSArrTime UniqueCarrier FlightNum  TailNum ActualElapsedTime CRSElapsedTime  AirTime ArrDelay DepDelay  Origin    Dest Distance   TaxiIn  TaxiOut Cancelled Diverted\n",
       "npartitions=10                                                                                                                                                                                                                             \n",
       "                datetime64[ns]     int64  float64      int64  float64      int64        object     int64  float64           float64          int64  float64  float64  float64  object  object  float64  float64  float64     int64    int64\n",
       "                           ...       ...      ...        ...      ...        ...           ...       ...      ...               ...            ...      ...      ...      ...     ...     ...      ...      ...      ...       ...      ...\n",
       "...                        ...       ...      ...        ...      ...        ...           ...       ...      ...               ...            ...      ...      ...      ...     ...     ...      ...      ...      ...       ...      ...\n",
       "                           ...       ...      ...        ...      ...        ...           ...       ...      ...               ...            ...      ...      ...      ...     ...     ...      ...      ...      ...       ...      ...\n",
       "                           ...       ...      ...        ...      ...        ...           ...       ...      ...               ...            ...      ...      ...      ...     ...     ...      ...      ...      ...       ...      ...\n",
       "Dask Name: read-csv, 10 tasks"
      ]
     },
     "execution_count": 4,
     "metadata": {},
     "output_type": "execute_result"
    }
   ],
   "source": [
    "import dask.dataframe as dd\n",
    "\n",
    "ddf = dd.read_csv(os.path.join('data', 'nycflights', '*.csv'),\n",
    "                  parse_dates={'Date': [0, 1, 2]})\n",
    "ddf"
   ]
  },
  {
   "cell_type": "markdown",
   "metadata": {},
   "source": [
    "Dask has not loaded the data yet, it has:\n",
    "- investigated the input path and found that there are ten matching files\n",
    "- intelligently created a set of jobs for each chunk -- one per original CSV file in this case"
   ]
  },
  {
   "cell_type": "markdown",
   "metadata": {},
   "source": [
    "Notice that the representation of the `DataFrame` object contains no data - Dask has just done enough to read the start of the first file, and infer the column names and dtypes."
   ]
  },
  {
   "cell_type": "markdown",
   "metadata": {},
   "source": [
    "### Lazy Evaluation\n",
    "\n",
    "Most Dask Collections, including Dask `DataFrame` are evaluated lazily, which means Dask constructs the logic (called task graph) of your computation immediately but \"evaluates\" them  only when necessary. You can view this task graph using `.visualize()`.\n",
    "\n",
    "You will learn more about this in the Delayed notebook, but for now, note that we need to call `.compute()` to trigger actual computations."
   ]
  },
  {
   "cell_type": "code",
   "execution_count": 5,
   "metadata": {
    "execution": {
     "iopub.execute_input": "2022-08-15T20:28:13.042894Z",
     "iopub.status.busy": "2022-08-15T20:28:13.042106Z",
     "iopub.status.idle": "2022-08-15T20:28:13.259155Z",
     "shell.execute_reply": "2022-08-15T20:28:13.258098Z"
    }
   },
   "outputs": [
    {
     "data": {
      "image/png": "[encoded data removed]",
      "text/plain": [
       "<IPython.core.display.Image object>"
      ]
     },
     "execution_count": 5,
     "metadata": {},
     "output_type": "execute_result"
    }
   ],
   "source": [
    "ddf.visualize()"
   ]
  },
  {
   "cell_type": "markdown",
   "metadata": {},
   "source": [
    "Some functions like `len` and `head` also trigger a computation. Specifically, calling `len` will:\n",
    "- load actual data, (that is, load each file into a pandas DataFrame)\n",
    "- then apply the corresponding functions to each pandas DataFrame (also known as a partition)\n",
    "- combine the subtotals to give you the final grand total"
   ]
  },
  {
   "cell_type": "code",
   "execution_count": 6,
   "metadata": {
    "execution": {
     "iopub.execute_input": "2022-08-15T20:28:13.263039Z",
     "iopub.status.busy": "2022-08-15T20:28:13.262768Z",
     "iopub.status.idle": "2022-08-15T20:28:14.017372Z",
     "shell.execute_reply": "2022-08-15T20:28:14.016438Z"
    }
   },
   "outputs": [
    {
     "data": {
      "text/plain": [
       "9990"
      ]
     },
     "execution_count": 6,
     "metadata": {},
     "output_type": "execute_result"
    }
   ],
   "source": [
    "# load and count number of rows\n",
    "len(ddf)"
   ]
  },
  {
   "cell_type": "markdown",
   "metadata": {},
   "source": [
    "You can view the start and end of the data as you would in pandas:"
   ]
  },
  {
   "cell_type": "code",
   "execution_count": 7,
   "metadata": {
    "execution": {
     "iopub.execute_input": "2022-08-15T20:28:14.021194Z",
     "iopub.status.busy": "2022-08-15T20:28:14.020702Z",
     "iopub.status.idle": "2022-08-15T20:28:14.080600Z",
     "shell.execute_reply": "2022-08-15T20:28:14.079792Z"
    }
   },
   "outputs": [
    {
     "data": {
      "text/html": [
       "<div>\n",
       "<style scoped>\n",
       "    .dataframe tbody tr th:only-of-type {\n",
       "        vertical-align: middle;\n",
       "    }\n",
       "\n",
       "    .dataframe tbody tr th {\n",
       "        vertical-align: top;\n",
       "    }\n",
       "\n",
       "    .dataframe thead th {\n",
       "        text-align: right;\n",
       "    }\n",
       "</style>\n",
       "<table border=\"1\" class=\"dataframe\">\n",
       "  <thead>\n",
       "    <tr style=\"text-align: right;\">\n",
       "      <th></th>\n",
       "      <th>Date</th>\n",
       "      <th>DayOfWeek</th>\n",
       "      <th>DepTime</th>\n",
       "      <th>CRSDepTime</th>\n",
       "      <th>ArrTime</th>\n",
       "      <th>CRSArrTime</th>\n",
       "      <th>UniqueCarrier</th>\n",
       "      <th>FlightNum</th>\n",
       "      <th>TailNum</th>\n",
       "      <th>ActualElapsedTime</th>\n",
       "      <th>...</th>\n",
       "      <th>AirTime</th>\n",
       "      <th>ArrDelay</th>\n",
       "      <th>DepDelay</th>\n",
       "      <th>Origin</th>\n",
       "      <th>Dest</th>\n",
       "      <th>Distance</th>\n",
       "      <th>TaxiIn</th>\n",
       "      <th>TaxiOut</th>\n",
       "      <th>Cancelled</th>\n",
       "      <th>Diverted</th>\n",
       "    </tr>\n",
       "  </thead>\n",
       "  <tbody>\n",
       "    <tr>\n",
       "      <th>0</th>\n",
       "      <td>1990-01-01</td>\n",
       "      <td>1</td>\n",
       "      <td>1621.0</td>\n",
       "      <td>1540</td>\n",
       "      <td>1747.0</td>\n",
       "      <td>1701</td>\n",
       "      <td>US</td>\n",
       "      <td>33</td>\n",
       "      <td>NaN</td>\n",
       "      <td>86.0</td>\n",
       "      <td>...</td>\n",
       "      <td>NaN</td>\n",
       "      <td>46.0</td>\n",
       "      <td>41.0</td>\n",
       "      <td>EWR</td>\n",
       "      <td>PIT</td>\n",
       "      <td>319.0</td>\n",
       "      <td>NaN</td>\n",
       "      <td>NaN</td>\n",
       "      <td>0</td>\n",
       "      <td>0</td>\n",
       "    </tr>\n",
       "    <tr>\n",
       "      <th>1</th>\n",
       "      <td>1990-01-02</td>\n",
       "      <td>2</td>\n",
       "      <td>1547.0</td>\n",
       "      <td>1540</td>\n",
       "      <td>1700.0</td>\n",
       "      <td>1701</td>\n",
       "      <td>US</td>\n",
       "      <td>33</td>\n",
       "      <td>NaN</td>\n",
       "      <td>73.0</td>\n",
       "      <td>...</td>\n",
       "      <td>NaN</td>\n",
       "      <td>-1.0</td>\n",
       "      <td>7.0</td>\n",
       "      <td>EWR</td>\n",
       "      <td>PIT</td>\n",
       "      <td>319.0</td>\n",
       "      <td>NaN</td>\n",
       "      <td>NaN</td>\n",
       "      <td>0</td>\n",
       "      <td>0</td>\n",
       "    </tr>\n",
       "    <tr>\n",
       "      <th>2</th>\n",
       "      <td>1990-01-03</td>\n",
       "      <td>3</td>\n",
       "      <td>1546.0</td>\n",
       "      <td>1540</td>\n",
       "      <td>1710.0</td>\n",
       "      <td>1701</td>\n",
       "      <td>US</td>\n",
       "      <td>33</td>\n",
       "      <td>NaN</td>\n",
       "      <td>84.0</td>\n",
       "      <td>...</td>\n",
       "      <td>NaN</td>\n",
       "      <td>9.0</td>\n",
       "      <td>6.0</td>\n",
       "      <td>EWR</td>\n",
       "      <td>PIT</td>\n",
       "      <td>319.0</td>\n",
       "      <td>NaN</td>\n",
       "      <td>NaN</td>\n",
       "      <td>0</td>\n",
       "      <td>0</td>\n",
       "    </tr>\n",
       "    <tr>\n",
       "      <th>3</th>\n",
       "      <td>1990-01-04</td>\n",
       "      <td>4</td>\n",
       "      <td>1542.0</td>\n",
       "      <td>1540</td>\n",
       "      <td>1710.0</td>\n",
       "      <td>1701</td>\n",
       "      <td>US</td>\n",
       "      <td>33</td>\n",
       "      <td>NaN</td>\n",
       "      <td>88.0</td>\n",
       "      <td>...</td>\n",
       "      <td>NaN</td>\n",
       "      <td>9.0</td>\n",
       "      <td>2.0</td>\n",
       "      <td>EWR</td>\n",
       "      <td>PIT</td>\n",
       "      <td>319.0</td>\n",
       "      <td>NaN</td>\n",
       "      <td>NaN</td>\n",
       "      <td>0</td>\n",
       "      <td>0</td>\n",
       "    </tr>\n",
       "    <tr>\n",
       "      <th>4</th>\n",
       "      <td>1990-01-05</td>\n",
       "      <td>5</td>\n",
       "      <td>1549.0</td>\n",
       "      <td>1540</td>\n",
       "      <td>1706.0</td>\n",
       "      <td>1701</td>\n",
       "      <td>US</td>\n",
       "      <td>33</td>\n",
       "      <td>NaN</td>\n",
       "      <td>77.0</td>\n",
       "      <td>...</td>\n",
       "      <td>NaN</td>\n",
       "      <td>5.0</td>\n",
       "      <td>9.0</td>\n",
       "      <td>EWR</td>\n",
       "      <td>PIT</td>\n",
       "      <td>319.0</td>\n",
       "      <td>NaN</td>\n",
       "      <td>NaN</td>\n",
       "      <td>0</td>\n",
       "      <td>0</td>\n",
       "    </tr>\n",
       "  </tbody>\n",
       "</table>\n",
       "<p>5 rows × 21 columns</p>\n",
       "</div>"
      ],
      "text/plain": [
       "        Date  DayOfWeek  DepTime  CRSDepTime  ArrTime  CRSArrTime  \\\n",
       "0 1990-01-01          1   1621.0        1540   1747.0        1701   \n",
       "1 1990-01-02          2   1547.0        1540   1700.0        1701   \n",
       "2 1990-01-03          3   1546.0        1540   1710.0        1701   \n",
       "3 1990-01-04          4   1542.0        1540   1710.0        1701   \n",
       "4 1990-01-05          5   1549.0        1540   1706.0        1701   \n",
       "\n",
       "  UniqueCarrier  FlightNum  TailNum  ActualElapsedTime  ...  AirTime  \\\n",
       "0            US         33      NaN               86.0  ...      NaN   \n",
       "1            US         33      NaN               73.0  ...      NaN   \n",
       "2            US         33      NaN               84.0  ...      NaN   \n",
       "3            US         33      NaN               88.0  ...      NaN   \n",
       "4            US         33      NaN               77.0  ...      NaN   \n",
       "\n",
       "   ArrDelay  DepDelay  Origin Dest Distance  TaxiIn  TaxiOut  Cancelled  \\\n",
       "0      46.0      41.0     EWR  PIT    319.0     NaN      NaN          0   \n",
       "1      -1.0       7.0     EWR  PIT    319.0     NaN      NaN          0   \n",
       "2       9.0       6.0     EWR  PIT    319.0     NaN      NaN          0   \n",
       "3       9.0       2.0     EWR  PIT    319.0     NaN      NaN          0   \n",
       "4       5.0       9.0     EWR  PIT    319.0     NaN      NaN          0   \n",
       "\n",
       "   Diverted  \n",
       "0         0  \n",
       "1         0  \n",
       "2         0  \n",
       "3         0  \n",
       "4         0  \n",
       "\n",
       "[5 rows x 21 columns]"
      ]
     },
     "execution_count": 7,
     "metadata": {},
     "output_type": "execute_result"
    }
   ],
   "source": [
    "ddf.head()"
   ]
  },
  {
   "cell_type": "markdown",
   "metadata": {
    "tags": [
     "raises-exception"
    ]
   },
   "source": [
    "```python\n",
    "ddf.tail()\n",
    "\n",
    "# ValueError: Mismatched dtypes found in `pd.read_csv`/`pd.read_table`.\n",
    "\n",
    "# +----------------+---------+----------+\n",
    "# | Column         | Found   | Expected |\n",
    "# +----------------+---------+----------+\n",
    "# | CRSElapsedTime | float64 | int64    |\n",
    "# | TailNum        | object  | float64  |\n",
    "# +----------------+---------+----------+\n",
    "\n",
    "# The following columns also raised exceptions on conversion:\n",
    "\n",
    "# - TailNum\n",
    "#   ValueError(\"could not convert string to float: 'N54711'\")\n",
    "\n",
    "# Usually this is due to dask's dtype inference failing, and\n",
    "# *may* be fixed by specifying dtypes manually by adding:\n",
    "\n",
    "# dtype={'CRSElapsedTime': 'float64',\n",
    "#        'TailNum': 'object'}\n",
    "\n",
    "# to the call to `read_csv`/`read_table`.\n",
    "\n",
    "```"
   ]
  },
  {
   "cell_type": "markdown",
   "metadata": {},
   "source": [
    "Unlike `pandas.read_csv` which reads in the entire file before inferring datatypes, `dask.dataframe.read_csv` only reads in a sample from the beginning of the file (or first file if using a glob). These inferred datatypes are then enforced when reading all partitions.\n",
    "\n",
    "In this case, the datatypes inferred in the sample are incorrect. The first `n` rows have no value for `CRSElapsedTime` (which pandas infers as a `float`), and later on turn out to be strings (`object` dtype). Note that Dask gives an informative error message about the mismatch. When this happens you have a few options:\n",
    "\n",
    "- Specify dtypes directly using the `dtype` keyword. This is the recommended solution, as it's the least error prone (better to be explicit than implicit) and also the most performant.\n",
    "- Increase the size of the `sample` keyword (in bytes)\n",
    "- Use `assume_missing` to make `dask` assume that columns inferred to be `int` (which don't allow missing values) are actually `floats` (which do allow missing values). In our particular case this doesn't apply.\n",
    "\n",
    "In our case we'll use the first option and directly specify the `dtypes` of the offending columns. "
   ]
  },
  {
   "cell_type": "code",
   "execution_count": 8,
   "metadata": {
    "execution": {
     "iopub.execute_input": "2022-08-15T20:28:14.086359Z",
     "iopub.status.busy": "2022-08-15T20:28:14.084909Z",
     "iopub.status.idle": "2022-08-15T20:28:14.099798Z",
     "shell.execute_reply": "2022-08-15T20:28:14.099097Z"
    }
   },
   "outputs": [],
   "source": [
    "ddf = dd.read_csv(os.path.join('data', 'nycflights', '*.csv'),\n",
    "                 parse_dates={'Date': [0, 1, 2]},\n",
    "                 dtype={'TailNum': str,\n",
    "                        'CRSElapsedTime': float,\n",
    "                        'Cancelled': bool})"
   ]
  },
  {
   "cell_type": "code",
   "execution_count": 9,
   "metadata": {
    "execution": {
     "iopub.execute_input": "2022-08-15T20:28:14.103550Z",
     "iopub.status.busy": "2022-08-15T20:28:14.103240Z",
     "iopub.status.idle": "2022-08-15T20:28:14.164669Z",
     "shell.execute_reply": "2022-08-15T20:28:14.163797Z"
    }
   },
   "outputs": [
    {
     "data": {
      "text/html": [
       "<div>\n",
       "<style scoped>\n",
       "    .dataframe tbody tr th:only-of-type {\n",
       "        vertical-align: middle;\n",
       "    }\n",
       "\n",
       "    .dataframe tbody tr th {\n",
       "        vertical-align: top;\n",
       "    }\n",
       "\n",
       "    .dataframe thead th {\n",
       "        text-align: right;\n",
       "    }\n",
       "</style>\n",
       "<table border=\"1\" class=\"dataframe\">\n",
       "  <thead>\n",
       "    <tr style=\"text-align: right;\">\n",
       "      <th></th>\n",
       "      <th>Date</th>\n",
       "      <th>DayOfWeek</th>\n",
       "      <th>DepTime</th>\n",
       "      <th>CRSDepTime</th>\n",
       "      <th>ArrTime</th>\n",
       "      <th>CRSArrTime</th>\n",
       "      <th>UniqueCarrier</th>\n",
       "      <th>FlightNum</th>\n",
       "      <th>TailNum</th>\n",
       "      <th>ActualElapsedTime</th>\n",
       "      <th>...</th>\n",
       "      <th>AirTime</th>\n",
       "      <th>ArrDelay</th>\n",
       "      <th>DepDelay</th>\n",
       "      <th>Origin</th>\n",
       "      <th>Dest</th>\n",
       "      <th>Distance</th>\n",
       "      <th>TaxiIn</th>\n",
       "      <th>TaxiOut</th>\n",
       "      <th>Cancelled</th>\n",
       "      <th>Diverted</th>\n",
       "    </tr>\n",
       "  </thead>\n",
       "  <tbody>\n",
       "    <tr>\n",
       "      <th>994</th>\n",
       "      <td>1999-01-25</td>\n",
       "      <td>1</td>\n",
       "      <td>632.0</td>\n",
       "      <td>635</td>\n",
       "      <td>803.0</td>\n",
       "      <td>817</td>\n",
       "      <td>CO</td>\n",
       "      <td>437</td>\n",
       "      <td>N27213</td>\n",
       "      <td>91.0</td>\n",
       "      <td>...</td>\n",
       "      <td>68.0</td>\n",
       "      <td>-14.0</td>\n",
       "      <td>-3.0</td>\n",
       "      <td>EWR</td>\n",
       "      <td>RDU</td>\n",
       "      <td>416.0</td>\n",
       "      <td>4.0</td>\n",
       "      <td>19.0</td>\n",
       "      <td>False</td>\n",
       "      <td>0</td>\n",
       "    </tr>\n",
       "    <tr>\n",
       "      <th>995</th>\n",
       "      <td>1999-01-26</td>\n",
       "      <td>2</td>\n",
       "      <td>632.0</td>\n",
       "      <td>635</td>\n",
       "      <td>751.0</td>\n",
       "      <td>817</td>\n",
       "      <td>CO</td>\n",
       "      <td>437</td>\n",
       "      <td>N16217</td>\n",
       "      <td>79.0</td>\n",
       "      <td>...</td>\n",
       "      <td>62.0</td>\n",
       "      <td>-26.0</td>\n",
       "      <td>-3.0</td>\n",
       "      <td>EWR</td>\n",
       "      <td>RDU</td>\n",
       "      <td>416.0</td>\n",
       "      <td>3.0</td>\n",
       "      <td>14.0</td>\n",
       "      <td>False</td>\n",
       "      <td>0</td>\n",
       "    </tr>\n",
       "    <tr>\n",
       "      <th>996</th>\n",
       "      <td>1999-01-27</td>\n",
       "      <td>3</td>\n",
       "      <td>631.0</td>\n",
       "      <td>635</td>\n",
       "      <td>756.0</td>\n",
       "      <td>817</td>\n",
       "      <td>CO</td>\n",
       "      <td>437</td>\n",
       "      <td>N12216</td>\n",
       "      <td>85.0</td>\n",
       "      <td>...</td>\n",
       "      <td>66.0</td>\n",
       "      <td>-21.0</td>\n",
       "      <td>-4.0</td>\n",
       "      <td>EWR</td>\n",
       "      <td>RDU</td>\n",
       "      <td>416.0</td>\n",
       "      <td>4.0</td>\n",
       "      <td>15.0</td>\n",
       "      <td>False</td>\n",
       "      <td>0</td>\n",
       "    </tr>\n",
       "    <tr>\n",
       "      <th>997</th>\n",
       "      <td>1999-01-28</td>\n",
       "      <td>4</td>\n",
       "      <td>629.0</td>\n",
       "      <td>635</td>\n",
       "      <td>803.0</td>\n",
       "      <td>817</td>\n",
       "      <td>CO</td>\n",
       "      <td>437</td>\n",
       "      <td>N26210</td>\n",
       "      <td>94.0</td>\n",
       "      <td>...</td>\n",
       "      <td>69.0</td>\n",
       "      <td>-14.0</td>\n",
       "      <td>-6.0</td>\n",
       "      <td>EWR</td>\n",
       "      <td>RDU</td>\n",
       "      <td>416.0</td>\n",
       "      <td>5.0</td>\n",
       "      <td>20.0</td>\n",
       "      <td>False</td>\n",
       "      <td>0</td>\n",
       "    </tr>\n",
       "    <tr>\n",
       "      <th>998</th>\n",
       "      <td>1999-01-29</td>\n",
       "      <td>5</td>\n",
       "      <td>632.0</td>\n",
       "      <td>635</td>\n",
       "      <td>802.0</td>\n",
       "      <td>817</td>\n",
       "      <td>CO</td>\n",
       "      <td>437</td>\n",
       "      <td>N12225</td>\n",
       "      <td>90.0</td>\n",
       "      <td>...</td>\n",
       "      <td>67.0</td>\n",
       "      <td>-15.0</td>\n",
       "      <td>-3.0</td>\n",
       "      <td>EWR</td>\n",
       "      <td>RDU</td>\n",
       "      <td>416.0</td>\n",
       "      <td>5.0</td>\n",
       "      <td>18.0</td>\n",
       "      <td>False</td>\n",
       "      <td>0</td>\n",
       "    </tr>\n",
       "  </tbody>\n",
       "</table>\n",
       "<p>5 rows × 21 columns</p>\n",
       "</div>"
      ],
      "text/plain": [
       "          Date  DayOfWeek  DepTime  CRSDepTime  ArrTime  CRSArrTime  \\\n",
       "994 1999-01-25          1    632.0         635    803.0         817   \n",
       "995 1999-01-26          2    632.0         635    751.0         817   \n",
       "996 1999-01-27          3    631.0         635    756.0         817   \n",
       "997 1999-01-28          4    629.0         635    803.0         817   \n",
       "998 1999-01-29          5    632.0         635    802.0         817   \n",
       "\n",
       "    UniqueCarrier  FlightNum TailNum  ActualElapsedTime  ...  AirTime  \\\n",
       "994            CO        437  N27213               91.0  ...     68.0   \n",
       "995            CO        437  N16217               79.0  ...     62.0   \n",
       "996            CO        437  N12216               85.0  ...     66.0   \n",
       "997            CO        437  N26210               94.0  ...     69.0   \n",
       "998            CO        437  N12225               90.0  ...     67.0   \n",
       "\n",
       "     ArrDelay  DepDelay  Origin Dest Distance  TaxiIn  TaxiOut  Cancelled  \\\n",
       "994     -14.0      -3.0     EWR  RDU    416.0     4.0     19.0      False   \n",
       "995     -26.0      -3.0     EWR  RDU    416.0     3.0     14.0      False   \n",
       "996     -21.0      -4.0     EWR  RDU    416.0     4.0     15.0      False   \n",
       "997     -14.0      -6.0     EWR  RDU    416.0     5.0     20.0      False   \n",
       "998     -15.0      -3.0     EWR  RDU    416.0     5.0     18.0      False   \n",
       "\n",
       "     Diverted  \n",
       "994         0  \n",
       "995         0  \n",
       "996         0  \n",
       "997         0  \n",
       "998         0  \n",
       "\n",
       "[5 rows x 21 columns]"
      ]
     },
     "execution_count": 9,
     "metadata": {},
     "output_type": "execute_result"
    }
   ],
   "source": [
    "ddf.tail()  # now works"
   ]
  },
  {
   "cell_type": "markdown",
   "metadata": {},
   "source": [
    "### Reading from remote storage\n",
    "\n",
    "If you're thinking about distributed computing, your data is probably stored remotely on services (like Amazon's S3 or Google's cloud storage) and is in a friendlier format (like Parquet). Dask can read data in various formats directly from these remote locations **lazily** and **in parallel**.\n",
    "\n",
    "Here's how you can read the NYC taxi cab data from Amazon S3:\n",
    "\n",
    "```python\n",
    "ddf = dd.read_parquet(\n",
    "    \"s3://nyc-tlc/trip data/yellow_tripdata_2012-*.parquet\",\n",
    ")\n",
    "```\n",
    "\n",
    "You can also leverage Parquet-specific optimizations like column selection and metadata handling, learn more in [the Dask documentation on working with Parquet files](https://docs.dask.org/en/stable/dataframe-parquet.html)."
   ]
  },
  {
   "cell_type": "markdown",
   "metadata": {
    "tags": []
   },
   "source": [
    "## Computations with `dask.dataframe`\n",
    "\n",
    "Let's compute the maximum of the flight delay.\n",
    "\n",
    "With just pandas, we would loop over each file to find the individual maximums, then find the final maximum over all the individual maximums.\n",
    "\n",
    "```python\n",
    "import pandas as pd\n",
    "\n",
    "files = os.listdir(os.path.join('data', 'nycflights'))\n",
    "\n",
    "maxes = []\n",
    "\n",
    "for file in files:\n",
    "    df = pd.read_csv(os.path.join('data', 'nycflights', file))\n",
    "    maxes.append(df.DepDelay.max())\n",
    "    \n",
    "final_max = max(maxes)\n",
    "```\n",
    "\n",
    "`dask.dataframe` lets us write pandas-like code, that operates on larger-than-memory datasets in parallel."
   ]
  },
  {
   "cell_type": "code",
   "execution_count": 10,
   "metadata": {
    "execution": {
     "iopub.execute_input": "2022-08-15T20:28:14.168269Z",
     "iopub.status.busy": "2022-08-15T20:28:14.168015Z",
     "iopub.status.idle": "2022-08-15T20:28:14.260471Z",
     "shell.execute_reply": "2022-08-15T20:28:14.259771Z"
    }
   },
   "outputs": [
    {
     "name": "stdout",
     "output_type": "stream",
     "text": [
      "CPU times: user 25.5 ms, sys: 0 ns, total: 25.5 ms\n",
      "Wall time: 83.6 ms\n"
     ]
    },
    {
     "data": {
      "text/plain": [
       "409.0"
      ]
     },
     "execution_count": 10,
     "metadata": {},
     "output_type": "execute_result"
    }
   ],
   "source": [
    "%%time\n",
    "result = ddf.DepDelay.max()\n",
    "result.compute()"
   ]
  },
  {
   "cell_type": "markdown",
   "metadata": {},
   "source": [
    "This creates the lazy computation for us and then runs it.  "
   ]
  },
  {
   "cell_type": "markdown",
   "metadata": {},
   "source": [
    "**Note:** Dask will delete intermediate results (like the full pandas DataFrame for each file) as soon as possible. This means you can handle datasets that are larger than memory but, repeated computations will have to load all of the data in each time. (Run the code above again, is it faster or slower than you would expect?)"
   ]
  },
  {
   "cell_type": "markdown",
   "metadata": {},
   "source": [
    "You can view the underlying task graph using `.visualize()`:"
   ]
  },
  {
   "cell_type": "code",
   "execution_count": 11,
   "metadata": {
    "execution": {
     "iopub.execute_input": "2022-08-15T20:28:14.264278Z",
     "iopub.status.busy": "2022-08-15T20:28:14.263810Z",
     "iopub.status.idle": "2022-08-15T20:28:14.577527Z",
     "shell.execute_reply": "2022-08-15T20:28:14.576639Z"
    }
   },
   "outputs": [
    {
     "data": {
      "image/png": "[encoded data removed]",
      "text/plain": [
       "<IPython.core.display.Image object>"
      ]
     },
     "execution_count": 11,
     "metadata": {},
     "output_type": "execute_result"
    }
   ],
   "source": [
    "# notice the parallelism\n",
    "result.visualize()"
   ]
  },
  {
   "cell_type": "markdown",
   "metadata": {},
   "source": [
    "## Exercises\n",
    "\n",
    "In this section you will do a few `dask.dataframe` computations. If you are comfortable with pandas then these should be familiar. You will have to think about when to call `.compute()`."
   ]
  },
  {
   "cell_type": "markdown",
   "metadata": {},
   "source": [
    "### 1. How many rows are in our dataset?\n",
    "\n",
    "_Hint_: how would you check how many items are in a list?"
   ]
  },
  {
   "cell_type": "code",
   "execution_count": 12,
   "metadata": {
    "execution": {
     "iopub.execute_input": "2022-08-15T20:28:14.581723Z",
     "iopub.status.busy": "2022-08-15T20:28:14.581342Z",
     "iopub.status.idle": "2022-08-15T20:28:14.585464Z",
     "shell.execute_reply": "2022-08-15T20:28:14.584881Z"
    }
   },
   "outputs": [],
   "source": [
    "# Your code here"
   ]
  },
  {
   "cell_type": "code",
   "execution_count": 13,
   "metadata": {
    "execution": {
     "iopub.execute_input": "2022-08-15T20:28:14.588636Z",
     "iopub.status.busy": "2022-08-15T20:28:14.588150Z",
     "iopub.status.idle": "2022-08-15T20:28:14.684289Z",
     "shell.execute_reply": "2022-08-15T20:28:14.683517Z"
    },
    "jupyter": {
     "source_hidden": true
    },
    "tags": []
   },
   "outputs": [
    {
     "data": {
      "text/plain": [
       "9990"
      ]
     },
     "execution_count": 13,
     "metadata": {},
     "output_type": "execute_result"
    }
   ],
   "source": [
    "len(ddf)"
   ]
  },
  {
   "cell_type": "markdown",
   "metadata": {},
   "source": [
    "### 2. In total, how many non-canceled flights were taken?\n",
    "\n",
    "_Hint_: use [boolean indexing](https://pandas.pydata.org/pandas-docs/stable/indexing.html#boolean-indexing)."
   ]
  },
  {
   "cell_type": "code",
   "execution_count": 14,
   "metadata": {
    "execution": {
     "iopub.execute_input": "2022-08-15T20:28:14.688179Z",
     "iopub.status.busy": "2022-08-15T20:28:14.687929Z",
     "iopub.status.idle": "2022-08-15T20:28:14.691371Z",
     "shell.execute_reply": "2022-08-15T20:28:14.690660Z"
    }
   },
   "outputs": [],
   "source": [
    "# Your code here"
   ]
  },
  {
   "cell_type": "code",
   "execution_count": 15,
   "metadata": {
    "execution": {
     "iopub.execute_input": "2022-08-15T20:28:14.694821Z",
     "iopub.status.busy": "2022-08-15T20:28:14.694334Z",
     "iopub.status.idle": "2022-08-15T20:28:14.792898Z",
     "shell.execute_reply": "2022-08-15T20:28:14.791892Z"
    },
    "jupyter": {
     "source_hidden": true
    },
    "tags": []
   },
   "outputs": [
    {
     "data": {
      "text/plain": [
       "9383"
      ]
     },
     "execution_count": 15,
     "metadata": {},
     "output_type": "execute_result"
    }
   ],
   "source": [
    "len(ddf[~ddf.Cancelled])"
   ]
  },
  {
   "cell_type": "markdown",
   "metadata": {},
   "source": [
    "### 3. In total, how many non-canceled flights were taken from each airport?\n",
    "\n",
    "*Hint*: use [groupby](https://pandas.pydata.org/pandas-docs/stable/groupby.html)."
   ]
  },
  {
   "cell_type": "code",
   "execution_count": 16,
   "metadata": {
    "execution": {
     "iopub.execute_input": "2022-08-15T20:28:14.798125Z",
     "iopub.status.busy": "2022-08-15T20:28:14.797337Z",
     "iopub.status.idle": "2022-08-15T20:28:14.801367Z",
     "shell.execute_reply": "2022-08-15T20:28:14.800483Z"
    }
   },
   "outputs": [],
   "source": [
    "# Your code here"
   ]
  },
  {
   "cell_type": "code",
   "execution_count": 17,
   "metadata": {
    "execution": {
     "iopub.execute_input": "2022-08-15T20:28:14.804519Z",
     "iopub.status.busy": "2022-08-15T20:28:14.804262Z",
     "iopub.status.idle": "2022-08-15T20:28:14.938345Z",
     "shell.execute_reply": "2022-08-15T20:28:14.937720Z"
    },
    "jupyter": {
     "source_hidden": true
    },
    "tags": []
   },
   "outputs": [
    {
     "data": {
      "text/plain": [
       "Origin\n",
       "EWR    4132\n",
       "JFK    1085\n",
       "LGA    4166\n",
       "Name: Origin, dtype: int64"
      ]
     },
     "execution_count": 17,
     "metadata": {},
     "output_type": "execute_result"
    }
   ],
   "source": [
    "ddf[~ddf.Cancelled].groupby('Origin').Origin.count().compute()"
   ]
  },
  {
   "cell_type": "markdown",
   "metadata": {},
   "source": [
    "### 4. What was the average departure delay from each airport?"
   ]
  },
  {
   "cell_type": "code",
   "execution_count": 18,
   "metadata": {
    "execution": {
     "iopub.execute_input": "2022-08-15T20:28:14.943849Z",
     "iopub.status.busy": "2022-08-15T20:28:14.942176Z",
     "iopub.status.idle": "2022-08-15T20:28:14.947224Z",
     "shell.execute_reply": "2022-08-15T20:28:14.946594Z"
    }
   },
   "outputs": [],
   "source": [
    "# Your code here"
   ]
  },
  {
   "cell_type": "code",
   "execution_count": 19,
   "metadata": {
    "execution": {
     "iopub.execute_input": "2022-08-15T20:28:14.950493Z",
     "iopub.status.busy": "2022-08-15T20:28:14.949846Z",
     "iopub.status.idle": "2022-08-15T20:28:15.215739Z",
     "shell.execute_reply": "2022-08-15T20:28:15.214912Z"
    },
    "jupyter": {
     "source_hidden": true
    },
    "tags": []
   },
   "outputs": [
    {
     "data": {
      "text/plain": [
       "Origin\n",
       "EWR    12.500968\n",
       "JFK    17.053456\n",
       "LGA    10.169227\n",
       "Name: DepDelay, dtype: float64"
      ]
     },
     "execution_count": 19,
     "metadata": {},
     "output_type": "execute_result"
    }
   ],
   "source": [
    "ddf.groupby(\"Origin\").DepDelay.mean().compute()"
   ]
  },
  {
   "cell_type": "markdown",
   "metadata": {},
   "source": [
    "### 5. What day of the week has the worst average departure delay?"
   ]
  },
  {
   "cell_type": "code",
   "execution_count": 20,
   "metadata": {
    "execution": {
     "iopub.execute_input": "2022-08-15T20:28:15.220687Z",
     "iopub.status.busy": "2022-08-15T20:28:15.219287Z",
     "iopub.status.idle": "2022-08-15T20:28:15.224248Z",
     "shell.execute_reply": "2022-08-15T20:28:15.223606Z"
    }
   },
   "outputs": [],
   "source": [
    "# Your code here"
   ]
  },
  {
   "cell_type": "code",
   "execution_count": 21,
   "metadata": {
    "execution": {
     "iopub.execute_input": "2022-08-15T20:28:15.227485Z",
     "iopub.status.busy": "2022-08-15T20:28:15.227009Z",
     "iopub.status.idle": "2022-08-15T20:28:15.479918Z",
     "shell.execute_reply": "2022-08-15T20:28:15.478744Z"
    },
    "jupyter": {
     "source_hidden": true
    },
    "tags": []
   },
   "outputs": [
    {
     "data": {
      "text/plain": [
       "5"
      ]
     },
     "execution_count": 21,
     "metadata": {},
     "output_type": "execute_result"
    }
   ],
   "source": [
    "ddf.groupby(\"DayOfWeek\").DepDelay.mean().idxmax().compute()"
   ]
  },
  {
   "cell_type": "markdown",
   "metadata": {},
   "source": [
    "### 6. Let's say the distance column is erroneous and you need to add 1 to all values, how would you do this?"
   ]
  },
  {
   "cell_type": "code",
   "execution_count": 22,
   "metadata": {
    "execution": {
     "iopub.execute_input": "2022-08-15T20:28:15.484465Z",
     "iopub.status.busy": "2022-08-15T20:28:15.483710Z",
     "iopub.status.idle": "2022-08-15T20:28:15.487507Z",
     "shell.execute_reply": "2022-08-15T20:28:15.486801Z"
    }
   },
   "outputs": [],
   "source": [
    "# Your code here"
   ]
  },
  {
   "cell_type": "code",
   "execution_count": 23,
   "metadata": {
    "execution": {
     "iopub.execute_input": "2022-08-15T20:28:15.490993Z",
     "iopub.status.busy": "2022-08-15T20:28:15.490513Z",
     "iopub.status.idle": "2022-08-15T20:28:15.673781Z",
     "shell.execute_reply": "2022-08-15T20:28:15.673154Z"
    },
    "jupyter": {
     "source_hidden": true
    },
    "tags": []
   },
   "outputs": [
    {
     "name": "stderr",
     "output_type": "stream",
     "text": [
      "/usr/share/miniconda3/envs/dask-tutorial/lib/python3.9/site-packages/dask/dataframe/core.py:3974: UserWarning: \n",
      "You did not provide metadata, so Dask is running your function on a small dataset to guess output types. It is possible that Dask will guess incorrectly.\n",
      "To provide an explicit output types or to silence this message, please provide the `meta=` keyword, as described in the map or apply function that you are using.\n",
      "  Before: .apply(func)\n",
      "  After:  .apply(func, meta=('Distance', 'float64'))\n",
      "\n",
      "  warnings.warn(meta_warning(meta))\n"
     ]
    },
    {
     "data": {
      "text/plain": [
       "0      320.0\n",
       "1      320.0\n",
       "2      320.0\n",
       "3      320.0\n",
       "4      320.0\n",
       "       ...  \n",
       "994    417.0\n",
       "995    417.0\n",
       "996    417.0\n",
       "997    417.0\n",
       "998    417.0\n",
       "Name: Distance, Length: 9990, dtype: float64"
      ]
     },
     "execution_count": 23,
     "metadata": {},
     "output_type": "execute_result"
    }
   ],
   "source": [
    "ddf[\"Distance\"].apply(lambda x: x+1).compute() # don't worry about the warning, we'll discuss in the next sections\n",
    "\n",
    "# OR\n",
    "\n",
    "(ddf[\"Distance\"] + 1).compute()"
   ]
  },
  {
   "cell_type": "markdown",
   "metadata": {},
   "source": [
    "## Sharing Intermediate Results\n",
    "\n",
    "When computing all of the above, we sometimes did the same operation more than once. For most operations, `dask.dataframe` stores the arguments, allowing duplicate computations to be shared and only computed once.\n",
    "\n",
    "For example, let's compute the mean and standard deviation for departure delay of all non-canceled flights. Since Dask operations are lazy, those values aren't the final results yet. They're just the steps required to get the result.\n",
    "\n",
    "If you compute them with two calls to compute, there is no sharing of intermediate computations."
   ]
  },
  {
   "cell_type": "code",
   "execution_count": 24,
   "metadata": {
    "execution": {
     "iopub.execute_input": "2022-08-15T20:28:15.679922Z",
     "iopub.status.busy": "2022-08-15T20:28:15.678757Z",
     "iopub.status.idle": "2022-08-15T20:28:15.693876Z",
     "shell.execute_reply": "2022-08-15T20:28:15.693127Z"
    }
   },
   "outputs": [],
   "source": [
    "non_canceled = ddf[~ddf.Cancelled]\n",
    "mean_delay = non_canceled.DepDelay.mean()\n",
    "std_delay = non_canceled.DepDelay.std()"
   ]
  },
  {
   "cell_type": "code",
   "execution_count": 25,
   "metadata": {
    "execution": {
     "iopub.execute_input": "2022-08-15T20:28:15.697355Z",
     "iopub.status.busy": "2022-08-15T20:28:15.696957Z",
     "iopub.status.idle": "2022-08-15T20:28:15.928079Z",
     "shell.execute_reply": "2022-08-15T20:28:15.925921Z"
    },
    "tags": []
   },
   "outputs": [
    {
     "name": "stdout",
     "output_type": "stream",
     "text": [
      "CPU times: user 79 ms, sys: 9.16 ms, total: 88.2 ms\n",
      "Wall time: 225 ms\n"
     ]
    }
   ],
   "source": [
    "%%time\n",
    "\n",
    "mean_delay_res = mean_delay.compute()\n",
    "std_delay_res = std_delay.compute()"
   ]
  },
  {
   "cell_type": "markdown",
   "metadata": {},
   "source": [
    "### `dask.compute`"
   ]
  },
  {
   "cell_type": "markdown",
   "metadata": {},
   "source": [
    "But let's try by passing both to a single `compute` call."
   ]
  },
  {
   "cell_type": "code",
   "execution_count": 26,
   "metadata": {
    "execution": {
     "iopub.execute_input": "2022-08-15T20:28:15.931961Z",
     "iopub.status.busy": "2022-08-15T20:28:15.931491Z",
     "iopub.status.idle": "2022-08-15T20:28:16.093744Z",
     "shell.execute_reply": "2022-08-15T20:28:16.091858Z"
    },
    "tags": []
   },
   "outputs": [
    {
     "name": "stdout",
     "output_type": "stream",
     "text": [
      "CPU times: user 59.4 ms, sys: 199 µs, total: 59.6 ms\n",
      "Wall time: 154 ms\n"
     ]
    }
   ],
   "source": [
    "%%time\n",
    "\n",
    "mean_delay_res, std_delay_res = dask.compute(mean_delay, std_delay)"
   ]
  },
  {
   "cell_type": "markdown",
   "metadata": {},
   "source": [
    "Using `dask.compute` takes roughly 1/2 the time. This is because the task graphs for both results are merged when calling `dask.compute`, allowing shared operations to only be done once instead of twice. In particular, using `dask.compute` only does the following once:\n",
    "\n",
    "- the calls to `read_csv`\n",
    "- the filter (`df[~df.Cancelled]`)\n",
    "- some of the necessary reductions (`sum`, `count`)"
   ]
  },
  {
   "cell_type": "markdown",
   "metadata": {},
   "source": [
    "To see what the merged task graphs between multiple results look like (and what's shared), you can use the `dask.visualize` function (you might want to use `filename='graph.pdf'` to save the graph to disk so that you can zoom in more easily):"
   ]
  },
  {
   "cell_type": "code",
   "execution_count": 27,
   "metadata": {
    "execution": {
     "iopub.execute_input": "2022-08-15T20:28:16.098077Z",
     "iopub.status.busy": "2022-08-15T20:28:16.097567Z",
     "iopub.status.idle": "2022-08-15T20:28:17.402548Z",
     "shell.execute_reply": "2022-08-15T20:28:17.400628Z"
    }
   },
   "outputs": [
    {
     "data": {
      "application/vnd.jupyter.widget-view+json": {
       "model_id": "8a605f7a255b491bbec2395557853046",
       "version_major": 2,
       "version_minor": 0
      },
      "text/plain": [
       "CytoscapeWidget(cytoscape_layout={'name': 'dagre', 'rankDir': 'BT', 'nodeSep': 10, 'edgeSep': 10, 'spacingFact…"
      ]
     },
     "metadata": {},
     "output_type": "display_data"
    }
   ],
   "source": [
    "dask.visualize(mean_delay, std_delay, engine=\"cytoscape\")"
   ]
  },
  {
   "cell_type": "markdown",
   "metadata": {
    "tags": []
   },
   "source": [
    "### `.persist()`\n",
    "\n",
    "While using a distributed scheduler (you will learn more about schedulers in the upcoming notebooks), you can keep some _data that you want to use often_ in the _distributed memory_. \n",
    "\n",
    "`persist` generates \"Futures\" (more on this later as well) and stores them in the same structure as your output. You can use `persist` with any data or computation that fits in memory."
   ]
  },
  {
   "cell_type": "markdown",
   "metadata": {},
   "source": [
    "If you want to analyze data only for non-canceled flights departing from JFK airport, you can either have two compute calls like in the previous section:"
   ]
  },
  {
   "cell_type": "code",
   "execution_count": 28,
   "metadata": {
    "execution": {
     "iopub.execute_input": "2022-08-15T20:28:17.407509Z",
     "iopub.status.busy": "2022-08-15T20:28:17.406845Z",
     "iopub.status.idle": "2022-08-15T20:28:17.414465Z",
     "shell.execute_reply": "2022-08-15T20:28:17.413776Z"
    }
   },
   "outputs": [],
   "source": [
    "non_cancelled = ddf[~ddf.Cancelled]\n",
    "ddf_jfk = non_cancelled[non_cancelled.Origin == \"JFK\"]"
   ]
  },
  {
   "cell_type": "code",
   "execution_count": 29,
   "metadata": {
    "execution": {
     "iopub.execute_input": "2022-08-15T20:28:17.417762Z",
     "iopub.status.busy": "2022-08-15T20:28:17.417344Z",
     "iopub.status.idle": "2022-08-15T20:28:17.670291Z",
     "shell.execute_reply": "2022-08-15T20:28:17.669180Z"
    }
   },
   "outputs": [
    {
     "name": "stdout",
     "output_type": "stream",
     "text": [
      "CPU times: user 81.2 ms, sys: 14.8 ms, total: 96.1 ms\n",
      "Wall time: 243 ms\n"
     ]
    },
    {
     "data": {
      "text/plain": [
       "18503.0"
      ]
     },
     "execution_count": 29,
     "metadata": {},
     "output_type": "execute_result"
    }
   ],
   "source": [
    "%%time\n",
    "ddf_jfk.DepDelay.mean().compute()\n",
    "ddf_jfk.DepDelay.sum().compute()"
   ]
  },
  {
   "cell_type": "markdown",
   "metadata": {},
   "source": [
    "Or, consider persisting that subset of data in memory.\n",
    "\n",
    "See the \"Graph\" dashboard plot, the red squares indicate persisted data stored as Futures in memory. You will also notice an increase in Worker Memory (another dashboard plot) consumption."
   ]
  },
  {
   "cell_type": "code",
   "execution_count": 30,
   "metadata": {
    "execution": {
     "iopub.execute_input": "2022-08-15T20:28:17.674336Z",
     "iopub.status.busy": "2022-08-15T20:28:17.673865Z",
     "iopub.status.idle": "2022-08-15T20:28:17.715996Z",
     "shell.execute_reply": "2022-08-15T20:28:17.714034Z"
    }
   },
   "outputs": [],
   "source": [
    "ddf_jfk = ddf_jfk.persist() # returns back control immediately"
   ]
  },
  {
   "cell_type": "code",
   "execution_count": 31,
   "metadata": {
    "execution": {
     "iopub.execute_input": "2022-08-15T20:28:17.719863Z",
     "iopub.status.busy": "2022-08-15T20:28:17.719579Z",
     "iopub.status.idle": "2022-08-15T20:28:17.993318Z",
     "shell.execute_reply": "2022-08-15T20:28:17.991585Z"
    }
   },
   "outputs": [
    {
     "name": "stdout",
     "output_type": "stream",
     "text": [
      "CPU times: user 177 ms, sys: 9.1 ms, total: 187 ms\n",
      "Wall time: 265 ms\n"
     ]
    },
    {
     "data": {
      "text/plain": [
       "36.85799641792652"
      ]
     },
     "execution_count": 31,
     "metadata": {},
     "output_type": "execute_result"
    }
   ],
   "source": [
    "%%time\n",
    "ddf_jfk.DepDelay.mean().compute()\n",
    "ddf_jfk.DepDelay.std().compute()"
   ]
  },
  {
   "cell_type": "markdown",
   "metadata": {},
   "source": [
    "Analyses on this persisted data is faster because we are not repeating the loading and selecting (non-canceled, JFK departure) operations."
   ]
  },
  {
   "cell_type": "markdown",
   "metadata": {},
   "source": [
    "## Custom code with Dask DataFrame\n",
    "\n",
    "`dask.dataframe` only covers a small but well-used portion of the pandas API.\n",
    "\n",
    "This limitation is for two reasons:\n",
    "\n",
    "1.  The Pandas API is *huge*\n",
    "2.  Some operations are genuinely hard to do in parallel, e.g, sorting.\n",
    "\n",
    "Additionally, some important operations like `set_index` work, but are slower than in pandas because they include substantial shuffling of data, and may write out to disk.\n",
    "\n",
    "**What if you want to use some custom functions that aren't (or can't be) implemented for Dask DataFrame yet?**\n",
    "\n",
    "You can open an issue on the [Dask issue tracker](https://github.com/dask/dask/issues) to check how feasible the function could be to implement, and you can consider contributing this function to Dask.\n",
    "\n",
    "In case it's a custom function or tricky to implement, `dask.dataframe` provides a few methods to make applying custom functions to Dask DataFrames easier:\n",
    "\n",
    "- [`map_partitions`](https://docs.dask.org/en/latest/generated/dask.dataframe.DataFrame.map_partitions.html): to run a function on each partition (each pandas DataFrame) of the Dask DataFrame\n",
    "- [`map_overlap`](https://docs.dask.org/en/latest/generated/dask.dataframe.rolling.map_overlap.html): to run a function on each partition (each pandas DataFrame) of the Dask DataFrame, with some rows shared between neighboring partitions\n",
    "- [`reduction`](https://docs.dask.org/en/latest/generated/dask.dataframe.Series.reduction.html): for custom row-wise reduction operations."
   ]
  },
  {
   "cell_type": "markdown",
   "metadata": {},
   "source": [
    "Let's take a quick look at the `map_partitions()` function:"
   ]
  },
  {
   "cell_type": "code",
   "execution_count": 32,
   "metadata": {
    "execution": {
     "iopub.execute_input": "2022-08-15T20:28:17.998096Z",
     "iopub.status.busy": "2022-08-15T20:28:17.996719Z",
     "iopub.status.idle": "2022-08-15T20:28:18.003850Z",
     "shell.execute_reply": "2022-08-15T20:28:18.003054Z"
    },
    "tags": []
   },
   "outputs": [
    {
     "name": "stdout",
     "output_type": "stream",
     "text": [
      "Help on method map_partitions in module dask.dataframe.core:\n",
      "\n",
      "map_partitions(func, *args, **kwargs) method of dask.dataframe.core.DataFrame instance\n",
      "    Apply Python function on each DataFrame partition.\n",
      "    \n",
      "    Note that the index and divisions are assumed to remain unchanged.\n",
      "    \n",
      "    Parameters\n",
      "    ----------\n",
      "    func : function\n",
      "        The function applied to each partition. If this function accepts\n",
      "        the special ``partition_info`` keyword argument, it will receive\n",
      "        information on the partition's relative location within the\n",
      "        dataframe.\n",
      "    args, kwargs :\n",
      "        Positional and keyword arguments to pass to the function.\n",
      "        Positional arguments are computed on a per-partition basis, while\n",
      "        keyword arguments are shared across all partitions. The partition\n",
      "        itself will be the first positional argument, with all other\n",
      "        arguments passed *after*. Arguments can be ``Scalar``, ``Delayed``,\n",
      "        or regular Python objects. DataFrame-like args (both dask and\n",
      "        pandas) will be repartitioned to align (if necessary) before\n",
      "        applying the function; see ``align_dataframes`` to control this\n",
      "        behavior.\n",
      "    enforce_metadata : bool, default True\n",
      "        Whether to enforce at runtime that the structure of the DataFrame\n",
      "        produced by ``func`` actually matches the structure of ``meta``.\n",
      "        This will rename and reorder columns for each partition,\n",
      "        and will raise an error if this doesn't work or types don't match.\n",
      "    transform_divisions : bool, default True\n",
      "        Whether to apply the function onto the divisions and apply those\n",
      "        transformed divisions to the output.\n",
      "    align_dataframes : bool, default True\n",
      "        Whether to repartition DataFrame- or Series-like args\n",
      "        (both dask and pandas) so their divisions align before applying\n",
      "        the function. This requires all inputs to have known divisions.\n",
      "        Single-partition inputs will be split into multiple partitions.\n",
      "    \n",
      "        If False, all inputs must have either the same number of partitions\n",
      "        or a single partition. Single-partition inputs will be broadcast to\n",
      "        every partition of multi-partition inputs.\n",
      "    meta : pd.DataFrame, pd.Series, dict, iterable, tuple, optional\n",
      "        An empty ``pd.DataFrame`` or ``pd.Series`` that matches the dtypes\n",
      "        and column names of the output. This metadata is necessary for\n",
      "        many algorithms in dask dataframe to work.  For ease of use, some\n",
      "        alternative inputs are also available. Instead of a ``DataFrame``,\n",
      "        a ``dict`` of ``{name: dtype}`` or iterable of ``(name, dtype)``\n",
      "        can be provided (note that the order of the names should match the\n",
      "        order of the columns). Instead of a series, a tuple of ``(name,\n",
      "        dtype)`` can be used. If not provided, dask will try to infer the\n",
      "        metadata. This may lead to unexpected results, so providing\n",
      "        ``meta`` is recommended. For more information, see\n",
      "        ``dask.dataframe.utils.make_meta``.\n",
      "    \n",
      "    Examples\n",
      "    --------\n",
      "    Given a DataFrame, Series, or Index, such as:\n",
      "    \n",
      "    >>> import pandas as pd\n",
      "    >>> import dask.dataframe as dd\n",
      "    >>> df = pd.DataFrame({'x': [1, 2, 3, 4, 5],\n",
      "    ...                    'y': [1., 2., 3., 4., 5.]})\n",
      "    >>> ddf = dd.from_pandas(df, npartitions=2)\n",
      "    \n",
      "    One can use ``map_partitions`` to apply a function on each partition.\n",
      "    Extra arguments and keywords can optionally be provided, and will be\n",
      "    passed to the function after the partition.\n",
      "    \n",
      "    Here we apply a function with arguments and keywords to a DataFrame,\n",
      "    resulting in a Series:\n",
      "    \n",
      "    >>> def myadd(df, a, b=1):\n",
      "    ...     return df.x + df.y + a + b\n",
      "    >>> res = ddf.map_partitions(myadd, 1, b=2)\n",
      "    >>> res.dtype\n",
      "    dtype('float64')\n",
      "    \n",
      "    Here we apply a function to a Series resulting in a Series:\n",
      "    \n",
      "    >>> res = ddf.x.map_partitions(lambda x: len(x)) # ddf.x is a Dask Series Structure\n",
      "    >>> res.dtype\n",
      "    dtype('int64')\n",
      "    \n",
      "    By default, dask tries to infer the output metadata by running your\n",
      "    provided function on some fake data. This works well in many cases, but\n",
      "    can sometimes be expensive, or even fail. To avoid this, you can\n",
      "    manually specify the output metadata with the ``meta`` keyword. This\n",
      "    can be specified in many forms, for more information see\n",
      "    ``dask.dataframe.utils.make_meta``.\n",
      "    \n",
      "    Here we specify the output is a Series with no name, and dtype\n",
      "    ``float64``:\n",
      "    \n",
      "    >>> res = ddf.map_partitions(myadd, 1, b=2, meta=(None, 'f8'))\n",
      "    \n",
      "    Here we map a function that takes in a DataFrame, and returns a\n",
      "    DataFrame with a new column:\n",
      "    \n",
      "    >>> res = ddf.map_partitions(lambda df: df.assign(z=df.x * df.y))\n",
      "    >>> res.dtypes\n",
      "    x      int64\n",
      "    y    float64\n",
      "    z    float64\n",
      "    dtype: object\n",
      "    \n",
      "    As before, the output metadata can also be specified manually. This\n",
      "    time we pass in a ``dict``, as the output is a DataFrame:\n",
      "    \n",
      "    >>> res = ddf.map_partitions(lambda df: df.assign(z=df.x * df.y),\n",
      "    ...                          meta={'x': 'i8', 'y': 'f8', 'z': 'f8'})\n",
      "    \n",
      "    In the case where the metadata doesn't change, you can also pass in\n",
      "    the object itself directly:\n",
      "    \n",
      "    >>> res = ddf.map_partitions(lambda df: df.head(), meta=ddf)\n",
      "    \n",
      "    Also note that the index and divisions are assumed to remain unchanged.\n",
      "    If the function you're mapping changes the index/divisions, you'll need\n",
      "    to clear them afterwards:\n",
      "    \n",
      "    >>> ddf.map_partitions(func).clear_divisions()  # doctest: +SKIP\n",
      "    \n",
      "    Your map function gets information about where it is in the dataframe by\n",
      "    accepting a special ``partition_info`` keyword argument.\n",
      "    \n",
      "    >>> def func(partition, partition_info=None):\n",
      "    ...     pass\n",
      "    \n",
      "    This will receive the following information:\n",
      "    \n",
      "    >>> partition_info  # doctest: +SKIP\n",
      "    {'number': 1, 'division': 3}\n",
      "    \n",
      "    For each argument and keyword arguments that are dask dataframes you will\n",
      "    receive the number (n) which represents the nth partition of the dataframe\n",
      "    and the division (the first index value in the partition). If divisions\n",
      "    are not known (for instance if the index is not sorted) then you will get\n",
      "    None as the division.\n",
      "\n"
     ]
    }
   ],
   "source": [
    "help(ddf.map_partitions)"
   ]
  },
  {
   "cell_type": "markdown",
   "metadata": {},
   "source": [
    "The \"Distance\" column in `ddf` is currently in miles. Let's say we want to convert the units to kilometers and we have a general helper function as shown below. In this case, we can use `map_partitions` to apply this function across each of the internal pandas `DataFrame`s in parallel. "
   ]
  },
  {
   "cell_type": "code",
   "execution_count": 33,
   "metadata": {
    "execution": {
     "iopub.execute_input": "2022-08-15T20:28:18.006965Z",
     "iopub.status.busy": "2022-08-15T20:28:18.006730Z",
     "iopub.status.idle": "2022-08-15T20:28:18.012280Z",
     "shell.execute_reply": "2022-08-15T20:28:18.011493Z"
    }
   },
   "outputs": [],
   "source": [
    "def my_custom_converter(df, multiplier=1):\n",
    "    return df * multiplier\n",
    "\n",
    "meta = pd.Series(name=\"Distance\", dtype=\"float64\")\n",
    "\n",
    "distance_km = ddf.Distance.map_partitions(my_custom_converter, multiplier=0.6, meta=meta)"
   ]
  },
  {
   "cell_type": "code",
   "execution_count": 34,
   "metadata": {
    "execution": {
     "iopub.execute_input": "2022-08-15T20:28:18.016162Z",
     "iopub.status.busy": "2022-08-15T20:28:18.015621Z",
     "iopub.status.idle": "2022-08-15T20:28:18.228250Z",
     "shell.execute_reply": "2022-08-15T20:28:18.227358Z"
    }
   },
   "outputs": [
    {
     "data": {
      "image/png": "[encoded data removed]",
      "text/plain": [
       "<IPython.core.display.Image object>"
      ]
     },
     "execution_count": 34,
     "metadata": {},
     "output_type": "execute_result"
    }
   ],
   "source": [
    "distance_km.visualize()"
   ]
  },
  {
   "cell_type": "code",
   "execution_count": 35,
   "metadata": {
    "execution": {
     "iopub.execute_input": "2022-08-15T20:28:18.232129Z",
     "iopub.status.busy": "2022-08-15T20:28:18.231369Z",
     "iopub.status.idle": "2022-08-15T20:28:18.277293Z",
     "shell.execute_reply": "2022-08-15T20:28:18.276520Z"
    }
   },
   "outputs": [
    {
     "data": {
      "text/plain": [
       "0    191.4\n",
       "1    191.4\n",
       "2    191.4\n",
       "3    191.4\n",
       "4    191.4\n",
       "Name: Distance, dtype: float64"
      ]
     },
     "execution_count": 35,
     "metadata": {},
     "output_type": "execute_result"
    }
   ],
   "source": [
    "distance_km.head()"
   ]
  },
  {
   "cell_type": "markdown",
   "metadata": {},
   "source": [
    "### What is `meta`?\n",
    "\n",
    "Since Dask operates lazily, it doesn't always have enough information to infer the output structure (which includes datatypes) of certain operations.\n",
    "\n",
    "`meta` is a _suggestion_ to Dask about the output of your computation. Importantly, `meta` _never infers with the output structure_. Dask uses this `meta` until it can determine the actual output structure.\n",
    "\n",
    "Even though there are many ways to define `meta`, we suggest using a small pandas Series or DataFrame that matches the structure of your final output."
   ]
  },
  {
   "cell_type": "markdown",
   "metadata": {
    "tags": []
   },
   "source": [
    "## Close you local Dask Cluster"
   ]
  },
  {
   "cell_type": "markdown",
   "metadata": {},
   "source": [
    "It's good practice to always close any Dask cluster you create:"
   ]
  },
  {
   "cell_type": "code",
   "execution_count": 36,
   "metadata": {
    "execution": {
     "iopub.execute_input": "2022-08-15T20:28:18.282491Z",
     "iopub.status.busy": "2022-08-15T20:28:18.281836Z",
     "iopub.status.idle": "2022-08-15T20:28:19.814120Z",
     "shell.execute_reply": "2022-08-15T20:28:19.812775Z"
    }
   },
   "outputs": [],
   "source": [
    "client.shutdown()"
   ]
  }
 ],
 "metadata": {
  "anaconda-cloud": {},
  "kernelspec": {
   "display_name": "Python 3 (ipykernel)",
   "language": "python",
   "name": "python3"
  },
  "language_info": {
   "codemirror_mode": {
    "name": "ipython",
    "version": 3
   },
   "file_extension": ".py",
   "mimetype": "text/x-python",
   "name": "python",
   "nbconvert_exporter": "python",
   "pygments_lexer": "ipython3",
   "version": "3.9.13"
  },
  "widgets": {
   "application/vnd.jupyter.widget-state+json": {
    "state": {
     "003e34d6b4ba4cfcb108aee16265b7bc": {
      "model_module": "jupyter-cytoscape",
      "model_module_version": "^1.3.3",
      "model_name": "EdgeModel",
      "state": {
       "_model_module": "jupyter-cytoscape",
       "_model_module_version": "^1.3.3",
       "_model_name": "EdgeModel",
       "_view_count": null,
       "_view_module": "jupyter-cytoscape",
       "_view_module_version": "^1.3.3",
       "_view_name": "EdgeView",
       "classes": " directed ",
       "data": {
        "source": "-3545348839568012685",
        "target": "3509251585282858930"
       },
       "pannable": true,
       "removed": false,
       "selectable": false,
       "selected": false
      }
     },
     "00c6e01874404614bb181d5e928e6db2": {
      "model_module": "jupyter-cytoscape",
      "model_module_version": "^1.3.3",
      "model_name": "EdgeModel",
      "state": {
       "_model_module": "jupyter-cytoscape",
       "_model_module_version": "^1.3.3",
       "_model_name": "EdgeModel",
       "_view_count": null,
       "_view_module": "jupyter-cytoscape",
       "_view_module_version": "^1.3.3",
       "_view_name": "EdgeView",
       "classes": " directed ",
       "data": {
        "source": "3659187205328541654",
        "target": "253320015125669096"
       },
       "pannable": true,
       "removed": false,
       "selectable": false,
       "selected": false
      }
     },
     "00cc93a178d84134bf0f47d126f1f146": {
      "model_module": "jupyter-cytoscape",
      "model_module_version": "^1.3.3",
      "model_name": "EdgeModel",
      "state": {
       "_model_module": "jupyter-cytoscape",
       "_model_module_version": "^1.3.3",
       "_model_name": "EdgeModel",
       "_view_count": null,
       "_view_module": "jupyter-cytoscape",
       "_view_module_version": "^1.3.3",
       "_view_name": "EdgeView",
       "classes": " directed ",
       "data": {
        "source": "6213813376849710000",
        "target": "7657935379765807277"
       },
       "pannable": true,
       "removed": false,
       "selectable": false,
       "selected": false
      }
     },
     "012beaaf865a42798d01ed84b56b8fa9": {
      "model_module": "jupyter-cytoscape",
      "model_module_version": "^1.3.3",
      "model_name": "EdgeModel",
      "state": {
       "_model_module": "jupyter-cytoscape",
       "_model_module_version": "^1.3.3",
       "_model_name": "EdgeModel",
       "_view_count": null,
       "_view_module": "jupyter-cytoscape",
       "_view_module_version": "^1.3.3",
       "_view_name": "EdgeView",
       "classes": " directed ",
       "data": {
        "source": "7012720610522345035",
        "target": "-4217768473955824486"
       },
       "pannable": true,
       "removed": false,
       "selectable": false,
       "selected": false
      }
     },
     "018dc83e9cc34f49a2f26190316e8fb1": {
      "model_module": "jupyter-cytoscape",
      "model_module_version": "^1.3.3",
      "model_name": "NodeModel",
      "state": {
       "_model_module": "jupyter-cytoscape",
       "_model_module_version": "^1.3.3",
       "_model_name": "NodeModel",
       "_view_count": null,
       "_view_module": "jupyter-cytoscape",
       "_view_module_version": "^1.3.3",
       "_view_name": "NodeView",
       "classes": "",
       "data": {
        "color": "gray",
        "id": "-449382030543082127",
        "label": "4",
        "shape": "rectangle"
       },
       "grabbable": true,
       "grabbed": false,
       "locked": false,
       "pannable": false,
       "position": {},
       "removed": false,
       "selectable": false,
       "selected": false
      }
     },
     "0221f5ecfdd6460c819187fc4a2aef67": {
      "model_module": "jupyter-cytoscape",
      "model_module_version": "^1.3.3",
      "model_name": "EdgeModel",
      "state": {
       "_model_module": "jupyter-cytoscape",
       "_model_module_version": "^1.3.3",
       "_model_name": "EdgeModel",
       "_view_count": null,
       "_view_module": "jupyter-cytoscape",
       "_view_module_version": "^1.3.3",
       "_view_name": "EdgeView",
       "classes": " directed ",
       "data": {
        "source": "-4556066012032079181",
        "target": "-1984177896369359741"
       },
       "pannable": true,
       "removed": false,
       "selectable": false,
       "selected": false
      }
     },
     "029b99efda8349f6884171275353ad8c": {
      "model_module": "jupyter-cytoscape",
      "model_module_version": "^1.3.3",
      "model_name": "EdgeModel",
      "state": {
       "_model_module": "jupyter-cytoscape",
       "_model_module_version": "^1.3.3",
       "_model_name": "EdgeModel",
       "_view_count": null,
       "_view_module": "jupyter-cytoscape",
       "_view_module_version": "^1.3.3",
       "_view_name": "EdgeView",
       "classes": " directed ",
       "data": {
        "source": "-2965294203482439106",
        "target": "-6395418816157001196"
       },
       "pannable": true,
       "removed": false,
       "selectable": false,
       "selected": false
      }
     },
     "031d1ad644834a69bda154cc680a38b5": {
      "model_module": "jupyter-cytoscape",
      "model_module_version": "^1.3.3",
      "model_name": "EdgeModel",
      "state": {
       "_model_module": "jupyter-cytoscape",
       "_model_module_version": "^1.3.3",
       "_model_name": "EdgeModel",
       "_view_count": null,
       "_view_module": "jupyter-cytoscape",
       "_view_module_version": "^1.3.3",
       "_view_name": "EdgeView",
       "classes": " directed ",
       "data": {
        "source": "7721334843651728705",
        "target": "8886838089203027609"
       },
       "pannable": true,
       "removed": false,
       "selectable": false,
       "selected": false
      }
     },
     "042a1f6a003a4ba080ac5b0cc74bcb64": {
      "model_module": "jupyter-cytoscape",
      "model_module_version": "^1.3.3",
      "model_name": "EdgeModel",
      "state": {
       "_model_module": "jupyter-cytoscape",
       "_model_module_version": "^1.3.3",
       "_model_name": "EdgeModel",
       "_view_count": null,
       "_view_module": "jupyter-cytoscape",
       "_view_module_version": "^1.3.3",
       "_view_name": "EdgeView",
       "classes": " directed ",
       "data": {
        "source": "-2134375285019937558",
        "target": "-1618605959268846137"
       },
       "pannable": true,
       "removed": false,
       "selectable": false,
       "selected": false
      }
     },
     "048d431549ee435399d82bf5093cd432": {
      "model_module": "jupyter-cytoscape",
      "model_module_version": "^1.3.3",
      "model_name": "NodeModel",
      "state": {
       "_model_module": "jupyter-cytoscape",
       "_model_module_version": "^1.3.3",
       "_model_name": "NodeModel",
       "_view_count": null,
       "_view_module": "jupyter-cytoscape",
       "_view_module_version": "^1.3.3",
       "_view_name": "NodeView",
       "classes": "",
       "data": {
        "color": "gray",
        "id": "5123818312412160989",
        "label": "2",
        "shape": "rectangle"
       },
       "grabbable": true,
       "grabbed": false,
       "locked": false,
       "pannable": false,
       "position": {},
       "removed": false,
       "selectable": false,
       "selected": false
      }
     },
     "062aa154173b4e968f74ef8c3916b4fb": {
      "model_module": "jupyter-cytoscape",
      "model_module_version": "^1.3.3",
      "model_name": "EdgeModel",
      "state": {
       "_model_module": "jupyter-cytoscape",
       "_model_module_version": "^1.3.3",
       "_model_name": "EdgeModel",
       "_view_count": null,
       "_view_module": "jupyter-cytoscape",
       "_view_module_version": "^1.3.3",
       "_view_name": "EdgeView",
       "classes": " directed ",
       "data": {
        "source": "-3433519570761395025",
        "target": "-1433977818100758417"
       },
       "pannable": true,
       "removed": false,
       "selectable": false,
       "selected": false
      }
     },
     "064a288dff7045969c9abf8e092f7519": {
      "model_module": "jupyter-cytoscape",
      "model_module_version": "^1.3.3",
      "model_name": "NodeModel",
      "state": {
       "_model_module": "jupyter-cytoscape",
       "_model_module_version": "^1.3.3",
       "_model_name": "NodeModel",
       "_view_count": null,
       "_view_module": "jupyter-cytoscape",
       "_view_module_version": "^1.3.3",
       "_view_name": "NodeView",
       "classes": "",
       "data": {
        "color": "gray",
        "id": "-2202488613033113313",
        "label": "2",
        "shape": "rectangle"
       },
       "grabbable": true,
       "grabbed": false,
       "locked": false,
       "pannable": false,
       "position": {},
       "removed": false,
       "selectable": false,
       "selected": false
      }
     },
     "0665e48c00504677af2f0d5350caddac": {
      "model_module": "jupyter-cytoscape",
      "model_module_version": "^1.3.3",
      "model_name": "NodeModel",
      "state": {
       "_model_module": "jupyter-cytoscape",
       "_model_module_version": "^1.3.3",
       "_model_name": "NodeModel",
       "_view_count": null,
       "_view_module": "jupyter-cytoscape",
       "_view_module_version": "^1.3.3",
       "_view_name": "NodeView",
       "classes": "",
       "data": {
        "color": "gray",
        "id": "-3436625259823024823",
        "label": "series-sum-chunk",
        "shape": "ellipse"
       },
       "grabbable": true,
       "grabbed": false,
       "locked": false,
       "pannable": false,
       "position": {},
       "removed": false,
       "selectable": false,
       "selected": false
      }
     },
     "0799ee7359384d1ca739d312b7c998ce": {
      "model_module": "jupyter-cytoscape",
      "model_module_version": "^1.3.3",
      "model_name": "EdgeModel",
      "state": {
       "_model_module": "jupyter-cytoscape",
       "_model_module_version": "^1.3.3",
       "_model_name": "EdgeModel",
       "_view_count": null,
       "_view_module": "jupyter-cytoscape",
       "_view_module_version": "^1.3.3",
       "_view_name": "EdgeView",
       "classes": " directed ",
       "data": {
        "source": "-6395418816157001196",
        "target": "1536790159956288715"
       },
       "pannable": true,
       "removed": false,
       "selectable": false,
       "selected": false
      }
     },
     "07f7a779bf164145ae9d6f403c125f33": {
      "model_module": "jupyter-cytoscape",
      "model_module_version": "^1.3.3",
      "model_name": "EdgeModel",
      "state": {
       "_model_module": "jupyter-cytoscape",
       "_model_module_version": "^1.3.3",
       "_model_name": "EdgeModel",
       "_view_count": null,
       "_view_module": "jupyter-cytoscape",
       "_view_module_version": "^1.3.3",
       "_view_name": "EdgeView",
       "classes": " directed ",
       "data": {
        "source": "-4986279268888179382",
        "target": "1756897231286491372"
       },
       "pannable": true,
       "removed": false,
       "selectable": false,
       "selected": false
      }
     },
     "083659fd42b9451f8fa3464d5a61918c": {
      "model_module": "jupyter-cytoscape",
      "model_module_version": "^1.3.3",
      "model_name": "NodeModel",
      "state": {
       "_model_module": "jupyter-cytoscape",
       "_model_module_version": "^1.3.3",
       "_model_name": "NodeModel",
       "_view_count": null,
       "_view_module": "jupyter-cytoscape",
       "_view_module_version": "^1.3.3",
       "_view_name": "NodeView",
       "classes": "",
       "data": {
        "color": "gray",
        "id": "6145542010407343287",
        "label": "7",
        "shape": "rectangle"
       },
       "grabbable": true,
       "grabbed": false,
       "locked": false,
       "pannable": false,
       "position": {},
       "removed": false,
       "selectable": false,
       "selected": false
      }
     },
     "08c0968ff9f84248be95f401a5012277": {
      "model_module": "jupyter-cytoscape",
      "model_module_version": "^1.3.3",
      "model_name": "NodeModel",
      "state": {
       "_model_module": "jupyter-cytoscape",
       "_model_module_version": "^1.3.3",
       "_model_name": "NodeModel",
       "_view_count": null,
       "_view_module": "jupyter-cytoscape",
       "_view_module_version": "^1.3.3",
       "_view_name": "NodeView",
       "classes": "",
       "data": {
        "color": "gray",
        "id": "-4076175810231355893",
        "label": "getitem",
        "shape": "ellipse"
       },
       "grabbable": true,
       "grabbed": false,
       "locked": false,
       "pannable": false,
       "position": {},
       "removed": false,
       "selectable": false,
       "selected": false
      }
     },
     "08c0c448a071426dafb36b257ace94bd": {
      "model_module": "jupyter-cytoscape",
      "model_module_version": "^1.3.3",
      "model_name": "EdgeModel",
      "state": {
       "_model_module": "jupyter-cytoscape",
       "_model_module_version": "^1.3.3",
       "_model_name": "EdgeModel",
       "_view_count": null,
       "_view_module": "jupyter-cytoscape",
       "_view_module_version": "^1.3.3",
       "_view_name": "EdgeView",
       "classes": " directed ",
       "data": {
        "source": "112221939944997229",
        "target": "1536790159956288715"
       },
       "pannable": true,
       "removed": false,
       "selectable": false,
       "selected": false
      }
     },
     "0924a40ae12645c8846893274a324079": {
      "model_module": "jupyter-cytoscape",
      "model_module_version": "^1.3.3",
      "model_name": "EdgeModel",
      "state": {
       "_model_module": "jupyter-cytoscape",
       "_model_module_version": "^1.3.3",
       "_model_name": "EdgeModel",
       "_view_count": null,
       "_view_module": "jupyter-cytoscape",
       "_view_module_version": "^1.3.3",
       "_view_name": "EdgeView",
       "classes": " directed ",
       "data": {
        "source": "398553906833451730",
        "target": "8552261234301238020"
       },
       "pannable": true,
       "removed": false,
       "selectable": false,
       "selected": false
      }
     },
     "09a16001155c4c91b05dd6c530be8d80": {
      "model_module": "jupyter-cytoscape",
      "model_module_version": "^1.3.3",
      "model_name": "EdgeModel",
      "state": {
       "_model_module": "jupyter-cytoscape",
       "_model_module_version": "^1.3.3",
       "_model_name": "EdgeModel",
       "_view_count": null,
       "_view_module": "jupyter-cytoscape",
       "_view_module_version": "^1.3.3",
       "_view_name": "EdgeView",
       "classes": " directed ",
       "data": {
        "source": "-7332920690604205715",
        "target": "-3090789385568658130"
       },
       "pannable": true,
       "removed": false,
       "selectable": false,
       "selected": false
      }
     },
     "0c7252b8e9a84fe38d5ca8545940859a": {
      "model_module": "jupyter-cytoscape",
      "model_module_version": "^1.3.3",
      "model_name": "EdgeModel",
      "state": {
       "_model_module": "jupyter-cytoscape",
       "_model_module_version": "^1.3.3",
       "_model_name": "EdgeModel",
       "_view_count": null,
       "_view_module": "jupyter-cytoscape",
       "_view_module_version": "^1.3.3",
       "_view_name": "EdgeView",
       "classes": " directed ",
       "data": {
        "source": "6241240956225467594",
        "target": "8333491756850144735"
       },
       "pannable": true,
       "removed": false,
       "selectable": false,
       "selected": false
      }
     },
     "0d1a3b55fb994a48a468d015d69319ea": {
      "model_module": "jupyter-cytoscape",
      "model_module_version": "^1.3.3",
      "model_name": "NodeModel",
      "state": {
       "_model_module": "jupyter-cytoscape",
       "_model_module_version": "^1.3.3",
       "_model_name": "NodeModel",
       "_view_count": null,
       "_view_module": "jupyter-cytoscape",
       "_view_module_version": "^1.3.3",
       "_view_name": "NodeView",
       "classes": "",
       "data": {
        "color": "gray",
        "id": "6213813376849710000",
        "label": "8",
        "shape": "rectangle"
       },
       "grabbable": true,
       "grabbed": false,
       "locked": false,
       "pannable": false,
       "position": {},
       "removed": false,
       "selectable": false,
       "selected": false
      }
     },
     "0e29c628aebe4a7e9880100f5bcc703a": {
      "model_module": "jupyter-cytoscape",
      "model_module_version": "^1.3.3",
      "model_name": "EdgeModel",
      "state": {
       "_model_module": "jupyter-cytoscape",
       "_model_module_version": "^1.3.3",
       "_model_name": "EdgeModel",
       "_view_count": null,
       "_view_module": "jupyter-cytoscape",
       "_view_module_version": "^1.3.3",
       "_view_name": "EdgeView",
       "classes": " directed ",
       "data": {
        "source": "-2202488613033113313",
        "target": "1756897231286491372"
       },
       "pannable": true,
       "removed": false,
       "selectable": false,
       "selected": false
      }
     },
     "0e3de48bca2941b38c12989baa1877c9": {
      "model_module": "jupyter-cytoscape",
      "model_module_version": "^1.3.3",
      "model_name": "EdgeModel",
      "state": {
       "_model_module": "jupyter-cytoscape",
       "_model_module_version": "^1.3.3",
       "_model_name": "EdgeModel",
       "_view_count": null,
       "_view_module": "jupyter-cytoscape",
       "_view_module_version": "^1.3.3",
       "_view_name": "EdgeView",
       "classes": " directed ",
       "data": {
        "source": "7603009765902060543",
        "target": "8997604032704776069"
       },
       "pannable": true,
       "removed": false,
       "selectable": false,
       "selected": false
      }
     },
     "0e9aefbeafc144d9a53f268697f589f7": {
      "model_module": "jupyter-cytoscape",
      "model_module_version": "^1.3.3",
      "model_name": "EdgeModel",
      "state": {
       "_model_module": "jupyter-cytoscape",
       "_model_module_version": "^1.3.3",
       "_model_name": "EdgeModel",
       "_view_count": null,
       "_view_module": "jupyter-cytoscape",
       "_view_module_version": "^1.3.3",
       "_view_name": "EdgeView",
       "classes": " directed ",
       "data": {
        "source": "214627093188833346",
        "target": "7765871186817538708"
       },
       "pannable": true,
       "removed": false,
       "selectable": false,
       "selected": false
      }
     },
     "0f5ed3eba41a48ebab3613baa5769375": {
      "model_module": "jupyter-cytoscape",
      "model_module_version": "^1.3.3",
      "model_name": "EdgeModel",
      "state": {
       "_model_module": "jupyter-cytoscape",
       "_model_module_version": "^1.3.3",
       "_model_name": "EdgeModel",
       "_view_count": null,
       "_view_module": "jupyter-cytoscape",
       "_view_module_version": "^1.3.3",
       "_view_name": "EdgeView",
       "classes": " directed ",
       "data": {
        "source": "4960324706779402695",
        "target": "-6871817527113344389"
       },
       "pannable": true,
       "removed": false,
       "selectable": false,
       "selected": false
      }
     },
     "0f9f37ed681b4dffb85a1113a4ee8a00": {
      "model_module": "jupyter-cytoscape",
      "model_module_version": "^1.3.3",
      "model_name": "EdgeModel",
      "state": {
       "_model_module": "jupyter-cytoscape",
       "_model_module_version": "^1.3.3",
       "_model_name": "EdgeModel",
       "_view_count": null,
       "_view_module": "jupyter-cytoscape",
       "_view_module_version": "^1.3.3",
       "_view_name": "EdgeView",
       "classes": " directed ",
       "data": {
        "source": "5151066857489203318",
        "target": "3465732522842790486"
       },
       "pannable": true,
       "removed": false,
       "selectable": false,
       "selected": false
      }
     },
     "0fb4ff6cb4924f5ca09d3718837513f7": {
      "model_module": "jupyter-cytoscape",
      "model_module_version": "^1.3.3",
      "model_name": "EdgeModel",
      "state": {
       "_model_module": "jupyter-cytoscape",
       "_model_module_version": "^1.3.3",
       "_model_name": "EdgeModel",
       "_view_count": null,
       "_view_module": "jupyter-cytoscape",
       "_view_module_version": "^1.3.3",
       "_view_name": "EdgeView",
       "classes": " directed ",
       "data": {
        "source": "3997484743404796349",
        "target": "-2965294203482439106"
       },
       "pannable": true,
       "removed": false,
       "selectable": false,
       "selected": false
      }
     },
     "1082f2b2c25442a6bae2f3459ef669b8": {
      "model_module": "jupyter-cytoscape",
      "model_module_version": "^1.3.3",
      "model_name": "NodeModel",
      "state": {
       "_model_module": "jupyter-cytoscape",
       "_model_module_version": "^1.3.3",
       "_model_name": "NodeModel",
       "_view_count": null,
       "_view_module": "jupyter-cytoscape",
       "_view_module_version": "^1.3.3",
       "_view_name": "NodeView",
       "classes": "",
       "data": {
        "color": "gray",
        "id": "-3817055340162415372",
        "label": "0",
        "shape": "rectangle"
       },
       "grabbable": true,
       "grabbed": false,
       "locked": false,
       "pannable": false,
       "position": {},
       "removed": false,
       "selectable": false,
       "selected": false
      }
     },
     "10c1f5ae625e4473a1e211eee93ad9c3": {
      "model_module": "jupyter-cytoscape",
      "model_module_version": "^1.3.3",
      "model_name": "EdgeModel",
      "state": {
       "_model_module": "jupyter-cytoscape",
       "_model_module_version": "^1.3.3",
       "_model_name": "EdgeModel",
       "_view_count": null,
       "_view_module": "jupyter-cytoscape",
       "_view_module_version": "^1.3.3",
       "_view_name": "EdgeView",
       "classes": " directed ",
       "data": {
        "source": "8997604032704776069",
        "target": "-8182258083319309490"
       },
       "pannable": true,
       "removed": false,
       "selectable": false,
       "selected": false
      }
     },
     "1142855e2a6d480092d919a68f14ee64": {
      "model_module": "jupyter-cytoscape",
      "model_module_version": "^1.3.3",
      "model_name": "EdgeModel",
      "state": {
       "_model_module": "jupyter-cytoscape",
       "_model_module_version": "^1.3.3",
       "_model_name": "EdgeModel",
       "_view_count": null,
       "_view_module": "jupyter-cytoscape",
       "_view_module_version": "^1.3.3",
       "_view_name": "EdgeView",
       "classes": " directed ",
       "data": {
        "source": "-3961610480436276557",
        "target": "-7941618574202756842"
       },
       "pannable": true,
       "removed": false,
       "selectable": false,
       "selected": false
      }
     },
     "118af3eb2a884c4eaf1f1e05529a33a9": {
      "model_module": "jupyter-cytoscape",
      "model_module_version": "^1.3.3",
      "model_name": "EdgeModel",
      "state": {
       "_model_module": "jupyter-cytoscape",
       "_model_module_version": "^1.3.3",
       "_model_name": "EdgeModel",
       "_view_count": null,
       "_view_module": "jupyter-cytoscape",
       "_view_module_version": "^1.3.3",
       "_view_name": "EdgeView",
       "classes": " directed ",
       "data": {
        "source": "-3090789385568658130",
        "target": "6359823548136621464"
       },
       "pannable": true,
       "removed": false,
       "selectable": false,
       "selected": false
      }
     },
     "119b22df5add4c2d8dc7765563898805": {
      "model_module": "jupyter-cytoscape",
      "model_module_version": "^1.3.3",
      "model_name": "EdgeModel",
      "state": {
       "_model_module": "jupyter-cytoscape",
       "_model_module_version": "^1.3.3",
       "_model_name": "EdgeModel",
       "_view_count": null,
       "_view_module": "jupyter-cytoscape",
       "_view_module_version": "^1.3.3",
       "_view_name": "EdgeView",
       "classes": " directed ",
       "data": {
        "source": "1521361487213819043",
        "target": "1756897231286491372"
       },
       "pannable": true,
       "removed": false,
       "selectable": false,
       "selected": false
      }
     },
     "1232615a457d4b148cfb8e3ff6245a25": {
      "model_module": "jupyter-cytoscape",
      "model_module_version": "^1.3.3",
      "model_name": "NodeModel",
      "state": {
       "_model_module": "jupyter-cytoscape",
       "_model_module_version": "^1.3.3",
       "_model_name": "NodeModel",
       "_view_count": null,
       "_view_module": "jupyter-cytoscape",
       "_view_module_version": "^1.3.3",
       "_view_name": "NodeView",
       "classes": "",
       "data": {
        "color": "gray",
        "id": "-2558665403660712424",
        "label": "3",
        "shape": "rectangle"
       },
       "grabbable": true,
       "grabbed": false,
       "locked": false,
       "pannable": false,
       "position": {},
       "removed": false,
       "selectable": false,
       "selected": false
      }
     },
     "1246504e72084f1694df9a6456619dce": {
      "model_module": "jupyter-cytoscape",
      "model_module_version": "^1.3.3",
      "model_name": "EdgeModel",
      "state": {
       "_model_module": "jupyter-cytoscape",
       "_model_module_version": "^1.3.3",
       "_model_name": "EdgeModel",
       "_view_count": null,
       "_view_module": "jupyter-cytoscape",
       "_view_module_version": "^1.3.3",
       "_view_name": "EdgeView",
       "classes": " directed ",
       "data": {
        "source": "-4173232130790014483",
        "target": "4908709954019357632"
       },
       "pannable": true,
       "removed": false,
       "selectable": false,
       "selected": false
      }
     },
     "12bcd19fc7c3462689659e80e2a6793d": {
      "model_module": "jupyter-cytoscape",
      "model_module_version": "^1.3.3",
      "model_name": "NodeModel",
      "state": {
       "_model_module": "jupyter-cytoscape",
       "_model_module_version": "^1.3.3",
       "_model_name": "NodeModel",
       "_view_count": null,
       "_view_module": "jupyter-cytoscape",
       "_view_module_version": "^1.3.3",
       "_view_name": "NodeView",
       "classes": "",
       "data": {
        "color": "gray",
        "id": "-5226194887431237186",
        "label": "1",
        "shape": "rectangle"
       },
       "grabbable": true,
       "grabbed": false,
       "locked": false,
       "pannable": false,
       "position": {},
       "removed": false,
       "selectable": false,
       "selected": false
      }
     },
     "1344067760734e40a524f08fe1e5990d": {
      "model_module": "jupyter-cytoscape",
      "model_module_version": "^1.3.3",
      "model_name": "NodeModel",
      "state": {
       "_model_module": "jupyter-cytoscape",
       "_model_module_version": "^1.3.3",
       "_model_name": "NodeModel",
       "_view_count": null,
       "_view_module": "jupyter-cytoscape",
       "_view_module_version": "^1.3.3",
       "_view_name": "NodeView",
       "classes": "",
       "data": {
        "color": "gray",
        "id": "-722736711310678707",
        "label": "getitem",
        "shape": "ellipse"
       },
       "grabbable": true,
       "grabbed": false,
       "locked": false,
       "pannable": false,
       "position": {},
       "removed": false,
       "selectable": false,
       "selected": false
      }
     },
     "13b488b0e271437aad6d3a0fd4bb3e46": {
      "model_module": "jupyter-cytoscape",
      "model_module_version": "^1.3.3",
      "model_name": "NodeModel",
      "state": {
       "_model_module": "jupyter-cytoscape",
       "_model_module_version": "^1.3.3",
       "_model_name": "NodeModel",
       "_view_count": null,
       "_view_module": "jupyter-cytoscape",
       "_view_module_version": "^1.3.3",
       "_view_name": "NodeView",
       "classes": "",
       "data": {
        "color": "gray",
        "id": "112221939944997229",
        "label": "6",
        "shape": "rectangle"
       },
       "grabbable": true,
       "grabbed": false,
       "locked": false,
       "pannable": false,
       "position": {},
       "removed": false,
       "selectable": false,
       "selected": false
      }
     },
     "13c673f652e94ef0974e6829a265f0c0": {
      "model_module": "jupyter-cytoscape",
      "model_module_version": "^1.3.3",
      "model_name": "NodeModel",
      "state": {
       "_model_module": "jupyter-cytoscape",
       "_model_module_version": "^1.3.3",
       "_model_name": "NodeModel",
       "_view_count": null,
       "_view_module": "jupyter-cytoscape",
       "_view_module_version": "^1.3.3",
       "_view_name": "NodeView",
       "classes": "",
       "data": {
        "color": "gray",
        "id": "-8279916112279011537",
        "label": "2",
        "shape": "rectangle"
       },
       "grabbable": true,
       "grabbed": false,
       "locked": false,
       "pannable": false,
       "position": {},
       "removed": false,
       "selectable": false,
       "selected": false
      }
     },
     "144905c9354248058b979b5bb906fdb8": {
      "model_module": "jupyter-cytoscape",
      "model_module_version": "^1.3.3",
      "model_name": "EdgeModel",
      "state": {
       "_model_module": "jupyter-cytoscape",
       "_model_module_version": "^1.3.3",
       "_model_name": "EdgeModel",
       "_view_count": null,
       "_view_module": "jupyter-cytoscape",
       "_view_module_version": "^1.3.3",
       "_view_name": "EdgeView",
       "classes": " directed ",
       "data": {
        "source": "5989535129900287639",
        "target": "352137558488055033"
       },
       "pannable": true,
       "removed": false,
       "selectable": false,
       "selected": false
      }
     },
     "16513fe8b9c54cbca0a3eaa8de99253e": {
      "model_module": "jupyter-cytoscape",
      "model_module_version": "^1.3.3",
      "model_name": "EdgeModel",
      "state": {
       "_model_module": "jupyter-cytoscape",
       "_model_module_version": "^1.3.3",
       "_model_name": "EdgeModel",
       "_view_count": null,
       "_view_module": "jupyter-cytoscape",
       "_view_module_version": "^1.3.3",
       "_view_name": "EdgeView",
       "classes": " directed ",
       "data": {
        "source": "6958064958794954856",
        "target": "8684174807026335051"
       },
       "pannable": true,
       "removed": false,
       "selectable": false,
       "selected": false
      }
     },
     "17c3c257e3d54b62bd36152980f38aea": {
      "model_module": "jupyter-cytoscape",
      "model_module_version": "^1.3.3",
      "model_name": "EdgeModel",
      "state": {
       "_model_module": "jupyter-cytoscape",
       "_model_module_version": "^1.3.3",
       "_model_name": "EdgeModel",
       "_view_count": null,
       "_view_module": "jupyter-cytoscape",
       "_view_module_version": "^1.3.3",
       "_view_name": "EdgeView",
       "classes": " directed ",
       "data": {
        "source": "8327475157305618064",
        "target": "-3545348839568012685"
       },
       "pannable": true,
       "removed": false,
       "selectable": false,
       "selected": false
      }
     },
     "19003e1eb548426abc30677633870f49": {
      "model_module": "jupyter-cytoscape",
      "model_module_version": "^1.3.3",
      "model_name": "NodeModel",
      "state": {
       "_model_module": "jupyter-cytoscape",
       "_model_module_version": "^1.3.3",
       "_model_name": "NodeModel",
       "_view_count": null,
       "_view_module": "jupyter-cytoscape",
       "_view_module_version": "^1.3.3",
       "_view_name": "NodeView",
       "classes": "",
       "data": {
        "color": "gray",
        "id": "-22866290339826286",
        "label": "getitem",
        "shape": "ellipse"
       },
       "grabbable": true,
       "grabbed": false,
       "locked": false,
       "pannable": false,
       "position": {},
       "removed": false,
       "selectable": false,
       "selected": false
      }
     },
     "19d00e4c72dd4b7da4f393da2264cd97": {
      "model_module": "jupyter-cytoscape",
      "model_module_version": "^1.3.3",
      "model_name": "NodeModel",
      "state": {
       "_model_module": "jupyter-cytoscape",
       "_model_module_version": "^1.3.3",
       "_model_name": "NodeModel",
       "_view_count": null,
       "_view_module": "jupyter-cytoscape",
       "_view_module_version": "^1.3.3",
       "_view_name": "NodeView",
       "classes": "",
       "data": {
        "color": "gray",
        "id": "1726788667074299288",
        "label": "8",
        "shape": "rectangle"
       },
       "grabbable": true,
       "grabbed": false,
       "locked": false,
       "pannable": false,
       "position": {},
       "removed": false,
       "selectable": false,
       "selected": false
      }
     },
     "1a2b3be43bd34c96ab92f235aa0c54b6": {
      "model_module": "jupyter-cytoscape",
      "model_module_version": "^1.3.3",
      "model_name": "NodeModel",
      "state": {
       "_model_module": "jupyter-cytoscape",
       "_model_module_version": "^1.3.3",
       "_model_name": "NodeModel",
       "_view_count": null,
       "_view_module": "jupyter-cytoscape",
       "_view_module_version": "^1.3.3",
       "_view_name": "NodeView",
       "classes": "",
       "data": {
        "color": "gray",
        "id": "-2004269603136958637",
        "label": "6",
        "shape": "rectangle"
       },
       "grabbable": true,
       "grabbed": false,
       "locked": false,
       "pannable": false,
       "position": {},
       "removed": false,
       "selectable": false,
       "selected": false
      }
     },
     "1a369d8085b24cc0bad2e8a448e8d223": {
      "model_module": "jupyter-cytoscape",
      "model_module_version": "^1.3.3",
      "model_name": "NodeModel",
      "state": {
       "_model_module": "jupyter-cytoscape",
       "_model_module_version": "^1.3.3",
       "_model_name": "NodeModel",
       "_view_count": null,
       "_view_module": "jupyter-cytoscape",
       "_view_module_version": "^1.3.3",
       "_view_name": "NodeView",
       "classes": "",
       "data": {
        "color": "gray",
        "id": "4490204336024514652",
        "label": "series-sum-chunk",
        "shape": "ellipse"
       },
       "grabbable": true,
       "grabbed": false,
       "locked": false,
       "pannable": false,
       "position": {},
       "removed": false,
       "selectable": false,
       "selected": false
      }
     },
     "1a3d5eb9b98f4e15af75f3976fc9416f": {
      "model_module": "jupyter-cytoscape",
      "model_module_version": "^1.3.3",
      "model_name": "NodeModel",
      "state": {
       "_model_module": "jupyter-cytoscape",
       "_model_module_version": "^1.3.3",
       "_model_name": "NodeModel",
       "_view_count": null,
       "_view_module": "jupyter-cytoscape",
       "_view_module_version": "^1.3.3",
       "_view_name": "NodeView",
       "classes": "",
       "data": {
        "color": "gray",
        "id": "-8381204912575358887",
        "label": "inv",
        "shape": "ellipse"
       },
       "grabbable": true,
       "grabbed": false,
       "locked": false,
       "pannable": false,
       "position": {},
       "removed": false,
       "selectable": false,
       "selected": false
      }
     },
     "1b25bfe39d1a44ffa82824b8627727a5": {
      "model_module": "jupyter-cytoscape",
      "model_module_version": "^1.3.3",
      "model_name": "NodeModel",
      "state": {
       "_model_module": "jupyter-cytoscape",
       "_model_module_version": "^1.3.3",
       "_model_name": "NodeModel",
       "_view_count": null,
       "_view_module": "jupyter-cytoscape",
       "_view_module_version": "^1.3.3",
       "_view_name": "NodeView",
       "classes": "",
       "data": {
        "color": "gray",
        "id": "5543684501450551995",
        "label": "4",
        "shape": "rectangle"
       },
       "grabbable": true,
       "grabbed": false,
       "locked": false,
       "pannable": false,
       "position": {},
       "removed": false,
       "selectable": false,
       "selected": false
      }
     },
     "1bf5639169b54b9d8b0e2cadf79f4ea3": {
      "model_module": "jupyter-cytoscape",
      "model_module_version": "^1.3.3",
      "model_name": "EdgeModel",
      "state": {
       "_model_module": "jupyter-cytoscape",
       "_model_module_version": "^1.3.3",
       "_model_name": "EdgeModel",
       "_view_count": null,
       "_view_module": "jupyter-cytoscape",
       "_view_module_version": "^1.3.3",
       "_view_name": "EdgeView",
       "classes": " directed ",
       "data": {
        "source": "-1825139685823884221",
        "target": "-8481653017237151666"
       },
       "pannable": true,
       "removed": false,
       "selectable": false,
       "selected": false
      }
     },
     "1cb067e086464a929d9ec38a797c8c30": {
      "model_module": "jupyter-cytoscape",
      "model_module_version": "^1.3.3",
      "model_name": "NodeModel",
      "state": {
       "_model_module": "jupyter-cytoscape",
       "_model_module_version": "^1.3.3",
       "_model_name": "NodeModel",
       "_view_count": null,
       "_view_module": "jupyter-cytoscape",
       "_view_module_version": "^1.3.3",
       "_view_name": "NodeView",
       "classes": "",
       "data": {
        "color": "gray",
        "id": "3465732522842790486",
        "label": "0",
        "shape": "rectangle"
       },
       "grabbable": true,
       "grabbed": false,
       "locked": false,
       "pannable": false,
       "position": {},
       "removed": false,
       "selectable": false,
       "selected": false
      }
     },
     "1dc47dfa309745c2b569a1cdb0e60a79": {
      "model_module": "jupyter-cytoscape",
      "model_module_version": "^1.3.3",
      "model_name": "NodeModel",
      "state": {
       "_model_module": "jupyter-cytoscape",
       "_model_module_version": "^1.3.3",
       "_model_name": "NodeModel",
       "_view_count": null,
       "_view_module": "jupyter-cytoscape",
       "_view_module_version": "^1.3.3",
       "_view_name": "NodeView",
       "classes": "",
       "data": {
        "color": "gray",
        "id": "-3727889332386476434",
        "label": "7",
        "shape": "rectangle"
       },
       "grabbable": true,
       "grabbed": false,
       "locked": false,
       "pannable": false,
       "position": {},
       "removed": false,
       "selectable": false,
       "selected": false
      }
     },
     "1e721d89d558456cabb9af17548e9586": {
      "model_module": "jupyter-cytoscape",
      "model_module_version": "^1.3.3",
      "model_name": "NodeModel",
      "state": {
       "_model_module": "jupyter-cytoscape",
       "_model_module_version": "^1.3.3",
       "_model_name": "NodeModel",
       "_view_count": null,
       "_view_module": "jupyter-cytoscape",
       "_view_module_version": "^1.3.3",
       "_view_name": "NodeView",
       "classes": "",
       "data": {
        "color": "gray",
        "id": "8848145167266191859",
        "label": "moment_chunk",
        "shape": "ellipse"
       },
       "grabbable": true,
       "grabbed": false,
       "locked": false,
       "pannable": false,
       "position": {},
       "removed": false,
       "selectable": false,
       "selected": false
      }
     },
     "1e819884c4484a8b9e94c9f06626362f": {
      "model_module": "jupyter-cytoscape",
      "model_module_version": "^1.3.3",
      "model_name": "NodeModel",
      "state": {
       "_model_module": "jupyter-cytoscape",
       "_model_module_version": "^1.3.3",
       "_model_name": "NodeModel",
       "_view_count": null,
       "_view_module": "jupyter-cytoscape",
       "_view_module_version": "^1.3.3",
       "_view_name": "NodeView",
       "classes": "",
       "data": {
        "color": "gray",
        "id": "8886838089203027609",
        "label": "moment_chunk",
        "shape": "ellipse"
       },
       "grabbable": true,
       "grabbed": false,
       "locked": false,
       "pannable": false,
       "position": {},
       "removed": false,
       "selectable": false,
       "selected": false
      }
     },
     "1edaa4b7460147efbc622aee9e013ceb": {
      "model_module": "jupyter-cytoscape",
      "model_module_version": "^1.3.3",
      "model_name": "NodeModel",
      "state": {
       "_model_module": "jupyter-cytoscape",
       "_model_module_version": "^1.3.3",
       "_model_name": "NodeModel",
       "_view_count": null,
       "_view_module": "jupyter-cytoscape",
       "_view_module_version": "^1.3.3",
       "_view_name": "NodeView",
       "classes": "",
       "data": {
        "color": "gray",
        "id": "-6897343632109655003",
        "label": "7",
        "shape": "rectangle"
       },
       "grabbable": true,
       "grabbed": false,
       "locked": false,
       "pannable": false,
       "position": {},
       "removed": false,
       "selectable": false,
       "selected": false
      }
     },
     "1f2d7fbd837e4085b47d710e480c696d": {
      "model_module": "jupyter-cytoscape",
      "model_module_version": "^1.3.3",
      "model_name": "EdgeModel",
      "state": {
       "_model_module": "jupyter-cytoscape",
       "_model_module_version": "^1.3.3",
       "_model_name": "EdgeModel",
       "_view_count": null,
       "_view_module": "jupyter-cytoscape",
       "_view_module_version": "^1.3.3",
       "_view_name": "EdgeView",
       "classes": " directed ",
       "data": {
        "source": "-7378131178170736448",
        "target": "-5342456059515778493"
       },
       "pannable": true,
       "removed": false,
       "selectable": false,
       "selected": false
      }
     },
     "1f4bd9ed09d64f3ab7e3970924b82f0d": {
      "model_module": "jupyter-cytoscape",
      "model_module_version": "^1.3.3",
      "model_name": "EdgeModel",
      "state": {
       "_model_module": "jupyter-cytoscape",
       "_model_module_version": "^1.3.3",
       "_model_name": "EdgeModel",
       "_view_count": null,
       "_view_module": "jupyter-cytoscape",
       "_view_module_version": "^1.3.3",
       "_view_name": "EdgeView",
       "classes": " directed ",
       "data": {
        "source": "-8398660785357480435",
        "target": "3997484743404796349"
       },
       "pannable": true,
       "removed": false,
       "selectable": false,
       "selected": false
      }
     },
     "218a5aff58504a8fb207bec124a34996": {
      "model_module": "jupyter-cytoscape",
      "model_module_version": "^1.3.3",
      "model_name": "EdgeModel",
      "state": {
       "_model_module": "jupyter-cytoscape",
       "_model_module_version": "^1.3.3",
       "_model_name": "EdgeModel",
       "_view_count": null,
       "_view_module": "jupyter-cytoscape",
       "_view_module_version": "^1.3.3",
       "_view_name": "EdgeView",
       "classes": " directed ",
       "data": {
        "source": "-3345837706779263536",
        "target": "3590915838886174941"
       },
       "pannable": true,
       "removed": false,
       "selectable": false,
       "selected": false
      }
     },
     "21dc3eee6d034deba85882199f5fd139": {
      "model_module": "jupyter-cytoscape",
      "model_module_version": "^1.3.3",
      "model_name": "EdgeModel",
      "state": {
       "_model_module": "jupyter-cytoscape",
       "_model_module_version": "^1.3.3",
       "_model_name": "EdgeModel",
       "_view_count": null,
       "_view_module": "jupyter-cytoscape",
       "_view_module_version": "^1.3.3",
       "_view_name": "EdgeView",
       "classes": " directed ",
       "data": {
        "source": "6359823548136621464",
        "target": "-3119778409719713563"
       },
       "pannable": true,
       "removed": false,
       "selectable": false,
       "selected": false
      }
     },
     "2249b3bd38944137a70ccc7d642ddae9": {
      "model_module": "jupyter-cytoscape",
      "model_module_version": "^1.3.3",
      "model_name": "EdgeModel",
      "state": {
       "_model_module": "jupyter-cytoscape",
       "_model_module_version": "^1.3.3",
       "_model_name": "EdgeModel",
       "_view_count": null,
       "_view_module": "jupyter-cytoscape",
       "_view_module_version": "^1.3.3",
       "_view_name": "EdgeView",
       "classes": " directed ",
       "data": {
        "source": "6574891433908704754",
        "target": "-3436625259823024823"
       },
       "pannable": true,
       "removed": false,
       "selectable": false,
       "selected": false
      }
     },
     "23fc91fc004a426c9960c595cafd52c2": {
      "model_module": "jupyter-cytoscape",
      "model_module_version": "^1.3.3",
      "model_name": "NodeModel",
      "state": {
       "_model_module": "jupyter-cytoscape",
       "_model_module_version": "^1.3.3",
       "_model_name": "NodeModel",
       "_view_count": null,
       "_view_module": "jupyter-cytoscape",
       "_view_module_version": "^1.3.3",
       "_view_name": "NodeView",
       "classes": "",
       "data": {
        "color": "gray",
        "id": "4305152143068885112",
        "label": "3",
        "shape": "rectangle"
       },
       "grabbable": true,
       "grabbed": false,
       "locked": false,
       "pannable": false,
       "position": {},
       "removed": false,
       "selectable": false,
       "selected": false
      }
     },
     "2488f11b2c1240e5b4df9d97e4513ccd": {
      "model_module": "jupyter-cytoscape",
      "model_module_version": "^1.3.3",
      "model_name": "NodeModel",
      "state": {
       "_model_module": "jupyter-cytoscape",
       "_model_module_version": "^1.3.3",
       "_model_name": "NodeModel",
       "_view_count": null,
       "_view_module": "jupyter-cytoscape",
       "_view_module_version": "^1.3.3",
       "_view_name": "NodeView",
       "classes": "",
       "data": {
        "color": "gray",
        "id": "-881774921856154227",
        "label": "getitem",
        "shape": "ellipse"
       },
       "grabbable": true,
       "grabbed": false,
       "locked": false,
       "pannable": false,
       "position": {},
       "removed": false,
       "selectable": false,
       "selected": false
      }
     },
     "24daac26dcbc4601baf6e1b3eb6c9929": {
      "model_module": "jupyter-cytoscape",
      "model_module_version": "^1.3.3",
      "model_name": "NodeModel",
      "state": {
       "_model_module": "jupyter-cytoscape",
       "_model_module_version": "^1.3.3",
       "_model_name": "NodeModel",
       "_view_count": null,
       "_view_module": "jupyter-cytoscape",
       "_view_module_version": "^1.3.3",
       "_view_name": "NodeView",
       "classes": "",
       "data": {
        "color": "gray",
        "id": "2690585415939583053",
        "label": "1",
        "shape": "rectangle"
       },
       "grabbable": true,
       "grabbed": false,
       "locked": false,
       "pannable": false,
       "position": {},
       "removed": false,
       "selectable": false,
       "selected": false
      }
     },
     "25795b8039dc40aab29517548e857aca": {
      "model_module": "jupyter-cytoscape",
      "model_module_version": "^1.3.3",
      "model_name": "NodeModel",
      "state": {
       "_model_module": "jupyter-cytoscape",
       "_model_module_version": "^1.3.3",
       "_model_name": "NodeModel",
       "_view_count": null,
       "_view_module": "jupyter-cytoscape",
       "_view_module_version": "^1.3.3",
       "_view_name": "NodeView",
       "classes": "",
       "data": {
        "color": "gray",
        "id": "-9035170681947011749",
        "label": "read-csv",
        "shape": "ellipse"
       },
       "grabbable": true,
       "grabbed": false,
       "locked": false,
       "pannable": false,
       "position": {},
       "removed": false,
       "selectable": false,
       "selected": false
      }
     },
     "25e0b0a93a4442e9b1c33a5339b66355": {
      "model_module": "jupyter-cytoscape",
      "model_module_version": "^1.3.3",
      "model_name": "EdgeModel",
      "state": {
       "_model_module": "jupyter-cytoscape",
       "_model_module_version": "^1.3.3",
       "_model_name": "EdgeModel",
       "_view_count": null,
       "_view_module": "jupyter-cytoscape",
       "_view_module_version": "^1.3.3",
       "_view_name": "EdgeView",
       "classes": " directed ",
       "data": {
        "source": "6712908430176316005",
        "target": "-3545348839568012685"
       },
       "pannable": true,
       "removed": false,
       "selectable": false,
       "selected": false
      }
     },
     "25f98735013347db9b7e4c48c8f5f546": {
      "model_module": "jupyter-cytoscape",
      "model_module_version": "^1.3.3",
      "model_name": "EdgeModel",
      "state": {
       "_model_module": "jupyter-cytoscape",
       "_model_module_version": "^1.3.3",
       "_model_name": "EdgeModel",
       "_view_count": null,
       "_view_module": "jupyter-cytoscape",
       "_view_module_version": "^1.3.3",
       "_view_name": "EdgeView",
       "classes": " directed ",
       "data": {
        "source": "-8481653017237151666",
        "target": "6137237358810427962"
       },
       "pannable": true,
       "removed": false,
       "selectable": false,
       "selected": false
      }
     },
     "26d3075fd1214b05abdd09ed3b3d7678": {
      "model_module": "jupyter-cytoscape",
      "model_module_version": "^1.3.3",
      "model_name": "NodeModel",
      "state": {
       "_model_module": "jupyter-cytoscape",
       "_model_module_version": "^1.3.3",
       "_model_name": "NodeModel",
       "_view_count": null,
       "_view_module": "jupyter-cytoscape",
       "_view_module_version": "^1.3.3",
       "_view_name": "NodeView",
       "classes": "",
       "data": {
        "color": "gray",
        "id": "732663254807715673",
        "label": "moment_combine-partial",
        "shape": "ellipse"
       },
       "grabbable": true,
       "grabbed": false,
       "locked": false,
       "pannable": false,
       "position": {},
       "removed": false,
       "selectable": false,
       "selected": false
      }
     },
     "276419debede4bdb91f82f3e58dca64a": {
      "model_module": "jupyter-cytoscape",
      "model_module_version": "^1.3.3",
      "model_name": "EdgeModel",
      "state": {
       "_model_module": "jupyter-cytoscape",
       "_model_module_version": "^1.3.3",
       "_model_name": "EdgeModel",
       "_view_count": null,
       "_view_module": "jupyter-cytoscape",
       "_view_module_version": "^1.3.3",
       "_view_name": "EdgeView",
       "classes": " directed ",
       "data": {
        "source": "-2004269603136958637",
        "target": "-5698307822963293241"
       },
       "pannable": true,
       "removed": false,
       "selectable": false,
       "selected": false
      }
     },
     "2785940d53b14d50b28d062b3d2aecbe": {
      "model_module": "jupyter-cytoscape",
      "model_module_version": "^1.3.3",
      "model_name": "NodeModel",
      "state": {
       "_model_module": "jupyter-cytoscape",
       "_model_module_version": "^1.3.3",
       "_model_name": "NodeModel",
       "_view_count": null,
       "_view_module": "jupyter-cytoscape",
       "_view_module_version": "^1.3.3",
       "_view_name": "NodeView",
       "classes": "",
       "data": {
        "color": "gray",
        "id": "6958064958794954856",
        "label": "getitem",
        "shape": "ellipse"
       },
       "grabbable": true,
       "grabbed": false,
       "locked": false,
       "pannable": false,
       "position": {},
       "removed": false,
       "selectable": false,
       "selected": false
      }
     },
     "27a182d500234d9c849e63fc6deb3c97": {
      "model_module": "jupyter-cytoscape",
      "model_module_version": "^1.3.3",
      "model_name": "EdgeModel",
      "state": {
       "_model_module": "jupyter-cytoscape",
       "_model_module_version": "^1.3.3",
       "_model_name": "EdgeModel",
       "_view_count": null,
       "_view_module": "jupyter-cytoscape",
       "_view_module_version": "^1.3.3",
       "_view_name": "EdgeView",
       "classes": " directed ",
       "data": {
        "source": "5123818312412160989",
        "target": "-7332920690604205715"
       },
       "pannable": true,
       "removed": false,
       "selectable": false,
       "selected": false
      }
     },
     "29691264b30940bf86afd6f811966d76": {
      "model_module": "jupyter-cytoscape",
      "model_module_version": "^1.3.3",
      "model_name": "NodeModel",
      "state": {
       "_model_module": "jupyter-cytoscape",
       "_model_module_version": "^1.3.3",
       "_model_name": "NodeModel",
       "_view_count": null,
       "_view_module": "jupyter-cytoscape",
       "_view_module_version": "^1.3.3",
       "_view_name": "NodeView",
       "classes": "",
       "data": {
        "color": "gray",
        "id": "3590915838886174941",
        "label": "0",
        "shape": "rectangle"
       },
       "grabbable": true,
       "grabbed": false,
       "locked": false,
       "pannable": false,
       "position": {},
       "removed": false,
       "selectable": false,
       "selected": false
      }
     },
     "2a46892734b54062968fec198fc0f229": {
      "model_module": "jupyter-cytoscape",
      "model_module_version": "^1.3.3",
      "model_name": "NodeModel",
      "state": {
       "_model_module": "jupyter-cytoscape",
       "_model_module_version": "^1.3.3",
       "_model_name": "NodeModel",
       "_view_count": null,
       "_view_module": "jupyter-cytoscape",
       "_view_module_version": "^1.3.3",
       "_view_name": "NodeView",
       "classes": "",
       "data": {
        "color": "gray",
        "id": "-6398656257391111230",
        "label": "values",
        "shape": "ellipse"
       },
       "grabbable": true,
       "grabbed": false,
       "locked": false,
       "pannable": false,
       "position": {},
       "removed": false,
       "selectable": false,
       "selected": false
      }
     },
     "2b38c0f5a00948629ef7f31a7cfe5aef": {
      "model_module": "jupyter-cytoscape",
      "model_module_version": "^1.3.3",
      "model_name": "EdgeModel",
      "state": {
       "_model_module": "jupyter-cytoscape",
       "_model_module_version": "^1.3.3",
       "_model_name": "EdgeModel",
       "_view_count": null,
       "_view_module": "jupyter-cytoscape",
       "_view_module_version": "^1.3.3",
       "_view_name": "EdgeView",
       "classes": " directed ",
       "data": {
        "source": "875396549473475585",
        "target": "-5537164860749842763"
       },
       "pannable": true,
       "removed": false,
       "selectable": false,
       "selected": false
      }
     },
     "2b5a31342f794d9d97daecb7b1250ac2": {
      "model_module": "jupyter-cytoscape",
      "model_module_version": "^1.3.3",
      "model_name": "EdgeModel",
      "state": {
       "_model_module": "jupyter-cytoscape",
       "_model_module_version": "^1.3.3",
       "_model_name": "EdgeModel",
       "_view_count": null,
       "_view_module": "jupyter-cytoscape",
       "_view_module_version": "^1.3.3",
       "_view_name": "EdgeView",
       "classes": " directed ",
       "data": {
        "source": "-2632498354674451781",
        "target": "-6897343632109655003"
       },
       "pannable": true,
       "removed": false,
       "selectable": false,
       "selected": false
      }
     },
     "2c74951dfb254f768b8a5ef0e748997f": {
      "model_module": "jupyter-cytoscape",
      "model_module_version": "^1.3.3",
      "model_name": "NodeModel",
      "state": {
       "_model_module": "jupyter-cytoscape",
       "_model_module_version": "^1.3.3",
       "_model_name": "NodeModel",
       "_view_count": null,
       "_view_module": "jupyter-cytoscape",
       "_view_module_version": "^1.3.3",
       "_view_name": "NodeView",
       "classes": "",
       "data": {
        "color": "gray",
        "id": "-6395418816157001196",
        "label": "5",
        "shape": "rectangle"
       },
       "grabbable": true,
       "grabbed": false,
       "locked": false,
       "pannable": false,
       "position": {},
       "removed": false,
       "selectable": false,
       "selected": false
      }
     },
     "2cdc9488c94446958426f198a811639e": {
      "model_module": "jupyter-cytoscape",
      "model_module_version": "^1.3.3",
      "model_name": "EdgeModel",
      "state": {
       "_model_module": "jupyter-cytoscape",
       "_model_module_version": "^1.3.3",
       "_model_name": "EdgeModel",
       "_view_count": null,
       "_view_module": "jupyter-cytoscape",
       "_view_module_version": "^1.3.3",
       "_view_name": "EdgeView",
       "classes": " directed ",
       "data": {
        "source": "-4825757750512858433",
        "target": "1521361487213819043"
       },
       "pannable": true,
       "removed": false,
       "selectable": false,
       "selected": false
      }
     },
     "2d00c5b373404d9aadc1a1174e51346b": {
      "model_module": "jupyter-cytoscape",
      "model_module_version": "^1.3.3",
      "model_name": "NodeModel",
      "state": {
       "_model_module": "jupyter-cytoscape",
       "_model_module_version": "^1.3.3",
       "_model_name": "NodeModel",
       "_view_count": null,
       "_view_module": "jupyter-cytoscape",
       "_view_module_version": "^1.3.3",
       "_view_name": "NodeView",
       "classes": "",
       "data": {
        "color": "gray",
        "id": "-3119778409719713563",
        "label": "0",
        "shape": "rectangle"
       },
       "grabbable": true,
       "grabbed": false,
       "locked": false,
       "pannable": false,
       "position": {},
       "removed": false,
       "selectable": false,
       "selected": false
      }
     },
     "2d2db39048624559b02d3100b0060d16": {
      "model_module": "jupyter-cytoscape",
      "model_module_version": "^1.3.3",
      "model_name": "NodeModel",
      "state": {
       "_model_module": "jupyter-cytoscape",
       "_model_module_version": "^1.3.3",
       "_model_name": "NodeModel",
       "_view_count": null,
       "_view_module": "jupyter-cytoscape",
       "_view_module_version": "^1.3.3",
       "_view_name": "NodeView",
       "classes": "",
       "data": {
        "color": "gray",
        "id": "-5599978414656692183",
        "label": "read-csv",
        "shape": "ellipse"
       },
       "grabbable": true,
       "grabbed": false,
       "locked": false,
       "pannable": false,
       "position": {},
       "removed": false,
       "selectable": false,
       "selected": false
      }
     },
     "2d3861f8da9c4213be8f50771dec7e05": {
      "model_module": "jupyter-cytoscape",
      "model_module_version": "^1.3.3",
      "model_name": "EdgeModel",
      "state": {
       "_model_module": "jupyter-cytoscape",
       "_model_module_version": "^1.3.3",
       "_model_name": "EdgeModel",
       "_view_count": null,
       "_view_module": "jupyter-cytoscape",
       "_view_module_version": "^1.3.3",
       "_view_name": "EdgeView",
       "classes": " directed ",
       "data": {
        "source": "-7339856667887145250",
        "target": "-3942938910880416882"
       },
       "pannable": true,
       "removed": false,
       "selectable": false,
       "selected": false
      }
     },
     "2e524b287e6c47a29abf2cd640c72222": {
      "model_module": "jupyter-cytoscape",
      "model_module_version": "^1.3.3",
      "model_name": "EdgeModel",
      "state": {
       "_model_module": "jupyter-cytoscape",
       "_model_module_version": "^1.3.3",
       "_model_name": "EdgeModel",
       "_view_count": null,
       "_view_module": "jupyter-cytoscape",
       "_view_module_version": "^1.3.3",
       "_view_name": "EdgeView",
       "classes": " directed ",
       "data": {
        "source": "6210983614223662198",
        "target": "-5698307822963293241"
       },
       "pannable": true,
       "removed": false,
       "selectable": false,
       "selected": false
      }
     },
     "2f29a9739ba6403f959ce74bd4778b51": {
      "model_module": "jupyter-cytoscape",
      "model_module_version": "^1.3.3",
      "model_name": "EdgeModel",
      "state": {
       "_model_module": "jupyter-cytoscape",
       "_model_module_version": "^1.3.3",
       "_model_name": "EdgeModel",
       "_view_count": null,
       "_view_module": "jupyter-cytoscape",
       "_view_module_version": "^1.3.3",
       "_view_name": "EdgeView",
       "classes": " directed ",
       "data": {
        "source": "-362098745694655138",
        "target": "-8182258083319309490"
       },
       "pannable": true,
       "removed": false,
       "selectable": false,
       "selected": false
      }
     },
     "2fd6cf48afa94e36907d9dd99dbe6637": {
      "model_module": "jupyter-cytoscape",
      "model_module_version": "^1.3.3",
      "model_name": "NodeModel",
      "state": {
       "_model_module": "jupyter-cytoscape",
       "_model_module_version": "^1.3.3",
       "_model_name": "NodeModel",
       "_view_count": null,
       "_view_module": "jupyter-cytoscape",
       "_view_module_version": "^1.3.3",
       "_view_name": "NodeView",
       "classes": "",
       "data": {
        "color": "gray",
        "id": "4596416887094360139",
        "label": "0",
        "shape": "rectangle"
       },
       "grabbable": true,
       "grabbed": false,
       "locked": false,
       "pannable": false,
       "position": {},
       "removed": false,
       "selectable": false,
       "selected": false
      }
     },
     "2ffd259a5a3e44faba4fbf65ad665160": {
      "model_module": "jupyter-cytoscape",
      "model_module_version": "^1.3.3",
      "model_name": "EdgeModel",
      "state": {
       "_model_module": "jupyter-cytoscape",
       "_model_module_version": "^1.3.3",
       "_model_name": "EdgeModel",
       "_view_count": null,
       "_view_module": "jupyter-cytoscape",
       "_view_module_version": "^1.3.3",
       "_view_name": "EdgeView",
       "classes": " directed ",
       "data": {
        "source": "-4021630845364285391",
        "target": "-4986279268888179382"
       },
       "pannable": true,
       "removed": false,
       "selectable": false,
       "selected": false
      }
     },
     "301d46dd1f0e4423b1b6b49ca212a726": {
      "model_module": "jupyter-cytoscape",
      "model_module_version": "^1.3.3",
      "model_name": "NodeModel",
      "state": {
       "_model_module": "jupyter-cytoscape",
       "_model_module_version": "^1.3.3",
       "_model_name": "NodeModel",
       "_view_count": null,
       "_view_module": "jupyter-cytoscape",
       "_view_module_version": "^1.3.3",
       "_view_name": "NodeView",
       "classes": "",
       "data": {
        "color": "gray",
        "id": "239515696287976210",
        "label": "read-csv",
        "shape": "ellipse"
       },
       "grabbable": true,
       "grabbed": false,
       "locked": false,
       "pannable": false,
       "position": {},
       "removed": false,
       "selectable": false,
       "selected": false
      }
     },
     "326187fdc67045b79648253241d74458": {
      "model_module": "jupyter-cytoscape",
      "model_module_version": "^1.3.3",
      "model_name": "NodeModel",
      "state": {
       "_model_module": "jupyter-cytoscape",
       "_model_module_version": "^1.3.3",
       "_model_name": "NodeModel",
       "_view_count": null,
       "_view_module": "jupyter-cytoscape",
       "_view_module_version": "^1.3.3",
       "_view_name": "NodeView",
       "classes": "",
       "data": {
        "color": "gray",
        "id": "-7332920690604205715",
        "label": "moment_agg-aggregate",
        "shape": "ellipse"
       },
       "grabbable": true,
       "grabbed": false,
       "locked": false,
       "pannable": false,
       "position": {},
       "removed": false,
       "selectable": false,
       "selected": false
      }
     },
     "32e7ee693d8e465cb6329275c19dd144": {
      "model_module": "jupyter-cytoscape",
      "model_module_version": "^1.3.3",
      "model_name": "EdgeModel",
      "state": {
       "_model_module": "jupyter-cytoscape",
       "_model_module_version": "^1.3.3",
       "_model_name": "EdgeModel",
       "_view_count": null,
       "_view_module": "jupyter-cytoscape",
       "_view_module_version": "^1.3.3",
       "_view_name": "EdgeView",
       "classes": " directed ",
       "data": {
        "source": "4960324706779402695",
        "target": "-3961610480436276557"
       },
       "pannable": true,
       "removed": false,
       "selectable": false,
       "selected": false
      }
     },
     "32fab709b46a4bb8850bc4b1760f3af1": {
      "model_module": "jupyter-cytoscape",
      "model_module_version": "^1.3.3",
      "model_name": "EdgeModel",
      "state": {
       "_model_module": "jupyter-cytoscape",
       "_model_module_version": "^1.3.3",
       "_model_name": "EdgeModel",
       "_view_count": null,
       "_view_module": "jupyter-cytoscape",
       "_view_module_version": "^1.3.3",
       "_view_name": "EdgeView",
       "classes": " directed ",
       "data": {
        "source": "-3119778409719713563",
        "target": "-4777629558972427861"
       },
       "pannable": true,
       "removed": false,
       "selectable": false,
       "selected": false
      }
     },
     "339861a2480045c2937211b55590a497": {
      "model_module": "jupyter-cytoscape",
      "model_module_version": "^1.3.3",
      "model_name": "EdgeModel",
      "state": {
       "_model_module": "jupyter-cytoscape",
       "_model_module_version": "^1.3.3",
       "_model_name": "EdgeModel",
       "_view_count": null,
       "_view_module": "jupyter-cytoscape",
       "_view_module_version": "^1.3.3",
       "_view_name": "EdgeView",
       "classes": " directed ",
       "data": {
        "source": "-6365505096131322341",
        "target": "-3611628160301935127"
       },
       "pannable": true,
       "removed": false,
       "selectable": false,
       "selected": false
      }
     },
     "3410c109ae90408f8ef12c74cb620b88": {
      "model_module": "jupyter-cytoscape",
      "model_module_version": "^1.3.3",
      "model_name": "EdgeModel",
      "state": {
       "_model_module": "jupyter-cytoscape",
       "_model_module_version": "^1.3.3",
       "_model_name": "EdgeModel",
       "_view_count": null,
       "_view_module": "jupyter-cytoscape",
       "_view_module_version": "^1.3.3",
       "_view_name": "EdgeView",
       "classes": " directed ",
       "data": {
        "source": "6213813376849710000",
        "target": "-2134375285019937558"
       },
       "pannable": true,
       "removed": false,
       "selectable": false,
       "selected": false
      }
     },
     "34181c31fb6c48e38ed78abdd5a8fbde": {
      "model_module": "jupyter-cytoscape",
      "model_module_version": "^1.3.3",
      "model_name": "NodeModel",
      "state": {
       "_model_module": "jupyter-cytoscape",
       "_model_module_version": "^1.3.3",
       "_model_name": "NodeModel",
       "_view_count": null,
       "_view_module": "jupyter-cytoscape",
       "_view_module_version": "^1.3.3",
       "_view_name": "NodeView",
       "classes": "",
       "data": {
        "color": "gray",
        "id": "4608825994827299251",
        "label": "moment_chunk",
        "shape": "ellipse"
       },
       "grabbable": true,
       "grabbed": false,
       "locked": false,
       "pannable": false,
       "position": {},
       "removed": false,
       "selectable": false,
       "selected": false
      }
     },
     "35d655471a0440e58fe3614f2f65adf8": {
      "model_module": "jupyter-cytoscape",
      "model_module_version": "^1.3.3",
      "model_name": "NodeModel",
      "state": {
       "_model_module": "jupyter-cytoscape",
       "_model_module_version": "^1.3.3",
       "_model_name": "NodeModel",
       "_view_count": null,
       "_view_module": "jupyter-cytoscape",
       "_view_module_version": "^1.3.3",
       "_view_name": "NodeView",
       "classes": "",
       "data": {
        "color": "gray",
        "id": "-6871817527113344389",
        "label": "series-sum-chunk",
        "shape": "ellipse"
       },
       "grabbable": true,
       "grabbed": false,
       "locked": false,
       "pannable": false,
       "position": {},
       "removed": false,
       "selectable": false,
       "selected": false
      }
     },
     "36f14c4f07e846149083e1169521a76d": {
      "model_module": "jupyter-cytoscape",
      "model_module_version": "^1.3.3",
      "model_name": "EdgeModel",
      "state": {
       "_model_module": "jupyter-cytoscape",
       "_model_module_version": "^1.3.3",
       "_model_name": "EdgeModel",
       "_view_count": null,
       "_view_module": "jupyter-cytoscape",
       "_view_module_version": "^1.3.3",
       "_view_name": "EdgeView",
       "classes": " directed ",
       "data": {
        "source": "5543684501450551995",
        "target": "1536790159956288715"
       },
       "pannable": true,
       "removed": false,
       "selectable": false,
       "selected": false
      }
     },
     "37180d2a82ab435ba0efcf507106d22d": {
      "model_module": "jupyter-cytoscape",
      "model_module_version": "^1.3.3",
      "model_name": "EdgeModel",
      "state": {
       "_model_module": "jupyter-cytoscape",
       "_model_module_version": "^1.3.3",
       "_model_name": "EdgeModel",
       "_view_count": null,
       "_view_module": "jupyter-cytoscape",
       "_view_module_version": "^1.3.3",
       "_view_name": "EdgeView",
       "classes": " directed ",
       "data": {
        "source": "-6511679988241542503",
        "target": "6958064958794954856"
       },
       "pannable": true,
       "removed": false,
       "selectable": false,
       "selected": false
      }
     },
     "373886b018b344d5be00399e645b56d6": {
      "model_module": "jupyter-cytoscape",
      "model_module_version": "^1.3.3",
      "model_name": "EdgeModel",
      "state": {
       "_model_module": "jupyter-cytoscape",
       "_model_module_version": "^1.3.3",
       "_model_name": "EdgeModel",
       "_view_count": null,
       "_view_module": "jupyter-cytoscape",
       "_view_module_version": "^1.3.3",
       "_view_name": "EdgeView",
       "classes": " directed ",
       "data": {
        "source": "8333491756850144735",
        "target": "-5700515573070889553"
       },
       "pannable": true,
       "removed": false,
       "selectable": false,
       "selected": false
      }
     },
     "3751bb14e10348b0ab4e948acbee61c3": {
      "model_module": "jupyter-cytoscape",
      "model_module_version": "^1.3.3",
      "model_name": "EdgeModel",
      "state": {
       "_model_module": "jupyter-cytoscape",
       "_model_module_version": "^1.3.3",
       "_model_name": "EdgeModel",
       "_view_count": null,
       "_view_module": "jupyter-cytoscape",
       "_view_module_version": "^1.3.3",
       "_view_name": "EdgeView",
       "classes": " directed ",
       "data": {
        "source": "5100397946538107319",
        "target": "-6869739501796653563"
       },
       "pannable": true,
       "removed": false,
       "selectable": false,
       "selected": false
      }
     },
     "37f630c435174a658c618cd839089076": {
      "model_module": "jupyter-cytoscape",
      "model_module_version": "^1.3.3",
      "model_name": "EdgeModel",
      "state": {
       "_model_module": "jupyter-cytoscape",
       "_model_module_version": "^1.3.3",
       "_model_name": "EdgeModel",
       "_view_count": null,
       "_view_module": "jupyter-cytoscape",
       "_view_module_version": "^1.3.3",
       "_view_name": "EdgeView",
       "classes": " directed ",
       "data": {
        "source": "-788537035052247975",
        "target": "-3817055340162415372"
       },
       "pannable": true,
       "removed": false,
       "selectable": false,
       "selected": false
      }
     },
     "3887a9556b7f48458cd24bb0c2ffcf58": {
      "model_module": "jupyter-cytoscape",
      "model_module_version": "^1.3.3",
      "model_name": "EdgeModel",
      "state": {
       "_model_module": "jupyter-cytoscape",
       "_model_module_version": "^1.3.3",
       "_model_name": "EdgeModel",
       "_view_count": null,
       "_view_module": "jupyter-cytoscape",
       "_view_module_version": "^1.3.3",
       "_view_name": "EdgeView",
       "classes": " directed ",
       "data": {
        "source": "6129548635505166705",
        "target": "-6398656257391111230"
       },
       "pannable": true,
       "removed": false,
       "selectable": false,
       "selected": false
      }
     },
     "396239019cc4461da39b01bbf2a3e220": {
      "model_module": "jupyter-cytoscape",
      "model_module_version": "^1.3.3",
      "model_name": "NodeModel",
      "state": {
       "_model_module": "jupyter-cytoscape",
       "_model_module_version": "^1.3.3",
       "_model_name": "NodeModel",
       "_view_count": null,
       "_view_module": "jupyter-cytoscape",
       "_view_module_version": "^1.3.3",
       "_view_name": "NodeView",
       "classes": "",
       "data": {
        "color": "gray",
        "id": "-1984177896369359741",
        "label": "getitem",
        "shape": "ellipse"
       },
       "grabbable": true,
       "grabbed": false,
       "locked": false,
       "pannable": false,
       "position": {},
       "removed": false,
       "selectable": false,
       "selected": false
      }
     },
     "3aff5618eb5644178ce3b4be961da171": {
      "model_module": "jupyter-cytoscape",
      "model_module_version": "^1.3.3",
      "model_name": "EdgeModel",
      "state": {
       "_model_module": "jupyter-cytoscape",
       "_model_module_version": "^1.3.3",
       "_model_name": "EdgeModel",
       "_view_count": null,
       "_view_module": "jupyter-cytoscape",
       "_view_module_version": "^1.3.3",
       "_view_name": "EdgeView",
       "classes": " directed ",
       "data": {
        "source": "-1601450621132917475",
        "target": "875396549473475585"
       },
       "pannable": true,
       "removed": false,
       "selectable": false,
       "selected": false
      }
     },
     "3b7c05f022274c4e95f629f0723d60dd": {
      "model_module": "jupyter-cytoscape",
      "model_module_version": "^1.3.3",
      "model_name": "NodeModel",
      "state": {
       "_model_module": "jupyter-cytoscape",
       "_model_module_version": "^1.3.3",
       "_model_name": "NodeModel",
       "_view_count": null,
       "_view_module": "jupyter-cytoscape",
       "_view_module_version": "^1.3.3",
       "_view_name": "NodeView",
       "classes": "",
       "data": {
        "color": "gray",
        "id": "6686583754629005643",
        "label": "7",
        "shape": "rectangle"
       },
       "grabbable": true,
       "grabbed": false,
       "locked": false,
       "pannable": false,
       "position": {},
       "removed": false,
       "selectable": false,
       "selected": false
      }
     },
     "3b7e823945b94557811a67e7ddc5ae3d": {
      "model_module": "jupyter-cytoscape",
      "model_module_version": "^1.3.3",
      "model_name": "NodeModel",
      "state": {
       "_model_module": "jupyter-cytoscape",
       "_model_module_version": "^1.3.3",
       "_model_name": "NodeModel",
       "_view_count": null,
       "_view_module": "jupyter-cytoscape",
       "_view_module_version": "^1.3.3",
       "_view_name": "NodeView",
       "classes": "",
       "data": {
        "color": "gray",
        "id": "5608580374990210053",
        "label": "getitem",
        "shape": "ellipse"
       },
       "grabbable": true,
       "grabbed": false,
       "locked": false,
       "pannable": false,
       "position": {},
       "removed": false,
       "selectable": false,
       "selected": false
      }
     },
     "3c33912fbaca43e78470b46dd355ea82": {
      "model_module": "jupyter-cytoscape",
      "model_module_version": "^1.3.3",
      "model_name": "EdgeModel",
      "state": {
       "_model_module": "jupyter-cytoscape",
       "_model_module_version": "^1.3.3",
       "_model_name": "EdgeModel",
       "_view_count": null,
       "_view_module": "jupyter-cytoscape",
       "_view_module_version": "^1.3.3",
       "_view_name": "EdgeView",
       "classes": " directed ",
       "data": {
        "source": "-4795851509508119141",
        "target": "6213813376849710000"
       },
       "pannable": true,
       "removed": false,
       "selectable": false,
       "selected": false
      }
     },
     "3c8d31f2ba624cb1bc3f0de990c41fb2": {
      "model_module": "jupyter-cytoscape",
      "model_module_version": "^1.3.3",
      "model_name": "NodeModel",
      "state": {
       "_model_module": "jupyter-cytoscape",
       "_model_module_version": "^1.3.3",
       "_model_name": "NodeModel",
       "_view_count": null,
       "_view_module": "jupyter-cytoscape",
       "_view_module_version": "^1.3.3",
       "_view_name": "NodeView",
       "classes": "",
       "data": {
        "color": "gray",
        "id": "4137911257607001685",
        "label": "series-count-chunk",
        "shape": "ellipse"
       },
       "grabbable": true,
       "grabbed": false,
       "locked": false,
       "pannable": false,
       "position": {},
       "removed": false,
       "selectable": false,
       "selected": false
      }
     },
     "3cd7ef15dae944ab9032d772685eebf8": {
      "model_module": "jupyter-cytoscape",
      "model_module_version": "^1.3.3",
      "model_name": "NodeModel",
      "state": {
       "_model_module": "jupyter-cytoscape",
       "_model_module_version": "^1.3.3",
       "_model_name": "NodeModel",
       "_view_count": null,
       "_view_module": "jupyter-cytoscape",
       "_view_module_version": "^1.3.3",
       "_view_name": "NodeView",
       "classes": "",
       "data": {
        "color": "gray",
        "id": "3363690593463167935",
        "label": "read-csv",
        "shape": "ellipse"
       },
       "grabbable": true,
       "grabbed": false,
       "locked": false,
       "pannable": false,
       "position": {},
       "removed": false,
       "selectable": false,
       "selected": false
      }
     },
     "3dadd36c358f441e8c37442d8e4623a3": {
      "model_module": "jupyter-cytoscape",
      "model_module_version": "^1.3.3",
      "model_name": "EdgeModel",
      "state": {
       "_model_module": "jupyter-cytoscape",
       "_model_module_version": "^1.3.3",
       "_model_name": "EdgeModel",
       "_view_count": null,
       "_view_module": "jupyter-cytoscape",
       "_view_module_version": "^1.3.3",
       "_view_name": "EdgeView",
       "classes": " directed ",
       "data": {
        "source": "1348166927252771228",
        "target": "2702045091520108396"
       },
       "pannable": true,
       "removed": false,
       "selectable": false,
       "selected": false
      }
     },
     "3e3a1d4d926d46ab898824be4d0af597": {
      "model_module": "jupyter-cytoscape",
      "model_module_version": "^1.3.3",
      "model_name": "NodeModel",
      "state": {
       "_model_module": "jupyter-cytoscape",
       "_model_module_version": "^1.3.3",
       "_model_name": "NodeModel",
       "_view_count": null,
       "_view_module": "jupyter-cytoscape",
       "_view_module_version": "^1.3.3",
       "_view_name": "NodeView",
       "classes": "",
       "data": {
        "color": "gray",
        "id": "1348166927252771228",
        "label": "2",
        "shape": "rectangle"
       },
       "grabbable": true,
       "grabbed": false,
       "locked": false,
       "pannable": false,
       "position": {},
       "removed": false,
       "selectable": false,
       "selected": false
      }
     },
     "3e799873ce9b40b4be22460b3f25d3ed": {
      "model_module": "jupyter-cytoscape",
      "model_module_version": "^1.3.3",
      "model_name": "NodeModel",
      "state": {
       "_model_module": "jupyter-cytoscape",
       "_model_module_version": "^1.3.3",
       "_model_name": "NodeModel",
       "_view_count": null,
       "_view_module": "jupyter-cytoscape",
       "_view_module_version": "^1.3.3",
       "_view_name": "NodeView",
       "classes": "",
       "data": {
        "color": "gray",
        "id": "3997484743404796349",
        "label": "5",
        "shape": "rectangle"
       },
       "grabbable": true,
       "grabbed": false,
       "locked": false,
       "pannable": false,
       "position": {},
       "removed": false,
       "selectable": false,
       "selected": false
      }
     },
     "3eb1b6fb4672478db95e3c52a2e4be64": {
      "model_module": "jupyter-cytoscape",
      "model_module_version": "^1.3.3",
      "model_name": "EdgeModel",
      "state": {
       "_model_module": "jupyter-cytoscape",
       "_model_module_version": "^1.3.3",
       "_model_name": "EdgeModel",
       "_view_count": null,
       "_view_module": "jupyter-cytoscape",
       "_view_module_version": "^1.3.3",
       "_view_name": "EdgeView",
       "classes": " directed ",
       "data": {
        "source": "-6398656257391111230",
        "target": "-6772394645476992832"
       },
       "pannable": true,
       "removed": false,
       "selectable": false,
       "selected": false
      }
     },
     "3ee58e4ccfd04c3c8f3755c27cbea520": {
      "model_module": "jupyter-cytoscape",
      "model_module_version": "^1.3.3",
      "model_name": "NodeModel",
      "state": {
       "_model_module": "jupyter-cytoscape",
       "_model_module_version": "^1.3.3",
       "_model_name": "NodeModel",
       "_view_count": null,
       "_view_module": "jupyter-cytoscape",
       "_view_module_version": "^1.3.3",
       "_view_name": "NodeView",
       "classes": "",
       "data": {
        "color": "gray",
        "id": "8684174807026335051",
        "label": "9",
        "shape": "rectangle"
       },
       "grabbable": true,
       "grabbed": false,
       "locked": false,
       "pannable": false,
       "position": {},
       "removed": false,
       "selectable": false,
       "selected": false
      }
     },
     "3f58f48f70044f968d7fc5e61ad83593": {
      "model_module": "jupyter-cytoscape",
      "model_module_version": "^1.3.3",
      "model_name": "NodeModel",
      "state": {
       "_model_module": "jupyter-cytoscape",
       "_model_module_version": "^1.3.3",
       "_model_name": "NodeModel",
       "_view_count": null,
       "_view_module": "jupyter-cytoscape",
       "_view_module_version": "^1.3.3",
       "_view_name": "NodeView",
       "classes": "",
       "data": {
        "color": "gray",
        "id": "-389702876007656578",
        "label": "8",
        "shape": "rectangle"
       },
       "grabbable": true,
       "grabbed": false,
       "locked": false,
       "pannable": false,
       "position": {},
       "removed": false,
       "selectable": false,
       "selected": false
      }
     },
     "3ff54c1b45a44d4ab903fd656ffe558a": {
      "model_module": "jupyter-cytoscape",
      "model_module_version": "^1.3.3",
      "model_name": "EdgeModel",
      "state": {
       "_model_module": "jupyter-cytoscape",
       "_model_module_version": "^1.3.3",
       "_model_name": "EdgeModel",
       "_view_count": null,
       "_view_module": "jupyter-cytoscape",
       "_view_module_version": "^1.3.3",
       "_view_name": "EdgeView",
       "classes": " directed ",
       "data": {
        "source": "-4085948845941587494",
        "target": "-5537164860749842763"
       },
       "pannable": true,
       "removed": false,
       "selectable": false,
       "selected": false
      }
     },
     "4047f1f56311493b98138216c23f0a01": {
      "model_module": "jupyter-cytoscape",
      "model_module_version": "^1.3.3",
      "model_name": "EdgeModel",
      "state": {
       "_model_module": "jupyter-cytoscape",
       "_model_module_version": "^1.3.3",
       "_model_name": "EdgeModel",
       "_view_count": null,
       "_view_module": "jupyter-cytoscape",
       "_view_module_version": "^1.3.3",
       "_view_name": "EdgeView",
       "classes": " directed ",
       "data": {
        "source": "6686583754629005643",
        "target": "-8381204912575358887"
       },
       "pannable": true,
       "removed": false,
       "selectable": false,
       "selected": false
      }
     },
     "4143430dc5b047478e50fd94a8820940": {
      "model_module": "jupyter-cytoscape",
      "model_module_version": "^1.3.3",
      "model_name": "EdgeModel",
      "state": {
       "_model_module": "jupyter-cytoscape",
       "_model_module_version": "^1.3.3",
       "_model_name": "EdgeModel",
       "_view_count": null,
       "_view_module": "jupyter-cytoscape",
       "_view_module_version": "^1.3.3",
       "_view_name": "EdgeView",
       "classes": " directed ",
       "data": {
        "source": "-1433977818100758417",
        "target": "8848145167266191859"
       },
       "pannable": true,
       "removed": false,
       "selectable": false,
       "selected": false
      }
     },
     "42aed0a10ac4446f8f4540c82abcb899": {
      "model_module": "jupyter-cytoscape",
      "model_module_version": "^1.3.3",
      "model_name": "NodeModel",
      "state": {
       "_model_module": "jupyter-cytoscape",
       "_model_module_version": "^1.3.3",
       "_model_name": "NodeModel",
       "_view_count": null,
       "_view_module": "jupyter-cytoscape",
       "_view_module_version": "^1.3.3",
       "_view_name": "NodeView",
       "classes": "",
       "data": {
        "color": "gray",
        "id": "8377230430045894293",
        "label": "series-count-chunk",
        "shape": "ellipse"
       },
       "grabbable": true,
       "grabbed": false,
       "locked": false,
       "pannable": false,
       "position": {},
       "removed": false,
       "selectable": false,
       "selected": false
      }
     },
     "438bed3c578c4e6c8ec919c356aed94b": {
      "model_module": "jupyter-cytoscape",
      "model_module_version": "^1.3.3",
      "model_name": "EdgeModel",
      "state": {
       "_model_module": "jupyter-cytoscape",
       "_model_module_version": "^1.3.3",
       "_model_name": "EdgeModel",
       "_view_count": null,
       "_view_module": "jupyter-cytoscape",
       "_view_module_version": "^1.3.3",
       "_view_name": "EdgeView",
       "classes": " directed ",
       "data": {
        "source": "8377230430045894293",
        "target": "-2202488613033113313"
       },
       "pannable": true,
       "removed": false,
       "selectable": false,
       "selected": false
      }
     },
     "43b51367f7804b08b8012c2ffd6bee36": {
      "model_module": "jupyter-cytoscape",
      "model_module_version": "^1.3.3",
      "model_name": "EdgeModel",
      "state": {
       "_model_module": "jupyter-cytoscape",
       "_model_module_version": "^1.3.3",
       "_model_name": "EdgeModel",
       "_view_count": null,
       "_view_module": "jupyter-cytoscape",
       "_view_module_version": "^1.3.3",
       "_view_name": "EdgeView",
       "classes": " directed ",
       "data": {
        "source": "-2558665403660712424",
        "target": "-881774921856154227"
       },
       "pannable": true,
       "removed": false,
       "selectable": false,
       "selected": false
      }
     },
     "43c53285741c45fe83e7825761c71c58": {
      "model_module": "jupyter-cytoscape",
      "model_module_version": "^1.3.3",
      "model_name": "EdgeModel",
      "state": {
       "_model_module": "jupyter-cytoscape",
       "_model_module_version": "^1.3.3",
       "_model_name": "EdgeModel",
       "_view_count": null,
       "_view_module": "jupyter-cytoscape",
       "_view_module_version": "^1.3.3",
       "_view_name": "EdgeView",
       "classes": " directed ",
       "data": {
        "source": "-6869739501796653563",
        "target": "-7378131178170736448"
       },
       "pannable": true,
       "removed": false,
       "selectable": false,
       "selected": false
      }
     },
     "443d61b858c546139b410aaa185456a0": {
      "model_module": "jupyter-cytoscape",
      "model_module_version": "^1.3.3",
      "model_name": "EdgeModel",
      "state": {
       "_model_module": "jupyter-cytoscape",
       "_model_module_version": "^1.3.3",
       "_model_name": "EdgeModel",
       "_view_count": null,
       "_view_module": "jupyter-cytoscape",
       "_view_module_version": "^1.3.3",
       "_view_name": "EdgeView",
       "classes": " directed ",
       "data": {
        "source": "2702045091520108396",
        "target": "807125183031108872"
       },
       "pannable": true,
       "removed": false,
       "selectable": false,
       "selected": false
      }
     },
     "444e5151d1434e1eae702459570cb568": {
      "model_module": "jupyter-cytoscape",
      "model_module_version": "^1.3.3",
      "model_name": "EdgeModel",
      "state": {
       "_model_module": "jupyter-cytoscape",
       "_model_module_version": "^1.3.3",
       "_model_name": "EdgeModel",
       "_view_count": null,
       "_view_module": "jupyter-cytoscape",
       "_view_module_version": "^1.3.3",
       "_view_name": "EdgeView",
       "classes": " directed ",
       "data": {
        "source": "4960324706779402695",
        "target": "-4787064828576022683"
       },
       "pannable": true,
       "removed": false,
       "selectable": false,
       "selected": false
      }
     },
     "44bd20496cd844a6a91b048d9884a3e4": {
      "model_module": "jupyter-cytoscape",
      "model_module_version": "^1.3.3",
      "model_name": "EdgeModel",
      "state": {
       "_model_module": "jupyter-cytoscape",
       "_model_module_version": "^1.3.3",
       "_model_name": "EdgeModel",
       "_view_count": null,
       "_view_module": "jupyter-cytoscape",
       "_view_module_version": "^1.3.3",
       "_view_name": "EdgeView",
       "classes": " directed ",
       "data": {
        "source": "4608825994827299251",
        "target": "112221939944997229"
       },
       "pannable": true,
       "removed": false,
       "selectable": false,
       "selected": false
      }
     },
     "451c06e023b1499990a1635a2264f441": {
      "model_module": "jupyter-cytoscape",
      "model_module_version": "^1.3.3",
      "model_name": "EdgeModel",
      "state": {
       "_model_module": "jupyter-cytoscape",
       "_model_module_version": "^1.3.3",
       "_model_name": "EdgeModel",
       "_view_count": null,
       "_view_module": "jupyter-cytoscape",
       "_view_module_version": "^1.3.3",
       "_view_name": "EdgeView",
       "classes": " directed ",
       "data": {
        "source": "1726788667074299288",
        "target": "732663254807715673"
       },
       "pannable": true,
       "removed": false,
       "selectable": false,
       "selected": false
      }
     },
     "452da2b93bc143d584c8929ea6f3b10a": {
      "model_module": "jupyter-cytoscape",
      "model_module_version": "^1.3.3",
      "model_name": "EdgeModel",
      "state": {
       "_model_module": "jupyter-cytoscape",
       "_model_module_version": "^1.3.3",
       "_model_name": "EdgeModel",
       "_view_count": null,
       "_view_module": "jupyter-cytoscape",
       "_view_module_version": "^1.3.3",
       "_view_name": "EdgeView",
       "classes": " directed ",
       "data": {
        "source": "-5599978414656692183",
        "target": "-5725289940757843191"
       },
       "pannable": true,
       "removed": false,
       "selectable": false,
       "selected": false
      }
     },
     "456068112cda46358a07aaef04a6ba19": {
      "model_module": "jupyter-cytoscape",
      "model_module_version": "^1.3.3",
      "model_name": "NodeModel",
      "state": {
       "_model_module": "jupyter-cytoscape",
       "_model_module_version": "^1.3.3",
       "_model_name": "NodeModel",
       "_view_count": null,
       "_view_module": "jupyter-cytoscape",
       "_view_module_version": "^1.3.3",
       "_view_name": "NodeView",
       "classes": "",
       "data": {
        "color": "gray",
        "id": "-436243956634735008",
        "label": "series-sum-chunk",
        "shape": "ellipse"
       },
       "grabbable": true,
       "grabbed": false,
       "locked": false,
       "pannable": false,
       "position": {},
       "removed": false,
       "selectable": false,
       "selected": false
      }
     },
     "45c99f28427447dcac503b1fe37b583d": {
      "model_module": "jupyter-cytoscape",
      "model_module_version": "^1.3.3",
      "model_name": "EdgeModel",
      "state": {
       "_model_module": "jupyter-cytoscape",
       "_model_module_version": "^1.3.3",
       "_model_name": "EdgeModel",
       "_view_count": null,
       "_view_module": "jupyter-cytoscape",
       "_view_module_version": "^1.3.3",
       "_view_name": "EdgeView",
       "classes": " directed ",
       "data": {
        "source": "-8540243123120834407",
        "target": "1252467981434646921"
       },
       "pannable": true,
       "removed": false,
       "selectable": false,
       "selected": false
      }
     },
     "46870253b5514236a802747d0820793f": {
      "model_module": "jupyter-cytoscape",
      "model_module_version": "^1.3.3",
      "model_name": "NodeModel",
      "state": {
       "_model_module": "jupyter-cytoscape",
       "_model_module_version": "^1.3.3",
       "_model_name": "NodeModel",
       "_view_count": null,
       "_view_module": "jupyter-cytoscape",
       "_view_module_version": "^1.3.3",
       "_view_name": "NodeView",
       "classes": "",
       "data": {
        "color": "gray",
        "id": "7383037305575474010",
        "label": "4",
        "shape": "rectangle"
       },
       "grabbable": true,
       "grabbed": false,
       "locked": false,
       "pannable": false,
       "position": {},
       "removed": false,
       "selectable": false,
       "selected": false
      }
     },
     "4759b387f1314461b7a62a3e8e6258b0": {
      "model_module": "jupyter-cytoscape",
      "model_module_version": "^1.3.3",
      "model_name": "NodeModel",
      "state": {
       "_model_module": "jupyter-cytoscape",
       "_model_module_version": "^1.3.3",
       "_model_name": "NodeModel",
       "_view_count": null,
       "_view_module": "jupyter-cytoscape",
       "_view_module_version": "^1.3.3",
       "_view_name": "NodeView",
       "classes": "",
       "data": {
        "color": "gray",
        "id": "-6978778610828150496",
        "label": "7",
        "shape": "rectangle"
       },
       "grabbable": true,
       "grabbed": false,
       "locked": false,
       "pannable": false,
       "position": {},
       "removed": false,
       "selectable": false,
       "selected": false
      }
     },
     "478773a5ba9d4313b438f485311179a3": {
      "model_module": "jupyter-cytoscape",
      "model_module_version": "^1.3.3",
      "model_name": "EdgeModel",
      "state": {
       "_model_module": "jupyter-cytoscape",
       "_model_module_version": "^1.3.3",
       "_model_name": "EdgeModel",
       "_view_count": null,
       "_view_module": "jupyter-cytoscape",
       "_view_module_version": "^1.3.3",
       "_view_name": "EdgeView",
       "classes": " directed ",
       "data": {
        "source": "7383037305575474010",
        "target": "-7219092967625260928"
       },
       "pannable": true,
       "removed": false,
       "selectable": false,
       "selected": false
      }
     },
     "48c63f0fd962434e876aa08548b8c0a9": {
      "model_module": "jupyter-cytoscape",
      "model_module_version": "^1.3.3",
      "model_name": "EdgeModel",
      "state": {
       "_model_module": "jupyter-cytoscape",
       "_model_module_version": "^1.3.3",
       "_model_name": "EdgeModel",
       "_view_count": null,
       "_view_module": "jupyter-cytoscape",
       "_view_module_version": "^1.3.3",
       "_view_name": "EdgeView",
       "classes": " directed ",
       "data": {
        "source": "7744115362634468764",
        "target": "-8239622574812004915"
       },
       "pannable": true,
       "removed": false,
       "selectable": false,
       "selected": false
      }
     },
     "4ad4e6ca59ff43458425c74c798da31d": {
      "model_module": "jupyter-cytoscape",
      "model_module_version": "^1.3.3",
      "model_name": "NodeModel",
      "state": {
       "_model_module": "jupyter-cytoscape",
       "_model_module_version": "^1.3.3",
       "_model_name": "NodeModel",
       "_view_count": null,
       "_view_module": "jupyter-cytoscape",
       "_view_module_version": "^1.3.3",
       "_view_name": "NodeView",
       "classes": "",
       "data": {
        "color": "gray",
        "id": "6574891433908704754",
        "label": "8",
        "shape": "rectangle"
       },
       "grabbable": true,
       "grabbed": false,
       "locked": false,
       "pannable": false,
       "position": {},
       "removed": false,
       "selectable": false,
       "selected": false
      }
     },
     "4da85bd20b3e4dadb921f9574aa0cb99": {
      "model_module": "jupyter-cytoscape",
      "model_module_version": "^1.3.3",
      "model_name": "EdgeModel",
      "state": {
       "_model_module": "jupyter-cytoscape",
       "_model_module_version": "^1.3.3",
       "_model_name": "EdgeModel",
       "_view_count": null,
       "_view_module": "jupyter-cytoscape",
       "_view_module_version": "^1.3.3",
       "_view_name": "EdgeView",
       "classes": " directed ",
       "data": {
        "source": "-1547316049322595730",
        "target": "4490204336024514652"
       },
       "pannable": true,
       "removed": false,
       "selectable": false,
       "selected": false
      }
     },
     "4e4bf7e852c940118b1cdc50e609b5f9": {
      "model_module": "jupyter-cytoscape",
      "model_module_version": "^1.3.3",
      "model_name": "EdgeModel",
      "state": {
       "_model_module": "jupyter-cytoscape",
       "_model_module_version": "^1.3.3",
       "_model_name": "EdgeModel",
       "_view_count": null,
       "_view_module": "jupyter-cytoscape",
       "_view_module_version": "^1.3.3",
       "_view_name": "EdgeView",
       "classes": " directed ",
       "data": {
        "source": "8684174807026335051",
        "target": "5989535129900287639"
       },
       "pannable": true,
       "removed": false,
       "selectable": false,
       "selected": false
      }
     },
     "4e7cb3c8a8844c3fa77133a093269163": {
      "model_module": "jupyter-cytoscape",
      "model_module_version": "^1.3.3",
      "model_name": "EdgeModel",
      "state": {
       "_model_module": "jupyter-cytoscape",
       "_model_module_version": "^1.3.3",
       "_model_name": "EdgeModel",
       "_view_count": null,
       "_view_module": "jupyter-cytoscape",
       "_view_module_version": "^1.3.3",
       "_view_name": "EdgeView",
       "classes": " directed ",
       "data": {
        "source": "2690585415939583053",
        "target": "1756897231286491372"
       },
       "pannable": true,
       "removed": false,
       "selectable": false,
       "selected": false
      }
     },
     "4ea23a8a3803440aa9261a6e631b1262": {
      "model_module": "jupyter-cytoscape",
      "model_module_version": "^1.3.3",
      "model_name": "NodeModel",
      "state": {
       "_model_module": "jupyter-cytoscape",
       "_model_module_version": "^1.3.3",
       "_model_name": "NodeModel",
       "_view_count": null,
       "_view_module": "jupyter-cytoscape",
       "_view_module_version": "^1.3.3",
       "_view_name": "NodeView",
       "classes": "",
       "data": {
        "color": "gray",
        "id": "8890558772377492715",
        "label": "4",
        "shape": "rectangle"
       },
       "grabbable": true,
       "grabbed": false,
       "locked": false,
       "pannable": false,
       "position": {},
       "removed": false,
       "selectable": false,
       "selected": false
      }
     },
     "4ebb4b619b8441c28aa492a1e9c244f7": {
      "model_module": "jupyter-cytoscape",
      "model_module_version": "^1.3.3",
      "model_name": "EdgeModel",
      "state": {
       "_model_module": "jupyter-cytoscape",
       "_model_module_version": "^1.3.3",
       "_model_name": "EdgeModel",
       "_view_count": null,
       "_view_module": "jupyter-cytoscape",
       "_view_module_version": "^1.3.3",
       "_view_name": "EdgeView",
       "classes": " directed ",
       "data": {
        "source": "-8381204912575358887",
        "target": "6145542010407343287"
       },
       "pannable": true,
       "removed": false,
       "selectable": false,
       "selected": false
      }
     },
     "4f516b7209654a8b87bc33b997769ae7": {
      "model_module": "jupyter-cytoscape",
      "model_module_version": "^1.3.3",
      "model_name": "EdgeModel",
      "state": {
       "_model_module": "jupyter-cytoscape",
       "_model_module_version": "^1.3.3",
       "_model_name": "EdgeModel",
       "_view_count": null,
       "_view_module": "jupyter-cytoscape",
       "_view_module_version": "^1.3.3",
       "_view_name": "EdgeView",
       "classes": " directed ",
       "data": {
        "source": "-2159337084952218622",
        "target": "6781275399259862418"
       },
       "pannable": true,
       "removed": false,
       "selectable": false,
       "selected": false
      }
     },
     "4faef680795b4ddfba4483ef0a42ff38": {
      "model_module": "jupyter-cytoscape",
      "model_module_version": "^1.3.3",
      "model_name": "NodeModel",
      "state": {
       "_model_module": "jupyter-cytoscape",
       "_model_module_version": "^1.3.3",
       "_model_name": "NodeModel",
       "_view_count": null,
       "_view_module": "jupyter-cytoscape",
       "_view_module_version": "^1.3.3",
       "_view_name": "NodeView",
       "classes": "",
       "data": {
        "color": "gray",
        "id": "-3488175222488785204",
        "label": "getitem",
        "shape": "ellipse"
       },
       "grabbable": true,
       "grabbed": false,
       "locked": false,
       "pannable": false,
       "position": {},
       "removed": false,
       "selectable": false,
       "selected": false
      }
     },
     "4ffdcba0d8af4362808b823469160507": {
      "model_module": "jupyter-cytoscape",
      "model_module_version": "^1.3.3",
      "model_name": "NodeModel",
      "state": {
       "_model_module": "jupyter-cytoscape",
       "_model_module_version": "^1.3.3",
       "_model_name": "NodeModel",
       "_view_count": null,
       "_view_module": "jupyter-cytoscape",
       "_view_module_version": "^1.3.3",
       "_view_name": "NodeView",
       "classes": "",
       "data": {
        "color": "gray",
        "id": "-6628031145996916368",
        "label": "series-count-chunk",
        "shape": "ellipse"
       },
       "grabbable": true,
       "grabbed": false,
       "locked": false,
       "pannable": false,
       "position": {},
       "removed": false,
       "selectable": false,
       "selected": false
      }
     },
     "50cc1211df0b4db597172ff699e5e29e": {
      "model_module": "jupyter-cytoscape",
      "model_module_version": "^1.3.3",
      "model_name": "EdgeModel",
      "state": {
       "_model_module": "jupyter-cytoscape",
       "_model_module_version": "^1.3.3",
       "_model_name": "EdgeModel",
       "_view_count": null,
       "_view_module": "jupyter-cytoscape",
       "_view_module_version": "^1.3.3",
       "_view_name": "EdgeView",
       "classes": " directed ",
       "data": {
        "source": "6611971506450564705",
        "target": "5151066857489203318"
       },
       "pannable": true,
       "removed": false,
       "selectable": false,
       "selected": false
      }
     },
     "51accff12584436996bf804d250d9bac": {
      "model_module": "jupyter-cytoscape",
      "model_module_version": "^1.3.3",
      "model_name": "NodeModel",
      "state": {
       "_model_module": "jupyter-cytoscape",
       "_model_module_version": "^1.3.3",
       "_model_name": "NodeModel",
       "_view_count": null,
       "_view_module": "jupyter-cytoscape",
       "_view_module_version": "^1.3.3",
       "_view_name": "NodeView",
       "classes": "",
       "data": {
        "color": "gray",
        "id": "7744115362634468764",
        "label": "4",
        "shape": "rectangle"
       },
       "grabbable": true,
       "grabbed": false,
       "locked": false,
       "pannable": false,
       "position": {},
       "removed": false,
       "selectable": false,
       "selected": false
      }
     },
     "5254f28e58e94b46a56436a48b328553": {
      "model_module": "jupyter-cytoscape",
      "model_module_version": "^1.3.3",
      "model_name": "EdgeModel",
      "state": {
       "_model_module": "jupyter-cytoscape",
       "_model_module_version": "^1.3.3",
       "_model_name": "EdgeModel",
       "_view_count": null,
       "_view_module": "jupyter-cytoscape",
       "_view_module_version": "^1.3.3",
       "_view_name": "EdgeView",
       "classes": " directed ",
       "data": {
        "source": "669390781580465024",
        "target": "4514981908375864646"
       },
       "pannable": true,
       "removed": false,
       "selectable": false,
       "selected": false
      }
     },
     "52a4747335a64665a90b41558ad82ec0": {
      "model_module": "jupyter-cytoscape",
      "model_module_version": "^1.3.3",
      "model_name": "NodeModel",
      "state": {
       "_model_module": "jupyter-cytoscape",
       "_model_module_version": "^1.3.3",
       "_model_name": "NodeModel",
       "_view_count": null,
       "_view_module": "jupyter-cytoscape",
       "_view_module_version": "^1.3.3",
       "_view_name": "NodeView",
       "classes": "",
       "data": {
        "color": "gray",
        "id": "7830501447321181324",
        "label": "series-count-chunk",
        "shape": "ellipse"
       },
       "grabbable": true,
       "grabbed": false,
       "locked": false,
       "pannable": false,
       "position": {},
       "removed": false,
       "selectable": false,
       "selected": false
      }
     },
     "52b9d2d614f346329f9a5d41d76bd154": {
      "model_module": "jupyter-cytoscape",
      "model_module_version": "^1.3.3",
      "model_name": "NodeModel",
      "state": {
       "_model_module": "jupyter-cytoscape",
       "_model_module_version": "^1.3.3",
       "_model_name": "NodeModel",
       "_view_count": null,
       "_view_module": "jupyter-cytoscape",
       "_view_module_version": "^1.3.3",
       "_view_name": "NodeView",
       "classes": "",
       "data": {
        "color": "gray",
        "id": "-8540243123120834407",
        "label": "inv",
        "shape": "ellipse"
       },
       "grabbable": true,
       "grabbed": false,
       "locked": false,
       "pannable": false,
       "position": {},
       "removed": false,
       "selectable": false,
       "selected": false
      }
     },
     "52c52d8d127c456098e0332116cf757a": {
      "model_module": "jupyter-cytoscape",
      "model_module_version": "^1.3.3",
      "model_name": "NodeModel",
      "state": {
       "_model_module": "jupyter-cytoscape",
       "_model_module_version": "^1.3.3",
       "_model_name": "NodeModel",
       "_view_count": null,
       "_view_module": "jupyter-cytoscape",
       "_view_module_version": "^1.3.3",
       "_view_name": "NodeView",
       "classes": "",
       "data": {
        "color": "gray",
        "id": "229106684892762560",
        "label": "moment_chunk",
        "shape": "ellipse"
       },
       "grabbable": true,
       "grabbed": false,
       "locked": false,
       "pannable": false,
       "position": {},
       "removed": false,
       "selectable": false,
       "selected": false
      }
     },
     "52c6a41613e6485b8577b0d2be7929cb": {
      "model_module": "jupyter-cytoscape",
      "model_module_version": "^1.3.3",
      "model_name": "EdgeModel",
      "state": {
       "_model_module": "jupyter-cytoscape",
       "_model_module_version": "^1.3.3",
       "_model_name": "EdgeModel",
       "_view_count": null,
       "_view_module": "jupyter-cytoscape",
       "_view_module_version": "^1.3.3",
       "_view_name": "EdgeView",
       "classes": " directed ",
       "data": {
        "source": "-6978778610828150496",
        "target": "7830501447321181324"
       },
       "pannable": true,
       "removed": false,
       "selectable": false,
       "selected": false
      }
     },
     "533a9dc5b2904ebd913f4eeb51a6077e": {
      "model_module": "jupyter-cytoscape",
      "model_module_version": "^1.3.3",
      "model_name": "NodeModel",
      "state": {
       "_model_module": "jupyter-cytoscape",
       "_model_module_version": "^1.3.3",
       "_model_name": "NodeModel",
       "_view_count": null,
       "_view_module": "jupyter-cytoscape",
       "_view_module_version": "^1.3.3",
       "_view_name": "NodeView",
       "classes": "",
       "data": {
        "color": "gray",
        "id": "6611971506450564705",
        "label": "0",
        "shape": "rectangle"
       },
       "grabbable": true,
       "grabbed": false,
       "locked": false,
       "pannable": false,
       "position": {},
       "removed": false,
       "selectable": false,
       "selected": false
      }
     },
     "5393ef76c09e4777b5fed5fa77458471": {
      "model_module": "jupyter-cytoscape",
      "model_module_version": "^1.3.3",
      "model_name": "EdgeModel",
      "state": {
       "_model_module": "jupyter-cytoscape",
       "_model_module_version": "^1.3.3",
       "_model_name": "EdgeModel",
       "_view_count": null,
       "_view_module": "jupyter-cytoscape",
       "_view_module_version": "^1.3.3",
       "_view_name": "EdgeView",
       "classes": " directed ",
       "data": {
        "source": "3135928214343121102",
        "target": "1756897231286491372"
       },
       "pannable": true,
       "removed": false,
       "selectable": false,
       "selected": false
      }
     },
     "56261c33f408422e9bb238f420615bc5": {
      "model_module": "jupyter-cytoscape",
      "model_module_version": "^1.3.3",
      "model_name": "EdgeModel",
      "state": {
       "_model_module": "jupyter-cytoscape",
       "_model_module_version": "^1.3.3",
       "_model_name": "EdgeModel",
       "_view_count": null,
       "_view_module": "jupyter-cytoscape",
       "_view_module_version": "^1.3.3",
       "_view_name": "EdgeView",
       "classes": " directed ",
       "data": {
        "source": "-4780852089027699137",
        "target": "1536790159956288715"
       },
       "pannable": true,
       "removed": false,
       "selectable": false,
       "selected": false
      }
     },
     "56ad102e53d64f2cb5155acd9570dd55": {
      "model_module": "jupyter-cytoscape",
      "model_module_version": "^1.3.3",
      "model_name": "NodeModel",
      "state": {
       "_model_module": "jupyter-cytoscape",
       "_model_module_version": "^1.3.3",
       "_model_name": "NodeModel",
       "_view_count": null,
       "_view_module": "jupyter-cytoscape",
       "_view_module_version": "^1.3.3",
       "_view_name": "NodeView",
       "classes": "",
       "data": {
        "color": "gray",
        "id": "352137558488055033",
        "label": "9",
        "shape": "rectangle"
       },
       "grabbable": true,
       "grabbed": false,
       "locked": false,
       "pannable": false,
       "position": {},
       "removed": false,
       "selectable": false,
       "selected": false
      }
     },
     "57e0770ce0f54f42a035f273326d57c1": {
      "model_module": "jupyter-cytoscape",
      "model_module_version": "^1.3.3",
      "model_name": "NodeModel",
      "state": {
       "_model_module": "jupyter-cytoscape",
       "_model_module_version": "^1.3.3",
       "_model_name": "NodeModel",
       "_view_count": null,
       "_view_module": "jupyter-cytoscape",
       "_view_module_version": "^1.3.3",
       "_view_name": "NodeView",
       "classes": "",
       "data": {
        "color": "gray",
        "id": "5245211587460751399",
        "label": "8",
        "shape": "rectangle"
       },
       "grabbable": true,
       "grabbed": false,
       "locked": false,
       "pannable": false,
       "position": {},
       "removed": false,
       "selectable": false,
       "selected": false
      }
     },
     "58ba825b8ad84f52849e7fe62fc02e00": {
      "model_module": "jupyter-cytoscape",
      "model_module_version": "^1.3.3",
      "model_name": "EdgeModel",
      "state": {
       "_model_module": "jupyter-cytoscape",
       "_model_module_version": "^1.3.3",
       "_model_name": "EdgeModel",
       "_view_count": null,
       "_view_module": "jupyter-cytoscape",
       "_view_module_version": "^1.3.3",
       "_view_name": "EdgeView",
       "classes": " directed ",
       "data": {
        "source": "6129548635505166705",
        "target": "8377230430045894293"
       },
       "pannable": true,
       "removed": false,
       "selectable": false,
       "selected": false
      }
     },
     "5a52695df7ba48eead987db9472e1dd5": {
      "model_module": "jupyter-cytoscape",
      "model_module_version": "^1.3.3",
      "model_name": "EdgeModel",
      "state": {
       "_model_module": "jupyter-cytoscape",
       "_model_module_version": "^1.3.3",
       "_model_name": "EdgeModel",
       "_view_count": null,
       "_view_module": "jupyter-cytoscape",
       "_view_module_version": "^1.3.3",
       "_view_name": "EdgeView",
       "classes": " directed ",
       "data": {
        "source": "4514981908375864646",
        "target": "-5520961639240058378"
       },
       "pannable": true,
       "removed": false,
       "selectable": false,
       "selected": false
      }
     },
     "5a9fe2449060441e8b3abe8d6ea9d1e3": {
      "model_module": "jupyter-cytoscape",
      "model_module_version": "^1.3.3",
      "model_name": "NodeModel",
      "state": {
       "_model_module": "jupyter-cytoscape",
       "_model_module_version": "^1.3.3",
       "_model_name": "NodeModel",
       "_view_count": null,
       "_view_module": "jupyter-cytoscape",
       "_view_module_version": "^1.3.3",
       "_view_name": "NodeView",
       "classes": "",
       "data": {
        "color": "gray",
        "id": "-5802576797857170242",
        "label": "values",
        "shape": "ellipse"
       },
       "grabbable": true,
       "grabbed": false,
       "locked": false,
       "pannable": false,
       "position": {},
       "removed": false,
       "selectable": false,
       "selected": false
      }
     },
     "5aff4a6f3fec4f95afd5878612f1564e": {
      "model_module": "jupyter-cytoscape",
      "model_module_version": "^1.3.3",
      "model_name": "NodeModel",
      "state": {
       "_model_module": "jupyter-cytoscape",
       "_model_module_version": "^1.3.3",
       "_model_name": "NodeModel",
       "_view_count": null,
       "_view_module": "jupyter-cytoscape",
       "_view_module_version": "^1.3.3",
       "_view_name": "NodeView",
       "classes": "",
       "data": {
        "color": "gray",
        "id": "8997604032704776069",
        "label": "6",
        "shape": "rectangle"
       },
       "grabbable": true,
       "grabbed": false,
       "locked": false,
       "pannable": false,
       "position": {},
       "removed": false,
       "selectable": false,
       "selected": false
      }
     },
     "5cfbbe7bedcf4ff4a5845ccbcd7c33dd": {
      "model_module": "jupyter-cytoscape",
      "model_module_version": "^1.3.3",
      "model_name": "EdgeModel",
      "state": {
       "_model_module": "jupyter-cytoscape",
       "_model_module_version": "^1.3.3",
       "_model_name": "EdgeModel",
       "_view_count": null,
       "_view_module": "jupyter-cytoscape",
       "_view_module_version": "^1.3.3",
       "_view_name": "EdgeView",
       "classes": " directed ",
       "data": {
        "source": "1536790159956288715",
        "target": "-1383822443689837436"
       },
       "pannable": true,
       "removed": false,
       "selectable": false,
       "selected": false
      }
     },
     "5d7b1de3162945889330476463804341": {
      "model_module": "jupyter-cytoscape",
      "model_module_version": "^1.3.3",
      "model_name": "NodeModel",
      "state": {
       "_model_module": "jupyter-cytoscape",
       "_model_module_version": "^1.3.3",
       "_model_name": "NodeModel",
       "_view_count": null,
       "_view_module": "jupyter-cytoscape",
       "_view_module_version": "^1.3.3",
       "_view_name": "NodeView",
       "classes": "",
       "data": {
        "color": "gray",
        "id": "-7941618574202756842",
        "label": "6",
        "shape": "rectangle"
       },
       "grabbable": true,
       "grabbed": false,
       "locked": false,
       "pannable": false,
       "position": {},
       "removed": false,
       "selectable": false,
       "selected": false
      }
     },
     "5d8d4cc3ce804ad1b8f9b1fc16aa9654": {
      "model_module": "jupyter-cytoscape",
      "model_module_version": "^1.3.3",
      "model_name": "EdgeModel",
      "state": {
       "_model_module": "jupyter-cytoscape",
       "_model_module_version": "^1.3.3",
       "_model_name": "EdgeModel",
       "_view_count": null,
       "_view_module": "jupyter-cytoscape",
       "_view_module_version": "^1.3.3",
       "_view_name": "EdgeView",
       "classes": " directed ",
       "data": {
        "source": "8886838089203027609",
        "target": "1726788667074299288"
       },
       "pannable": true,
       "removed": false,
       "selectable": false,
       "selected": false
      }
     },
     "5e167472abad4367bc458baacc6de22b": {
      "model_module": "jupyter-cytoscape",
      "model_module_version": "^1.3.3",
      "model_name": "EdgeModel",
      "state": {
       "_model_module": "jupyter-cytoscape",
       "_model_module_version": "^1.3.3",
       "_model_name": "EdgeModel",
       "_view_count": null,
       "_view_module": "jupyter-cytoscape",
       "_view_module_version": "^1.3.3",
       "_view_name": "EdgeView",
       "classes": " directed ",
       "data": {
        "source": "-7219092967625260928",
        "target": "-449382030543082127"
       },
       "pannable": true,
       "removed": false,
       "selectable": false,
       "selected": false
      }
     },
     "5f5bd9ba4a9f4fceb3d36d1b2fcc28d3": {
      "model_module": "jupyter-cytoscape",
      "model_module_version": "^1.3.3",
      "model_name": "NodeModel",
      "state": {
       "_model_module": "jupyter-cytoscape",
       "_model_module_version": "^1.3.3",
       "_model_name": "NodeModel",
       "_view_count": null,
       "_view_module": "jupyter-cytoscape",
       "_view_module_version": "^1.3.3",
       "_view_name": "NodeView",
       "classes": "",
       "data": {
        "color": "gray",
        "id": "3902793098773939574",
        "label": "9",
        "shape": "rectangle"
       },
       "grabbable": true,
       "grabbed": false,
       "locked": false,
       "pannable": false,
       "position": {},
       "removed": false,
       "selectable": false,
       "selected": false
      }
     },
     "5f8d2f31810c4136ad5674e321f3f573": {
      "model_module": "jupyter-cytoscape",
      "model_module_version": "^1.3.3",
      "model_name": "NodeModel",
      "state": {
       "_model_module": "jupyter-cytoscape",
       "_model_module_version": "^1.3.3",
       "_model_name": "NodeModel",
       "_view_count": null,
       "_view_module": "jupyter-cytoscape",
       "_view_module_version": "^1.3.3",
       "_view_name": "NodeView",
       "classes": "",
       "data": {
        "color": "gray",
        "id": "1252467981434646921",
        "label": "8",
        "shape": "rectangle"
       },
       "grabbable": true,
       "grabbed": false,
       "locked": false,
       "pannable": false,
       "position": {},
       "removed": false,
       "selectable": false,
       "selected": false
      }
     },
     "5fa29ba910ba48069c4186d80a50cf74": {
      "model_module": "jupyter-cytoscape",
      "model_module_version": "^1.3.3",
      "model_name": "EdgeModel",
      "state": {
       "_model_module": "jupyter-cytoscape",
       "_model_module_version": "^1.3.3",
       "_model_name": "EdgeModel",
       "_view_count": null,
       "_view_module": "jupyter-cytoscape",
       "_view_module_version": "^1.3.3",
       "_view_name": "EdgeView",
       "classes": " directed ",
       "data": {
        "source": "-266399799876530831",
        "target": "-3345837706779263536"
       },
       "pannable": true,
       "removed": false,
       "selectable": false,
       "selected": false
      }
     },
     "610f52c8e3394e4eb173416488c15f21": {
      "model_module": "jupyter-cytoscape",
      "model_module_version": "^1.3.3",
      "model_name": "EdgeModel",
      "state": {
       "_model_module": "jupyter-cytoscape",
       "_model_module_version": "^1.3.3",
       "_model_name": "EdgeModel",
       "_view_count": null,
       "_view_module": "jupyter-cytoscape",
       "_view_module_version": "^1.3.3",
       "_view_name": "EdgeView",
       "classes": " directed ",
       "data": {
        "source": "875396549473475585",
        "target": "-986031406033874848"
       },
       "pannable": true,
       "removed": false,
       "selectable": false,
       "selected": false
      }
     },
     "618553a3349749cf965f2503e54a830c": {
      "model_module": "jupyter-cytoscape",
      "model_module_version": "^1.3.3",
      "model_name": "NodeModel",
      "state": {
       "_model_module": "jupyter-cytoscape",
       "_model_module_version": "^1.3.3",
       "_model_name": "NodeModel",
       "_view_count": null,
       "_view_module": "jupyter-cytoscape",
       "_view_module_version": "^1.3.3",
       "_view_name": "NodeView",
       "classes": "",
       "data": {
        "color": "gray",
        "id": "1165184696586219932",
        "label": "6",
        "shape": "rectangle"
       },
       "grabbable": true,
       "grabbed": false,
       "locked": false,
       "pannable": false,
       "position": {},
       "removed": false,
       "selectable": false,
       "selected": false
      }
     },
     "61f5681094f94fcf9c1afe86d5d5b7f0": {
      "model_module": "jupyter-cytoscape",
      "model_module_version": "^1.3.3",
      "model_name": "EdgeModel",
      "state": {
       "_model_module": "jupyter-cytoscape",
       "_model_module_version": "^1.3.3",
       "_model_name": "EdgeModel",
       "_view_count": null,
       "_view_module": "jupyter-cytoscape",
       "_view_module_version": "^1.3.3",
       "_view_name": "EdgeView",
       "classes": " directed ",
       "data": {
        "source": "-181904500885301806",
        "target": "1348166927252771228"
       },
       "pannable": true,
       "removed": false,
       "selectable": false,
       "selected": false
      }
     },
     "6236ace0f4634c57bfe0cae65559aff7": {
      "model_module": "jupyter-cytoscape",
      "model_module_version": "^1.3.3",
      "model_name": "NodeModel",
      "state": {
       "_model_module": "jupyter-cytoscape",
       "_model_module_version": "^1.3.3",
       "_model_name": "NodeModel",
       "_view_count": null,
       "_view_module": "jupyter-cytoscape",
       "_view_module_version": "^1.3.3",
       "_view_name": "NodeView",
       "classes": "",
       "data": {
        "color": "gray",
        "id": "1756897231286491372",
        "label": "series-count-agg",
        "shape": "ellipse"
       },
       "grabbable": true,
       "grabbed": false,
       "locked": false,
       "pannable": false,
       "position": {},
       "removed": false,
       "selectable": false,
       "selected": false
      }
     },
     "625e00b24ad5436381385bff26a3d4dc": {
      "model_module": "jupyter-cytoscape",
      "model_module_version": "^1.3.3",
      "model_name": "EdgeModel",
      "state": {
       "_model_module": "jupyter-cytoscape",
       "_model_module_version": "^1.3.3",
       "_model_name": "EdgeModel",
       "_view_count": null,
       "_view_module": "jupyter-cytoscape",
       "_view_module_version": "^1.3.3",
       "_view_name": "EdgeView",
       "classes": " directed ",
       "data": {
        "source": "-7564642744882765206",
        "target": "732663254807715673"
       },
       "pannable": true,
       "removed": false,
       "selectable": false,
       "selected": false
      }
     },
     "635c1e3d8d924870a254cf4398379ade": {
      "model_module": "jupyter-cytoscape",
      "model_module_version": "^1.3.3",
      "model_name": "NodeModel",
      "state": {
       "_model_module": "jupyter-cytoscape",
       "_model_module_version": "^1.3.3",
       "_model_name": "NodeModel",
       "_view_count": null,
       "_view_module": "jupyter-cytoscape",
       "_view_module_version": "^1.3.3",
       "_view_name": "NodeView",
       "classes": "",
       "data": {
        "color": "gray",
        "id": "3361751354552277218",
        "label": "9",
        "shape": "rectangle"
       },
       "grabbable": true,
       "grabbed": false,
       "locked": false,
       "pannable": false,
       "position": {},
       "removed": false,
       "selectable": false,
       "selected": false
      }
     },
     "6365856e78ad4edfbf59040ae3b1218f": {
      "model_module": "jupyter-cytoscape",
      "model_module_version": "^1.3.3",
      "model_name": "NodeModel",
      "state": {
       "_model_module": "jupyter-cytoscape",
       "_model_module_version": "^1.3.3",
       "_model_name": "NodeModel",
       "_view_count": null,
       "_view_module": "jupyter-cytoscape",
       "_view_module_version": "^1.3.3",
       "_view_name": "NodeView",
       "classes": "",
       "data": {
        "color": "gray",
        "id": "-8511910359238957062",
        "label": "5",
        "shape": "rectangle"
       },
       "grabbable": true,
       "grabbed": false,
       "locked": false,
       "pannable": false,
       "position": {},
       "removed": false,
       "selectable": false,
       "selected": false
      }
     },
     "6404e454e4de446f87664dd0277464f4": {
      "model_module": "jupyter-cytoscape",
      "model_module_version": "^1.3.3",
      "model_name": "EdgeModel",
      "state": {
       "_model_module": "jupyter-cytoscape",
       "_model_module_version": "^1.3.3",
       "_model_name": "EdgeModel",
       "_view_count": null,
       "_view_module": "jupyter-cytoscape",
       "_view_module_version": "^1.3.3",
       "_view_name": "EdgeView",
       "classes": " directed ",
       "data": {
        "source": "-1547316049322595730",
        "target": "-4825757750512858433"
       },
       "pannable": true,
       "removed": false,
       "selectable": false,
       "selected": false
      }
     },
     "653a4645a53b4dadb61942b35dfc8cb4": {
      "model_module": "jupyter-cytoscape",
      "model_module_version": "^1.3.3",
      "model_name": "NodeModel",
      "state": {
       "_model_module": "jupyter-cytoscape",
       "_model_module_version": "^1.3.3",
       "_model_name": "NodeModel",
       "_view_count": null,
       "_view_module": "jupyter-cytoscape",
       "_view_module_version": "^1.3.3",
       "_view_name": "NodeView",
       "classes": "",
       "data": {
        "color": "gray",
        "id": "6941364263959001004",
        "label": "inv",
        "shape": "ellipse"
       },
       "grabbable": true,
       "grabbed": false,
       "locked": false,
       "pannable": false,
       "position": {},
       "removed": false,
       "selectable": false,
       "selected": false
      }
     },
     "679c62a4c9744f1db78117417cd80e3f": {
      "model_module": "jupyter-cytoscape",
      "model_module_version": "^1.3.3",
      "model_name": "EdgeModel",
      "state": {
       "_model_module": "jupyter-cytoscape",
       "_model_module_version": "^1.3.3",
       "_model_name": "EdgeModel",
       "_view_count": null,
       "_view_module": "jupyter-cytoscape",
       "_view_module_version": "^1.3.3",
       "_view_name": "EdgeView",
       "classes": " directed ",
       "data": {
        "source": "7383037305575474010",
        "target": "-1825139685823884221"
       },
       "pannable": true,
       "removed": false,
       "selectable": false,
       "selected": false
      }
     },
     "67ffd38d00ec4a1d907173cf1448512a": {
      "model_module": "@jupyter-widgets/base",
      "model_module_version": "1.2.0",
      "model_name": "LayoutModel",
      "state": {
       "_model_module": "@jupyter-widgets/base",
       "_model_module_version": "1.2.0",
       "_model_name": "LayoutModel",
       "_view_count": null,
       "_view_module": "@jupyter-widgets/base",
       "_view_module_version": "1.2.0",
       "_view_name": "LayoutView",
       "align_content": null,
       "align_items": null,
       "align_self": null,
       "border": null,
       "bottom": null,
       "display": null,
       "flex": null,
       "flex_flow": null,
       "grid_area": null,
       "grid_auto_columns": null,
       "grid_auto_flow": null,
       "grid_auto_rows": null,
       "grid_column": null,
       "grid_gap": null,
       "grid_row": null,
       "grid_template_areas": null,
       "grid_template_columns": null,
       "grid_template_rows": null,
       "height": "400px",
       "justify_content": null,
       "justify_items": null,
       "left": null,
       "margin": null,
       "max_height": null,
       "max_width": null,
       "min_height": null,
       "min_width": null,
       "object_fit": null,
       "object_position": null,
       "order": null,
       "overflow": null,
       "overflow_x": null,
       "overflow_y": null,
       "padding": null,
       "right": null,
       "top": null,
       "visibility": null,
       "width": null
      }
     },
     "683c643978a54c73982fdc34367f4a96": {
      "model_module": "jupyter-cytoscape",
      "model_module_version": "^1.3.3",
      "model_name": "NodeModel",
      "state": {
       "_model_module": "jupyter-cytoscape",
       "_model_module_version": "^1.3.3",
       "_model_name": "NodeModel",
       "_view_count": null,
       "_view_module": "jupyter-cytoscape",
       "_view_module_version": "^1.3.3",
       "_view_name": "NodeView",
       "classes": "",
       "data": {
        "color": "gray",
        "id": "-378092120596831720",
        "label": "1",
        "shape": "rectangle"
       },
       "grabbable": true,
       "grabbed": false,
       "locked": false,
       "pannable": false,
       "position": {},
       "removed": false,
       "selectable": false,
       "selected": false
      }
     },
     "68db1efdbaa546aea4fb84ac268dbe83": {
      "model_module": "jupyter-cytoscape",
      "model_module_version": "^1.3.3",
      "model_name": "EdgeModel",
      "state": {
       "_model_module": "jupyter-cytoscape",
       "_model_module_version": "^1.3.3",
       "_model_name": "EdgeModel",
       "_view_count": null,
       "_view_module": "jupyter-cytoscape",
       "_view_module_version": "^1.3.3",
       "_view_name": "EdgeView",
       "classes": " directed ",
       "data": {
        "source": "7849998676930706966",
        "target": "-7564642744882765206"
       },
       "pannable": true,
       "removed": false,
       "selectable": false,
       "selected": false
      }
     },
     "6952f73d5a7f4224aefa715aa7fa46b3": {
      "model_module": "jupyter-cytoscape",
      "model_module_version": "^1.3.3",
      "model_name": "EdgeModel",
      "state": {
       "_model_module": "jupyter-cytoscape",
       "_model_module_version": "^1.3.3",
       "_model_name": "EdgeModel",
       "_view_count": null,
       "_view_module": "jupyter-cytoscape",
       "_view_module_version": "^1.3.3",
       "_view_name": "EdgeView",
       "classes": " directed ",
       "data": {
        "source": "7855807683354769653",
        "target": "6941364263959001004"
       },
       "pannable": true,
       "removed": false,
       "selectable": false,
       "selected": false
      }
     },
     "698eed77b6e34e059dbf671ba61f025c": {
      "model_module": "jupyter-cytoscape",
      "model_module_version": "^1.3.3",
      "model_name": "NodeModel",
      "state": {
       "_model_module": "jupyter-cytoscape",
       "_model_module_version": "^1.3.3",
       "_model_name": "NodeModel",
       "_view_count": null,
       "_view_module": "jupyter-cytoscape",
       "_view_module_version": "^1.3.3",
       "_view_name": "NodeView",
       "classes": "",
       "data": {
        "color": "gray",
        "id": "-788537035052247975",
        "label": "series-count-chunk",
        "shape": "ellipse"
       },
       "grabbable": true,
       "grabbed": false,
       "locked": false,
       "pannable": false,
       "position": {},
       "removed": false,
       "selectable": false,
       "selected": false
      }
     },
     "6a1fc4be02374af5a4137e84766ffea2": {
      "model_module": "jupyter-cytoscape",
      "model_module_version": "^1.3.3",
      "model_name": "EdgeModel",
      "state": {
       "_model_module": "jupyter-cytoscape",
       "_model_module_version": "^1.3.3",
       "_model_name": "EdgeModel",
       "_view_count": null,
       "_view_module": "jupyter-cytoscape",
       "_view_module_version": "^1.3.3",
       "_view_name": "EdgeView",
       "classes": " directed ",
       "data": {
        "source": "-4787064828576022683",
        "target": "8029002243315817468"
       },
       "pannable": true,
       "removed": false,
       "selectable": false,
       "selected": false
      }
     },
     "6afb516912734493b48587692da20cb4": {
      "model_module": "jupyter-cytoscape",
      "model_module_version": "^1.3.3",
      "model_name": "NodeModel",
      "state": {
       "_model_module": "jupyter-cytoscape",
       "_model_module_version": "^1.3.3",
       "_model_name": "NodeModel",
       "_view_count": null,
       "_view_module": "jupyter-cytoscape",
       "_view_module_version": "^1.3.3",
       "_view_name": "NodeView",
       "classes": "",
       "data": {
        "color": "gray",
        "id": "-4085948845941587494",
        "label": "3",
        "shape": "rectangle"
       },
       "grabbable": true,
       "grabbed": false,
       "locked": false,
       "pannable": false,
       "position": {},
       "removed": false,
       "selectable": false,
       "selected": false
      }
     },
     "6b9943b4c4a646b3bd8183feabacce75": {
      "model_module": "jupyter-cytoscape",
      "model_module_version": "^1.3.3",
      "model_name": "NodeModel",
      "state": {
       "_model_module": "jupyter-cytoscape",
       "_model_module_version": "^1.3.3",
       "_model_name": "NodeModel",
       "_view_count": null,
       "_view_module": "jupyter-cytoscape",
       "_view_module_version": "^1.3.3",
       "_view_name": "NodeView",
       "classes": "",
       "data": {
        "color": "gray",
        "id": "4963365605746747811",
        "label": "values",
        "shape": "ellipse"
       },
       "grabbable": true,
       "grabbed": false,
       "locked": false,
       "pannable": false,
       "position": {},
       "removed": false,
       "selectable": false,
       "selected": false
      }
     },
     "6badfa325aac4f86b8b295c5026987aa": {
      "model_module": "jupyter-cytoscape",
      "model_module_version": "^1.3.3",
      "model_name": "NodeModel",
      "state": {
       "_model_module": "jupyter-cytoscape",
       "_model_module_version": "^1.3.3",
       "_model_name": "NodeModel",
       "_view_count": null,
       "_view_module": "jupyter-cytoscape",
       "_view_module_version": "^1.3.3",
       "_view_name": "NodeView",
       "classes": "",
       "data": {
        "color": "gray",
        "id": "-4986279268888179382",
        "label": "4",
        "shape": "rectangle"
       },
       "grabbable": true,
       "grabbed": false,
       "locked": false,
       "pannable": false,
       "position": {},
       "removed": false,
       "selectable": false,
       "selected": false
      }
     },
     "6c0c70889a6d4d32bcac10e9d6b4fb3f": {
      "model_module": "jupyter-cytoscape",
      "model_module_version": "^1.3.3",
      "model_name": "NodeModel",
      "state": {
       "_model_module": "jupyter-cytoscape",
       "_model_module_version": "^1.3.3",
       "_model_name": "NodeModel",
       "_view_count": null,
       "_view_module": "jupyter-cytoscape",
       "_view_module_version": "^1.3.3",
       "_view_name": "NodeView",
       "classes": "",
       "data": {
        "color": "gray",
        "id": "-362098745694655138",
        "label": "6",
        "shape": "rectangle"
       },
       "grabbable": true,
       "grabbed": false,
       "locked": false,
       "pannable": false,
       "position": {},
       "removed": false,
       "selectable": false,
       "selected": false
      }
     },
     "6c258d06e5514160a2aea69c5960219a": {
      "model_module": "jupyter-cytoscape",
      "model_module_version": "^1.3.3",
      "model_name": "NodeModel",
      "state": {
       "_model_module": "jupyter-cytoscape",
       "_model_module_version": "^1.3.3",
       "_model_name": "NodeModel",
       "_view_count": null,
       "_view_module": "jupyter-cytoscape",
       "_view_module_version": "^1.3.3",
       "_view_name": "NodeView",
       "classes": "",
       "data": {
        "color": "gray",
        "id": "-7378131178170736448",
        "label": "getitem",
        "shape": "ellipse"
       },
       "grabbable": true,
       "grabbed": false,
       "locked": false,
       "pannable": false,
       "position": {},
       "removed": false,
       "selectable": false,
       "selected": false
      }
     },
     "6c8cb2a6f5da49b9b4cd245f2d6964b6": {
      "model_module": "jupyter-cytoscape",
      "model_module_version": "^1.3.3",
      "model_name": "NodeModel",
      "state": {
       "_model_module": "jupyter-cytoscape",
       "_model_module_version": "^1.3.3",
       "_model_name": "NodeModel",
       "_view_count": null,
       "_view_module": "jupyter-cytoscape",
       "_view_module_version": "^1.3.3",
       "_view_name": "NodeView",
       "classes": "",
       "data": {
        "color": "gray",
        "id": "-5342456059515778493",
        "label": "5",
        "shape": "rectangle"
       },
       "grabbable": true,
       "grabbed": false,
       "locked": false,
       "pannable": false,
       "position": {},
       "removed": false,
       "selectable": false,
       "selected": false
      }
     },
     "6ce49448da8a49768363ea578fb18527": {
      "model_module": "jupyter-cytoscape",
      "model_module_version": "^1.3.3",
      "model_name": "NodeModel",
      "state": {
       "_model_module": "jupyter-cytoscape",
       "_model_module_version": "^1.3.3",
       "_model_name": "NodeModel",
       "_view_count": null,
       "_view_module": "jupyter-cytoscape",
       "_view_module_version": "^1.3.3",
       "_view_name": "NodeView",
       "classes": "",
       "data": {
        "color": "gray",
        "id": "398553906833451730",
        "label": "read-csv",
        "shape": "ellipse"
       },
       "grabbable": true,
       "grabbed": false,
       "locked": false,
       "pannable": false,
       "position": {},
       "removed": false,
       "selectable": false,
       "selected": false
      }
     },
     "6e24103811224593bddd8aaa9cee8fbc": {
      "model_module": "jupyter-cytoscape",
      "model_module_version": "^1.3.3",
      "model_name": "NodeModel",
      "state": {
       "_model_module": "jupyter-cytoscape",
       "_model_module_version": "^1.3.3",
       "_model_name": "NodeModel",
       "_view_count": null,
       "_view_module": "jupyter-cytoscape",
       "_view_module_version": "^1.3.3",
       "_view_name": "NodeView",
       "classes": "",
       "data": {
        "color": "gray",
        "id": "-4217768473955824486",
        "label": "9",
        "shape": "rectangle"
       },
       "grabbable": true,
       "grabbed": false,
       "locked": false,
       "pannable": false,
       "position": {},
       "removed": false,
       "selectable": false,
       "selected": false
      }
     },
     "6e3a52a7f2e740febbf3028b99baad65": {
      "model_module": "jupyter-cytoscape",
      "model_module_version": "^1.3.3",
      "model_name": "EdgeModel",
      "state": {
       "_model_module": "jupyter-cytoscape",
       "_model_module_version": "^1.3.3",
       "_model_name": "EdgeModel",
       "_view_count": null,
       "_view_module": "jupyter-cytoscape",
       "_view_module_version": "^1.3.3",
       "_view_name": "EdgeView",
       "classes": " directed ",
       "data": {
        "source": "6781275399259862418",
        "target": "-6365505096131322341"
       },
       "pannable": true,
       "removed": false,
       "selectable": false,
       "selected": false
      }
     },
     "6e7fba636fcc4d2fb07e19f0a7d79bee": {
      "model_module": "jupyter-cytoscape",
      "model_module_version": "^1.3.3",
      "model_name": "NodeModel",
      "state": {
       "_model_module": "jupyter-cytoscape",
       "_model_module_version": "^1.3.3",
       "_model_name": "NodeModel",
       "_view_count": null,
       "_view_module": "jupyter-cytoscape",
       "_view_module_version": "^1.3.3",
       "_view_name": "NodeView",
       "classes": "",
       "data": {
        "color": "gray",
        "id": "-4780852089027699137",
        "label": "7",
        "shape": "rectangle"
       },
       "grabbable": true,
       "grabbed": false,
       "locked": false,
       "pannable": false,
       "position": {},
       "removed": false,
       "selectable": false,
       "selected": false
      }
     },
     "6f0b62f8925f493980ec5b198ce3b1ee": {
      "model_module": "jupyter-cytoscape",
      "model_module_version": "^1.3.3",
      "model_name": "EdgeModel",
      "state": {
       "_model_module": "jupyter-cytoscape",
       "_model_module_version": "^1.3.3",
       "_model_name": "EdgeModel",
       "_view_count": null,
       "_view_module": "jupyter-cytoscape",
       "_view_module_version": "^1.3.3",
       "_view_name": "EdgeView",
       "classes": " directed ",
       "data": {
        "source": "8684174807026335051",
        "target": "7012720610522345035"
       },
       "pannable": true,
       "removed": false,
       "selectable": false,
       "selected": false
      }
     },
     "703d4f8bb56d4012a45b72c323b3ca1a": {
      "model_module": "jupyter-cytoscape",
      "model_module_version": "^1.3.3",
      "model_name": "NodeModel",
      "state": {
       "_model_module": "jupyter-cytoscape",
       "_model_module_version": "^1.3.3",
       "_model_name": "NodeModel",
       "_view_count": null,
       "_view_module": "jupyter-cytoscape",
       "_view_module_version": "^1.3.3",
       "_view_name": "NodeView",
       "classes": "",
       "data": {
        "color": "gray",
        "id": "-7564642744882765206",
        "label": "9",
        "shape": "rectangle"
       },
       "grabbable": true,
       "grabbed": false,
       "locked": false,
       "pannable": false,
       "position": {},
       "removed": false,
       "selectable": false,
       "selected": false
      }
     },
     "705e0cbc142649ee88dd73d65747de0a": {
      "model_module": "jupyter-cytoscape",
      "model_module_version": "^1.3.3",
      "model_name": "NodeModel",
      "state": {
       "_model_module": "jupyter-cytoscape",
       "_model_module_version": "^1.3.3",
       "_model_name": "NodeModel",
       "_view_count": null,
       "_view_module": "jupyter-cytoscape",
       "_view_module_version": "^1.3.3",
       "_view_name": "NodeView",
       "classes": "",
       "data": {
        "color": "gray",
        "id": "8765609785744830544",
        "label": "9",
        "shape": "rectangle"
       },
       "grabbable": true,
       "grabbed": false,
       "locked": false,
       "pannable": false,
       "position": {},
       "removed": false,
       "selectable": false,
       "selected": false
      }
     },
     "7085864376914831bc28c61a1872f149": {
      "model_module": "jupyter-cytoscape",
      "model_module_version": "^1.3.3",
      "model_name": "EdgeModel",
      "state": {
       "_model_module": "jupyter-cytoscape",
       "_model_module_version": "^1.3.3",
       "_model_name": "EdgeModel",
       "_view_count": null,
       "_view_module": "jupyter-cytoscape",
       "_view_module_version": "^1.3.3",
       "_view_name": "EdgeView",
       "classes": " directed ",
       "data": {
        "source": "1236474606532470339",
        "target": "-2159337084952218622"
       },
       "pannable": true,
       "removed": false,
       "selectable": false,
       "selected": false
      }
     },
     "708a56eea1a543feb71839b6648faa1f": {
      "model_module": "jupyter-cytoscape",
      "model_module_version": "^1.3.3",
      "model_name": "EdgeModel",
      "state": {
       "_model_module": "jupyter-cytoscape",
       "_model_module_version": "^1.3.3",
       "_model_name": "EdgeModel",
       "_view_count": null,
       "_view_module": "jupyter-cytoscape",
       "_view_module_version": "^1.3.3",
       "_view_name": "EdgeView",
       "classes": " directed ",
       "data": {
        "source": "8552261234301238020",
        "target": "5608580374990210053"
       },
       "pannable": true,
       "removed": false,
       "selectable": false,
       "selected": false
      }
     },
     "7240576e803147d0ab6fb0b1995ae8ac": {
      "model_module": "jupyter-cytoscape",
      "model_module_version": "^1.3.3",
      "model_name": "NodeModel",
      "state": {
       "_model_module": "jupyter-cytoscape",
       "_model_module_version": "^1.3.3",
       "_model_name": "NodeModel",
       "_view_count": null,
       "_view_module": "jupyter-cytoscape",
       "_view_module_version": "^1.3.3",
       "_view_name": "NodeView",
       "classes": "",
       "data": {
        "color": "gray",
        "id": "-7219092967625260928",
        "label": "getitem",
        "shape": "ellipse"
       },
       "grabbable": true,
       "grabbed": false,
       "locked": false,
       "pannable": false,
       "position": {},
       "removed": false,
       "selectable": false,
       "selected": false
      }
     },
     "729f6773e17049feb157f78f2d050192": {
      "model_module": "jupyter-cytoscape",
      "model_module_version": "^1.3.3",
      "model_name": "EdgeModel",
      "state": {
       "_model_module": "jupyter-cytoscape",
       "_model_module_version": "^1.3.3",
       "_model_name": "EdgeModel",
       "_view_count": null,
       "_view_module": "jupyter-cytoscape",
       "_view_module_version": "^1.3.3",
       "_view_name": "EdgeView",
       "classes": " directed ",
       "data": {
        "source": "253320015125669096",
        "target": "-4173232130790014483"
       },
       "pannable": true,
       "removed": false,
       "selectable": false,
       "selected": false
      }
     },
     "72beba3da86f49318b443d25ece4fa80": {
      "model_module": "jupyter-cytoscape",
      "model_module_version": "^1.3.3",
      "model_name": "NodeModel",
      "state": {
       "_model_module": "jupyter-cytoscape",
       "_model_module_version": "^1.3.3",
       "_model_name": "NodeModel",
       "_view_count": null,
       "_view_module": "jupyter-cytoscape",
       "_view_module_version": "^1.3.3",
       "_view_name": "NodeView",
       "classes": "",
       "data": {
        "color": "gray",
        "id": "-4795851509508119141",
        "label": "read-csv",
        "shape": "ellipse"
       },
       "grabbable": true,
       "grabbed": false,
       "locked": false,
       "pannable": false,
       "position": {},
       "removed": false,
       "selectable": false,
       "selected": false
      }
     },
     "732e2b47b81547c081a82518abb41245": {
      "model_module": "jupyter-cytoscape",
      "model_module_version": "^1.3.3",
      "model_name": "EdgeModel",
      "state": {
       "_model_module": "jupyter-cytoscape",
       "_model_module_version": "^1.3.3",
       "_model_name": "EdgeModel",
       "_view_count": null,
       "_view_module": "jupyter-cytoscape",
       "_view_module_version": "^1.3.3",
       "_view_name": "EdgeView",
       "classes": " directed ",
       "data": {
        "source": "4490204336024514652",
        "target": "-8511910359238957062"
       },
       "pannable": true,
       "removed": false,
       "selectable": false,
       "selected": false
      }
     },
     "73a82f9e269945e680908fa73b200627": {
      "model_module": "jupyter-cytoscape",
      "model_module_version": "^1.3.3",
      "model_name": "NodeModel",
      "state": {
       "_model_module": "jupyter-cytoscape",
       "_model_module_version": "^1.3.3",
       "_model_name": "NodeModel",
       "_view_count": null,
       "_view_module": "jupyter-cytoscape",
       "_view_module_version": "^1.3.3",
       "_view_name": "NodeView",
       "classes": "",
       "data": {
        "color": "gray",
        "id": "5165963988947225870",
        "label": "read-csv",
        "shape": "ellipse"
       },
       "grabbable": true,
       "grabbed": false,
       "locked": false,
       "pannable": false,
       "position": {},
       "removed": false,
       "selectable": false,
       "selected": false
      }
     },
     "76b314ce81364b5bbf018edca7167b25": {
      "model_module": "jupyter-cytoscape",
      "model_module_version": "^1.3.3",
      "model_name": "NodeModel",
      "state": {
       "_model_module": "jupyter-cytoscape",
       "_model_module_version": "^1.3.3",
       "_model_name": "NodeModel",
       "_view_count": null,
       "_view_module": "jupyter-cytoscape",
       "_view_module_version": "^1.3.3",
       "_view_name": "NodeView",
       "classes": "",
       "data": {
        "color": "gray",
        "id": "7723298146336552068",
        "label": "series-sum-chunk",
        "shape": "ellipse"
       },
       "grabbable": true,
       "grabbed": false,
       "locked": false,
       "pannable": false,
       "position": {},
       "removed": false,
       "selectable": false,
       "selected": false
      }
     },
     "76fc8919eb2648718354acfa673f92c4": {
      "model_module": "jupyter-cytoscape",
      "model_module_version": "^1.3.3",
      "model_name": "NodeModel",
      "state": {
       "_model_module": "jupyter-cytoscape",
       "_model_module_version": "^1.3.3",
       "_model_name": "NodeModel",
       "_view_count": null,
       "_view_module": "jupyter-cytoscape",
       "_view_module_version": "^1.3.3",
       "_view_name": "NodeView",
       "classes": "",
       "data": {
        "color": "gray",
        "id": "8552261234301238020",
        "label": "0",
        "shape": "rectangle"
       },
       "grabbable": true,
       "grabbed": false,
       "locked": false,
       "pannable": false,
       "position": {},
       "removed": false,
       "selectable": false,
       "selected": false
      }
     },
     "76fd8dcfa3764328afb4e496b3eb8213": {
      "model_module": "jupyter-cytoscape",
      "model_module_version": "^1.3.3",
      "model_name": "NodeModel",
      "state": {
       "_model_module": "jupyter-cytoscape",
       "_model_module_version": "^1.3.3",
       "_model_name": "NodeModel",
       "_view_count": null,
       "_view_module": "jupyter-cytoscape",
       "_view_module_version": "^1.3.3",
       "_view_name": "NodeView",
       "classes": "",
       "data": {
        "color": "gray",
        "id": "5620863048582971313",
        "label": "0",
        "shape": "rectangle"
       },
       "grabbable": true,
       "grabbed": false,
       "locked": false,
       "pannable": false,
       "position": {},
       "removed": false,
       "selectable": false,
       "selected": false
      }
     },
     "78991eb1171949c7be413e6da13513cf": {
      "model_module": "jupyter-cytoscape",
      "model_module_version": "^1.3.3",
      "model_name": "EdgeModel",
      "state": {
       "_model_module": "jupyter-cytoscape",
       "_model_module_version": "^1.3.3",
       "_model_name": "EdgeModel",
       "_view_count": null,
       "_view_module": "jupyter-cytoscape",
       "_view_module_version": "^1.3.3",
       "_view_name": "EdgeView",
       "classes": " directed ",
       "data": {
        "source": "-5575857782686678513",
        "target": "-9066306159762710849"
       },
       "pannable": true,
       "removed": false,
       "selectable": false,
       "selected": false
      }
     },
     "792ceb00eed24aecb8f3caba9ea9a066": {
      "model_module": "jupyter-cytoscape",
      "model_module_version": "^1.3.3",
      "model_name": "NodeModel",
      "state": {
       "_model_module": "jupyter-cytoscape",
       "_model_module_version": "^1.3.3",
       "_model_name": "NodeModel",
       "_view_count": null,
       "_view_module": "jupyter-cytoscape",
       "_view_module_version": "^1.3.3",
       "_view_name": "NodeView",
       "classes": "",
       "data": {
        "color": "gray",
        "id": "7603009765902060543",
        "label": "read-csv",
        "shape": "ellipse"
       },
       "grabbable": true,
       "grabbed": false,
       "locked": false,
       "pannable": false,
       "position": {},
       "removed": false,
       "selectable": false,
       "selected": false
      }
     },
     "795b429e75eb4fa3bcd99d3046e41b4f": {
      "model_module": "jupyter-cytoscape",
      "model_module_version": "^1.3.3",
      "model_name": "NodeModel",
      "state": {
       "_model_module": "jupyter-cytoscape",
       "_model_module_version": "^1.3.3",
       "_model_name": "NodeModel",
       "_view_count": null,
       "_view_module": "jupyter-cytoscape",
       "_view_module_version": "^1.3.3",
       "_view_name": "NodeView",
       "classes": "",
       "data": {
        "color": "gray",
        "id": "3135928214343121102",
        "label": "7",
        "shape": "rectangle"
       },
       "grabbable": true,
       "grabbed": false,
       "locked": false,
       "pannable": false,
       "position": {},
       "removed": false,
       "selectable": false,
       "selected": false
      }
     },
     "7a14fc639af341919ac96d3a9403bc69": {
      "model_module": "jupyter-cytoscape",
      "model_module_version": "^1.3.3",
      "model_name": "EdgeModel",
      "state": {
       "_model_module": "jupyter-cytoscape",
       "_model_module_version": "^1.3.3",
       "_model_name": "EdgeModel",
       "_view_count": null,
       "_view_module": "jupyter-cytoscape",
       "_view_module_version": "^1.3.3",
       "_view_name": "EdgeView",
       "classes": " directed ",
       "data": {
        "source": "3363690593463167935",
        "target": "-4556066012032079181"
       },
       "pannable": true,
       "removed": false,
       "selectable": false,
       "selected": false
      }
     },
     "7ac7bdbca0ec48648fa52beb57147ccd": {
      "model_module": "jupyter-cytoscape",
      "model_module_version": "^1.3.3",
      "model_name": "EdgeModel",
      "state": {
       "_model_module": "jupyter-cytoscape",
       "_model_module_version": "^1.3.3",
       "_model_name": "EdgeModel",
       "_view_count": null,
       "_view_module": "jupyter-cytoscape",
       "_view_module_version": "^1.3.3",
       "_view_name": "EdgeView",
       "classes": " directed ",
       "data": {
        "source": "-3817055340162415372",
        "target": "1756897231286491372"
       },
       "pannable": true,
       "removed": false,
       "selectable": false,
       "selected": false
      }
     },
     "7bf0900e4bbc4dbe882652c953e9d00d": {
      "model_module": "jupyter-cytoscape",
      "model_module_version": "^1.3.3",
      "model_name": "EdgeModel",
      "state": {
       "_model_module": "jupyter-cytoscape",
       "_model_module_version": "^1.3.3",
       "_model_name": "EdgeModel",
       "_view_count": null,
       "_view_module": "jupyter-cytoscape",
       "_view_module_version": "^1.3.3",
       "_view_name": "EdgeView",
       "classes": " directed ",
       "data": {
        "source": "-5700515573070889553",
        "target": "253320015125669096"
       },
       "pannable": true,
       "removed": false,
       "selectable": false,
       "selected": false
      }
     },
     "7ca3e3e533aa4b95ac7325b61e6f91e8": {
      "model_module": "jupyter-cytoscape",
      "model_module_version": "^1.3.3",
      "model_name": "NodeModel",
      "state": {
       "_model_module": "jupyter-cytoscape",
       "_model_module_version": "^1.3.3",
       "_model_name": "NodeModel",
       "_view_count": null,
       "_view_module": "jupyter-cytoscape",
       "_view_module_version": "^1.3.3",
       "_view_name": "NodeView",
       "classes": "",
       "data": {
        "color": "gray",
        "id": "-1433977818100758417",
        "label": "7",
        "shape": "rectangle"
       },
       "grabbable": true,
       "grabbed": false,
       "locked": false,
       "pannable": false,
       "position": {},
       "removed": false,
       "selectable": false,
       "selected": false
      }
     },
     "7ce2031043f74781ba69d6c8b85afb54": {
      "model_module": "jupyter-cytoscape",
      "model_module_version": "^1.3.3",
      "model_name": "NodeModel",
      "state": {
       "_model_module": "jupyter-cytoscape",
       "_model_module_version": "^1.3.3",
       "_model_name": "NodeModel",
       "_view_count": null,
       "_view_module": "jupyter-cytoscape",
       "_view_module_version": "^1.3.3",
       "_view_name": "NodeView",
       "classes": "",
       "data": {
        "color": "gray",
        "id": "724046433307855203",
        "label": "values",
        "shape": "ellipse"
       },
       "grabbable": true,
       "grabbed": false,
       "locked": false,
       "pannable": false,
       "position": {},
       "removed": false,
       "selectable": false,
       "selected": false
      }
     },
     "7d477e7a8dfa4a029fc76051571dccb0": {
      "model_module": "jupyter-cytoscape",
      "model_module_version": "^1.3.3",
      "model_name": "NodeModel",
      "state": {
       "_model_module": "jupyter-cytoscape",
       "_model_module_version": "^1.3.3",
       "_model_name": "NodeModel",
       "_view_count": null,
       "_view_module": "jupyter-cytoscape",
       "_view_module_version": "^1.3.3",
       "_view_name": "NodeView",
       "classes": "",
       "data": {
        "color": "gray",
        "id": "6359823548136621464",
        "label": "series-var",
        "shape": "ellipse"
       },
       "grabbable": true,
       "grabbed": false,
       "locked": false,
       "pannable": false,
       "position": {},
       "removed": false,
       "selectable": false,
       "selected": false
      }
     },
     "7dbef50eb59046439e294372df09262c": {
      "model_module": "jupyter-cytoscape",
      "model_module_version": "^1.3.3",
      "model_name": "NodeModel",
      "state": {
       "_model_module": "jupyter-cytoscape",
       "_model_module_version": "^1.3.3",
       "_model_name": "NodeModel",
       "_view_count": null,
       "_view_module": "jupyter-cytoscape",
       "_view_module_version": "^1.3.3",
       "_view_name": "NodeView",
       "classes": "",
       "data": {
        "color": "gray",
        "id": "2702045091520108396",
        "label": "inv",
        "shape": "ellipse"
       },
       "grabbable": true,
       "grabbed": false,
       "locked": false,
       "pannable": false,
       "position": {},
       "removed": false,
       "selectable": false,
       "selected": false
      }
     },
     "7e67b619e6344ef49b204170e294a4e1": {
      "model_module": "jupyter-cytoscape",
      "model_module_version": "^1.3.3",
      "model_name": "EdgeModel",
      "state": {
       "_model_module": "jupyter-cytoscape",
       "_model_module_version": "^1.3.3",
       "_model_name": "EdgeModel",
       "_view_count": null,
       "_view_module": "jupyter-cytoscape",
       "_view_module_version": "^1.3.3",
       "_view_name": "EdgeView",
       "classes": " directed ",
       "data": {
        "source": "-7342686430513193052",
        "target": "-5698307822963293241"
       },
       "pannable": true,
       "removed": false,
       "selectable": false,
       "selected": false
      }
     },
     "7f0782c731c7484ca3d14408ce940bb7": {
      "model_module": "jupyter-cytoscape",
      "model_module_version": "^1.3.3",
      "model_name": "EdgeModel",
      "state": {
       "_model_module": "jupyter-cytoscape",
       "_model_module_version": "^1.3.3",
       "_model_name": "EdgeModel",
       "_view_count": null,
       "_view_module": "jupyter-cytoscape",
       "_view_module_version": "^1.3.3",
       "_view_name": "EdgeView",
       "classes": " directed ",
       "data": {
        "source": "5072017027499703584",
        "target": "5100397946538107319"
       },
       "pannable": true,
       "removed": false,
       "selectable": false,
       "selected": false
      }
     },
     "7fc94d6c7e934257ba03b2f6ea5570d3": {
      "model_module": "jupyter-cytoscape",
      "model_module_version": "^1.3.3",
      "model_name": "EdgeModel",
      "state": {
       "_model_module": "jupyter-cytoscape",
       "_model_module_version": "^1.3.3",
       "_model_name": "EdgeModel",
       "_view_count": null,
       "_view_module": "jupyter-cytoscape",
       "_view_module_version": "^1.3.3",
       "_view_name": "EdgeView",
       "classes": " directed ",
       "data": {
        "source": "7744115362634468764",
        "target": "-436243956634735008"
       },
       "pannable": true,
       "removed": false,
       "selectable": false,
       "selected": false
      }
     },
     "800590fda6d044d8a967f0f7ce305694": {
      "model_module": "jupyter-cytoscape",
      "model_module_version": "^1.3.3",
      "model_name": "EdgeModel",
      "state": {
       "_model_module": "jupyter-cytoscape",
       "_model_module_version": "^1.3.3",
       "_model_name": "EdgeModel",
       "_view_count": null,
       "_view_module": "jupyter-cytoscape",
       "_view_module_version": "^1.3.3",
       "_view_name": "EdgeView",
       "classes": " directed ",
       "data": {
        "source": "-1618605959268846137",
        "target": "-4076175810231355893"
       },
       "pannable": true,
       "removed": false,
       "selectable": false,
       "selected": false
      }
     },
     "8041c973b1d54c1dbda5aa96c5b52d52": {
      "model_module": "jupyter-cytoscape",
      "model_module_version": "^1.3.3",
      "model_name": "NodeModel",
      "state": {
       "_model_module": "jupyter-cytoscape",
       "_model_module_version": "^1.3.3",
       "_model_name": "NodeModel",
       "_view_count": null,
       "_view_module": "jupyter-cytoscape",
       "_view_module_version": "^1.3.3",
       "_view_name": "NodeView",
       "classes": "",
       "data": {
        "color": "gray",
        "id": "-3345837706779263536",
        "label": "inv",
        "shape": "ellipse"
       },
       "grabbable": true,
       "grabbed": false,
       "locked": false,
       "pannable": false,
       "position": {},
       "removed": false,
       "selectable": false,
       "selected": false
      }
     },
     "80490266b86c4502b51f3c7d11a4cb37": {
      "model_module": "jupyter-cytoscape",
      "model_module_version": "^1.3.3",
      "model_name": "EdgeModel",
      "state": {
       "_model_module": "jupyter-cytoscape",
       "_model_module_version": "^1.3.3",
       "_model_name": "EdgeModel",
       "_view_count": null,
       "_view_module": "jupyter-cytoscape",
       "_view_module_version": "^1.3.3",
       "_view_name": "EdgeView",
       "classes": " directed ",
       "data": {
        "source": "7657935379765807277",
        "target": "8795867127746635940"
       },
       "pannable": true,
       "removed": false,
       "selectable": false,
       "selected": false
      }
     },
     "805098dfd4074a73ab8994430cc95097": {
      "model_module": "jupyter-cytoscape",
      "model_module_version": "^1.3.3",
      "model_name": "NodeModel",
      "state": {
       "_model_module": "jupyter-cytoscape",
       "_model_module_version": "^1.3.3",
       "_model_name": "NodeModel",
       "_view_count": null,
       "_view_module": "jupyter-cytoscape",
       "_view_module_version": "^1.3.3",
       "_view_name": "NodeView",
       "classes": "",
       "data": {
        "color": "gray",
        "id": "-2788304801517932783",
        "label": "getitem",
        "shape": "ellipse"
       },
       "grabbable": true,
       "grabbed": false,
       "locked": false,
       "pannable": false,
       "position": {},
       "removed": false,
       "selectable": false,
       "selected": false
      }
     },
     "80a5f39c72004a3a9db67ef2fcd24ad5": {
      "model_module": "jupyter-cytoscape",
      "model_module_version": "^1.3.3",
      "model_name": "NodeModel",
      "state": {
       "_model_module": "jupyter-cytoscape",
       "_model_module_version": "^1.3.3",
       "_model_name": "NodeModel",
       "_view_count": null,
       "_view_module": "jupyter-cytoscape",
       "_view_module_version": "^1.3.3",
       "_view_name": "NodeView",
       "classes": "",
       "data": {
        "color": "gray",
        "id": "-3942938910880416882",
        "label": "getitem",
        "shape": "ellipse"
       },
       "grabbable": true,
       "grabbed": false,
       "locked": false,
       "pannable": false,
       "position": {},
       "removed": false,
       "selectable": false,
       "selected": false
      }
     },
     "80fde481e019490a8d3a156cc5b4c99d": {
      "model_module": "jupyter-cytoscape",
      "model_module_version": "^1.3.3",
      "model_name": "NodeModel",
      "state": {
       "_model_module": "jupyter-cytoscape",
       "_model_module_version": "^1.3.3",
       "_model_name": "NodeModel",
       "_view_count": null,
       "_view_module": "jupyter-cytoscape",
       "_view_module_version": "^1.3.3",
       "_view_name": "NodeView",
       "classes": "",
       "data": {
        "color": "gray",
        "id": "-2134375285019937558",
        "label": "getitem",
        "shape": "ellipse"
       },
       "grabbable": true,
       "grabbed": false,
       "locked": false,
       "pannable": false,
       "position": {},
       "removed": false,
       "selectable": false,
       "selected": false
      }
     },
     "8195c5d3701c448581ae4f34024e795e": {
      "model_module": "jupyter-cytoscape",
      "model_module_version": "^1.3.3",
      "model_name": "EdgeModel",
      "state": {
       "_model_module": "jupyter-cytoscape",
       "_model_module_version": "^1.3.3",
       "_model_name": "EdgeModel",
       "_view_count": null,
       "_view_module": "jupyter-cytoscape",
       "_view_module_version": "^1.3.3",
       "_view_name": "EdgeView",
       "classes": " directed ",
       "data": {
        "source": "-7941618574202756842",
        "target": "4608825994827299251"
       },
       "pannable": true,
       "removed": false,
       "selectable": false,
       "selected": false
      }
     },
     "825cfa5e948f47d18ebb532e7ea21034": {
      "model_module": "jupyter-cytoscape",
      "model_module_version": "^1.3.3",
      "model_name": "NodeModel",
      "state": {
       "_model_module": "jupyter-cytoscape",
       "_model_module_version": "^1.3.3",
       "_model_name": "NodeModel",
       "_view_count": null,
       "_view_module": "jupyter-cytoscape",
       "_view_module_version": "^1.3.3",
       "_view_name": "NodeView",
       "classes": "",
       "data": {
        "color": "gray",
        "id": "-8398660785357480435",
        "label": "values",
        "shape": "ellipse"
       },
       "grabbable": true,
       "grabbed": false,
       "locked": false,
       "pannable": false,
       "position": {},
       "removed": false,
       "selectable": false,
       "selected": false
      }
     },
     "82d7cd87508242efb7d17ba3eed93ccc": {
      "model_module": "jupyter-cytoscape",
      "model_module_version": "^1.3.3",
      "model_name": "EdgeModel",
      "state": {
       "_model_module": "jupyter-cytoscape",
       "_model_module_version": "^1.3.3",
       "_model_name": "EdgeModel",
       "_view_count": null,
       "_view_module": "jupyter-cytoscape",
       "_view_module_version": "^1.3.3",
       "_view_name": "EdgeView",
       "classes": " directed ",
       "data": {
        "source": "-5520961639240058378",
        "target": "4596416887094360139"
       },
       "pannable": true,
       "removed": false,
       "selectable": false,
       "selected": false
      }
     },
     "83d6df990f50433a9aef8e8f7697db86": {
      "model_module": "jupyter-cytoscape",
      "model_module_version": "^1.3.3",
      "model_name": "EdgeModel",
      "state": {
       "_model_module": "jupyter-cytoscape",
       "_model_module_version": "^1.3.3",
       "_model_name": "EdgeModel",
       "_view_count": null,
       "_view_module": "jupyter-cytoscape",
       "_view_module_version": "^1.3.3",
       "_view_name": "EdgeView",
       "classes": " directed ",
       "data": {
        "source": "-4076175810231355893",
        "target": "6574891433908704754"
       },
       "pannable": true,
       "removed": false,
       "selectable": false,
       "selected": false
      }
     },
     "83ec77c027514179a8c59e213155afe5": {
      "model_module": "jupyter-cytoscape",
      "model_module_version": "^1.3.3",
      "model_name": "NodeModel",
      "state": {
       "_model_module": "jupyter-cytoscape",
       "_model_module_version": "^1.3.3",
       "_model_name": "NodeModel",
       "_view_count": null,
       "_view_module": "jupyter-cytoscape",
       "_view_module_version": "^1.3.3",
       "_view_name": "NodeView",
       "classes": "",
       "data": {
        "color": "gray",
        "id": "-3003987125419274856",
        "label": "moment_chunk",
        "shape": "ellipse"
       },
       "grabbable": true,
       "grabbed": false,
       "locked": false,
       "pannable": false,
       "position": {},
       "removed": false,
       "selectable": false,
       "selected": false
      }
     },
     "842d8467aedd44a4a0937f3009ea8237": {
      "model_module": "jupyter-cytoscape",
      "model_module_version": "^1.3.3",
      "model_name": "NodeModel",
      "state": {
       "_model_module": "jupyter-cytoscape",
       "_model_module_version": "^1.3.3",
       "_model_name": "NodeModel",
       "_view_count": null,
       "_view_module": "jupyter-cytoscape",
       "_view_module_version": "^1.3.3",
       "_view_name": "NodeView",
       "classes": "",
       "data": {
        "color": "gray",
        "id": "-5217271706681397157",
        "label": "getitem",
        "shape": "ellipse"
       },
       "grabbable": true,
       "grabbed": false,
       "locked": false,
       "pannable": false,
       "position": {},
       "removed": false,
       "selectable": false,
       "selected": false
      }
     },
     "84759b8a24544b2397fe2304a8597fc7": {
      "model_module": "jupyter-cytoscape",
      "model_module_version": "^1.3.3",
      "model_name": "EdgeModel",
      "state": {
       "_model_module": "jupyter-cytoscape",
       "_model_module_version": "^1.3.3",
       "_model_name": "EdgeModel",
       "_view_count": null,
       "_view_module": "jupyter-cytoscape",
       "_view_module_version": "^1.3.3",
       "_view_name": "EdgeView",
       "classes": " directed ",
       "data": {
        "source": "8029002243315817468",
        "target": "1756897231286491372"
       },
       "pannable": true,
       "removed": false,
       "selectable": false,
       "selected": false
      }
     },
     "8475f17d258141b1a8a8f97ff8702a90": {
      "model_module": "jupyter-cytoscape",
      "model_module_version": "^1.3.3",
      "model_name": "EdgeModel",
      "state": {
       "_model_module": "jupyter-cytoscape",
       "_model_module_version": "^1.3.3",
       "_model_name": "EdgeModel",
       "_view_count": null,
       "_view_module": "jupyter-cytoscape",
       "_view_module_version": "^1.3.3",
       "_view_name": "EdgeView",
       "classes": " directed ",
       "data": {
        "source": "732663254807715673",
        "target": "5123818312412160989"
       },
       "pannable": true,
       "removed": false,
       "selectable": false,
       "selected": false
      }
     },
     "84e70fe0909b44a58b8f00c28b0d4e9c": {
      "model_module": "jupyter-cytoscape",
      "model_module_version": "^1.3.3",
      "model_name": "EdgeModel",
      "state": {
       "_model_module": "jupyter-cytoscape",
       "_model_module_version": "^1.3.3",
       "_model_name": "EdgeModel",
       "_view_count": null,
       "_view_module": "jupyter-cytoscape",
       "_view_module_version": "^1.3.3",
       "_view_name": "EdgeView",
       "classes": " directed ",
       "data": {
        "source": "-3727889332386476434",
        "target": "-3488175222488785204"
       },
       "pannable": true,
       "removed": false,
       "selectable": false,
       "selected": false
      }
     },
     "853153fbbb684692b1df19c8b18d58b0": {
      "model_module": "jupyter-cytoscape",
      "model_module_version": "^1.3.3",
      "model_name": "NodeModel",
      "state": {
       "_model_module": "jupyter-cytoscape",
       "_model_module_version": "^1.3.3",
       "_model_name": "NodeModel",
       "_view_count": null,
       "_view_module": "jupyter-cytoscape",
       "_view_module_version": "^1.3.3",
       "_view_name": "NodeView",
       "classes": "",
       "data": {
        "color": "gray",
        "id": "-7339856667887145250",
        "label": "7",
        "shape": "rectangle"
       },
       "grabbable": true,
       "grabbed": false,
       "locked": false,
       "pannable": false,
       "position": {},
       "removed": false,
       "selectable": false,
       "selected": false
      }
     },
     "855b5cf710e34b069b5212d58535b860": {
      "model_module": "jupyter-cytoscape",
      "model_module_version": "^1.3.3",
      "model_name": "EdgeModel",
      "state": {
       "_model_module": "jupyter-cytoscape",
       "_model_module_version": "^1.3.3",
       "_model_name": "EdgeModel",
       "_view_count": null,
       "_view_module": "jupyter-cytoscape",
       "_view_module_version": "^1.3.3",
       "_view_name": "EdgeView",
       "classes": " directed ",
       "data": {
        "source": "-6897343632109655003",
        "target": "-5698307822963293241"
       },
       "pannable": true,
       "removed": false,
       "selectable": false,
       "selected": false
      }
     },
     "85c6d5cd5c5a458d9bda8f3263edd489": {
      "model_module": "jupyter-cytoscape",
      "model_module_version": "^1.3.3",
      "model_name": "EdgeModel",
      "state": {
       "_model_module": "jupyter-cytoscape",
       "_model_module_version": "^1.3.3",
       "_model_name": "EdgeModel",
       "_view_count": null,
       "_view_module": "jupyter-cytoscape",
       "_view_module_version": "^1.3.3",
       "_view_name": "EdgeView",
       "classes": " directed ",
       "data": {
        "source": "-22866290339826286",
        "target": "6241240956225467594"
       },
       "pannable": true,
       "removed": false,
       "selectable": false,
       "selected": false
      }
     },
     "86174e890d6943ada643d09bbd6bd3ca": {
      "model_module": "jupyter-cytoscape",
      "model_module_version": "^1.3.3",
      "model_name": "EdgeModel",
      "state": {
       "_model_module": "jupyter-cytoscape",
       "_model_module_version": "^1.3.3",
       "_model_name": "EdgeModel",
       "_view_count": null,
       "_view_module": "jupyter-cytoscape",
       "_view_module_version": "^1.3.3",
       "_view_name": "EdgeView",
       "classes": " directed ",
       "data": {
        "source": "1252467981434646921",
        "target": "-2134375285019937558"
       },
       "pannable": true,
       "removed": false,
       "selectable": false,
       "selected": false
      }
     },
     "861f354effac491db6a40d299ba920c8": {
      "model_module": "jupyter-cytoscape",
      "model_module_version": "^1.3.3",
      "model_name": "EdgeModel",
      "state": {
       "_model_module": "jupyter-cytoscape",
       "_model_module_version": "^1.3.3",
       "_model_name": "EdgeModel",
       "_view_count": null,
       "_view_module": "jupyter-cytoscape",
       "_view_module_version": "^1.3.3",
       "_view_name": "EdgeView",
       "classes": " directed ",
       "data": {
        "source": "-8239622574812004915",
        "target": "8890558772377492715"
       },
       "pannable": true,
       "removed": false,
       "selectable": false,
       "selected": false
      }
     },
     "86d95fa14f694aa39aeaefd7768cca47": {
      "model_module": "jupyter-cytoscape",
      "model_module_version": "^1.3.3",
      "model_name": "NodeModel",
      "state": {
       "_model_module": "jupyter-cytoscape",
       "_model_module_version": "^1.3.3",
       "_model_name": "NodeModel",
       "_view_count": null,
       "_view_module": "jupyter-cytoscape",
       "_view_module_version": "^1.3.3",
       "_view_name": "NodeView",
       "classes": "",
       "data": {
        "color": "gray",
        "id": "8327475157305618064",
        "label": "2",
        "shape": "rectangle"
       },
       "grabbable": true,
       "grabbed": false,
       "locked": false,
       "pannable": false,
       "position": {},
       "removed": false,
       "selectable": false,
       "selected": false
      }
     },
     "87ad1cb0d5cf4eddaacd02bb094c88d3": {
      "model_module": "jupyter-cytoscape",
      "model_module_version": "^1.3.3",
      "model_name": "EdgeModel",
      "state": {
       "_model_module": "jupyter-cytoscape",
       "_model_module_version": "^1.3.3",
       "_model_name": "EdgeModel",
       "_view_count": null,
       "_view_module": "jupyter-cytoscape",
       "_view_module_version": "^1.3.3",
       "_view_name": "EdgeView",
       "classes": " directed ",
       "data": {
        "source": "-7339856667887145250",
        "target": "7181589568728782527"
       },
       "pannable": true,
       "removed": false,
       "selectable": false,
       "selected": false
      }
     },
     "87b9ebd564134527a1df86d2af4f33c2": {
      "model_module": "jupyter-cytoscape",
      "model_module_version": "^1.3.3",
      "model_name": "NodeModel",
      "state": {
       "_model_module": "jupyter-cytoscape",
       "_model_module_version": "^1.3.3",
       "_model_name": "NodeModel",
       "_view_count": null,
       "_view_module": "jupyter-cytoscape",
       "_view_module_version": "^1.3.3",
       "_view_name": "NodeView",
       "classes": "",
       "data": {
        "color": "gray",
        "id": "-3961610480436276557",
        "label": "values",
        "shape": "ellipse"
       },
       "grabbable": true,
       "grabbed": false,
       "locked": false,
       "pannable": false,
       "position": {},
       "removed": false,
       "selectable": false,
       "selected": false
      }
     },
     "893de91be0db4047bba40b9580049d31": {
      "model_module": "jupyter-cytoscape",
      "model_module_version": "^1.3.3",
      "model_name": "NodeModel",
      "state": {
       "_model_module": "jupyter-cytoscape",
       "_model_module_version": "^1.3.3",
       "_model_name": "NodeModel",
       "_view_count": null,
       "_view_module": "jupyter-cytoscape",
       "_view_module_version": "^1.3.3",
       "_view_name": "NodeView",
       "classes": "",
       "data": {
        "color": "gray",
        "id": "4960324706779402695",
        "label": "6",
        "shape": "rectangle"
       },
       "grabbable": true,
       "grabbed": false,
       "locked": false,
       "pannable": false,
       "position": {},
       "removed": false,
       "selectable": false,
       "selected": false
      }
     },
     "896ca317142a4664bb2f280adbe1dccf": {
      "model_module": "jupyter-cytoscape",
      "model_module_version": "^1.3.3",
      "model_name": "NodeModel",
      "state": {
       "_model_module": "jupyter-cytoscape",
       "_model_module_version": "^1.3.3",
       "_model_name": "NodeModel",
       "_view_count": null,
       "_view_module": "jupyter-cytoscape",
       "_view_module_version": "^1.3.3",
       "_view_name": "NodeView",
       "classes": "",
       "data": {
        "color": "gray",
        "id": "-1618605959268846137",
        "label": "8",
        "shape": "rectangle"
       },
       "grabbable": true,
       "grabbed": false,
       "locked": false,
       "pannable": false,
       "position": {},
       "removed": false,
       "selectable": false,
       "selected": false
      }
     },
     "89747bb23716408aa9779df24c7cf9a0": {
      "model_module": "jupyter-cytoscape",
      "model_module_version": "^1.3.3",
      "model_name": "EdgeModel",
      "state": {
       "_model_module": "jupyter-cytoscape",
       "_model_module_version": "^1.3.3",
       "_model_name": "EdgeModel",
       "_view_count": null,
       "_view_module": "jupyter-cytoscape",
       "_view_module_version": "^1.3.3",
       "_view_name": "EdgeView",
       "classes": " directed ",
       "data": {
        "source": "6760978242912636788",
        "target": "5151066857489203318"
       },
       "pannable": true,
       "removed": false,
       "selectable": false,
       "selected": false
      }
     },
     "89a5f5db0898435b84e9fb5de3ee9de3": {
      "model_module": "jupyter-cytoscape",
      "model_module_version": "^1.3.3",
      "model_name": "EdgeModel",
      "state": {
       "_model_module": "jupyter-cytoscape",
       "_model_module_version": "^1.3.3",
       "_model_name": "EdgeModel",
       "_view_count": null,
       "_view_module": "jupyter-cytoscape",
       "_view_module_version": "^1.3.3",
       "_view_name": "EdgeView",
       "classes": " directed ",
       "data": {
        "source": "-8386961372606294891",
        "target": "229106684892762560"
       },
       "pannable": true,
       "removed": false,
       "selectable": false,
       "selected": false
      }
     },
     "8a1b9baefb294663ab82f158ebc18d3e": {
      "model_module": "jupyter-cytoscape",
      "model_module_version": "^1.3.3",
      "model_name": "NodeModel",
      "state": {
       "_model_module": "jupyter-cytoscape",
       "_model_module_version": "^1.3.3",
       "_model_name": "NodeModel",
       "_view_count": null,
       "_view_module": "jupyter-cytoscape",
       "_view_module_version": "^1.3.3",
       "_view_name": "NodeView",
       "classes": "",
       "data": {
        "color": "gray",
        "id": "-4777629558972427861",
        "label": "series-std",
        "shape": "ellipse"
       },
       "grabbable": true,
       "grabbed": false,
       "locked": false,
       "pannable": false,
       "position": {},
       "removed": false,
       "selectable": false,
       "selected": false
      }
     },
     "8a605f7a255b491bbec2395557853046": {
      "model_module": "jupyter-cytoscape",
      "model_module_version": "^1.3.3",
      "model_name": "CytoscapeModel",
      "state": {
       "_dom_classes": [],
       "_interaction_handlers": {},
       "_model_module": "jupyter-cytoscape",
       "_model_module_version": "^1.3.3",
       "_model_name": "CytoscapeModel",
       "_view_count": null,
       "_view_module": "jupyter-cytoscape",
       "_view_module_version": "^1.3.3",
       "_view_name": "CytoscapeView",
       "auto_ungrabify": false,
       "auto_unselectify": true,
       "autolock": false,
       "box_selection_enabled": false,
       "cytoscape_layout": {
        "edgeSep": 10,
        "name": "dagre",
        "nodeDimensionsIncludeLabels": true,
        "nodeSep": 10,
        "rankDir": "BT",
        "spacingFactor": 1
       },
       "cytoscape_style": [
        {
         "selector": "node",
         "style": {
          "background-color": "#eee",
          "border-color": "data(color)",
          "border-width": 4,
          "color": "black",
          "font-family": "helvetica",
          "font-size": "24px",
          "font-weight": "bold",
          "height": 64,
          "label": "data(label)",
          "opacity": "1.0",
          "shape": "data(shape)",
          "text-halign": "center",
          "text-valign": "center",
          "width": 64
         }
        },
        {
         "selector": "edge",
         "style": {
          "curve-style": "bezier",
          "line-color": "gray",
          "target-arrow-color": "gray",
          "target-arrow-shape": "triangle",
          "width": 8
         }
        }
       ],
       "desktop_tap_threshold": 4,
       "graph": "IPY_MODEL_9b226bb9eeb146ae8a2b62b5305f969e",
       "headless": false,
       "hide_edges_on_viewport": false,
       "layout": "IPY_MODEL_67ffd38d00ec4a1d907173cf1448512a",
       "max_zoom": 4.0,
       "min_zoom": 0.2,
       "motion_blur": false,
       "motion_blur_opacity": 0.2,
       "panning_enabled": true,
       "pixel_ratio": "auto",
       "rendered_position": {
        "renderedPosition": {
         "x": 100,
         "y": 100
        }
       },
       "selection_type": "single",
       "style_enabled": true,
       "texture_on_viewport": false,
       "tooltip_source": "tooltip",
       "touch_tap_threshold": 8,
       "user_panning_enabled": true,
       "user_zooming_enabled": true,
       "wheel_sensitivity": 0.1,
       "zoom": 2.0,
       "zooming_enabled": true
      }
     },
     "8a6585a1e8264af78b2f205a84bf10f9": {
      "model_module": "jupyter-cytoscape",
      "model_module_version": "^1.3.3",
      "model_name": "NodeModel",
      "state": {
       "_model_module": "jupyter-cytoscape",
       "_model_module_version": "^1.3.3",
       "_model_name": "NodeModel",
       "_view_count": null,
       "_view_module": "jupyter-cytoscape",
       "_view_module_version": "^1.3.3",
       "_view_name": "NodeView",
       "classes": "",
       "data": {
        "color": "gray",
        "id": "8029002243315817468",
        "label": "6",
        "shape": "rectangle"
       },
       "grabbable": true,
       "grabbed": false,
       "locked": false,
       "pannable": false,
       "position": {},
       "removed": false,
       "selectable": false,
       "selected": false
      }
     },
     "8a6b6b2bef084aa1b630c58194bc4f1e": {
      "model_module": "jupyter-cytoscape",
      "model_module_version": "^1.3.3",
      "model_name": "EdgeModel",
      "state": {
       "_model_module": "jupyter-cytoscape",
       "_model_module_version": "^1.3.3",
       "_model_name": "EdgeModel",
       "_view_count": null,
       "_view_module": "jupyter-cytoscape",
       "_view_module_version": "^1.3.3",
       "_view_name": "EdgeView",
       "classes": " directed ",
       "data": {
        "source": "-4217768473955824486",
        "target": "7849998676930706966"
       },
       "pannable": true,
       "removed": false,
       "selectable": false,
       "selected": false
      }
     },
     "8a95b9ff6fd14f6dbfc57c5b2272481f": {
      "model_module": "jupyter-cytoscape",
      "model_module_version": "^1.3.3",
      "model_name": "NodeModel",
      "state": {
       "_model_module": "jupyter-cytoscape",
       "_model_module_version": "^1.3.3",
       "_model_name": "NodeModel",
       "_view_count": null,
       "_view_module": "jupyter-cytoscape",
       "_view_module_version": "^1.3.3",
       "_view_name": "NodeView",
       "classes": "",
       "data": {
        "color": "gray",
        "id": "-7232897286462953814",
        "label": "read-csv",
        "shape": "ellipse"
       },
       "grabbable": true,
       "grabbed": false,
       "locked": false,
       "pannable": false,
       "position": {},
       "removed": false,
       "selectable": false,
       "selected": false
      }
     },
     "8ae1f3f32db047c8aedea0219077f8ea": {
      "model_module": "jupyter-cytoscape",
      "model_module_version": "^1.3.3",
      "model_name": "NodeModel",
      "state": {
       "_model_module": "jupyter-cytoscape",
       "_model_module_version": "^1.3.3",
       "_model_name": "NodeModel",
       "_view_count": null,
       "_view_module": "jupyter-cytoscape",
       "_view_module_version": "^1.3.3",
       "_view_name": "NodeView",
       "classes": "",
       "data": {
        "color": "gray",
        "id": "-4825757750512858433",
        "label": "series-count-chunk",
        "shape": "ellipse"
       },
       "grabbable": true,
       "grabbed": false,
       "locked": false,
       "pannable": false,
       "position": {},
       "removed": false,
       "selectable": false,
       "selected": false
      }
     },
     "8ae9854493a94034b310ad0accf694a6": {
      "model_module": "jupyter-cytoscape",
      "model_module_version": "^1.3.3",
      "model_name": "NodeModel",
      "state": {
       "_model_module": "jupyter-cytoscape",
       "_model_module_version": "^1.3.3",
       "_model_name": "NodeModel",
       "_view_count": null,
       "_view_module": "jupyter-cytoscape",
       "_view_module_version": "^1.3.3",
       "_view_name": "NodeView",
       "classes": "",
       "data": {
        "color": "gray",
        "id": "6760978242912636788",
        "label": "0",
        "shape": "rectangle"
       },
       "grabbable": true,
       "grabbed": false,
       "locked": false,
       "pannable": false,
       "position": {},
       "removed": false,
       "selectable": false,
       "selected": false
      }
     },
     "8b2672d263ec41bb886f6c2c5239dc04": {
      "model_module": "jupyter-cytoscape",
      "model_module_version": "^1.3.3",
      "model_name": "EdgeModel",
      "state": {
       "_model_module": "jupyter-cytoscape",
       "_model_module_version": "^1.3.3",
       "_model_name": "EdgeModel",
       "_view_count": null,
       "_view_module": "jupyter-cytoscape",
       "_view_module_version": "^1.3.3",
       "_view_name": "EdgeView",
       "classes": " directed ",
       "data": {
        "source": "6574891433908704754",
        "target": "-6628031145996916368"
       },
       "pannable": true,
       "removed": false,
       "selectable": false,
       "selected": false
      }
     },
     "8b4b1865dab84d7e9f7b3da37b8bcefe": {
      "model_module": "jupyter-cytoscape",
      "model_module_version": "^1.3.3",
      "model_name": "EdgeModel",
      "state": {
       "_model_module": "jupyter-cytoscape",
       "_model_module_version": "^1.3.3",
       "_model_name": "EdgeModel",
       "_view_count": null,
       "_view_module": "jupyter-cytoscape",
       "_view_module_version": "^1.3.3",
       "_view_name": "EdgeView",
       "classes": " directed ",
       "data": {
        "source": "-5537164860749842763",
        "target": "-2558665403660712424"
       },
       "pannable": true,
       "removed": false,
       "selectable": false,
       "selected": false
      }
     },
     "8c74bcf0c9aa4a739c66700235c387d0": {
      "model_module": "jupyter-cytoscape",
      "model_module_version": "^1.3.3",
      "model_name": "NodeModel",
      "state": {
       "_model_module": "jupyter-cytoscape",
       "_model_module_version": "^1.3.3",
       "_model_name": "NodeModel",
       "_view_count": null,
       "_view_module": "jupyter-cytoscape",
       "_view_module_version": "^1.3.3",
       "_view_name": "NodeView",
       "classes": "",
       "data": {
        "color": "gray",
        "id": "-5728119703383890993",
        "label": "3",
        "shape": "rectangle"
       },
       "grabbable": true,
       "grabbed": false,
       "locked": false,
       "pannable": false,
       "position": {},
       "removed": false,
       "selectable": false,
       "selected": false
      }
     },
     "8c9d052dc43b45878e48cf7e04802fd0": {
      "model_module": "jupyter-cytoscape",
      "model_module_version": "^1.3.3",
      "model_name": "NodeModel",
      "state": {
       "_model_module": "jupyter-cytoscape",
       "_model_module_version": "^1.3.3",
       "_model_name": "NodeModel",
       "_view_count": null,
       "_view_module": "jupyter-cytoscape",
       "_view_module_version": "^1.3.3",
       "_view_name": "NodeView",
       "classes": "",
       "data": {
        "color": "gray",
        "id": "253320015125669096",
        "label": "getitem",
        "shape": "ellipse"
       },
       "grabbable": true,
       "grabbed": false,
       "locked": false,
       "pannable": false,
       "position": {},
       "removed": false,
       "selectable": false,
       "selected": false
      }
     },
     "8ccfcdf61a52453e8443713ea57f4a63": {
      "model_module": "jupyter-cytoscape",
      "model_module_version": "^1.3.3",
      "model_name": "EdgeModel",
      "state": {
       "_model_module": "jupyter-cytoscape",
       "_model_module_version": "^1.3.3",
       "_model_name": "EdgeModel",
       "_view_count": null,
       "_view_module": "jupyter-cytoscape",
       "_view_module_version": "^1.3.3",
       "_view_name": "EdgeView",
       "classes": " directed ",
       "data": {
        "source": "-8279916112279011537",
        "target": "-181904500885301806"
       },
       "pannable": true,
       "removed": false,
       "selectable": false,
       "selected": false
      }
     },
     "8e68cd9c72c14501b247f0ac4fc5a6c0": {
      "model_module": "jupyter-cytoscape",
      "model_module_version": "^1.3.3",
      "model_name": "EdgeModel",
      "state": {
       "_model_module": "jupyter-cytoscape",
       "_model_module_version": "^1.3.3",
       "_model_name": "EdgeModel",
       "_view_count": null,
       "_view_module": "jupyter-cytoscape",
       "_view_module_version": "^1.3.3",
       "_view_name": "EdgeView",
       "classes": " directed ",
       "data": {
        "source": "-5698307822963293241",
        "target": "6760978242912636788"
       },
       "pannable": true,
       "removed": false,
       "selectable": false,
       "selected": false
      }
     },
     "8ec34c99a831420c868e1d7ff780d151": {
      "model_module": "jupyter-cytoscape",
      "model_module_version": "^1.3.3",
      "model_name": "NodeModel",
      "state": {
       "_model_module": "jupyter-cytoscape",
       "_model_module_version": "^1.3.3",
       "_model_name": "NodeModel",
       "_view_count": null,
       "_view_module": "jupyter-cytoscape",
       "_view_module_version": "^1.3.3",
       "_view_name": "NodeView",
       "classes": "",
       "data": {
        "color": "gray",
        "id": "-7342686430513193052",
        "label": "1",
        "shape": "rectangle"
       },
       "grabbable": true,
       "grabbed": false,
       "locked": false,
       "pannable": false,
       "position": {},
       "removed": false,
       "selectable": false,
       "selected": false
      }
     },
     "8f50e9d39c7b426094c081fd4ed15c42": {
      "model_module": "jupyter-cytoscape",
      "model_module_version": "^1.3.3",
      "model_name": "EdgeModel",
      "state": {
       "_model_module": "jupyter-cytoscape",
       "_model_module_version": "^1.3.3",
       "_model_name": "EdgeModel",
       "_view_count": null,
       "_view_module": "jupyter-cytoscape",
       "_view_module_version": "^1.3.3",
       "_view_name": "EdgeView",
       "classes": " directed ",
       "data": {
        "source": "-3488175222488785204",
        "target": "-6978778610828150496"
       },
       "pannable": true,
       "removed": false,
       "selectable": false,
       "selected": false
      }
     },
     "8f95b9e70b1741c4821fa4d4f8a42b95": {
      "model_module": "jupyter-cytoscape",
      "model_module_version": "^1.3.3",
      "model_name": "NodeModel",
      "state": {
       "_model_module": "jupyter-cytoscape",
       "_model_module_version": "^1.3.3",
       "_model_name": "NodeModel",
       "_view_count": null,
       "_view_module": "jupyter-cytoscape",
       "_view_module_version": "^1.3.3",
       "_view_name": "NodeView",
       "classes": "",
       "data": {
        "color": "gray",
        "id": "4514981908375864646",
        "label": "0",
        "shape": "rectangle"
       },
       "grabbable": true,
       "grabbed": false,
       "locked": false,
       "pannable": false,
       "position": {},
       "removed": false,
       "selectable": false,
       "selected": false
      }
     },
     "8fdc06be367f49aebf175a12c3c0358e": {
      "model_module": "jupyter-cytoscape",
      "model_module_version": "^1.3.3",
      "model_name": "EdgeModel",
      "state": {
       "_model_module": "jupyter-cytoscape",
       "_model_module_version": "^1.3.3",
       "_model_name": "EdgeModel",
       "_view_count": null,
       "_view_module": "jupyter-cytoscape",
       "_view_module_version": "^1.3.3",
       "_view_name": "EdgeView",
       "classes": " directed ",
       "data": {
        "source": "8795867127746635940",
        "target": "-8540243123120834407"
       },
       "pannable": true,
       "removed": false,
       "selectable": false,
       "selected": false
      }
     },
     "90d4fc92260a48848b6575aa56866674": {
      "model_module": "jupyter-cytoscape",
      "model_module_version": "^1.3.3",
      "model_name": "NodeModel",
      "state": {
       "_model_module": "jupyter-cytoscape",
       "_model_module_version": "^1.3.3",
       "_model_name": "NodeModel",
       "_view_count": null,
       "_view_module": "jupyter-cytoscape",
       "_view_module_version": "^1.3.3",
       "_view_name": "NodeView",
       "classes": "",
       "data": {
        "color": "gray",
        "id": "6331170653445408337",
        "label": "series-sum-chunk",
        "shape": "ellipse"
       },
       "grabbable": true,
       "grabbed": false,
       "locked": false,
       "pannable": false,
       "position": {},
       "removed": false,
       "selectable": false,
       "selected": false
      }
     },
     "90f224ba389540dcb350872d596fd74c": {
      "model_module": "jupyter-cytoscape",
      "model_module_version": "^1.3.3",
      "model_name": "NodeModel",
      "state": {
       "_model_module": "jupyter-cytoscape",
       "_model_module_version": "^1.3.3",
       "_model_name": "NodeModel",
       "_view_count": null,
       "_view_module": "jupyter-cytoscape",
       "_view_module_version": "^1.3.3",
       "_view_name": "NodeView",
       "classes": "",
       "data": {
        "color": "gray",
        "id": "-2722741239277047912",
        "label": "getitem",
        "shape": "ellipse"
       },
       "grabbable": true,
       "grabbed": false,
       "locked": false,
       "pannable": false,
       "position": {},
       "removed": false,
       "selectable": false,
       "selected": false
      }
     },
     "91478b01e5784c83ba558162d5cece5d": {
      "model_module": "jupyter-cytoscape",
      "model_module_version": "^1.3.3",
      "model_name": "EdgeModel",
      "state": {
       "_model_module": "jupyter-cytoscape",
       "_model_module_version": "^1.3.3",
       "_model_name": "EdgeModel",
       "_view_count": null,
       "_view_module": "jupyter-cytoscape",
       "_view_module_version": "^1.3.3",
       "_view_name": "EdgeView",
       "classes": " directed ",
       "data": {
        "source": "-389702876007656578",
        "target": "-5698307822963293241"
       },
       "pannable": true,
       "removed": false,
       "selectable": false,
       "selected": false
      }
     },
     "91a3345b99ba4288ae3702638453ae95": {
      "model_module": "jupyter-cytoscape",
      "model_module_version": "^1.3.3",
      "model_name": "NodeModel",
      "state": {
       "_model_module": "jupyter-cytoscape",
       "_model_module_version": "^1.3.3",
       "_model_name": "NodeModel",
       "_view_count": null,
       "_view_module": "jupyter-cytoscape",
       "_view_module_version": "^1.3.3",
       "_view_name": "NodeView",
       "classes": "",
       "data": {
        "color": "gray",
        "id": "-4021630845364285391",
        "label": "series-count-chunk",
        "shape": "ellipse"
       },
       "grabbable": true,
       "grabbed": false,
       "locked": false,
       "pannable": false,
       "position": {},
       "removed": false,
       "selectable": false,
       "selected": false
      }
     },
     "9276e13503f44c0dab99fd83ab840b4a": {
      "model_module": "jupyter-cytoscape",
      "model_module_version": "^1.3.3",
      "model_name": "EdgeModel",
      "state": {
       "_model_module": "jupyter-cytoscape",
       "_model_module_version": "^1.3.3",
       "_model_name": "EdgeModel",
       "_view_count": null,
       "_view_module": "jupyter-cytoscape",
       "_view_module_version": "^1.3.3",
       "_view_name": "EdgeView",
       "classes": " directed ",
       "data": {
        "source": "-9066306159762710849",
        "target": "-722736711310678707"
       },
       "pannable": true,
       "removed": false,
       "selectable": false,
       "selected": false
      }
     },
     "9282d5a2e3de4201bb5d4196770c6405": {
      "model_module": "jupyter-cytoscape",
      "model_module_version": "^1.3.3",
      "model_name": "NodeModel",
      "state": {
       "_model_module": "jupyter-cytoscape",
       "_model_module_version": "^1.3.3",
       "_model_name": "NodeModel",
       "_view_count": null,
       "_view_module": "jupyter-cytoscape",
       "_view_module_version": "^1.3.3",
       "_view_name": "NodeView",
       "classes": "",
       "data": {
        "color": "gray",
        "id": "-7845439402009645140",
        "label": "getitem",
        "shape": "ellipse"
       },
       "grabbable": true,
       "grabbed": false,
       "locked": false,
       "pannable": false,
       "position": {},
       "removed": false,
       "selectable": false,
       "selected": false
      }
     },
     "92dd4fc8112b4b83a3b86fe728ccbb39": {
      "model_module": "jupyter-cytoscape",
      "model_module_version": "^1.3.3",
      "model_name": "NodeModel",
      "state": {
       "_model_module": "jupyter-cytoscape",
       "_model_module_version": "^1.3.3",
       "_model_name": "NodeModel",
       "_view_count": null,
       "_view_module": "jupyter-cytoscape",
       "_view_module_version": "^1.3.3",
       "_view_name": "NodeView",
       "classes": "",
       "data": {
        "color": "gray",
        "id": "-8182258083319309490",
        "label": "getitem",
        "shape": "ellipse"
       },
       "grabbable": true,
       "grabbed": false,
       "locked": false,
       "pannable": false,
       "position": {},
       "removed": false,
       "selectable": false,
       "selected": false
      }
     },
     "93312575c0b9446b9cacc4a3303a598e": {
      "model_module": "jupyter-cytoscape",
      "model_module_version": "^1.3.3",
      "model_name": "NodeModel",
      "state": {
       "_model_module": "jupyter-cytoscape",
       "_model_module_version": "^1.3.3",
       "_model_name": "NodeModel",
       "_view_count": null,
       "_view_module": "jupyter-cytoscape",
       "_view_module_version": "^1.3.3",
       "_view_name": "NodeView",
       "classes": "",
       "data": {
        "color": "gray",
        "id": "5100397946538107319",
        "label": "inv",
        "shape": "ellipse"
       },
       "grabbable": true,
       "grabbed": false,
       "locked": false,
       "pannable": false,
       "position": {},
       "removed": false,
       "selectable": false,
       "selected": false
      }
     },
     "93be6ae50e3a437187603f016e1a1e01": {
      "model_module": "jupyter-cytoscape",
      "model_module_version": "^1.3.3",
      "model_name": "EdgeModel",
      "state": {
       "_model_module": "jupyter-cytoscape",
       "_model_module_version": "^1.3.3",
       "_model_name": "EdgeModel",
       "_view_count": null,
       "_view_module": "jupyter-cytoscape",
       "_view_module_version": "^1.3.3",
       "_view_name": "EdgeView",
       "classes": " directed ",
       "data": {
        "source": "2104943887418955050",
        "target": "-6511679988241542503"
       },
       "pannable": true,
       "removed": false,
       "selectable": false,
       "selected": false
      }
     },
     "93ee5f835b54430f933bb5a77a6672a8": {
      "model_module": "jupyter-cytoscape",
      "model_module_version": "^1.3.3",
      "model_name": "EdgeModel",
      "state": {
       "_model_module": "jupyter-cytoscape",
       "_model_module_version": "^1.3.3",
       "_model_name": "EdgeModel",
       "_view_count": null,
       "_view_module": "jupyter-cytoscape",
       "_view_module_version": "^1.3.3",
       "_view_name": "EdgeView",
       "classes": " directed ",
       "data": {
        "source": "-7845439402009645140",
        "target": "7744115362634468764"
       },
       "pannable": true,
       "removed": false,
       "selectable": false,
       "selected": false
      }
     },
     "95739c38da31414aa4441b1a1533c21a": {
      "model_module": "jupyter-cytoscape",
      "model_module_version": "^1.3.3",
      "model_name": "NodeModel",
      "state": {
       "_model_module": "jupyter-cytoscape",
       "_model_module_version": "^1.3.3",
       "_model_name": "NodeModel",
       "_view_count": null,
       "_view_module": "jupyter-cytoscape",
       "_view_module_version": "^1.3.3",
       "_view_name": "NodeView",
       "classes": "",
       "data": {
        "color": "gray",
        "id": "-6511679988241542503",
        "label": "9",
        "shape": "rectangle"
       },
       "grabbable": true,
       "grabbed": false,
       "locked": false,
       "pannable": false,
       "position": {},
       "removed": false,
       "selectable": false,
       "selected": false
      }
     },
     "95c82ca3072b495ebbf4ab4486137a42": {
      "model_module": "jupyter-cytoscape",
      "model_module_version": "^1.3.3",
      "model_name": "EdgeModel",
      "state": {
       "_model_module": "jupyter-cytoscape",
       "_model_module_version": "^1.3.3",
       "_model_name": "EdgeModel",
       "_view_count": null,
       "_view_module": "jupyter-cytoscape",
       "_view_module_version": "^1.3.3",
       "_view_name": "EdgeView",
       "classes": " directed ",
       "data": {
        "source": "-6978778610828150496",
        "target": "-3433519570761395025"
       },
       "pannable": true,
       "removed": false,
       "selectable": false,
       "selected": false
      }
     },
     "964ddc7d7a3c4958891b951c4855d24f": {
      "model_module": "jupyter-cytoscape",
      "model_module_version": "^1.3.3",
      "model_name": "EdgeModel",
      "state": {
       "_model_module": "jupyter-cytoscape",
       "_model_module_version": "^1.3.3",
       "_model_name": "EdgeModel",
       "_view_count": null,
       "_view_module": "jupyter-cytoscape",
       "_view_module_version": "^1.3.3",
       "_view_name": "EdgeView",
       "classes": " directed ",
       "data": {
        "source": "3427192958368596129",
        "target": "-5698307822963293241"
       },
       "pannable": true,
       "removed": false,
       "selectable": false,
       "selected": false
      }
     },
     "972bf77fc2a04796b18441e5604db8de": {
      "model_module": "jupyter-cytoscape",
      "model_module_version": "^1.3.3",
      "model_name": "EdgeModel",
      "state": {
       "_model_module": "jupyter-cytoscape",
       "_model_module_version": "^1.3.3",
       "_model_name": "EdgeModel",
       "_view_count": null,
       "_view_module": "jupyter-cytoscape",
       "_view_module_version": "^1.3.3",
       "_view_name": "EdgeView",
       "classes": " directed ",
       "data": {
        "source": "-2722741239277047912",
        "target": "-1547316049322595730"
       },
       "pannable": true,
       "removed": false,
       "selectable": false,
       "selected": false
      }
     },
     "9769f8b582064f679b7f33f30a4f0778": {
      "model_module": "jupyter-cytoscape",
      "model_module_version": "^1.3.3",
      "model_name": "EdgeModel",
      "state": {
       "_model_module": "jupyter-cytoscape",
       "_model_module_version": "^1.3.3",
       "_model_name": "EdgeModel",
       "_view_count": null,
       "_view_module": "jupyter-cytoscape",
       "_view_module_version": "^1.3.3",
       "_view_name": "EdgeView",
       "classes": " directed ",
       "data": {
        "source": "6145542010407343287",
        "target": "-3942938910880416882"
       },
       "pannable": true,
       "removed": false,
       "selectable": false,
       "selected": false
      }
     },
     "981f5a43a90b4fd99aa1c1bc5288c531": {
      "model_module": "jupyter-cytoscape",
      "model_module_version": "^1.3.3",
      "model_name": "NodeModel",
      "state": {
       "_model_module": "jupyter-cytoscape",
       "_model_module_version": "^1.3.3",
       "_model_name": "NodeModel",
       "_view_count": null,
       "_view_module": "jupyter-cytoscape",
       "_view_module_version": "^1.3.3",
       "_view_name": "NodeView",
       "classes": "",
       "data": {
        "color": "gray",
        "id": "669390781580465024",
        "label": "getitem",
        "shape": "ellipse"
       },
       "grabbable": true,
       "grabbed": false,
       "locked": false,
       "pannable": false,
       "position": {},
       "removed": false,
       "selectable": false,
       "selected": false
      }
     },
     "9898d9d1948c490e85e539395dca0810": {
      "model_module": "jupyter-cytoscape",
      "model_module_version": "^1.3.3",
      "model_name": "EdgeModel",
      "state": {
       "_model_module": "jupyter-cytoscape",
       "_model_module_version": "^1.3.3",
       "_model_name": "EdgeModel",
       "_view_count": null,
       "_view_module": "jupyter-cytoscape",
       "_view_module_version": "^1.3.3",
       "_view_name": "EdgeView",
       "classes": " directed ",
       "data": {
        "source": "8765609785744830544",
        "target": "-5698307822963293241"
       },
       "pannable": true,
       "removed": false,
       "selectable": false,
       "selected": false
      }
     },
     "98bf4093888c498eaee5f8e47f67c12f": {
      "model_module": "jupyter-cytoscape",
      "model_module_version": "^1.3.3",
      "model_name": "NodeModel",
      "state": {
       "_model_module": "jupyter-cytoscape",
       "_model_module_version": "^1.3.3",
       "_model_name": "NodeModel",
       "_view_count": null,
       "_view_module": "jupyter-cytoscape",
       "_view_module_version": "^1.3.3",
       "_view_name": "NodeView",
       "classes": "",
       "data": {
        "color": "gray",
        "id": "5151066857489203318",
        "label": "series-mean",
        "shape": "ellipse"
       },
       "grabbable": true,
       "grabbed": false,
       "locked": false,
       "pannable": false,
       "position": {},
       "removed": false,
       "selectable": false,
       "selected": false
      }
     },
     "98ea2c0381f945348cd5691e13395c36": {
      "model_module": "jupyter-cytoscape",
      "model_module_version": "^1.3.3",
      "model_name": "NodeModel",
      "state": {
       "_model_module": "jupyter-cytoscape",
       "_model_module_version": "^1.3.3",
       "_model_name": "NodeModel",
       "_view_count": null,
       "_view_module": "jupyter-cytoscape",
       "_view_module_version": "^1.3.3",
       "_view_name": "NodeView",
       "classes": "",
       "data": {
        "color": "gray",
        "id": "8333491756850144735",
        "label": "inv",
        "shape": "ellipse"
       },
       "grabbable": true,
       "grabbed": false,
       "locked": false,
       "pannable": false,
       "position": {},
       "removed": false,
       "selectable": false,
       "selected": false
      }
     },
     "99223093f0b04e2dbb2e434ef84b4cad": {
      "model_module": "jupyter-cytoscape",
      "model_module_version": "^1.3.3",
      "model_name": "NodeModel",
      "state": {
       "_model_module": "jupyter-cytoscape",
       "_model_module_version": "^1.3.3",
       "_model_name": "NodeModel",
       "_view_count": null,
       "_view_module": "jupyter-cytoscape",
       "_view_module_version": "^1.3.3",
       "_view_name": "NodeView",
       "classes": "",
       "data": {
        "color": "gray",
        "id": "2493997645905476342",
        "label": "inv",
        "shape": "ellipse"
       },
       "grabbable": true,
       "grabbed": false,
       "locked": false,
       "pannable": false,
       "position": {},
       "removed": false,
       "selectable": false,
       "selected": false
      }
     },
     "9b0bb354677f481ebcb937bd74bee1bd": {
      "model_module": "jupyter-cytoscape",
      "model_module_version": "^1.3.3",
      "model_name": "EdgeModel",
      "state": {
       "_model_module": "jupyter-cytoscape",
       "_model_module_version": "^1.3.3",
       "_model_name": "EdgeModel",
       "_view_count": null,
       "_view_module": "jupyter-cytoscape",
       "_view_module_version": "^1.3.3",
       "_view_name": "EdgeView",
       "classes": " directed ",
       "data": {
        "source": "-5725289940757843191",
        "target": "-5217271706681397157"
       },
       "pannable": true,
       "removed": false,
       "selectable": false,
       "selected": false
      }
     },
     "9b226bb9eeb146ae8a2b62b5305f969e": {
      "model_module": "jupyter-cytoscape",
      "model_module_version": "^1.3.3",
      "model_name": "GraphModel",
      "state": {
       "_adj": {
        "-1163020807998381171": {},
        "-1383822443689837436": {},
        "-1433977818100758417": {},
        "-1547316049322595730": {},
        "-1601450621132917475": {},
        "-1618605959268846137": {},
        "-181904500885301806": {},
        "-1825139685823884221": {},
        "-1984177896369359741": {},
        "-2004269603136958637": {},
        "-2134375285019937558": {},
        "-2159337084952218622": {},
        "-2202488613033113313": {},
        "-22866290339826286": {},
        "-2558665403660712424": {},
        "-2632498354674451781": {},
        "-266399799876530831": {},
        "-2722741239277047912": {},
        "-2788304801517932783": {},
        "-2965294203482439106": {},
        "-2984791433091964748": {},
        "-3003987125419274856": {},
        "-3090789385568658130": {},
        "-3119778409719713563": {},
        "-3345837706779263536": {},
        "-3433519570761395025": {},
        "-3436625259823024823": {},
        "-3488175222488785204": {},
        "-3545348839568012685": {},
        "-3611628160301935127": {},
        "-362098745694655138": {},
        "-3727889332386476434": {},
        "-378092120596831720": {},
        "-3817055340162415372": {},
        "-389702876007656578": {},
        "-3942938910880416882": {},
        "-3961610480436276557": {},
        "-4021630845364285391": {},
        "-4076175810231355893": {},
        "-4085948845941587494": {},
        "-4173232130790014483": {},
        "-4217768473955824486": {},
        "-436243956634735008": {},
        "-4473464672095345466": {},
        "-449382030543082127": {},
        "-4556066012032079181": {},
        "-4777629558972427861": {},
        "-4780852089027699137": {},
        "-4787064828576022683": {},
        "-4795851509508119141": {},
        "-4825757750512858433": {},
        "-4986279268888179382": {},
        "-5217271706681397157": {},
        "-5226194887431237186": {},
        "-5342456059515778493": {},
        "-5402339980437273779": {},
        "-5520961639240058378": {},
        "-5537164860749842763": {},
        "-5575857782686678513": {},
        "-5599978414656692183": {},
        "-5698307822963293241": {},
        "-5700515573070889553": {},
        "-5725289940757843191": {},
        "-5728119703383890993": {},
        "-5802576797857170242": {},
        "-6365505096131322341": {},
        "-6395418816157001196": {},
        "-6398656257391111230": {},
        "-6484126754934106940": {},
        "-6511679988241542503": {},
        "-6628031145996916368": {},
        "-6772394645476992832": {},
        "-6867086290107849607": {},
        "-6869739501796653563": {},
        "-6871817527113344389": {},
        "-6897343632109655003": {},
        "-6978778610828150496": {},
        "-7219092967625260928": {},
        "-722736711310678707": {},
        "-7232897286462953814": {},
        "-7332920690604205715": {},
        "-7339856667887145250": {},
        "-7342686430513193052": {},
        "-7378131178170736448": {},
        "-7564642744882765206": {},
        "-7845439402009645140": {},
        "-788537035052247975": {},
        "-7941618574202756842": {},
        "-8182258083319309490": {},
        "-8239622574812004915": {},
        "-8279916112279011537": {},
        "-8381204912575358887": {},
        "-8386961372606294891": {},
        "-8398660785357480435": {},
        "-8481653017237151666": {},
        "-8511910359238957062": {},
        "-8540243123120834407": {},
        "-881774921856154227": {},
        "-9035170681947011749": {},
        "-9066306159762710849": {},
        "-986031406033874848": {},
        "112221939944997229": {},
        "1165184696586219932": {},
        "1236474606532470339": {},
        "1252467981434646921": {},
        "1348166927252771228": {},
        "1521361487213819043": {},
        "1536790159956288715": {},
        "1726788667074299288": {},
        "1756897231286491372": {},
        "2104943887418955050": {},
        "214627093188833346": {},
        "229106684892762560": {},
        "239515696287976210": {},
        "2421691910160410931": {},
        "2493997645905476342": {},
        "253320015125669096": {},
        "2690585415939583053": {},
        "2702045091520108396": {},
        "3135928214343121102": {},
        "3361751354552277218": {},
        "3363690593463167935": {},
        "3427192958368596129": {},
        "3465732522842790486": {},
        "3509251585282858930": {},
        "352137558488055033": {},
        "3590915838886174941": {},
        "3659187205328541654": {},
        "3902793098773939574": {},
        "398553906833451730": {},
        "3997484743404796349": {},
        "4137911257607001685": {},
        "4305152143068885112": {},
        "4361980971294644663": {},
        "4490204336024514652": {},
        "4514981908375864646": {},
        "4596416887094360139": {},
        "4608825994827299251": {},
        "4908709954019357632": {},
        "4960324706779402695": {},
        "4963365605746747811": {},
        "5072017027499703584": {},
        "5100397946538107319": {},
        "5123818312412160989": {},
        "5139090868474943069": {},
        "5151066857489203318": {},
        "5165963988947225870": {},
        "5166708672130560359": {},
        "5245211587460751399": {},
        "5543684501450551995": {},
        "5608580374990210053": {},
        "5620863048582971313": {},
        "5989535129900287639": {},
        "6129548635505166705": {},
        "6137237358810427962": {},
        "6145542010407343287": {},
        "6210983614223662198": {},
        "6213813376849710000": {},
        "6241240956225467594": {},
        "6331170653445408337": {},
        "6359823548136621464": {},
        "6574891433908704754": {},
        "6611971506450564705": {},
        "6686583754629005643": {},
        "669390781580465024": {},
        "6712908430176316005": {},
        "6760978242912636788": {},
        "6781275399259862418": {},
        "6941364263959001004": {},
        "6958064958794954856": {},
        "7012720610522345035": {},
        "7181589568728782527": {},
        "724046433307855203": {},
        "732663254807715673": {},
        "7383037305575474010": {},
        "7603009765902060543": {},
        "7657935379765807277": {},
        "7721334843651728705": {},
        "7723298146336552068": {},
        "7744115362634468764": {},
        "7765871186817538708": {},
        "7830501447321181324": {},
        "7849998676930706966": {},
        "7855807683354769653": {},
        "8029002243315817468": {},
        "807125183031108872": {},
        "8327475157305618064": {},
        "8333491756850144735": {},
        "8377230430045894293": {},
        "8552261234301238020": {},
        "8684174807026335051": {},
        "875396549473475585": {},
        "8765609785744830544": {},
        "8795867127746635940": {},
        "8848145167266191859": {},
        "8886838089203027609": {},
        "8890558772377492715": {},
        "8997604032704776069": {}
       },
       "_model_module": "jupyter-cytoscape",
       "_model_module_version": "^1.3.3",
       "_model_name": "GraphModel",
       "_view_count": null,
       "_view_module": "jupyter-cytoscape",
       "_view_module_version": "^1.3.3",
       "_view_name": null,
       "edges": [
        "IPY_MODEL_0f9f37ed681b4dffb85a1113a4ee8a00",
        "IPY_MODEL_50cc1211df0b4db597172ff699e5e29e",
        "IPY_MODEL_89747bb23716408aa9779df24c7cf9a0",
        "IPY_MODEL_0e9aefbeafc144d9a53f268697f589f7",
        "IPY_MODEL_e360673ce4bd46719f23b3a23358c262",
        "IPY_MODEL_e82425e75beb476dab542a62c332e54d",
        "IPY_MODEL_729f6773e17049feb157f78f2d050192",
        "IPY_MODEL_00c6e01874404614bb181d5e928e6db2",
        "IPY_MODEL_7bf0900e4bbc4dbe882652c953e9d00d",
        "IPY_MODEL_78991eb1171949c7be413e6da13513cf",
        "IPY_MODEL_9f7f74abfcca4fcf8891331742bd853e",
        "IPY_MODEL_e6b32626f1ef4d708d88816e09bab93b",
        "IPY_MODEL_8b4b1865dab84d7e9f7b3da37b8bcefe",
        "IPY_MODEL_2b38c0f5a00948629ef7f31a7cfe5aef",
        "IPY_MODEL_3ff54c1b45a44d4ab903fd656ffe558a",
        "IPY_MODEL_5e167472abad4367bc458baacc6de22b",
        "IPY_MODEL_478773a5ba9d4313b438f485311179a3",
        "IPY_MODEL_c41283a69f70427fbeb088494b8bee41",
        "IPY_MODEL_1f2d7fbd837e4085b47d710e480c696d",
        "IPY_MODEL_d7936254a1354c4f966c9884b64ef15f",
        "IPY_MODEL_43c53285741c45fe83e7825761c71c58",
        "IPY_MODEL_c80114878e5346e7baf2daab98b325e7",
        "IPY_MODEL_10c1f5ae625e4473a1e211eee93ad9c3",
        "IPY_MODEL_2f29a9739ba6403f959ce74bd4778b51",
        "IPY_MODEL_e47684c447c142958ceace56d682c60f",
        "IPY_MODEL_2d3861f8da9c4213be8f50771dec7e05",
        "IPY_MODEL_9769f8b582064f679b7f33f30a4f0778",
        "IPY_MODEL_042a1f6a003a4ba080ac5b0cc74bcb64",
        "IPY_MODEL_3410c109ae90408f8ef12c74cb620b88",
        "IPY_MODEL_86174e890d6943ada643d09bbd6bd3ca",
        "IPY_MODEL_93be6ae50e3a437187603f016e1a1e01",
        "IPY_MODEL_a5b463edd1854938811e571fde8c98eb",
        "IPY_MODEL_a9eb6e9adc7a411ead7a03ad20207031",
        "IPY_MODEL_0924a40ae12645c8846893274a324079",
        "IPY_MODEL_e576a70849024eda843646309eeea0ce",
        "IPY_MODEL_adc999f1efc5404ca9fa4a4a421842ce",
        "IPY_MODEL_3aff5618eb5644178ce3b4be961da171",
        "IPY_MODEL_d6ed3ae78d934ea698c376abc4f0ad70",
        "IPY_MODEL_7a14fc639af341919ac96d3a9403bc69",
        "IPY_MODEL_0e3de48bca2941b38c12989baa1877c9",
        "IPY_MODEL_cfaffcee97ec4d208bbbb8e827366b53",
        "IPY_MODEL_3c33912fbaca43e78470b46dd355ea82",
        "IPY_MODEL_452da2b93bc143d584c8929ea6f3b10a",
        "IPY_MODEL_b30fb8a05d6846d28c370d54395a3f99",
        "IPY_MODEL_708a56eea1a543feb71839b6648faa1f",
        "IPY_MODEL_85c6d5cd5c5a458d9bda8f3263edd489",
        "IPY_MODEL_bb023f7b092c471daa30c7a7f5e15491",
        "IPY_MODEL_61f5681094f94fcf9c1afe86d5d5b7f0",
        "IPY_MODEL_8ccfcdf61a52453e8443713ea57f4a63",
        "IPY_MODEL_e5b8a868e27a48aeafe1c03525a439b8",
        "IPY_MODEL_610f52c8e3394e4eb173416488c15f21",
        "IPY_MODEL_1bf5639169b54b9d8b0e2cadf79f4ea3",
        "IPY_MODEL_679c62a4c9744f1db78117417cd80e3f",
        "IPY_MODEL_cb91e1b94dd44c18aa2c80cc1527e19d",
        "IPY_MODEL_0221f5ecfdd6460c819187fc4a2aef67",
        "IPY_MODEL_f3f837263887418f8d5b7f4d30978865",
        "IPY_MODEL_d3e8dc295636480dae4cc16dfe1c59b8",
        "IPY_MODEL_ce91d1ff46ef4e2eb9360352d68d40f2",
        "IPY_MODEL_87ad1cb0d5cf4eddaacd02bb094c88d3",
        "IPY_MODEL_80490266b86c4502b51f3c7d11a4cb37",
        "IPY_MODEL_00cc93a178d84134bf0f47d126f1f146",
        "IPY_MODEL_9bf91c0964d64f428aa485b7cb89dc08",
        "IPY_MODEL_9b0bb354677f481ebcb937bd74bee1bd",
        "IPY_MODEL_218a5aff58504a8fb207bec124a34996",
        "IPY_MODEL_5fa29ba910ba48069c4186d80a50cf74",
        "IPY_MODEL_373886b018b344d5be00399e645b56d6",
        "IPY_MODEL_0c7252b8e9a84fe38d5ca8545940859a",
        "IPY_MODEL_443d61b858c546139b410aaa185456a0",
        "IPY_MODEL_3dadd36c358f441e8c37442d8e4623a3",
        "IPY_MODEL_cc2f636ee59845e698874f499e16cc88",
        "IPY_MODEL_6952f73d5a7f4224aefa715aa7fa46b3",
        "IPY_MODEL_f5dc69ed96bd46b19c14b124e6303527",
        "IPY_MODEL_25f98735013347db9b7e4c48c8f5f546",
        "IPY_MODEL_3751bb14e10348b0ab4e948acbee61c3",
        "IPY_MODEL_7f0782c731c7484ca3d14408ce940bb7",
        "IPY_MODEL_e2341c2ecc87442aaa40698ade97616e",
        "IPY_MODEL_e59c06954f8f4dc093edd33dcef8ba21",
        "IPY_MODEL_4ebb4b619b8441c28aa492a1e9c244f7",
        "IPY_MODEL_4047f1f56311493b98138216c23f0a01",
        "IPY_MODEL_45c99f28427447dcac503b1fe37b583d",
        "IPY_MODEL_8fdc06be367f49aebf175a12c3c0358e",
        "IPY_MODEL_fb6cb062e6644b43856dc93459d961e1",
        "IPY_MODEL_b35ed09d4fd74fc180f37af546993be9",
        "IPY_MODEL_5254f28e58e94b46a56436a48b328553",
        "IPY_MODEL_f17675a7bad24b0b95015d3c7e6b4d36",
        "IPY_MODEL_e1c5cdac0af648a8b78fa1a2ee51ba6f",
        "IPY_MODEL_1246504e72084f1694df9a6456619dce",
        "IPY_MODEL_d5f3d116d39149f1967d291934cccffb",
        "IPY_MODEL_9276e13503f44c0dab99fd83ab840b4a",
        "IPY_MODEL_dbd185ed1540450dba0cbefcfd42be1d",
        "IPY_MODEL_43b51367f7804b08b8012c2ffd6bee36",
        "IPY_MODEL_93ee5f835b54430f933bb5a77a6672a8",
        "IPY_MODEL_a3b571517370430e8c50a593ed2a480b",
        "IPY_MODEL_972bf77fc2a04796b18441e5604db8de",
        "IPY_MODEL_be003a6d21124a4093e879699a6657ec",
        "IPY_MODEL_c78b09a7170b4daf991364e9baaed044",
        "IPY_MODEL_a1e3de3f72014fb0af81f9cade1e36df",
        "IPY_MODEL_8f50e9d39c7b426094c081fd4ed15c42",
        "IPY_MODEL_84e70fe0909b44a58b8f00c28b0d4e9c",
        "IPY_MODEL_83d6df990f50433a9aef8e8f7697db86",
        "IPY_MODEL_800590fda6d044d8a967f0f7ce305694",
        "IPY_MODEL_16513fe8b9c54cbca0a3eaa8de99253e",
        "IPY_MODEL_37180d2a82ab435ba0efcf507106d22d",
        "IPY_MODEL_82d7cd87508242efb7d17ba3eed93ccc",
        "IPY_MODEL_5a52695df7ba48eead987db9472e1dd5",
        "IPY_MODEL_a67493d40ca24148b4b9e7d8139dac8a",
        "IPY_MODEL_c12a15dfd86f402e928454fde0b4d869",
        "IPY_MODEL_eee4107082c948679a6be55b9dc20e49",
        "IPY_MODEL_b35e255aa1da489488b681303a44bc59",
        "IPY_MODEL_ed28004a47764c9591e5b4b722c632b8",
        "IPY_MODEL_bc487e885539453281a92000f3917851",
        "IPY_MODEL_b1c4b6b0f60c4baeb32b434c19323bf7",
        "IPY_MODEL_7fc94d6c7e934257ba03b2f6ea5570d3",
        "IPY_MODEL_732e2b47b81547c081a82518abb41245",
        "IPY_MODEL_4da85bd20b3e4dadb921f9574aa0cb99",
        "IPY_MODEL_bcd177c7e46e4998b2a59e9f2d091488",
        "IPY_MODEL_0f5ed3eba41a48ebab3613baa5769375",
        "IPY_MODEL_2b5a31342f794d9d97daecb7b1250ac2",
        "IPY_MODEL_bd4110dcbe234b8b8b344aa5a891dd20",
        "IPY_MODEL_cfedfd6541da40b1928f1d819654536b",
        "IPY_MODEL_2249b3bd38944137a70ccc7d642ddae9",
        "IPY_MODEL_9c9675d025d3421c8beda16ce2141274",
        "IPY_MODEL_c244c8da2a9f44be87dfbeaa66ded0d5",
        "IPY_MODEL_8e68cd9c72c14501b247f0ac4fc5a6c0",
        "IPY_MODEL_964ddc7d7a3c4958891b951c4855d24f",
        "IPY_MODEL_7e67b619e6344ef49b204170e294a4e1",
        "IPY_MODEL_855b5cf710e34b069b5212d58535b860",
        "IPY_MODEL_f5d7fe6a2e6c4a94ae571e2205662ff7",
        "IPY_MODEL_baf3f9f9b1cf4fe4815e5189de826160",
        "IPY_MODEL_9898d9d1948c490e85e539395dca0810",
        "IPY_MODEL_276419debede4bdb91f82f3e58dca64a",
        "IPY_MODEL_2e524b287e6c47a29abf2cd640c72222",
        "IPY_MODEL_a6e44d46ac554cb79146ec96d0374b59",
        "IPY_MODEL_91478b01e5784c83ba558162d5cece5d",
        "IPY_MODEL_37f630c435174a658c618cd839089076",
        "IPY_MODEL_a160ebe027f64644b3bea305434922c1",
        "IPY_MODEL_de949bb117024d68bdae827a0d14f159",
        "IPY_MODEL_e32c918ada014c8f8adff361bbcd4dd1",
        "IPY_MODEL_438bed3c578c4e6c8ec919c356aed94b",
        "IPY_MODEL_58ba825b8ad84f52849e7fe62fc02e00",
        "IPY_MODEL_dce64a18986044cb95ba8403401412b3",
        "IPY_MODEL_d95d135bae90417c8f84c5fd9af02bbd",
        "IPY_MODEL_2ffd259a5a3e44faba4fbf65ad665160",
        "IPY_MODEL_b171c4fe96504f62af0666d0bece3683",
        "IPY_MODEL_2cdc9488c94446958426f198a811639e",
        "IPY_MODEL_6404e454e4de446f87664dd0277464f4",
        "IPY_MODEL_6a1fc4be02374af5a4137e84766ffea2",
        "IPY_MODEL_444e5151d1434e1eae702459570cb568",
        "IPY_MODEL_d517a7cc44274d3985cccdc6aba8e42f",
        "IPY_MODEL_52c6a41613e6485b8577b0d2be7929cb",
        "IPY_MODEL_eab64f161d3e497388d47528044eee34",
        "IPY_MODEL_8b2672d263ec41bb886f6c2c5239dc04",
        "IPY_MODEL_144905c9354248058b979b5bb906fdb8",
        "IPY_MODEL_4e4bf7e852c940118b1cdc50e609b5f9",
        "IPY_MODEL_9d77dbfb160f4138b06ff819114baec1",
        "IPY_MODEL_119b22df5add4c2d8dc7765563898805",
        "IPY_MODEL_cfadb8365522429ebfbfdd4b66bf0c8d",
        "IPY_MODEL_07f7a779bf164145ae9d6f403c125f33",
        "IPY_MODEL_4e7cb3c8a8844c3fa77133a093269163",
        "IPY_MODEL_5393ef76c09e4777b5fed5fa77458471",
        "IPY_MODEL_7ac7bdbca0ec48648fa52beb57147ccd",
        "IPY_MODEL_bbd05d2e2860463b81a4cffa9b84b739",
        "IPY_MODEL_e0c8c34b00aa4c4b887f631644a67eb0",
        "IPY_MODEL_84759b8a24544b2397fe2304a8597fc7",
        "IPY_MODEL_0e29c628aebe4a7e9880100f5bcc703a",
        "IPY_MODEL_a7485b97827e4d1fba05fb81a01535a2",
        "IPY_MODEL_d702821f990d4de8b9d6a48b262b84d1",
        "IPY_MODEL_c91a491598374b3dba7e1408411766ab",
        "IPY_MODEL_f323676645a34b1788b367997595977f",
        "IPY_MODEL_3eb1b6fb4672478db95e3c52a2e4be64",
        "IPY_MODEL_3887a9556b7f48458cd24bb0c2ffcf58",
        "IPY_MODEL_4f516b7209654a8b87bc33b997769ae7",
        "IPY_MODEL_7085864376914831bc28c61a1872f149",
        "IPY_MODEL_861f354effac491db6a40d299ba920c8",
        "IPY_MODEL_48c63f0fd962434e876aa08548b8c0a9",
        "IPY_MODEL_1f4bd9ed09d64f3ab7e3970924b82f0d",
        "IPY_MODEL_cc1ef04cfb664040937326cb35b9288d",
        "IPY_MODEL_1142855e2a6d480092d919a68f14ee64",
        "IPY_MODEL_32e7ee693d8e465cb6329275c19dd144",
        "IPY_MODEL_062aa154173b4e968f74ef8c3916b4fb",
        "IPY_MODEL_95c82ca3072b495ebbf4ab4486137a42",
        "IPY_MODEL_b34fb4acbc7f47ea97bbfce785afe6cf",
        "IPY_MODEL_c6beef8cb5464cf4ab1272783193baaf",
        "IPY_MODEL_012beaaf865a42798d01ed84b56b8fa9",
        "IPY_MODEL_6f0b62f8925f493980ec5b198ce3b1ee",
        "IPY_MODEL_ed2bfd9c101c4da090d8c4542e4b5dd0",
        "IPY_MODEL_89a5f5db0898435b84e9fb5de3ee9de3",
        "IPY_MODEL_9f3acdbe9ec44166a1238988f404e459",
        "IPY_MODEL_df70885b04b74c00bd3020e7dd088cab",
        "IPY_MODEL_afd24c32525f422e9d76c4fa1a2f5aa6",
        "IPY_MODEL_c4716443f39948ea871ade7e0929a45d",
        "IPY_MODEL_339861a2480045c2937211b55590a497",
        "IPY_MODEL_6e3a52a7f2e740febbf3028b99baad65",
        "IPY_MODEL_ed04e1f6c57340d2bd5d6595bd163833",
        "IPY_MODEL_f67dcb6063ed450fbc721e882e73f8ea",
        "IPY_MODEL_029b99efda8349f6884171275353ad8c",
        "IPY_MODEL_0fb4ff6cb4924f5ca09d3718837513f7",
        "IPY_MODEL_44bd20496cd844a6a91b048d9884a3e4",
        "IPY_MODEL_8195c5d3701c448581ae4f34024e795e",
        "IPY_MODEL_c636102ad7da4e73929b0df1ff4b7e21",
        "IPY_MODEL_4143430dc5b047478e50fd94a8820940",
        "IPY_MODEL_5d8d4cc3ce804ad1b8f9b1fc16aa9654",
        "IPY_MODEL_031d1ad644834a69bda154cc680a38b5",
        "IPY_MODEL_68db1efdbaa546aea4fb84ac268dbe83",
        "IPY_MODEL_8a6b6b2bef084aa1b630c58194bc4f1e",
        "IPY_MODEL_003e34d6b4ba4cfcb108aee16265b7bc",
        "IPY_MODEL_17c3c257e3d54b62bd36152980f38aea",
        "IPY_MODEL_c236cfbdf4f3464b9d041b4f19fecfe9",
        "IPY_MODEL_25e0b0a93a4442e9b1c33a5339b66355",
        "IPY_MODEL_cd1063989c384f709c533273e44fb799",
        "IPY_MODEL_5cfbbe7bedcf4ff4a5845ccbcd7c33dd",
        "IPY_MODEL_36f14c4f07e846149083e1169521a76d",
        "IPY_MODEL_0799ee7359384d1ca739d312b7c998ce",
        "IPY_MODEL_08c0c448a071426dafb36b257ace94bd",
        "IPY_MODEL_56261c33f408422e9bb238f420615bc5",
        "IPY_MODEL_8475f17d258141b1a8a8f97ff8702a90",
        "IPY_MODEL_451c06e023b1499990a1635a2264f441",
        "IPY_MODEL_625e00b24ad5436381385bff26a3d4dc",
        "IPY_MODEL_09a16001155c4c91b05dd6c530be8d80",
        "IPY_MODEL_c40918b26d47465ab6f42601d79225cf",
        "IPY_MODEL_b14d6771c81c430aa684a3b1942e9951",
        "IPY_MODEL_27a182d500234d9c849e63fc6deb3c97",
        "IPY_MODEL_21dc3eee6d034deba85882199f5fd139",
        "IPY_MODEL_118af3eb2a884c4eaf1f1e05529a33a9",
        "IPY_MODEL_fe1a942641d14a61a824a013c7b494e9",
        "IPY_MODEL_32fab709b46a4bb8850bc4b1760f3af1"
       ],
       "nodes": [
        "IPY_MODEL_98bf4093888c498eaee5f8e47f67c12f",
        "IPY_MODEL_533a9dc5b2904ebd913f4eeb51a6077e",
        "IPY_MODEL_8ae9854493a94034b310ad0accf694a6",
        "IPY_MODEL_1cb067e086464a929d9ec38a797c8c30",
        "IPY_MODEL_bb46ffd2822f49f8869a9bad139cf93e",
        "IPY_MODEL_76fc8919eb2648718354acfa673f92c4",
        "IPY_MODEL_29691264b30940bf86afd6f811966d76",
        "IPY_MODEL_b0943b507a32419089f50ab30aae5ba0",
        "IPY_MODEL_8c9d052dc43b45878e48cf7e04802fd0",
        "IPY_MODEL_dad2e2e6da29432cb8d4b8061194ac05",
        "IPY_MODEL_fadaea080b194604a144893702190fe9",
        "IPY_MODEL_f6be1d0849d1401c9f494c7d3ac62f29",
        "IPY_MODEL_e777286fdaa04304ac2e07f5790d5caf",
        "IPY_MODEL_d9476394500d4161924eab811c4e0f13",
        "IPY_MODEL_13c673f652e94ef0974e6829a265f0c0",
        "IPY_MODEL_9fc0c1e301d54baa9220ca4f3bb5191a",
        "IPY_MODEL_aea5728999dc47bfbe136f05fdef82ae",
        "IPY_MODEL_e21294661de847c881d560a850165ef8",
        "IPY_MODEL_6afb516912734493b48587692da20cb4",
        "IPY_MODEL_1232615a457d4b148cfb8e3ff6245a25",
        "IPY_MODEL_7240576e803147d0ab6fb0b1995ae8ac",
        "IPY_MODEL_46870253b5514236a802747d0820793f",
        "IPY_MODEL_e0846230a3e04011833261eb9dc00e53",
        "IPY_MODEL_018dc83e9cc34f49a2f26190316e8fb1",
        "IPY_MODEL_6c258d06e5514160a2aea69c5960219a",
        "IPY_MODEL_b3f6540691f24eeca4b5b5bcb9dce2a7",
        "IPY_MODEL_be7e8b84df684107b6b02bd41853c083",
        "IPY_MODEL_6c8cb2a6f5da49b9b4cd245f2d6964b6",
        "IPY_MODEL_92dd4fc8112b4b83a3b86fe728ccbb39",
        "IPY_MODEL_5aff4a6f3fec4f95afd5878612f1564e",
        "IPY_MODEL_6c0c70889a6d4d32bcac10e9d6b4fb3f",
        "IPY_MODEL_618553a3349749cf965f2503e54a830c",
        "IPY_MODEL_80a5f39c72004a3a9db67ef2fcd24ad5",
        "IPY_MODEL_853153fbbb684692b1df19c8b18d58b0",
        "IPY_MODEL_083659fd42b9451f8fa3464d5a61918c",
        "IPY_MODEL_1dc47dfa309745c2b569a1cdb0e60a79",
        "IPY_MODEL_80fde481e019490a8d3a156cc5b4c99d",
        "IPY_MODEL_0d1a3b55fb994a48a468d015d69319ea",
        "IPY_MODEL_5f8d2f31810c4136ad5674e321f3f573",
        "IPY_MODEL_896ca317142a4664bb2f280adbe1dccf",
        "IPY_MODEL_d21d0330bea54afc8dffdab4d3cf8c85",
        "IPY_MODEL_cb248850e731404e9da9ebf5c217e027",
        "IPY_MODEL_635c1e3d8d924870a254cf4398379ade",
        "IPY_MODEL_95739c38da31414aa4441b1a1533c21a",
        "IPY_MODEL_6ce49448da8a49768363ea578fb18527",
        "IPY_MODEL_301d46dd1f0e4423b1b6b49ca212a726",
        "IPY_MODEL_73a82f9e269945e680908fa73b200627",
        "IPY_MODEL_9c03d2d0e4b04c1db4d5acafe557be9d",
        "IPY_MODEL_8a95b9ff6fd14f6dbfc57c5b2272481f",
        "IPY_MODEL_3cd7ef15dae944ab9032d772685eebf8",
        "IPY_MODEL_792ceb00eed24aecb8f3caba9ea9a066",
        "IPY_MODEL_25795b8039dc40aab29517548e857aca",
        "IPY_MODEL_72beba3da86f49318b443d25ece4fa80",
        "IPY_MODEL_2d2db39048624559b02d3100b0060d16",
        "IPY_MODEL_3b7e823945b94557811a67e7ddc5ae3d",
        "IPY_MODEL_d3b56d776ddd4a4daea1b93f57b7125f",
        "IPY_MODEL_19003e1eb548426abc30677633870f49",
        "IPY_MODEL_dce16fb1e0e94dd0ae394af72d0ba9a6",
        "IPY_MODEL_bcfc4cb8d915490783f97f62a25e2087",
        "IPY_MODEL_3e3a1d4d926d46ab898824be4d0af597",
        "IPY_MODEL_9f637171ad3a45df9dd15beccfbc1973",
        "IPY_MODEL_c53a241c7a47460f9de7834828d5cb12",
        "IPY_MODEL_e81c72aacf0043f78ad45da778456219",
        "IPY_MODEL_da9a66d8f8df4c57b7edbdb5a6e1fd05",
        "IPY_MODEL_396239019cc4461da39b01bbf2a3e220",
        "IPY_MODEL_bb258bec04194de18f5e93f02e8238aa",
        "IPY_MODEL_805098dfd4074a73ab8994430cc95097",
        "IPY_MODEL_f86ae513d6064ca88f1a9d8fbc027adf",
        "IPY_MODEL_a9df540354f04efd96d0f3e5c7ee0733",
        "IPY_MODEL_3b7c05f022274c4e95f629f0723d60dd",
        "IPY_MODEL_e2508c27208b490988d4aa724c57592e",
        "IPY_MODEL_a12578b4d9b54500b33e6e26200b74a9",
        "IPY_MODEL_842d8467aedd44a4a0937f3009ea8237",
        "IPY_MODEL_5f5bd9ba4a9f4fceb3d36d1b2fcc28d3",
        "IPY_MODEL_8041c973b1d54c1dbda5aa96c5b52d52",
        "IPY_MODEL_98ea2c0381f945348cd5691e13395c36",
        "IPY_MODEL_7dbef50eb59046439e294372df09262c",
        "IPY_MODEL_653a4645a53b4dadb61942b35dfc8cb4",
        "IPY_MODEL_a655dd602e3149f19f574894ec63b148",
        "IPY_MODEL_93312575c0b9446b9cacc4a3303a598e",
        "IPY_MODEL_f33deb34c9fc4ffba09bf1ec58bc04c4",
        "IPY_MODEL_1a3d5eb9b98f4e15af75f3976fc9416f",
        "IPY_MODEL_52b9d2d614f346329f9a5d41d76bd154",
        "IPY_MODEL_99223093f0b04e2dbb2e434ef84b4cad",
        "IPY_MODEL_981f5a43a90b4fd99aa1c1bc5288c531",
        "IPY_MODEL_8f95b9e70b1741c4821fa4d4f8a42b95",
        "IPY_MODEL_d7b44cee09aa42b0bc99530706b370db",
        "IPY_MODEL_683c643978a54c73982fdc34367f4a96",
        "IPY_MODEL_1344067760734e40a524f08fe1e5990d",
        "IPY_MODEL_a2a846b04a994f5482cbd3864d77e4a0",
        "IPY_MODEL_2488f11b2c1240e5b4df9d97e4513ccd",
        "IPY_MODEL_d5fe149e17674be8a0fdea8622d47a25",
        "IPY_MODEL_9282d5a2e3de4201bb5d4196770c6405",
        "IPY_MODEL_51accff12584436996bf804d250d9bac",
        "IPY_MODEL_90f224ba389540dcb350872d596fd74c",
        "IPY_MODEL_cf041ccdfff846f89a26dff8fa1f3e09",
        "IPY_MODEL_cf897c225ca8415b94c4f8a75d7567dd",
        "IPY_MODEL_893de91be0db4047bba40b9580049d31",
        "IPY_MODEL_4faef680795b4ddfba4483ef0a42ff38",
        "IPY_MODEL_4759b387f1314461b7a62a3e8e6258b0",
        "IPY_MODEL_08c0968ff9f84248be95f401a5012277",
        "IPY_MODEL_4ad4e6ca59ff43458425c74c798da31d",
        "IPY_MODEL_2785940d53b14d50b28d062b3d2aecbe",
        "IPY_MODEL_3ee58e4ccfd04c3c8f3755c27cbea520",
        "IPY_MODEL_b35a95af4a574360bf2ac34aca67d7eb",
        "IPY_MODEL_2fd6cf48afa94e36907d9dd99dbe6637",
        "IPY_MODEL_76b314ce81364b5bbf018edca7167b25",
        "IPY_MODEL_8ec34c99a831420c868e1d7ff780d151",
        "IPY_MODEL_a5354cf45d4f4057b14435c59651f3aa",
        "IPY_MODEL_a790360d85f64574b072336ef12bc0f0",
        "IPY_MODEL_90d4fc92260a48848b6575aa56866674",
        "IPY_MODEL_8c74bcf0c9aa4a739c66700235c387d0",
        "IPY_MODEL_456068112cda46358a07aaef04a6ba19",
        "IPY_MODEL_a89654e048c043a99c1b0ce095779f01",
        "IPY_MODEL_1a369d8085b24cc0bad2e8a448e8d223",
        "IPY_MODEL_6365856e78ad4edfbf59040ae3b1218f",
        "IPY_MODEL_35d655471a0440e58fe3614f2f65adf8",
        "IPY_MODEL_1a2b3be43bd34c96ab92f235aa0c54b6",
        "IPY_MODEL_aefd9e534de74e78ae10b4d4dc1119c2",
        "IPY_MODEL_1edaa4b7460147efbc622aee9e013ceb",
        "IPY_MODEL_0665e48c00504677af2f0d5350caddac",
        "IPY_MODEL_3f58f48f70044f968d7fc5e61ad83593",
        "IPY_MODEL_e392a20637a843fea5cd6f9c93856f04",
        "IPY_MODEL_705e0cbc142649ee88dd73d65747de0a",
        "IPY_MODEL_9bc193dd187c484b98f20bfdb5f3ab73",
        "IPY_MODEL_698eed77b6e34e059dbf671ba61f025c",
        "IPY_MODEL_1082f2b2c25442a6bae2f3459ef669b8",
        "IPY_MODEL_3c8d31f2ba624cb1bc3f0de990c41fb2",
        "IPY_MODEL_24daac26dcbc4601baf6e1b3eb6c9929",
        "IPY_MODEL_42aed0a10ac4446f8f4540c82abcb899",
        "IPY_MODEL_064a288dff7045969c9abf8e092f7519",
        "IPY_MODEL_c6f68885887f40f7a106526c468960d5",
        "IPY_MODEL_23fc91fc004a426c9960c595cafd52c2",
        "IPY_MODEL_91a3345b99ba4288ae3702638453ae95",
        "IPY_MODEL_6badfa325aac4f86b8b295c5026987aa",
        "IPY_MODEL_8ae1f3f32db047c8aedea0219077f8ea",
        "IPY_MODEL_f929aa3ab7234658ad0dc1951ddb2740",
        "IPY_MODEL_be5e2a16f6424c2499a0d3ece819c3d6",
        "IPY_MODEL_8a6585a1e8264af78b2f205a84bf10f9",
        "IPY_MODEL_52a4747335a64665a90b41558ad82ec0",
        "IPY_MODEL_795b429e75eb4fa3bcd99d3046e41b4f",
        "IPY_MODEL_4ffdcba0d8af4362808b823469160507",
        "IPY_MODEL_57e0770ce0f54f42a035f273326d57c1",
        "IPY_MODEL_d3f2c790426a4910ad61c69fae20f358",
        "IPY_MODEL_56ad102e53d64f2cb5155acd9570dd55",
        "IPY_MODEL_6236ace0f4634c57bfe0cae65559aff7",
        "IPY_MODEL_7ce2031043f74781ba69d6c8b85afb54",
        "IPY_MODEL_c73528f86aea4fa2a96cc04dd7f10697",
        "IPY_MODEL_6b9943b4c4a646b3bd8183feabacce75",
        "IPY_MODEL_f26d281c61254eee81ddf4c9abd04361",
        "IPY_MODEL_2a46892734b54062968fec198fc0f229",
        "IPY_MODEL_ee4f3ce2d2ee469f832d8ae334d83c57",
        "IPY_MODEL_ebb13e75f8d24ea7af10a9d36633c53c",
        "IPY_MODEL_e7ca176e588248bc8853462d788ff8b2",
        "IPY_MODEL_eddc9d9e19c7487fb90a3ce6e213e91e",
        "IPY_MODEL_4ea23a8a3803440aa9261a6e631b1262",
        "IPY_MODEL_825cfa5e948f47d18ebb532e7ea21034",
        "IPY_MODEL_3e799873ce9b40b4be22460b3f25d3ed",
        "IPY_MODEL_87b9ebd564134527a1df86d2af4f33c2",
        "IPY_MODEL_5d7b1de3162945889330476463804341",
        "IPY_MODEL_a2a9b8fa71fb48c5a81c601daa5ad800",
        "IPY_MODEL_7ca3e3e533aa4b95ac7325b61e6f91e8",
        "IPY_MODEL_5a9fe2449060441e8b3abe8d6ea9d1e3",
        "IPY_MODEL_a6c51b1cbb344b10b26cdf3f253bde4e",
        "IPY_MODEL_b9d7690cbb8f42aa976f98fb6c24fa0b",
        "IPY_MODEL_6e24103811224593bddd8aaa9cee8fbc",
        "IPY_MODEL_52c52d8d127c456098e0332116cf757a",
        "IPY_MODEL_a345d2f3e70a4e3c9586073a6846ac1a",
        "IPY_MODEL_a5b8c197838e492c9b1c3ddcd4f7c74e",
        "IPY_MODEL_12bcd19fc7c3462689659e80e2a6793d",
        "IPY_MODEL_a157d8a06ac341979b8efde118a9d642",
        "IPY_MODEL_86d95fa14f694aa39aeaefd7768cca47",
        "IPY_MODEL_aca1accc0aae495ab4a435aad31940e7",
        "IPY_MODEL_e37df73e190f415791fa1a420eafbc4a",
        "IPY_MODEL_83ec77c027514179a8c59e213155afe5",
        "IPY_MODEL_1b25bfe39d1a44ffa82824b8627727a5",
        "IPY_MODEL_f8cff012bb77447082287ba5a283114f",
        "IPY_MODEL_2c74951dfb254f768b8a5ef0e748997f",
        "IPY_MODEL_34181c31fb6c48e38ed78abdd5a8fbde",
        "IPY_MODEL_13b488b0e271437aad6d3a0fd4bb3e46",
        "IPY_MODEL_1e721d89d558456cabb9af17548e9586",
        "IPY_MODEL_6e7fba636fcc4d2fb07e19f0a7d79bee",
        "IPY_MODEL_1e819884c4484a8b9e94c9f06626362f",
        "IPY_MODEL_19d00e4c72dd4b7da4f393da2264cd97",
        "IPY_MODEL_a923784b44e74c0db1bec9d915bbcebc",
        "IPY_MODEL_703d4f8bb56d4012a45b72c323b3ca1a",
        "IPY_MODEL_cf3a2df53bd744249ce4d59c626eac6a",
        "IPY_MODEL_ef73a7ceccb34a2790e82508edcaceb1",
        "IPY_MODEL_c4b24d63eb4d4898b61e0c7dcdb8dfa0",
        "IPY_MODEL_b5792af337ce4dab8c831ac6eb26d5b9",
        "IPY_MODEL_26d3075fd1214b05abdd09ed3b3d7678",
        "IPY_MODEL_048d431549ee435399d82bf5093cd432",
        "IPY_MODEL_326187fdc67045b79648253241d74458",
        "IPY_MODEL_bc6cdd94177d4adc93b5de25c6188034",
        "IPY_MODEL_7d477e7a8dfa4a029fc76051571dccb0",
        "IPY_MODEL_2d00c5b373404d9aadc1a1174e51346b",
        "IPY_MODEL_8a1b9baefb294663ab82f158ebc18d3e",
        "IPY_MODEL_76fd8dcfa3764328afb4e496b3eb8213"
       ]
      }
     },
     "9bc193dd187c484b98f20bfdb5f3ab73": {
      "model_module": "jupyter-cytoscape",
      "model_module_version": "^1.3.3",
      "model_name": "NodeModel",
      "state": {
       "_model_module": "jupyter-cytoscape",
       "_model_module_version": "^1.3.3",
       "_model_name": "NodeModel",
       "_view_count": null,
       "_view_module": "jupyter-cytoscape",
       "_view_module_version": "^1.3.3",
       "_view_name": "NodeView",
       "classes": "",
       "data": {
        "color": "gray",
        "id": "-5698307822963293241",
        "label": "series-sum-agg",
        "shape": "ellipse"
       },
       "grabbable": true,
       "grabbed": false,
       "locked": false,
       "pannable": false,
       "position": {},
       "removed": false,
       "selectable": false,
       "selected": false
      }
     },
     "9bf91c0964d64f428aa485b7cb89dc08": {
      "model_module": "jupyter-cytoscape",
      "model_module_version": "^1.3.3",
      "model_name": "EdgeModel",
      "state": {
       "_model_module": "jupyter-cytoscape",
       "_model_module_version": "^1.3.3",
       "_model_name": "EdgeModel",
       "_view_count": null,
       "_view_module": "jupyter-cytoscape",
       "_view_module_version": "^1.3.3",
       "_view_name": "EdgeView",
       "classes": " directed ",
       "data": {
        "source": "-5217271706681397157",
        "target": "3902793098773939574"
       },
       "pannable": true,
       "removed": false,
       "selectable": false,
       "selected": false
      }
     },
     "9c03d2d0e4b04c1db4d5acafe557be9d": {
      "model_module": "jupyter-cytoscape",
      "model_module_version": "^1.3.3",
      "model_name": "NodeModel",
      "state": {
       "_model_module": "jupyter-cytoscape",
       "_model_module_version": "^1.3.3",
       "_model_name": "NodeModel",
       "_view_count": null,
       "_view_module": "jupyter-cytoscape",
       "_view_module_version": "^1.3.3",
       "_view_name": "NodeView",
       "classes": "",
       "data": {
        "color": "gray",
        "id": "-1601450621132917475",
        "label": "read-csv",
        "shape": "ellipse"
       },
       "grabbable": true,
       "grabbed": false,
       "locked": false,
       "pannable": false,
       "position": {},
       "removed": false,
       "selectable": false,
       "selected": false
      }
     },
     "9c9675d025d3421c8beda16ce2141274": {
      "model_module": "jupyter-cytoscape",
      "model_module_version": "^1.3.3",
      "model_name": "EdgeModel",
      "state": {
       "_model_module": "jupyter-cytoscape",
       "_model_module_version": "^1.3.3",
       "_model_name": "EdgeModel",
       "_view_count": null,
       "_view_module": "jupyter-cytoscape",
       "_view_module_version": "^1.3.3",
       "_view_name": "EdgeView",
       "classes": " directed ",
       "data": {
        "source": "-4473464672095345466",
        "target": "8765609785744830544"
       },
       "pannable": true,
       "removed": false,
       "selectable": false,
       "selected": false
      }
     },
     "9d77dbfb160f4138b06ff819114baec1": {
      "model_module": "jupyter-cytoscape",
      "model_module_version": "^1.3.3",
      "model_name": "EdgeModel",
      "state": {
       "_model_module": "jupyter-cytoscape",
       "_model_module_version": "^1.3.3",
       "_model_name": "EdgeModel",
       "_view_count": null,
       "_view_module": "jupyter-cytoscape",
       "_view_module_version": "^1.3.3",
       "_view_name": "EdgeView",
       "classes": " directed ",
       "data": {
        "source": "1756897231286491372",
        "target": "6611971506450564705"
       },
       "pannable": true,
       "removed": false,
       "selectable": false,
       "selected": false
      }
     },
     "9f3acdbe9ec44166a1238988f404e459": {
      "model_module": "jupyter-cytoscape",
      "model_module_version": "^1.3.3",
      "model_name": "EdgeModel",
      "state": {
       "_model_module": "jupyter-cytoscape",
       "_model_module_version": "^1.3.3",
       "_model_name": "EdgeModel",
       "_view_count": null,
       "_view_module": "jupyter-cytoscape",
       "_view_module_version": "^1.3.3",
       "_view_name": "EdgeView",
       "classes": " directed ",
       "data": {
        "source": "-5402339980437273779",
        "target": "-5226194887431237186"
       },
       "pannable": true,
       "removed": false,
       "selectable": false,
       "selected": false
      }
     },
     "9f637171ad3a45df9dd15beccfbc1973": {
      "model_module": "jupyter-cytoscape",
      "model_module_version": "^1.3.3",
      "model_name": "NodeModel",
      "state": {
       "_model_module": "jupyter-cytoscape",
       "_model_module_version": "^1.3.3",
       "_model_name": "NodeModel",
       "_view_count": null,
       "_view_module": "jupyter-cytoscape",
       "_view_module_version": "^1.3.3",
       "_view_name": "NodeView",
       "classes": "",
       "data": {
        "color": "gray",
        "id": "-986031406033874848",
        "label": "getitem",
        "shape": "ellipse"
       },
       "grabbable": true,
       "grabbed": false,
       "locked": false,
       "pannable": false,
       "position": {},
       "removed": false,
       "selectable": false,
       "selected": false
      }
     },
     "9f7f74abfcca4fcf8891331742bd853e": {
      "model_module": "jupyter-cytoscape",
      "model_module_version": "^1.3.3",
      "model_name": "EdgeModel",
      "state": {
       "_model_module": "jupyter-cytoscape",
       "_model_module_version": "^1.3.3",
       "_model_name": "EdgeModel",
       "_view_count": null,
       "_view_module": "jupyter-cytoscape",
       "_view_module_version": "^1.3.3",
       "_view_name": "EdgeView",
       "classes": " directed ",
       "data": {
        "source": "807125183031108872",
        "target": "-5575857782686678513"
       },
       "pannable": true,
       "removed": false,
       "selectable": false,
       "selected": false
      }
     },
     "9fc0c1e301d54baa9220ca4f3bb5191a": {
      "model_module": "jupyter-cytoscape",
      "model_module_version": "^1.3.3",
      "model_name": "NodeModel",
      "state": {
       "_model_module": "jupyter-cytoscape",
       "_model_module_version": "^1.3.3",
       "_model_name": "NodeModel",
       "_view_count": null,
       "_view_module": "jupyter-cytoscape",
       "_view_module_version": "^1.3.3",
       "_view_name": "NodeView",
       "classes": "",
       "data": {
        "color": "gray",
        "id": "-9066306159762710849",
        "label": "2",
        "shape": "rectangle"
       },
       "grabbable": true,
       "grabbed": false,
       "locked": false,
       "pannable": false,
       "position": {},
       "removed": false,
       "selectable": false,
       "selected": false
      }
     },
     "a12578b4d9b54500b33e6e26200b74a9": {
      "model_module": "jupyter-cytoscape",
      "model_module_version": "^1.3.3",
      "model_name": "NodeModel",
      "state": {
       "_model_module": "jupyter-cytoscape",
       "_model_module_version": "^1.3.3",
       "_model_name": "NodeModel",
       "_view_count": null,
       "_view_module": "jupyter-cytoscape",
       "_view_module_version": "^1.3.3",
       "_view_name": "NodeView",
       "classes": "",
       "data": {
        "color": "gray",
        "id": "8795867127746635940",
        "label": "8",
        "shape": "rectangle"
       },
       "grabbable": true,
       "grabbed": false,
       "locked": false,
       "pannable": false,
       "position": {},
       "removed": false,
       "selectable": false,
       "selected": false
      }
     },
     "a157d8a06ac341979b8efde118a9d642": {
      "model_module": "jupyter-cytoscape",
      "model_module_version": "^1.3.3",
      "model_name": "NodeModel",
      "state": {
       "_model_module": "jupyter-cytoscape",
       "_model_module_version": "^1.3.3",
       "_model_name": "NodeModel",
       "_view_count": null,
       "_view_module": "jupyter-cytoscape",
       "_view_module_version": "^1.3.3",
       "_view_name": "NodeView",
       "classes": "",
       "data": {
        "color": "gray",
        "id": "-1163020807998381171",
        "label": "moment_chunk",
        "shape": "ellipse"
       },
       "grabbable": true,
       "grabbed": false,
       "locked": false,
       "pannable": false,
       "position": {},
       "removed": false,
       "selectable": false,
       "selected": false
      }
     },
     "a160ebe027f64644b3bea305434922c1": {
      "model_module": "jupyter-cytoscape",
      "model_module_version": "^1.3.3",
      "model_name": "EdgeModel",
      "state": {
       "_model_module": "jupyter-cytoscape",
       "_model_module_version": "^1.3.3",
       "_model_name": "EdgeModel",
       "_view_count": null,
       "_view_module": "jupyter-cytoscape",
       "_view_module_version": "^1.3.3",
       "_view_name": "EdgeView",
       "classes": " directed ",
       "data": {
        "source": "4514981908375864646",
        "target": "-788537035052247975"
       },
       "pannable": true,
       "removed": false,
       "selectable": false,
       "selected": false
      }
     },
     "a1e3de3f72014fb0af81f9cade1e36df": {
      "model_module": "jupyter-cytoscape",
      "model_module_version": "^1.3.3",
      "model_name": "EdgeModel",
      "state": {
       "_model_module": "jupyter-cytoscape",
       "_model_module_version": "^1.3.3",
       "_model_name": "EdgeModel",
       "_view_count": null,
       "_view_module": "jupyter-cytoscape",
       "_view_module_version": "^1.3.3",
       "_view_name": "EdgeView",
       "classes": " directed ",
       "data": {
        "source": "1165184696586219932",
        "target": "4361980971294644663"
       },
       "pannable": true,
       "removed": false,
       "selectable": false,
       "selected": false
      }
     },
     "a2a846b04a994f5482cbd3864d77e4a0": {
      "model_module": "jupyter-cytoscape",
      "model_module_version": "^1.3.3",
      "model_name": "NodeModel",
      "state": {
       "_model_module": "jupyter-cytoscape",
       "_model_module_version": "^1.3.3",
       "_model_name": "NodeModel",
       "_view_count": null,
       "_view_module": "jupyter-cytoscape",
       "_view_module_version": "^1.3.3",
       "_view_name": "NodeView",
       "classes": "",
       "data": {
        "color": "gray",
        "id": "6129548635505166705",
        "label": "2",
        "shape": "rectangle"
       },
       "grabbable": true,
       "grabbed": false,
       "locked": false,
       "pannable": false,
       "position": {},
       "removed": false,
       "selectable": false,
       "selected": false
      }
     },
     "a2a9b8fa71fb48c5a81c601daa5ad800": {
      "model_module": "jupyter-cytoscape",
      "model_module_version": "^1.3.3",
      "model_name": "NodeModel",
      "state": {
       "_model_module": "jupyter-cytoscape",
       "_model_module_version": "^1.3.3",
       "_model_name": "NodeModel",
       "_view_count": null,
       "_view_module": "jupyter-cytoscape",
       "_view_module_version": "^1.3.3",
       "_view_name": "NodeView",
       "classes": "",
       "data": {
        "color": "gray",
        "id": "-3433519570761395025",
        "label": "values",
        "shape": "ellipse"
       },
       "grabbable": true,
       "grabbed": false,
       "locked": false,
       "pannable": false,
       "position": {},
       "removed": false,
       "selectable": false,
       "selected": false
      }
     },
     "a345d2f3e70a4e3c9586073a6846ac1a": {
      "model_module": "jupyter-cytoscape",
      "model_module_version": "^1.3.3",
      "model_name": "NodeModel",
      "state": {
       "_model_module": "jupyter-cytoscape",
       "_model_module_version": "^1.3.3",
       "_model_name": "NodeModel",
       "_view_count": null,
       "_view_module": "jupyter-cytoscape",
       "_view_module_version": "^1.3.3",
       "_view_name": "NodeView",
       "classes": "",
       "data": {
        "color": "gray",
        "id": "6712908430176316005",
        "label": "0",
        "shape": "rectangle"
       },
       "grabbable": true,
       "grabbed": false,
       "locked": false,
       "pannable": false,
       "position": {},
       "removed": false,
       "selectable": false,
       "selected": false
      }
     },
     "a3b571517370430e8c50a593ed2a480b": {
      "model_module": "jupyter-cytoscape",
      "model_module_version": "^1.3.3",
      "model_name": "EdgeModel",
      "state": {
       "_model_module": "jupyter-cytoscape",
       "_model_module_version": "^1.3.3",
       "_model_name": "EdgeModel",
       "_view_count": null,
       "_view_module": "jupyter-cytoscape",
       "_view_module_version": "^1.3.3",
       "_view_name": "EdgeView",
       "classes": " directed ",
       "data": {
        "source": "-449382030543082127",
        "target": "-7845439402009645140"
       },
       "pannable": true,
       "removed": false,
       "selectable": false,
       "selected": false
      }
     },
     "a5354cf45d4f4057b14435c59651f3aa": {
      "model_module": "jupyter-cytoscape",
      "model_module_version": "^1.3.3",
      "model_name": "NodeModel",
      "state": {
       "_model_module": "jupyter-cytoscape",
       "_model_module_version": "^1.3.3",
       "_model_name": "NodeModel",
       "_view_count": null,
       "_view_module": "jupyter-cytoscape",
       "_view_module_version": "^1.3.3",
       "_view_name": "NodeView",
       "classes": "",
       "data": {
        "color": "gray",
        "id": "-6484126754934106940",
        "label": "series-sum-chunk",
        "shape": "ellipse"
       },
       "grabbable": true,
       "grabbed": false,
       "locked": false,
       "pannable": false,
       "position": {},
       "removed": false,
       "selectable": false,
       "selected": false
      }
     },
     "a5b463edd1854938811e571fde8c98eb": {
      "model_module": "jupyter-cytoscape",
      "model_module_version": "^1.3.3",
      "model_name": "EdgeModel",
      "state": {
       "_model_module": "jupyter-cytoscape",
       "_model_module_version": "^1.3.3",
       "_model_name": "EdgeModel",
       "_view_count": null,
       "_view_module": "jupyter-cytoscape",
       "_view_module_version": "^1.3.3",
       "_view_name": "EdgeView",
       "classes": " directed ",
       "data": {
        "source": "-5725289940757843191",
        "target": "2104943887418955050"
       },
       "pannable": true,
       "removed": false,
       "selectable": false,
       "selected": false
      }
     },
     "a5b8c197838e492c9b1c3ddcd4f7c74e": {
      "model_module": "jupyter-cytoscape",
      "model_module_version": "^1.3.3",
      "model_name": "NodeModel",
      "state": {
       "_model_module": "jupyter-cytoscape",
       "_model_module_version": "^1.3.3",
       "_model_name": "NodeModel",
       "_view_count": null,
       "_view_module": "jupyter-cytoscape",
       "_view_module_version": "^1.3.3",
       "_view_name": "NodeView",
       "classes": "",
       "data": {
        "color": "gray",
        "id": "-5402339980437273779",
        "label": "moment_chunk",
        "shape": "ellipse"
       },
       "grabbable": true,
       "grabbed": false,
       "locked": false,
       "pannable": false,
       "position": {},
       "removed": false,
       "selectable": false,
       "selected": false
      }
     },
     "a655dd602e3149f19f574894ec63b148": {
      "model_module": "jupyter-cytoscape",
      "model_module_version": "^1.3.3",
      "model_name": "NodeModel",
      "state": {
       "_model_module": "jupyter-cytoscape",
       "_model_module_version": "^1.3.3",
       "_model_name": "NodeModel",
       "_view_count": null,
       "_view_module": "jupyter-cytoscape",
       "_view_module_version": "^1.3.3",
       "_view_name": "NodeView",
       "classes": "",
       "data": {
        "color": "gray",
        "id": "6137237358810427962",
        "label": "inv",
        "shape": "ellipse"
       },
       "grabbable": true,
       "grabbed": false,
       "locked": false,
       "pannable": false,
       "position": {},
       "removed": false,
       "selectable": false,
       "selected": false
      }
     },
     "a67493d40ca24148b4b9e7d8139dac8a": {
      "model_module": "jupyter-cytoscape",
      "model_module_version": "^1.3.3",
      "model_name": "EdgeModel",
      "state": {
       "_model_module": "jupyter-cytoscape",
       "_model_module_version": "^1.3.3",
       "_model_name": "EdgeModel",
       "_view_count": null,
       "_view_module": "jupyter-cytoscape",
       "_view_module_version": "^1.3.3",
       "_view_name": "EdgeView",
       "classes": " directed ",
       "data": {
        "source": "7723298146336552068",
        "target": "-7342686430513193052"
       },
       "pannable": true,
       "removed": false,
       "selectable": false,
       "selected": false
      }
     },
     "a6c51b1cbb344b10b26cdf3f253bde4e": {
      "model_module": "jupyter-cytoscape",
      "model_module_version": "^1.3.3",
      "model_name": "NodeModel",
      "state": {
       "_model_module": "jupyter-cytoscape",
       "_model_module_version": "^1.3.3",
       "_model_name": "NodeModel",
       "_view_count": null,
       "_view_module": "jupyter-cytoscape",
       "_view_module_version": "^1.3.3",
       "_view_name": "NodeView",
       "classes": "",
       "data": {
        "color": "gray",
        "id": "7721334843651728705",
        "label": "8",
        "shape": "rectangle"
       },
       "grabbable": true,
       "grabbed": false,
       "locked": false,
       "pannable": false,
       "position": {},
       "removed": false,
       "selectable": false,
       "selected": false
      }
     },
     "a6e44d46ac554cb79146ec96d0374b59": {
      "model_module": "jupyter-cytoscape",
      "model_module_version": "^1.3.3",
      "model_name": "EdgeModel",
      "state": {
       "_model_module": "jupyter-cytoscape",
       "_model_module_version": "^1.3.3",
       "_model_name": "EdgeModel",
       "_view_count": null,
       "_view_module": "jupyter-cytoscape",
       "_view_module_version": "^1.3.3",
       "_view_name": "EdgeView",
       "classes": " directed ",
       "data": {
        "source": "-8511910359238957062",
        "target": "-5698307822963293241"
       },
       "pannable": true,
       "removed": false,
       "selectable": false,
       "selected": false
      }
     },
     "a7485b97827e4d1fba05fb81a01535a2": {
      "model_module": "jupyter-cytoscape",
      "model_module_version": "^1.3.3",
      "model_name": "EdgeModel",
      "state": {
       "_model_module": "jupyter-cytoscape",
       "_model_module_version": "^1.3.3",
       "_model_name": "EdgeModel",
       "_view_count": null,
       "_view_module": "jupyter-cytoscape",
       "_view_module_version": "^1.3.3",
       "_view_name": "EdgeView",
       "classes": " directed ",
       "data": {
        "source": "724046433307855203",
        "target": "-8386961372606294891"
       },
       "pannable": true,
       "removed": false,
       "selectable": false,
       "selected": false
      }
     },
     "a790360d85f64574b072336ef12bc0f0": {
      "model_module": "jupyter-cytoscape",
      "model_module_version": "^1.3.3",
      "model_name": "NodeModel",
      "state": {
       "_model_module": "jupyter-cytoscape",
       "_model_module_version": "^1.3.3",
       "_model_name": "NodeModel",
       "_view_count": null,
       "_view_module": "jupyter-cytoscape",
       "_view_module_version": "^1.3.3",
       "_view_name": "NodeView",
       "classes": "",
       "data": {
        "color": "gray",
        "id": "6210983614223662198",
        "label": "2",
        "shape": "rectangle"
       },
       "grabbable": true,
       "grabbed": false,
       "locked": false,
       "pannable": false,
       "position": {},
       "removed": false,
       "selectable": false,
       "selected": false
      }
     },
     "a89654e048c043a99c1b0ce095779f01": {
      "model_module": "jupyter-cytoscape",
      "model_module_version": "^1.3.3",
      "model_name": "NodeModel",
      "state": {
       "_model_module": "jupyter-cytoscape",
       "_model_module_version": "^1.3.3",
       "_model_name": "NodeModel",
       "_view_count": null,
       "_view_module": "jupyter-cytoscape",
       "_view_module_version": "^1.3.3",
       "_view_name": "NodeView",
       "classes": "",
       "data": {
        "color": "gray",
        "id": "3427192958368596129",
        "label": "4",
        "shape": "rectangle"
       },
       "grabbable": true,
       "grabbed": false,
       "locked": false,
       "pannable": false,
       "position": {},
       "removed": false,
       "selectable": false,
       "selected": false
      }
     },
     "a923784b44e74c0db1bec9d915bbcebc": {
      "model_module": "jupyter-cytoscape",
      "model_module_version": "^1.3.3",
      "model_name": "NodeModel",
      "state": {
       "_model_module": "jupyter-cytoscape",
       "_model_module_version": "^1.3.3",
       "_model_name": "NodeModel",
       "_view_count": null,
       "_view_module": "jupyter-cytoscape",
       "_view_module_version": "^1.3.3",
       "_view_name": "NodeView",
       "classes": "",
       "data": {
        "color": "gray",
        "id": "7849998676930706966",
        "label": "moment_chunk",
        "shape": "ellipse"
       },
       "grabbable": true,
       "grabbed": false,
       "locked": false,
       "pannable": false,
       "position": {},
       "removed": false,
       "selectable": false,
       "selected": false
      }
     },
     "a9df540354f04efd96d0f3e5c7ee0733": {
      "model_module": "jupyter-cytoscape",
      "model_module_version": "^1.3.3",
      "model_name": "NodeModel",
      "state": {
       "_model_module": "jupyter-cytoscape",
       "_model_module_version": "^1.3.3",
       "_model_name": "NodeModel",
       "_view_count": null,
       "_view_module": "jupyter-cytoscape",
       "_view_module_version": "^1.3.3",
       "_view_name": "NodeView",
       "classes": "",
       "data": {
        "color": "gray",
        "id": "7181589568728782527",
        "label": "getitem",
        "shape": "ellipse"
       },
       "grabbable": true,
       "grabbed": false,
       "locked": false,
       "pannable": false,
       "position": {},
       "removed": false,
       "selectable": false,
       "selected": false
      }
     },
     "a9eb6e9adc7a411ead7a03ad20207031": {
      "model_module": "jupyter-cytoscape",
      "model_module_version": "^1.3.3",
      "model_name": "EdgeModel",
      "state": {
       "_model_module": "jupyter-cytoscape",
       "_model_module_version": "^1.3.3",
       "_model_name": "EdgeModel",
       "_view_count": null,
       "_view_module": "jupyter-cytoscape",
       "_view_module_version": "^1.3.3",
       "_view_name": "EdgeView",
       "classes": " directed ",
       "data": {
        "source": "3361751354552277218",
        "target": "2104943887418955050"
       },
       "pannable": true,
       "removed": false,
       "selectable": false,
       "selected": false
      }
     },
     "aca1accc0aae495ab4a435aad31940e7": {
      "model_module": "jupyter-cytoscape",
      "model_module_version": "^1.3.3",
      "model_name": "NodeModel",
      "state": {
       "_model_module": "jupyter-cytoscape",
       "_model_module_version": "^1.3.3",
       "_model_name": "NodeModel",
       "_view_count": null,
       "_view_module": "jupyter-cytoscape",
       "_view_module_version": "^1.3.3",
       "_view_name": "NodeView",
       "classes": "",
       "data": {
        "color": "gray",
        "id": "-6365505096131322341",
        "label": "moment_chunk",
        "shape": "ellipse"
       },
       "grabbable": true,
       "grabbed": false,
       "locked": false,
       "pannable": false,
       "position": {},
       "removed": false,
       "selectable": false,
       "selected": false
      }
     },
     "adc999f1efc5404ca9fa4a4a421842ce": {
      "model_module": "jupyter-cytoscape",
      "model_module_version": "^1.3.3",
      "model_name": "EdgeModel",
      "state": {
       "_model_module": "jupyter-cytoscape",
       "_model_module_version": "^1.3.3",
       "_model_name": "EdgeModel",
       "_view_count": null,
       "_view_module": "jupyter-cytoscape",
       "_view_module_version": "^1.3.3",
       "_view_name": "EdgeView",
       "classes": " directed ",
       "data": {
        "source": "5165963988947225870",
        "target": "-8279916112279011537"
       },
       "pannable": true,
       "removed": false,
       "selectable": false,
       "selected": false
      }
     },
     "aea5728999dc47bfbe136f05fdef82ae": {
      "model_module": "jupyter-cytoscape",
      "model_module_version": "^1.3.3",
      "model_name": "NodeModel",
      "state": {
       "_model_module": "jupyter-cytoscape",
       "_model_module_version": "^1.3.3",
       "_model_name": "NodeModel",
       "_view_count": null,
       "_view_module": "jupyter-cytoscape",
       "_view_module_version": "^1.3.3",
       "_view_name": "NodeView",
       "classes": "",
       "data": {
        "color": "gray",
        "id": "-5537164860749842763",
        "label": "getitem",
        "shape": "ellipse"
       },
       "grabbable": true,
       "grabbed": false,
       "locked": false,
       "pannable": false,
       "position": {},
       "removed": false,
       "selectable": false,
       "selected": false
      }
     },
     "aefd9e534de74e78ae10b4d4dc1119c2": {
      "model_module": "jupyter-cytoscape",
      "model_module_version": "^1.3.3",
      "model_name": "NodeModel",
      "state": {
       "_model_module": "jupyter-cytoscape",
       "_model_module_version": "^1.3.3",
       "_model_name": "NodeModel",
       "_view_count": null,
       "_view_module": "jupyter-cytoscape",
       "_view_module_version": "^1.3.3",
       "_view_name": "NodeView",
       "classes": "",
       "data": {
        "color": "gray",
        "id": "-2632498354674451781",
        "label": "series-sum-chunk",
        "shape": "ellipse"
       },
       "grabbable": true,
       "grabbed": false,
       "locked": false,
       "pannable": false,
       "position": {},
       "removed": false,
       "selectable": false,
       "selected": false
      }
     },
     "afd24c32525f422e9d76c4fa1a2f5aa6": {
      "model_module": "jupyter-cytoscape",
      "model_module_version": "^1.3.3",
      "model_name": "EdgeModel",
      "state": {
       "_model_module": "jupyter-cytoscape",
       "_model_module_version": "^1.3.3",
       "_model_name": "EdgeModel",
       "_view_count": null,
       "_view_module": "jupyter-cytoscape",
       "_view_module_version": "^1.3.3",
       "_view_name": "EdgeView",
       "classes": " directed ",
       "data": {
        "source": "-1163020807998381171",
        "target": "8327475157305618064"
       },
       "pannable": true,
       "removed": false,
       "selectable": false,
       "selected": false
      }
     },
     "b0943b507a32419089f50ab30aae5ba0": {
      "model_module": "jupyter-cytoscape",
      "model_module_version": "^1.3.3",
      "model_name": "NodeModel",
      "state": {
       "_model_module": "jupyter-cytoscape",
       "_model_module_version": "^1.3.3",
       "_model_name": "NodeModel",
       "_view_count": null,
       "_view_module": "jupyter-cytoscape",
       "_view_module_version": "^1.3.3",
       "_view_name": "NodeView",
       "classes": "",
       "data": {
        "color": "gray",
        "id": "7765871186817538708",
        "label": "0",
        "shape": "rectangle"
       },
       "grabbable": true,
       "grabbed": false,
       "locked": false,
       "pannable": false,
       "position": {},
       "removed": false,
       "selectable": false,
       "selected": false
      }
     },
     "b14d6771c81c430aa684a3b1942e9951": {
      "model_module": "jupyter-cytoscape",
      "model_module_version": "^1.3.3",
      "model_name": "EdgeModel",
      "state": {
       "_model_module": "jupyter-cytoscape",
       "_model_module_version": "^1.3.3",
       "_model_name": "EdgeModel",
       "_view_count": null,
       "_view_module": "jupyter-cytoscape",
       "_view_module_version": "^1.3.3",
       "_view_name": "EdgeView",
       "classes": " directed ",
       "data": {
        "source": "-1383822443689837436",
        "target": "-7332920690604205715"
       },
       "pannable": true,
       "removed": false,
       "selectable": false,
       "selected": false
      }
     },
     "b171c4fe96504f62af0666d0bece3683": {
      "model_module": "jupyter-cytoscape",
      "model_module_version": "^1.3.3",
      "model_name": "EdgeModel",
      "state": {
       "_model_module": "jupyter-cytoscape",
       "_model_module_version": "^1.3.3",
       "_model_name": "EdgeModel",
       "_view_count": null,
       "_view_module": "jupyter-cytoscape",
       "_view_module_version": "^1.3.3",
       "_view_name": "EdgeView",
       "classes": " directed ",
       "data": {
        "source": "7744115362634468764",
        "target": "-4021630845364285391"
       },
       "pannable": true,
       "removed": false,
       "selectable": false,
       "selected": false
      }
     },
     "b1c4b6b0f60c4baeb32b434c19323bf7": {
      "model_module": "jupyter-cytoscape",
      "model_module_version": "^1.3.3",
      "model_name": "EdgeModel",
      "state": {
       "_model_module": "jupyter-cytoscape",
       "_model_module_version": "^1.3.3",
       "_model_name": "EdgeModel",
       "_view_count": null,
       "_view_module": "jupyter-cytoscape",
       "_view_module_version": "^1.3.3",
       "_view_name": "EdgeView",
       "classes": " directed ",
       "data": {
        "source": "-436243956634735008",
        "target": "3427192958368596129"
       },
       "pannable": true,
       "removed": false,
       "selectable": false,
       "selected": false
      }
     },
     "b30fb8a05d6846d28c370d54395a3f99": {
      "model_module": "jupyter-cytoscape",
      "model_module_version": "^1.3.3",
      "model_name": "EdgeModel",
      "state": {
       "_model_module": "jupyter-cytoscape",
       "_model_module_version": "^1.3.3",
       "_model_name": "EdgeModel",
       "_view_count": null,
       "_view_module": "jupyter-cytoscape",
       "_view_module_version": "^1.3.3",
       "_view_name": "EdgeView",
       "classes": " directed ",
       "data": {
        "source": "5608580374990210053",
        "target": "-266399799876530831"
       },
       "pannable": true,
       "removed": false,
       "selectable": false,
       "selected": false
      }
     },
     "b34fb4acbc7f47ea97bbfce785afe6cf": {
      "model_module": "jupyter-cytoscape",
      "model_module_version": "^1.3.3",
      "model_name": "EdgeModel",
      "state": {
       "_model_module": "jupyter-cytoscape",
       "_model_module_version": "^1.3.3",
       "_model_name": "EdgeModel",
       "_view_count": null,
       "_view_module": "jupyter-cytoscape",
       "_view_module_version": "^1.3.3",
       "_view_name": "EdgeView",
       "classes": " directed ",
       "data": {
        "source": "-5802576797857170242",
        "target": "7721334843651728705"
       },
       "pannable": true,
       "removed": false,
       "selectable": false,
       "selected": false
      }
     },
     "b35a95af4a574360bf2ac34aca67d7eb": {
      "model_module": "jupyter-cytoscape",
      "model_module_version": "^1.3.3",
      "model_name": "NodeModel",
      "state": {
       "_model_module": "jupyter-cytoscape",
       "_model_module_version": "^1.3.3",
       "_model_name": "NodeModel",
       "_view_count": null,
       "_view_module": "jupyter-cytoscape",
       "_view_module_version": "^1.3.3",
       "_view_name": "NodeView",
       "classes": "",
       "data": {
        "color": "gray",
        "id": "-5520961639240058378",
        "label": "series-sum-chunk",
        "shape": "ellipse"
       },
       "grabbable": true,
       "grabbed": false,
       "locked": false,
       "pannable": false,
       "position": {},
       "removed": false,
       "selectable": false,
       "selected": false
      }
     },
     "b35e255aa1da489488b681303a44bc59": {
      "model_module": "jupyter-cytoscape",
      "model_module_version": "^1.3.3",
      "model_name": "EdgeModel",
      "state": {
       "_model_module": "jupyter-cytoscape",
       "_model_module_version": "^1.3.3",
       "_model_name": "EdgeModel",
       "_view_count": null,
       "_view_module": "jupyter-cytoscape",
       "_view_module_version": "^1.3.3",
       "_view_name": "EdgeView",
       "classes": " directed ",
       "data": {
        "source": "6129548635505166705",
        "target": "-6484126754934106940"
       },
       "pannable": true,
       "removed": false,
       "selectable": false,
       "selected": false
      }
     },
     "b35ed09d4fd74fc180f37af546993be9": {
      "model_module": "jupyter-cytoscape",
      "model_module_version": "^1.3.3",
      "model_name": "EdgeModel",
      "state": {
       "_model_module": "jupyter-cytoscape",
       "_model_module_version": "^1.3.3",
       "_model_name": "EdgeModel",
       "_view_count": null,
       "_view_module": "jupyter-cytoscape",
       "_view_module_version": "^1.3.3",
       "_view_name": "EdgeView",
       "classes": " directed ",
       "data": {
        "source": "3902793098773939574",
        "target": "2493997645905476342"
       },
       "pannable": true,
       "removed": false,
       "selectable": false,
       "selected": false
      }
     },
     "b3f6540691f24eeca4b5b5bcb9dce2a7": {
      "model_module": "jupyter-cytoscape",
      "model_module_version": "^1.3.3",
      "model_name": "NodeModel",
      "state": {
       "_model_module": "jupyter-cytoscape",
       "_model_module_version": "^1.3.3",
       "_model_name": "NodeModel",
       "_view_count": null,
       "_view_module": "jupyter-cytoscape",
       "_view_module_version": "^1.3.3",
       "_view_name": "NodeView",
       "classes": "",
       "data": {
        "color": "gray",
        "id": "-4556066012032079181",
        "label": "5",
        "shape": "rectangle"
       },
       "grabbable": true,
       "grabbed": false,
       "locked": false,
       "pannable": false,
       "position": {},
       "removed": false,
       "selectable": false,
       "selected": false
      }
     },
     "b5792af337ce4dab8c831ac6eb26d5b9": {
      "model_module": "jupyter-cytoscape",
      "model_module_version": "^1.3.3",
      "model_name": "NodeModel",
      "state": {
       "_model_module": "jupyter-cytoscape",
       "_model_module_version": "^1.3.3",
       "_model_name": "NodeModel",
       "_view_count": null,
       "_view_module": "jupyter-cytoscape",
       "_view_module_version": "^1.3.3",
       "_view_name": "NodeView",
       "classes": "",
       "data": {
        "color": "gray",
        "id": "-1383822443689837436",
        "label": "1",
        "shape": "rectangle"
       },
       "grabbable": true,
       "grabbed": false,
       "locked": false,
       "pannable": false,
       "position": {},
       "removed": false,
       "selectable": false,
       "selected": false
      }
     },
     "b9d7690cbb8f42aa976f98fb6c24fa0b": {
      "model_module": "jupyter-cytoscape",
      "model_module_version": "^1.3.3",
      "model_name": "NodeModel",
      "state": {
       "_model_module": "jupyter-cytoscape",
       "_model_module_version": "^1.3.3",
       "_model_name": "NodeModel",
       "_view_count": null,
       "_view_module": "jupyter-cytoscape",
       "_view_module_version": "^1.3.3",
       "_view_name": "NodeView",
       "classes": "",
       "data": {
        "color": "gray",
        "id": "7012720610522345035",
        "label": "values",
        "shape": "ellipse"
       },
       "grabbable": true,
       "grabbed": false,
       "locked": false,
       "pannable": false,
       "position": {},
       "removed": false,
       "selectable": false,
       "selected": false
      }
     },
     "baf3f9f9b1cf4fe4815e5189de826160": {
      "model_module": "jupyter-cytoscape",
      "model_module_version": "^1.3.3",
      "model_name": "EdgeModel",
      "state": {
       "_model_module": "jupyter-cytoscape",
       "_model_module_version": "^1.3.3",
       "_model_name": "EdgeModel",
       "_view_count": null,
       "_view_module": "jupyter-cytoscape",
       "_view_module_version": "^1.3.3",
       "_view_name": "EdgeView",
       "classes": " directed ",
       "data": {
        "source": "-5728119703383890993",
        "target": "-5698307822963293241"
       },
       "pannable": true,
       "removed": false,
       "selectable": false,
       "selected": false
      }
     },
     "bb023f7b092c471daa30c7a7f5e15491": {
      "model_module": "jupyter-cytoscape",
      "model_module_version": "^1.3.3",
      "model_name": "EdgeModel",
      "state": {
       "_model_module": "jupyter-cytoscape",
       "_model_module_version": "^1.3.3",
       "_model_name": "EdgeModel",
       "_view_count": null,
       "_view_module": "jupyter-cytoscape",
       "_view_module_version": "^1.3.3",
       "_view_name": "EdgeView",
       "classes": " directed ",
       "data": {
        "source": "3659187205328541654",
        "target": "-22866290339826286"
       },
       "pannable": true,
       "removed": false,
       "selectable": false,
       "selected": false
      }
     },
     "bb258bec04194de18f5e93f02e8238aa": {
      "model_module": "jupyter-cytoscape",
      "model_module_version": "^1.3.3",
      "model_name": "NodeModel",
      "state": {
       "_model_module": "jupyter-cytoscape",
       "_model_module_version": "^1.3.3",
       "_model_name": "NodeModel",
       "_view_count": null,
       "_view_module": "jupyter-cytoscape",
       "_view_module_version": "^1.3.3",
       "_view_name": "NodeView",
       "classes": "",
       "data": {
        "color": "gray",
        "id": "5072017027499703584",
        "label": "5",
        "shape": "rectangle"
       },
       "grabbable": true,
       "grabbed": false,
       "locked": false,
       "pannable": false,
       "position": {},
       "removed": false,
       "selectable": false,
       "selected": false
      }
     },
     "bb46ffd2822f49f8869a9bad139cf93e": {
      "model_module": "jupyter-cytoscape",
      "model_module_version": "^1.3.3",
      "model_name": "NodeModel",
      "state": {
       "_model_module": "jupyter-cytoscape",
       "_model_module_version": "^1.3.3",
       "_model_name": "NodeModel",
       "_view_count": null,
       "_view_module": "jupyter-cytoscape",
       "_view_module_version": "^1.3.3",
       "_view_name": "NodeView",
       "classes": "",
       "data": {
        "color": "gray",
        "id": "214627093188833346",
        "label": "getitem",
        "shape": "ellipse"
       },
       "grabbable": true,
       "grabbed": false,
       "locked": false,
       "pannable": false,
       "position": {},
       "removed": false,
       "selectable": false,
       "selected": false
      }
     },
     "bbd05d2e2860463b81a4cffa9b84b739": {
      "model_module": "jupyter-cytoscape",
      "model_module_version": "^1.3.3",
      "model_name": "EdgeModel",
      "state": {
       "_model_module": "jupyter-cytoscape",
       "_model_module_version": "^1.3.3",
       "_model_name": "EdgeModel",
       "_view_count": null,
       "_view_module": "jupyter-cytoscape",
       "_view_module_version": "^1.3.3",
       "_view_name": "EdgeView",
       "classes": " directed ",
       "data": {
        "source": "4305152143068885112",
        "target": "1756897231286491372"
       },
       "pannable": true,
       "removed": false,
       "selectable": false,
       "selected": false
      }
     },
     "bc487e885539453281a92000f3917851": {
      "model_module": "jupyter-cytoscape",
      "model_module_version": "^1.3.3",
      "model_name": "EdgeModel",
      "state": {
       "_model_module": "jupyter-cytoscape",
       "_model_module_version": "^1.3.3",
       "_model_name": "EdgeModel",
       "_view_count": null,
       "_view_module": "jupyter-cytoscape",
       "_view_module_version": "^1.3.3",
       "_view_name": "EdgeView",
       "classes": " directed ",
       "data": {
        "source": "1236474606532470339",
        "target": "6331170653445408337"
       },
       "pannable": true,
       "removed": false,
       "selectable": false,
       "selected": false
      }
     },
     "bc6cdd94177d4adc93b5de25c6188034": {
      "model_module": "jupyter-cytoscape",
      "model_module_version": "^1.3.3",
      "model_name": "NodeModel",
      "state": {
       "_model_module": "jupyter-cytoscape",
       "_model_module_version": "^1.3.3",
       "_model_name": "NodeModel",
       "_view_count": null,
       "_view_module": "jupyter-cytoscape",
       "_view_module_version": "^1.3.3",
       "_view_name": "NodeView",
       "classes": "",
       "data": {
        "color": "gray",
        "id": "-3090789385568658130",
        "label": "()",
        "shape": "rectangle"
       },
       "grabbable": true,
       "grabbed": false,
       "locked": false,
       "pannable": false,
       "position": {},
       "removed": false,
       "selectable": false,
       "selected": false
      }
     },
     "bcd177c7e46e4998b2a59e9f2d091488": {
      "model_module": "jupyter-cytoscape",
      "model_module_version": "^1.3.3",
      "model_name": "EdgeModel",
      "state": {
       "_model_module": "jupyter-cytoscape",
       "_model_module_version": "^1.3.3",
       "_model_name": "EdgeModel",
       "_view_count": null,
       "_view_module": "jupyter-cytoscape",
       "_view_module_version": "^1.3.3",
       "_view_name": "EdgeView",
       "classes": " directed ",
       "data": {
        "source": "-6871817527113344389",
        "target": "-2004269603136958637"
       },
       "pannable": true,
       "removed": false,
       "selectable": false,
       "selected": false
      }
     },
     "bcfc4cb8d915490783f97f62a25e2087": {
      "model_module": "jupyter-cytoscape",
      "model_module_version": "^1.3.3",
      "model_name": "NodeModel",
      "state": {
       "_model_module": "jupyter-cytoscape",
       "_model_module_version": "^1.3.3",
       "_model_name": "NodeModel",
       "_view_count": null,
       "_view_module": "jupyter-cytoscape",
       "_view_module_version": "^1.3.3",
       "_view_name": "NodeView",
       "classes": "",
       "data": {
        "color": "gray",
        "id": "-181904500885301806",
        "label": "getitem",
        "shape": "ellipse"
       },
       "grabbable": true,
       "grabbed": false,
       "locked": false,
       "pannable": false,
       "position": {},
       "removed": false,
       "selectable": false,
       "selected": false
      }
     },
     "bd4110dcbe234b8b8b344aa5a891dd20": {
      "model_module": "jupyter-cytoscape",
      "model_module_version": "^1.3.3",
      "model_name": "EdgeModel",
      "state": {
       "_model_module": "jupyter-cytoscape",
       "_model_module_version": "^1.3.3",
       "_model_name": "EdgeModel",
       "_view_count": null,
       "_view_module": "jupyter-cytoscape",
       "_view_module_version": "^1.3.3",
       "_view_name": "EdgeView",
       "classes": " directed ",
       "data": {
        "source": "-6978778610828150496",
        "target": "-2632498354674451781"
       },
       "pannable": true,
       "removed": false,
       "selectable": false,
       "selected": false
      }
     },
     "be003a6d21124a4093e879699a6657ec": {
      "model_module": "jupyter-cytoscape",
      "model_module_version": "^1.3.3",
      "model_name": "EdgeModel",
      "state": {
       "_model_module": "jupyter-cytoscape",
       "_model_module_version": "^1.3.3",
       "_model_name": "EdgeModel",
       "_view_count": null,
       "_view_module": "jupyter-cytoscape",
       "_view_module_version": "^1.3.3",
       "_view_name": "EdgeView",
       "classes": " directed ",
       "data": {
        "source": "-5342456059515778493",
        "target": "-2722741239277047912"
       },
       "pannable": true,
       "removed": false,
       "selectable": false,
       "selected": false
      }
     },
     "be5e2a16f6424c2499a0d3ece819c3d6": {
      "model_module": "jupyter-cytoscape",
      "model_module_version": "^1.3.3",
      "model_name": "NodeModel",
      "state": {
       "_model_module": "jupyter-cytoscape",
       "_model_module_version": "^1.3.3",
       "_model_name": "NodeModel",
       "_view_count": null,
       "_view_module": "jupyter-cytoscape",
       "_view_module_version": "^1.3.3",
       "_view_name": "NodeView",
       "classes": "",
       "data": {
        "color": "gray",
        "id": "-4787064828576022683",
        "label": "series-count-chunk",
        "shape": "ellipse"
       },
       "grabbable": true,
       "grabbed": false,
       "locked": false,
       "pannable": false,
       "position": {},
       "removed": false,
       "selectable": false,
       "selected": false
      }
     },
     "be7e8b84df684107b6b02bd41853c083": {
      "model_module": "jupyter-cytoscape",
      "model_module_version": "^1.3.3",
      "model_name": "NodeModel",
      "state": {
       "_model_module": "jupyter-cytoscape",
       "_model_module_version": "^1.3.3",
       "_model_name": "NodeModel",
       "_view_count": null,
       "_view_module": "jupyter-cytoscape",
       "_view_module_version": "^1.3.3",
       "_view_name": "NodeView",
       "classes": "",
       "data": {
        "color": "gray",
        "id": "-6869739501796653563",
        "label": "5",
        "shape": "rectangle"
       },
       "grabbable": true,
       "grabbed": false,
       "locked": false,
       "pannable": false,
       "position": {},
       "removed": false,
       "selectable": false,
       "selected": false
      }
     },
     "c12a15dfd86f402e928454fde0b4d869": {
      "model_module": "jupyter-cytoscape",
      "model_module_version": "^1.3.3",
      "model_name": "EdgeModel",
      "state": {
       "_model_module": "jupyter-cytoscape",
       "_model_module_version": "^1.3.3",
       "_model_name": "EdgeModel",
       "_view_count": null,
       "_view_module": "jupyter-cytoscape",
       "_view_module_version": "^1.3.3",
       "_view_name": "EdgeView",
       "classes": " directed ",
       "data": {
        "source": "-378092120596831720",
        "target": "7723298146336552068"
       },
       "pannable": true,
       "removed": false,
       "selectable": false,
       "selected": false
      }
     },
     "c236cfbdf4f3464b9d041b4f19fecfe9": {
      "model_module": "jupyter-cytoscape",
      "model_module_version": "^1.3.3",
      "model_name": "EdgeModel",
      "state": {
       "_model_module": "jupyter-cytoscape",
       "_model_module_version": "^1.3.3",
       "_model_name": "EdgeModel",
       "_view_count": null,
       "_view_module": "jupyter-cytoscape",
       "_view_module_version": "^1.3.3",
       "_view_name": "EdgeView",
       "classes": " directed ",
       "data": {
        "source": "-3611628160301935127",
        "target": "-3545348839568012685"
       },
       "pannable": true,
       "removed": false,
       "selectable": false,
       "selected": false
      }
     },
     "c244c8da2a9f44be87dfbeaa66ded0d5": {
      "model_module": "jupyter-cytoscape",
      "model_module_version": "^1.3.3",
      "model_name": "EdgeModel",
      "state": {
       "_model_module": "jupyter-cytoscape",
       "_model_module_version": "^1.3.3",
       "_model_name": "EdgeModel",
       "_view_count": null,
       "_view_module": "jupyter-cytoscape",
       "_view_module_version": "^1.3.3",
       "_view_name": "EdgeView",
       "classes": " directed ",
       "data": {
        "source": "8684174807026335051",
        "target": "-4473464672095345466"
       },
       "pannable": true,
       "removed": false,
       "selectable": false,
       "selected": false
      }
     },
     "c40918b26d47465ab6f42601d79225cf": {
      "model_module": "jupyter-cytoscape",
      "model_module_version": "^1.3.3",
      "model_name": "EdgeModel",
      "state": {
       "_model_module": "jupyter-cytoscape",
       "_model_module_version": "^1.3.3",
       "_model_name": "EdgeModel",
       "_view_count": null,
       "_view_module": "jupyter-cytoscape",
       "_view_module_version": "^1.3.3",
       "_view_name": "EdgeView",
       "classes": " directed ",
       "data": {
        "source": "3509251585282858930",
        "target": "-7332920690604205715"
       },
       "pannable": true,
       "removed": false,
       "selectable": false,
       "selected": false
      }
     },
     "c41283a69f70427fbeb088494b8bee41": {
      "model_module": "jupyter-cytoscape",
      "model_module_version": "^1.3.3",
      "model_name": "EdgeModel",
      "state": {
       "_model_module": "jupyter-cytoscape",
       "_model_module_version": "^1.3.3",
       "_model_name": "EdgeModel",
       "_view_count": null,
       "_view_module": "jupyter-cytoscape",
       "_view_module_version": "^1.3.3",
       "_view_name": "EdgeView",
       "classes": " directed ",
       "data": {
        "source": "2421691910160410931",
        "target": "-7219092967625260928"
       },
       "pannable": true,
       "removed": false,
       "selectable": false,
       "selected": false
      }
     },
     "c4716443f39948ea871ade7e0929a45d": {
      "model_module": "jupyter-cytoscape",
      "model_module_version": "^1.3.3",
      "model_name": "EdgeModel",
      "state": {
       "_model_module": "jupyter-cytoscape",
       "_model_module_version": "^1.3.3",
       "_model_name": "EdgeModel",
       "_view_count": null,
       "_view_module": "jupyter-cytoscape",
       "_view_module_version": "^1.3.3",
       "_view_name": "EdgeView",
       "classes": " directed ",
       "data": {
        "source": "-6772394645476992832",
        "target": "-1163020807998381171"
       },
       "pannable": true,
       "removed": false,
       "selectable": false,
       "selected": false
      }
     },
     "c4b24d63eb4d4898b61e0c7dcdb8dfa0": {
      "model_module": "jupyter-cytoscape",
      "model_module_version": "^1.3.3",
      "model_name": "NodeModel",
      "state": {
       "_model_module": "jupyter-cytoscape",
       "_model_module_version": "^1.3.3",
       "_model_name": "NodeModel",
       "_view_count": null,
       "_view_module": "jupyter-cytoscape",
       "_view_module_version": "^1.3.3",
       "_view_name": "NodeView",
       "classes": "",
       "data": {
        "color": "gray",
        "id": "1536790159956288715",
        "label": "moment_combine-partial",
        "shape": "ellipse"
       },
       "grabbable": true,
       "grabbed": false,
       "locked": false,
       "pannable": false,
       "position": {},
       "removed": false,
       "selectable": false,
       "selected": false
      }
     },
     "c53a241c7a47460f9de7834828d5cb12": {
      "model_module": "jupyter-cytoscape",
      "model_module_version": "^1.3.3",
      "model_name": "NodeModel",
      "state": {
       "_model_module": "jupyter-cytoscape",
       "_model_module_version": "^1.3.3",
       "_model_name": "NodeModel",
       "_view_count": null,
       "_view_module": "jupyter-cytoscape",
       "_view_module_version": "^1.3.3",
       "_view_name": "NodeView",
       "classes": "",
       "data": {
        "color": "gray",
        "id": "7855807683354769653",
        "label": "3",
        "shape": "rectangle"
       },
       "grabbable": true,
       "grabbed": false,
       "locked": false,
       "pannable": false,
       "position": {},
       "removed": false,
       "selectable": false,
       "selected": false
      }
     },
     "c636102ad7da4e73929b0df1ff4b7e21": {
      "model_module": "jupyter-cytoscape",
      "model_module_version": "^1.3.3",
      "model_name": "EdgeModel",
      "state": {
       "_model_module": "jupyter-cytoscape",
       "_model_module_version": "^1.3.3",
       "_model_name": "EdgeModel",
       "_view_count": null,
       "_view_module": "jupyter-cytoscape",
       "_view_module_version": "^1.3.3",
       "_view_name": "EdgeView",
       "classes": " directed ",
       "data": {
        "source": "8848145167266191859",
        "target": "-4780852089027699137"
       },
       "pannable": true,
       "removed": false,
       "selectable": false,
       "selected": false
      }
     },
     "c6beef8cb5464cf4ab1272783193baaf": {
      "model_module": "jupyter-cytoscape",
      "model_module_version": "^1.3.3",
      "model_name": "EdgeModel",
      "state": {
       "_model_module": "jupyter-cytoscape",
       "_model_module_version": "^1.3.3",
       "_model_name": "EdgeModel",
       "_view_count": null,
       "_view_module": "jupyter-cytoscape",
       "_view_module_version": "^1.3.3",
       "_view_name": "EdgeView",
       "classes": " directed ",
       "data": {
        "source": "6574891433908704754",
        "target": "-5802576797857170242"
       },
       "pannable": true,
       "removed": false,
       "selectable": false,
       "selected": false
      }
     },
     "c6f68885887f40f7a106526c468960d5": {
      "model_module": "jupyter-cytoscape",
      "model_module_version": "^1.3.3",
      "model_name": "NodeModel",
      "state": {
       "_model_module": "jupyter-cytoscape",
       "_model_module_version": "^1.3.3",
       "_model_name": "NodeModel",
       "_view_count": null,
       "_view_module": "jupyter-cytoscape",
       "_view_module_version": "^1.3.3",
       "_view_name": "NodeView",
       "classes": "",
       "data": {
        "color": "gray",
        "id": "-2984791433091964748",
        "label": "series-count-chunk",
        "shape": "ellipse"
       },
       "grabbable": true,
       "grabbed": false,
       "locked": false,
       "pannable": false,
       "position": {},
       "removed": false,
       "selectable": false,
       "selected": false
      }
     },
     "c73528f86aea4fa2a96cc04dd7f10697": {
      "model_module": "jupyter-cytoscape",
      "model_module_version": "^1.3.3",
      "model_name": "NodeModel",
      "state": {
       "_model_module": "jupyter-cytoscape",
       "_model_module_version": "^1.3.3",
       "_model_name": "NodeModel",
       "_view_count": null,
       "_view_module": "jupyter-cytoscape",
       "_view_module_version": "^1.3.3",
       "_view_name": "NodeView",
       "classes": "",
       "data": {
        "color": "gray",
        "id": "-8386961372606294891",
        "label": "0",
        "shape": "rectangle"
       },
       "grabbable": true,
       "grabbed": false,
       "locked": false,
       "pannable": false,
       "position": {},
       "removed": false,
       "selectable": false,
       "selected": false
      }
     },
     "c73a9730432f4e3db18c6b04cbf26b28": {
      "model_module": "jupyter-cytoscape",
      "model_module_version": "^1.3.3",
      "model_name": "GraphModel",
      "state": {
       "_adj": {},
       "_model_module": "jupyter-cytoscape",
       "_model_module_version": "^1.3.3",
       "_model_name": "GraphModel",
       "_view_count": null,
       "_view_module": "jupyter-cytoscape",
       "_view_module_version": "^1.3.3",
       "_view_name": null,
       "edges": [],
       "nodes": []
      }
     },
     "c78b09a7170b4daf991364e9baaed044": {
      "model_module": "jupyter-cytoscape",
      "model_module_version": "^1.3.3",
      "model_name": "EdgeModel",
      "state": {
       "_model_module": "jupyter-cytoscape",
       "_model_module_version": "^1.3.3",
       "_model_name": "EdgeModel",
       "_view_count": null,
       "_view_module": "jupyter-cytoscape",
       "_view_module_version": "^1.3.3",
       "_view_name": "EdgeView",
       "classes": " directed ",
       "data": {
        "source": "4361980971294644663",
        "target": "4960324706779402695"
       },
       "pannable": true,
       "removed": false,
       "selectable": false,
       "selected": false
      }
     },
     "c80114878e5346e7baf2daab98b325e7": {
      "model_module": "jupyter-cytoscape",
      "model_module_version": "^1.3.3",
      "model_name": "EdgeModel",
      "state": {
       "_model_module": "jupyter-cytoscape",
       "_model_module_version": "^1.3.3",
       "_model_name": "EdgeModel",
       "_view_count": null,
       "_view_module": "jupyter-cytoscape",
       "_view_module_version": "^1.3.3",
       "_view_name": "EdgeView",
       "classes": " directed ",
       "data": {
        "source": "-8182258083319309490",
        "target": "1165184696586219932"
       },
       "pannable": true,
       "removed": false,
       "selectable": false,
       "selected": false
      }
     },
     "c91a491598374b3dba7e1408411766ab": {
      "model_module": "jupyter-cytoscape",
      "model_module_version": "^1.3.3",
      "model_name": "EdgeModel",
      "state": {
       "_model_module": "jupyter-cytoscape",
       "_model_module_version": "^1.3.3",
       "_model_name": "EdgeModel",
       "_view_count": null,
       "_view_module": "jupyter-cytoscape",
       "_view_module_version": "^1.3.3",
       "_view_name": "EdgeView",
       "classes": " directed ",
       "data": {
        "source": "4963365605746747811",
        "target": "5166708672130560359"
       },
       "pannable": true,
       "removed": false,
       "selectable": false,
       "selected": false
      }
     },
     "cb248850e731404e9da9ebf5c217e027": {
      "model_module": "jupyter-cytoscape",
      "model_module_version": "^1.3.3",
      "model_name": "NodeModel",
      "state": {
       "_model_module": "jupyter-cytoscape",
       "_model_module_version": "^1.3.3",
       "_model_name": "NodeModel",
       "_view_count": null,
       "_view_module": "jupyter-cytoscape",
       "_view_module_version": "^1.3.3",
       "_view_name": "NodeView",
       "classes": "",
       "data": {
        "color": "gray",
        "id": "-5725289940757843191",
        "label": "9",
        "shape": "rectangle"
       },
       "grabbable": true,
       "grabbed": false,
       "locked": false,
       "pannable": false,
       "position": {},
       "removed": false,
       "selectable": false,
       "selected": false
      }
     },
     "cb91e1b94dd44c18aa2c80cc1527e19d": {
      "model_module": "jupyter-cytoscape",
      "model_module_version": "^1.3.3",
      "model_name": "EdgeModel",
      "state": {
       "_model_module": "jupyter-cytoscape",
       "_model_module_version": "^1.3.3",
       "_model_name": "EdgeModel",
       "_view_count": null,
       "_view_module": "jupyter-cytoscape",
       "_view_module_version": "^1.3.3",
       "_view_name": "EdgeView",
       "classes": " directed ",
       "data": {
        "source": "-1984177896369359741",
        "target": "5072017027499703584"
       },
       "pannable": true,
       "removed": false,
       "selectable": false,
       "selected": false
      }
     },
     "cc1ef04cfb664040937326cb35b9288d": {
      "model_module": "jupyter-cytoscape",
      "model_module_version": "^1.3.3",
      "model_name": "EdgeModel",
      "state": {
       "_model_module": "jupyter-cytoscape",
       "_model_module_version": "^1.3.3",
       "_model_name": "EdgeModel",
       "_view_count": null,
       "_view_module": "jupyter-cytoscape",
       "_view_module_version": "^1.3.3",
       "_view_name": "EdgeView",
       "classes": " directed ",
       "data": {
        "source": "-1547316049322595730",
        "target": "-8398660785357480435"
       },
       "pannable": true,
       "removed": false,
       "selectable": false,
       "selected": false
      }
     },
     "cc2f636ee59845e698874f499e16cc88": {
      "model_module": "jupyter-cytoscape",
      "model_module_version": "^1.3.3",
      "model_name": "EdgeModel",
      "state": {
       "_model_module": "jupyter-cytoscape",
       "_model_module_version": "^1.3.3",
       "_model_name": "EdgeModel",
       "_view_count": null,
       "_view_module": "jupyter-cytoscape",
       "_view_module_version": "^1.3.3",
       "_view_name": "EdgeView",
       "classes": " directed ",
       "data": {
        "source": "6941364263959001004",
        "target": "-4085948845941587494"
       },
       "pannable": true,
       "removed": false,
       "selectable": false,
       "selected": false
      }
     },
     "cd1063989c384f709c533273e44fb799": {
      "model_module": "jupyter-cytoscape",
      "model_module_version": "^1.3.3",
      "model_name": "EdgeModel",
      "state": {
       "_model_module": "jupyter-cytoscape",
       "_model_module_version": "^1.3.3",
       "_model_name": "EdgeModel",
       "_view_count": null,
       "_view_module": "jupyter-cytoscape",
       "_view_module_version": "^1.3.3",
       "_view_name": "EdgeView",
       "classes": " directed ",
       "data": {
        "source": "-5226194887431237186",
        "target": "-3545348839568012685"
       },
       "pannable": true,
       "removed": false,
       "selectable": false,
       "selected": false
      }
     },
     "ce91d1ff46ef4e2eb9360352d68d40f2": {
      "model_module": "jupyter-cytoscape",
      "model_module_version": "^1.3.3",
      "model_name": "EdgeModel",
      "state": {
       "_model_module": "jupyter-cytoscape",
       "_model_module_version": "^1.3.3",
       "_model_name": "EdgeModel",
       "_view_count": null,
       "_view_module": "jupyter-cytoscape",
       "_view_module_version": "^1.3.3",
       "_view_name": "EdgeView",
       "classes": " directed ",
       "data": {
        "source": "7181589568728782527",
        "target": "6686583754629005643"
       },
       "pannable": true,
       "removed": false,
       "selectable": false,
       "selected": false
      }
     },
     "cf041ccdfff846f89a26dff8fa1f3e09": {
      "model_module": "jupyter-cytoscape",
      "model_module_version": "^1.3.3",
      "model_name": "NodeModel",
      "state": {
       "_model_module": "jupyter-cytoscape",
       "_model_module_version": "^1.3.3",
       "_model_name": "NodeModel",
       "_view_count": null,
       "_view_module": "jupyter-cytoscape",
       "_view_module_version": "^1.3.3",
       "_view_name": "NodeView",
       "classes": "",
       "data": {
        "color": "gray",
        "id": "-1547316049322595730",
        "label": "5",
        "shape": "rectangle"
       },
       "grabbable": true,
       "grabbed": false,
       "locked": false,
       "pannable": false,
       "position": {},
       "removed": false,
       "selectable": false,
       "selected": false
      }
     },
     "cf3a2df53bd744249ce4d59c626eac6a": {
      "model_module": "jupyter-cytoscape",
      "model_module_version": "^1.3.3",
      "model_name": "NodeModel",
      "state": {
       "_model_module": "jupyter-cytoscape",
       "_model_module_version": "^1.3.3",
       "_model_name": "NodeModel",
       "_view_count": null,
       "_view_module": "jupyter-cytoscape",
       "_view_module_version": "^1.3.3",
       "_view_name": "NodeView",
       "classes": "",
       "data": {
        "color": "gray",
        "id": "-3545348839568012685",
        "label": "moment_combine-partial",
        "shape": "ellipse"
       },
       "grabbable": true,
       "grabbed": false,
       "locked": false,
       "pannable": false,
       "position": {},
       "removed": false,
       "selectable": false,
       "selected": false
      }
     },
     "cf897c225ca8415b94c4f8a75d7567dd": {
      "model_module": "jupyter-cytoscape",
      "model_module_version": "^1.3.3",
      "model_name": "NodeModel",
      "state": {
       "_model_module": "jupyter-cytoscape",
       "_model_module_version": "^1.3.3",
       "_model_name": "NodeModel",
       "_view_count": null,
       "_view_module": "jupyter-cytoscape",
       "_view_module_version": "^1.3.3",
       "_view_name": "NodeView",
       "classes": "",
       "data": {
        "color": "gray",
        "id": "4361980971294644663",
        "label": "getitem",
        "shape": "ellipse"
       },
       "grabbable": true,
       "grabbed": false,
       "locked": false,
       "pannable": false,
       "position": {},
       "removed": false,
       "selectable": false,
       "selected": false
      }
     },
     "cfadb8365522429ebfbfdd4b66bf0c8d": {
      "model_module": "jupyter-cytoscape",
      "model_module_version": "^1.3.3",
      "model_name": "EdgeModel",
      "state": {
       "_model_module": "jupyter-cytoscape",
       "_model_module_version": "^1.3.3",
       "_model_name": "EdgeModel",
       "_view_count": null,
       "_view_module": "jupyter-cytoscape",
       "_view_module_version": "^1.3.3",
       "_view_name": "EdgeView",
       "classes": " directed ",
       "data": {
        "source": "5245211587460751399",
        "target": "1756897231286491372"
       },
       "pannable": true,
       "removed": false,
       "selectable": false,
       "selected": false
      }
     },
     "cfaffcee97ec4d208bbbb8e827366b53": {
      "model_module": "jupyter-cytoscape",
      "model_module_version": "^1.3.3",
      "model_name": "EdgeModel",
      "state": {
       "_model_module": "jupyter-cytoscape",
       "_model_module_version": "^1.3.3",
       "_model_name": "EdgeModel",
       "_view_count": null,
       "_view_module": "jupyter-cytoscape",
       "_view_module_version": "^1.3.3",
       "_view_name": "EdgeView",
       "classes": " directed ",
       "data": {
        "source": "-9035170681947011749",
        "target": "-7339856667887145250"
       },
       "pannable": true,
       "removed": false,
       "selectable": false,
       "selected": false
      }
     },
     "cfedfd6541da40b1928f1d819654536b": {
      "model_module": "jupyter-cytoscape",
      "model_module_version": "^1.3.3",
      "model_name": "EdgeModel",
      "state": {
       "_model_module": "jupyter-cytoscape",
       "_model_module_version": "^1.3.3",
       "_model_name": "EdgeModel",
       "_view_count": null,
       "_view_module": "jupyter-cytoscape",
       "_view_module_version": "^1.3.3",
       "_view_name": "EdgeView",
       "classes": " directed ",
       "data": {
        "source": "-3436625259823024823",
        "target": "-389702876007656578"
       },
       "pannable": true,
       "removed": false,
       "selectable": false,
       "selected": false
      }
     },
     "d21d0330bea54afc8dffdab4d3cf8c85": {
      "model_module": "jupyter-cytoscape",
      "model_module_version": "^1.3.3",
      "model_name": "NodeModel",
      "state": {
       "_model_module": "jupyter-cytoscape",
       "_model_module_version": "^1.3.3",
       "_model_name": "NodeModel",
       "_view_count": null,
       "_view_module": "jupyter-cytoscape",
       "_view_module_version": "^1.3.3",
       "_view_name": "NodeView",
       "classes": "",
       "data": {
        "color": "gray",
        "id": "2104943887418955050",
        "label": "getitem",
        "shape": "ellipse"
       },
       "grabbable": true,
       "grabbed": false,
       "locked": false,
       "pannable": false,
       "position": {},
       "removed": false,
       "selectable": false,
       "selected": false
      }
     },
     "d3b56d776ddd4a4daea1b93f57b7125f": {
      "model_module": "jupyter-cytoscape",
      "model_module_version": "^1.3.3",
      "model_name": "NodeModel",
      "state": {
       "_model_module": "jupyter-cytoscape",
       "_model_module_version": "^1.3.3",
       "_model_name": "NodeModel",
       "_view_count": null,
       "_view_module": "jupyter-cytoscape",
       "_view_module_version": "^1.3.3",
       "_view_name": "NodeView",
       "classes": "",
       "data": {
        "color": "gray",
        "id": "-266399799876530831",
        "label": "0",
        "shape": "rectangle"
       },
       "grabbable": true,
       "grabbed": false,
       "locked": false,
       "pannable": false,
       "position": {},
       "removed": false,
       "selectable": false,
       "selected": false
      }
     },
     "d3e8dc295636480dae4cc16dfe1c59b8": {
      "model_module": "jupyter-cytoscape",
      "model_module_version": "^1.3.3",
      "model_name": "EdgeModel",
      "state": {
       "_model_module": "jupyter-cytoscape",
       "_model_module_version": "^1.3.3",
       "_model_name": "EdgeModel",
       "_view_count": null,
       "_view_module": "jupyter-cytoscape",
       "_view_module_version": "^1.3.3",
       "_view_name": "EdgeView",
       "classes": " directed ",
       "data": {
        "source": "8997604032704776069",
        "target": "-2788304801517932783"
       },
       "pannable": true,
       "removed": false,
       "selectable": false,
       "selected": false
      }
     },
     "d3f2c790426a4910ad61c69fae20f358": {
      "model_module": "jupyter-cytoscape",
      "model_module_version": "^1.3.3",
      "model_name": "NodeModel",
      "state": {
       "_model_module": "jupyter-cytoscape",
       "_model_module_version": "^1.3.3",
       "_model_name": "NodeModel",
       "_view_count": null,
       "_view_module": "jupyter-cytoscape",
       "_view_module_version": "^1.3.3",
       "_view_name": "NodeView",
       "classes": "",
       "data": {
        "color": "gray",
        "id": "5989535129900287639",
        "label": "series-count-chunk",
        "shape": "ellipse"
       },
       "grabbable": true,
       "grabbed": false,
       "locked": false,
       "pannable": false,
       "position": {},
       "removed": false,
       "selectable": false,
       "selected": false
      }
     },
     "d517a7cc44274d3985cccdc6aba8e42f": {
      "model_module": "jupyter-cytoscape",
      "model_module_version": "^1.3.3",
      "model_name": "EdgeModel",
      "state": {
       "_model_module": "jupyter-cytoscape",
       "_model_module_version": "^1.3.3",
       "_model_name": "EdgeModel",
       "_view_count": null,
       "_view_module": "jupyter-cytoscape",
       "_view_module_version": "^1.3.3",
       "_view_name": "EdgeView",
       "classes": " directed ",
       "data": {
        "source": "7830501447321181324",
        "target": "3135928214343121102"
       },
       "pannable": true,
       "removed": false,
       "selectable": false,
       "selected": false
      }
     },
     "d5f3d116d39149f1967d291934cccffb": {
      "model_module": "jupyter-cytoscape",
      "model_module_version": "^1.3.3",
      "model_name": "EdgeModel",
      "state": {
       "_model_module": "jupyter-cytoscape",
       "_model_module_version": "^1.3.3",
       "_model_name": "EdgeModel",
       "_view_count": null,
       "_view_module": "jupyter-cytoscape",
       "_view_module_version": "^1.3.3",
       "_view_name": "EdgeView",
       "classes": " directed ",
       "data": {
        "source": "-722736711310678707",
        "target": "6129548635505166705"
       },
       "pannable": true,
       "removed": false,
       "selectable": false,
       "selected": false
      }
     },
     "d5fe149e17674be8a0fdea8622d47a25": {
      "model_module": "jupyter-cytoscape",
      "model_module_version": "^1.3.3",
      "model_name": "NodeModel",
      "state": {
       "_model_module": "jupyter-cytoscape",
       "_model_module_version": "^1.3.3",
       "_model_name": "NodeModel",
       "_view_count": null,
       "_view_module": "jupyter-cytoscape",
       "_view_module_version": "^1.3.3",
       "_view_name": "NodeView",
       "classes": "",
       "data": {
        "color": "gray",
        "id": "1236474606532470339",
        "label": "3",
        "shape": "rectangle"
       },
       "grabbable": true,
       "grabbed": false,
       "locked": false,
       "pannable": false,
       "position": {},
       "removed": false,
       "selectable": false,
       "selected": false
      }
     },
     "d6ed3ae78d934ea698c376abc4f0ad70": {
      "model_module": "jupyter-cytoscape",
      "model_module_version": "^1.3.3",
      "model_name": "EdgeModel",
      "state": {
       "_model_module": "jupyter-cytoscape",
       "_model_module_version": "^1.3.3",
       "_model_name": "EdgeModel",
       "_view_count": null,
       "_view_module": "jupyter-cytoscape",
       "_view_module_version": "^1.3.3",
       "_view_name": "EdgeView",
       "classes": " directed ",
       "data": {
        "source": "-7232897286462953814",
        "target": "7383037305575474010"
       },
       "pannable": true,
       "removed": false,
       "selectable": false,
       "selected": false
      }
     },
     "d702821f990d4de8b9d6a48b262b84d1": {
      "model_module": "jupyter-cytoscape",
      "model_module_version": "^1.3.3",
      "model_name": "EdgeModel",
      "state": {
       "_model_module": "jupyter-cytoscape",
       "_model_module_version": "^1.3.3",
       "_model_name": "EdgeModel",
       "_view_count": null,
       "_view_module": "jupyter-cytoscape",
       "_view_module_version": "^1.3.3",
       "_view_name": "EdgeView",
       "classes": " directed ",
       "data": {
        "source": "4514981908375864646",
        "target": "724046433307855203"
       },
       "pannable": true,
       "removed": false,
       "selectable": false,
       "selected": false
      }
     },
     "d7936254a1354c4f966c9884b64ef15f": {
      "model_module": "jupyter-cytoscape",
      "model_module_version": "^1.3.3",
      "model_name": "EdgeModel",
      "state": {
       "_model_module": "jupyter-cytoscape",
       "_model_module_version": "^1.3.3",
       "_model_name": "EdgeModel",
       "_view_count": null,
       "_view_module": "jupyter-cytoscape",
       "_view_module_version": "^1.3.3",
       "_view_name": "EdgeView",
       "classes": " directed ",
       "data": {
        "source": "-4556066012032079181",
        "target": "-7378131178170736448"
       },
       "pannable": true,
       "removed": false,
       "selectable": false,
       "selected": false
      }
     },
     "d7b44cee09aa42b0bc99530706b370db": {
      "model_module": "jupyter-cytoscape",
      "model_module_version": "^1.3.3",
      "model_name": "NodeModel",
      "state": {
       "_model_module": "jupyter-cytoscape",
       "_model_module_version": "^1.3.3",
       "_model_name": "NodeModel",
       "_view_count": null,
       "_view_module": "jupyter-cytoscape",
       "_view_module_version": "^1.3.3",
       "_view_name": "NodeView",
       "classes": "",
       "data": {
        "color": "gray",
        "id": "4908709954019357632",
        "label": "getitem",
        "shape": "ellipse"
       },
       "grabbable": true,
       "grabbed": false,
       "locked": false,
       "pannable": false,
       "position": {},
       "removed": false,
       "selectable": false,
       "selected": false
      }
     },
     "d9476394500d4161924eab811c4e0f13": {
      "model_module": "jupyter-cytoscape",
      "model_module_version": "^1.3.3",
      "model_name": "NodeModel",
      "state": {
       "_model_module": "jupyter-cytoscape",
       "_model_module_version": "^1.3.3",
       "_model_name": "NodeModel",
       "_view_count": null,
       "_view_module": "jupyter-cytoscape",
       "_view_module_version": "^1.3.3",
       "_view_name": "NodeView",
       "classes": "",
       "data": {
        "color": "gray",
        "id": "807125183031108872",
        "label": "2",
        "shape": "rectangle"
       },
       "grabbable": true,
       "grabbed": false,
       "locked": false,
       "pannable": false,
       "position": {},
       "removed": false,
       "selectable": false,
       "selected": false
      }
     },
     "d95d135bae90417c8f84c5fd9af02bbd": {
      "model_module": "jupyter-cytoscape",
      "model_module_version": "^1.3.3",
      "model_name": "EdgeModel",
      "state": {
       "_model_module": "jupyter-cytoscape",
       "_model_module_version": "^1.3.3",
       "_model_name": "EdgeModel",
       "_view_count": null,
       "_view_module": "jupyter-cytoscape",
       "_view_module_version": "^1.3.3",
       "_view_name": "EdgeView",
       "classes": " directed ",
       "data": {
        "source": "1236474606532470339",
        "target": "-2984791433091964748"
       },
       "pannable": true,
       "removed": false,
       "selectable": false,
       "selected": false
      }
     },
     "da9a66d8f8df4c57b7edbdb5a6e1fd05": {
      "model_module": "jupyter-cytoscape",
      "model_module_version": "^1.3.3",
      "model_name": "NodeModel",
      "state": {
       "_model_module": "jupyter-cytoscape",
       "_model_module_version": "^1.3.3",
       "_model_name": "NodeModel",
       "_view_count": null,
       "_view_module": "jupyter-cytoscape",
       "_view_module_version": "^1.3.3",
       "_view_name": "NodeView",
       "classes": "",
       "data": {
        "color": "gray",
        "id": "-8481653017237151666",
        "label": "4",
        "shape": "rectangle"
       },
       "grabbable": true,
       "grabbed": false,
       "locked": false,
       "pannable": false,
       "position": {},
       "removed": false,
       "selectable": false,
       "selected": false
      }
     },
     "dad2e2e6da29432cb8d4b8061194ac05": {
      "model_module": "jupyter-cytoscape",
      "model_module_version": "^1.3.3",
      "model_name": "NodeModel",
      "state": {
       "_model_module": "jupyter-cytoscape",
       "_model_module_version": "^1.3.3",
       "_model_name": "NodeModel",
       "_view_count": null,
       "_view_module": "jupyter-cytoscape",
       "_view_module_version": "^1.3.3",
       "_view_name": "NodeView",
       "classes": "",
       "data": {
        "color": "gray",
        "id": "3659187205328541654",
        "label": "1",
        "shape": "rectangle"
       },
       "grabbable": true,
       "grabbed": false,
       "locked": false,
       "pannable": false,
       "position": {},
       "removed": false,
       "selectable": false,
       "selected": false
      }
     },
     "dbd185ed1540450dba0cbefcfd42be1d": {
      "model_module": "jupyter-cytoscape",
      "model_module_version": "^1.3.3",
      "model_name": "EdgeModel",
      "state": {
       "_model_module": "jupyter-cytoscape",
       "_model_module_version": "^1.3.3",
       "_model_name": "EdgeModel",
       "_view_count": null,
       "_view_module": "jupyter-cytoscape",
       "_view_module_version": "^1.3.3",
       "_view_name": "EdgeView",
       "classes": " directed ",
       "data": {
        "source": "-881774921856154227",
        "target": "1236474606532470339"
       },
       "pannable": true,
       "removed": false,
       "selectable": false,
       "selected": false
      }
     },
     "dce16fb1e0e94dd0ae394af72d0ba9a6": {
      "model_module": "jupyter-cytoscape",
      "model_module_version": "^1.3.3",
      "model_name": "NodeModel",
      "state": {
       "_model_module": "jupyter-cytoscape",
       "_model_module_version": "^1.3.3",
       "_model_name": "NodeModel",
       "_view_count": null,
       "_view_module": "jupyter-cytoscape",
       "_view_module_version": "^1.3.3",
       "_view_name": "NodeView",
       "classes": "",
       "data": {
        "color": "gray",
        "id": "6241240956225467594",
        "label": "1",
        "shape": "rectangle"
       },
       "grabbable": true,
       "grabbed": false,
       "locked": false,
       "pannable": false,
       "position": {},
       "removed": false,
       "selectable": false,
       "selected": false
      }
     },
     "dce64a18986044cb95ba8403401412b3": {
      "model_module": "jupyter-cytoscape",
      "model_module_version": "^1.3.3",
      "model_name": "EdgeModel",
      "state": {
       "_model_module": "jupyter-cytoscape",
       "_model_module_version": "^1.3.3",
       "_model_name": "EdgeModel",
       "_view_count": null,
       "_view_module": "jupyter-cytoscape",
       "_view_module_version": "^1.3.3",
       "_view_name": "EdgeView",
       "classes": " directed ",
       "data": {
        "source": "-2984791433091964748",
        "target": "4305152143068885112"
       },
       "pannable": true,
       "removed": false,
       "selectable": false,
       "selected": false
      }
     },
     "de949bb117024d68bdae827a0d14f159": {
      "model_module": "jupyter-cytoscape",
      "model_module_version": "^1.3.3",
      "model_name": "EdgeModel",
      "state": {
       "_model_module": "jupyter-cytoscape",
       "_model_module_version": "^1.3.3",
       "_model_name": "EdgeModel",
       "_view_count": null,
       "_view_module": "jupyter-cytoscape",
       "_view_module_version": "^1.3.3",
       "_view_name": "EdgeView",
       "classes": " directed ",
       "data": {
        "source": "4137911257607001685",
        "target": "2690585415939583053"
       },
       "pannable": true,
       "removed": false,
       "selectable": false,
       "selected": false
      }
     },
     "df70885b04b74c00bd3020e7dd088cab": {
      "model_module": "jupyter-cytoscape",
      "model_module_version": "^1.3.3",
      "model_name": "EdgeModel",
      "state": {
       "_model_module": "jupyter-cytoscape",
       "_model_module_version": "^1.3.3",
       "_model_name": "EdgeModel",
       "_view_count": null,
       "_view_module": "jupyter-cytoscape",
       "_view_module_version": "^1.3.3",
       "_view_name": "EdgeView",
       "classes": " directed ",
       "data": {
        "source": "5166708672130560359",
        "target": "-5402339980437273779"
       },
       "pannable": true,
       "removed": false,
       "selectable": false,
       "selected": false
      }
     },
     "e0846230a3e04011833261eb9dc00e53": {
      "model_module": "jupyter-cytoscape",
      "model_module_version": "^1.3.3",
      "model_name": "NodeModel",
      "state": {
       "_model_module": "jupyter-cytoscape",
       "_model_module_version": "^1.3.3",
       "_model_name": "NodeModel",
       "_view_count": null,
       "_view_module": "jupyter-cytoscape",
       "_view_module_version": "^1.3.3",
       "_view_name": "NodeView",
       "classes": "",
       "data": {
        "color": "gray",
        "id": "2421691910160410931",
        "label": "4",
        "shape": "rectangle"
       },
       "grabbable": true,
       "grabbed": false,
       "locked": false,
       "pannable": false,
       "position": {},
       "removed": false,
       "selectable": false,
       "selected": false
      }
     },
     "e0c8c34b00aa4c4b887f631644a67eb0": {
      "model_module": "jupyter-cytoscape",
      "model_module_version": "^1.3.3",
      "model_name": "EdgeModel",
      "state": {
       "_model_module": "jupyter-cytoscape",
       "_model_module_version": "^1.3.3",
       "_model_name": "EdgeModel",
       "_view_count": null,
       "_view_module": "jupyter-cytoscape",
       "_view_module_version": "^1.3.3",
       "_view_name": "EdgeView",
       "classes": " directed ",
       "data": {
        "source": "352137558488055033",
        "target": "1756897231286491372"
       },
       "pannable": true,
       "removed": false,
       "selectable": false,
       "selected": false
      }
     },
     "e1c5cdac0af648a8b78fa1a2ee51ba6f": {
      "model_module": "jupyter-cytoscape",
      "model_module_version": "^1.3.3",
      "model_name": "EdgeModel",
      "state": {
       "_model_module": "jupyter-cytoscape",
       "_model_module_version": "^1.3.3",
       "_model_name": "EdgeModel",
       "_view_count": null,
       "_view_module": "jupyter-cytoscape",
       "_view_module_version": "^1.3.3",
       "_view_name": "EdgeView",
       "classes": " directed ",
       "data": {
        "source": "4908709954019357632",
        "target": "-378092120596831720"
       },
       "pannable": true,
       "removed": false,
       "selectable": false,
       "selected": false
      }
     },
     "e21294661de847c881d560a850165ef8": {
      "model_module": "jupyter-cytoscape",
      "model_module_version": "^1.3.3",
      "model_name": "NodeModel",
      "state": {
       "_model_module": "jupyter-cytoscape",
       "_model_module_version": "^1.3.3",
       "_model_name": "NodeModel",
       "_view_count": null,
       "_view_module": "jupyter-cytoscape",
       "_view_module_version": "^1.3.3",
       "_view_name": "NodeView",
       "classes": "",
       "data": {
        "color": "gray",
        "id": "875396549473475585",
        "label": "3",
        "shape": "rectangle"
       },
       "grabbable": true,
       "grabbed": false,
       "locked": false,
       "pannable": false,
       "position": {},
       "removed": false,
       "selectable": false,
       "selected": false
      }
     },
     "e2341c2ecc87442aaa40698ade97616e": {
      "model_module": "jupyter-cytoscape",
      "model_module_version": "^1.3.3",
      "model_name": "EdgeModel",
      "state": {
       "_model_module": "jupyter-cytoscape",
       "_model_module_version": "^1.3.3",
       "_model_name": "EdgeModel",
       "_view_count": null,
       "_view_module": "jupyter-cytoscape",
       "_view_module_version": "^1.3.3",
       "_view_name": "EdgeView",
       "classes": " directed ",
       "data": {
        "source": "5139090868474943069",
        "target": "-362098745694655138"
       },
       "pannable": true,
       "removed": false,
       "selectable": false,
       "selected": false
      }
     },
     "e2508c27208b490988d4aa724c57592e": {
      "model_module": "jupyter-cytoscape",
      "model_module_version": "^1.3.3",
      "model_name": "NodeModel",
      "state": {
       "_model_module": "jupyter-cytoscape",
       "_model_module_version": "^1.3.3",
       "_model_name": "NodeModel",
       "_view_count": null,
       "_view_module": "jupyter-cytoscape",
       "_view_module_version": "^1.3.3",
       "_view_name": "NodeView",
       "classes": "",
       "data": {
        "color": "gray",
        "id": "7657935379765807277",
        "label": "getitem",
        "shape": "ellipse"
       },
       "grabbable": true,
       "grabbed": false,
       "locked": false,
       "pannable": false,
       "position": {},
       "removed": false,
       "selectable": false,
       "selected": false
      }
     },
     "e32c918ada014c8f8adff361bbcd4dd1": {
      "model_module": "jupyter-cytoscape",
      "model_module_version": "^1.3.3",
      "model_name": "EdgeModel",
      "state": {
       "_model_module": "jupyter-cytoscape",
       "_model_module_version": "^1.3.3",
       "_model_name": "EdgeModel",
       "_view_count": null,
       "_view_module": "jupyter-cytoscape",
       "_view_module_version": "^1.3.3",
       "_view_name": "EdgeView",
       "classes": " directed ",
       "data": {
        "source": "-378092120596831720",
        "target": "4137911257607001685"
       },
       "pannable": true,
       "removed": false,
       "selectable": false,
       "selected": false
      }
     },
     "e360673ce4bd46719f23b3a23358c262": {
      "model_module": "jupyter-cytoscape",
      "model_module_version": "^1.3.3",
      "model_name": "EdgeModel",
      "state": {
       "_model_module": "jupyter-cytoscape",
       "_model_module_version": "^1.3.3",
       "_model_name": "EdgeModel",
       "_view_count": null,
       "_view_module": "jupyter-cytoscape",
       "_view_module_version": "^1.3.3",
       "_view_name": "EdgeView",
       "classes": " directed ",
       "data": {
        "source": "8552261234301238020",
        "target": "214627093188833346"
       },
       "pannable": true,
       "removed": false,
       "selectable": false,
       "selected": false
      }
     },
     "e37df73e190f415791fa1a420eafbc4a": {
      "model_module": "jupyter-cytoscape",
      "model_module_version": "^1.3.3",
      "model_name": "NodeModel",
      "state": {
       "_model_module": "jupyter-cytoscape",
       "_model_module_version": "^1.3.3",
       "_model_name": "NodeModel",
       "_view_count": null,
       "_view_module": "jupyter-cytoscape",
       "_view_module_version": "^1.3.3",
       "_view_name": "NodeView",
       "classes": "",
       "data": {
        "color": "gray",
        "id": "-3611628160301935127",
        "label": "3",
        "shape": "rectangle"
       },
       "grabbable": true,
       "grabbed": false,
       "locked": false,
       "pannable": false,
       "position": {},
       "removed": false,
       "selectable": false,
       "selected": false
      }
     },
     "e392a20637a843fea5cd6f9c93856f04": {
      "model_module": "jupyter-cytoscape",
      "model_module_version": "^1.3.3",
      "model_name": "NodeModel",
      "state": {
       "_model_module": "jupyter-cytoscape",
       "_model_module_version": "^1.3.3",
       "_model_name": "NodeModel",
       "_view_count": null,
       "_view_module": "jupyter-cytoscape",
       "_view_module_version": "^1.3.3",
       "_view_name": "NodeView",
       "classes": "",
       "data": {
        "color": "gray",
        "id": "-4473464672095345466",
        "label": "series-sum-chunk",
        "shape": "ellipse"
       },
       "grabbable": true,
       "grabbed": false,
       "locked": false,
       "pannable": false,
       "position": {},
       "removed": false,
       "selectable": false,
       "selected": false
      }
     },
     "e47684c447c142958ceace56d682c60f": {
      "model_module": "jupyter-cytoscape",
      "model_module_version": "^1.3.3",
      "model_name": "EdgeModel",
      "state": {
       "_model_module": "jupyter-cytoscape",
       "_model_module_version": "^1.3.3",
       "_model_name": "EdgeModel",
       "_view_count": null,
       "_view_module": "jupyter-cytoscape",
       "_view_module_version": "^1.3.3",
       "_view_name": "EdgeView",
       "classes": " directed ",
       "data": {
        "source": "-3942938910880416882",
        "target": "-3727889332386476434"
       },
       "pannable": true,
       "removed": false,
       "selectable": false,
       "selected": false
      }
     },
     "e576a70849024eda843646309eeea0ce": {
      "model_module": "jupyter-cytoscape",
      "model_module_version": "^1.3.3",
      "model_name": "EdgeModel",
      "state": {
       "_model_module": "jupyter-cytoscape",
       "_model_module_version": "^1.3.3",
       "_model_name": "EdgeModel",
       "_view_count": null,
       "_view_module": "jupyter-cytoscape",
       "_view_module_version": "^1.3.3",
       "_view_name": "EdgeView",
       "classes": " directed ",
       "data": {
        "source": "239515696287976210",
        "target": "3659187205328541654"
       },
       "pannable": true,
       "removed": false,
       "selectable": false,
       "selected": false
      }
     },
     "e59c06954f8f4dc093edd33dcef8ba21": {
      "model_module": "jupyter-cytoscape",
      "model_module_version": "^1.3.3",
      "model_name": "EdgeModel",
      "state": {
       "_model_module": "jupyter-cytoscape",
       "_model_module_version": "^1.3.3",
       "_model_name": "EdgeModel",
       "_view_count": null,
       "_view_module": "jupyter-cytoscape",
       "_view_module_version": "^1.3.3",
       "_view_name": "EdgeView",
       "classes": " directed ",
       "data": {
        "source": "-6867086290107849607",
        "target": "5139090868474943069"
       },
       "pannable": true,
       "removed": false,
       "selectable": false,
       "selected": false
      }
     },
     "e5b8a868e27a48aeafe1c03525a439b8": {
      "model_module": "jupyter-cytoscape",
      "model_module_version": "^1.3.3",
      "model_name": "EdgeModel",
      "state": {
       "_model_module": "jupyter-cytoscape",
       "_model_module_version": "^1.3.3",
       "_model_name": "EdgeModel",
       "_view_count": null,
       "_view_module": "jupyter-cytoscape",
       "_view_module_version": "^1.3.3",
       "_view_name": "EdgeView",
       "classes": " directed ",
       "data": {
        "source": "-986031406033874848",
        "target": "7855807683354769653"
       },
       "pannable": true,
       "removed": false,
       "selectable": false,
       "selected": false
      }
     },
     "e6b32626f1ef4d708d88816e09bab93b": {
      "model_module": "jupyter-cytoscape",
      "model_module_version": "^1.3.3",
      "model_name": "EdgeModel",
      "state": {
       "_model_module": "jupyter-cytoscape",
       "_model_module_version": "^1.3.3",
       "_model_name": "EdgeModel",
       "_view_count": null,
       "_view_module": "jupyter-cytoscape",
       "_view_module_version": "^1.3.3",
       "_view_name": "EdgeView",
       "classes": " directed ",
       "data": {
        "source": "-8279916112279011537",
        "target": "-5575857782686678513"
       },
       "pannable": true,
       "removed": false,
       "selectable": false,
       "selected": false
      }
     },
     "e777286fdaa04304ac2e07f5790d5caf": {
      "model_module": "jupyter-cytoscape",
      "model_module_version": "^1.3.3",
      "model_name": "NodeModel",
      "state": {
       "_model_module": "jupyter-cytoscape",
       "_model_module_version": "^1.3.3",
       "_model_name": "NodeModel",
       "_view_count": null,
       "_view_module": "jupyter-cytoscape",
       "_view_module_version": "^1.3.3",
       "_view_name": "NodeView",
       "classes": "",
       "data": {
        "color": "gray",
        "id": "-5575857782686678513",
        "label": "getitem",
        "shape": "ellipse"
       },
       "grabbable": true,
       "grabbed": false,
       "locked": false,
       "pannable": false,
       "position": {},
       "removed": false,
       "selectable": false,
       "selected": false
      }
     },
     "e7ca176e588248bc8853462d788ff8b2": {
      "model_module": "jupyter-cytoscape",
      "model_module_version": "^1.3.3",
      "model_name": "NodeModel",
      "state": {
       "_model_module": "jupyter-cytoscape",
       "_model_module_version": "^1.3.3",
       "_model_name": "NodeModel",
       "_view_count": null,
       "_view_module": "jupyter-cytoscape",
       "_view_module_version": "^1.3.3",
       "_view_name": "NodeView",
       "classes": "",
       "data": {
        "color": "gray",
        "id": "6781275399259862418",
        "label": "3",
        "shape": "rectangle"
       },
       "grabbable": true,
       "grabbed": false,
       "locked": false,
       "pannable": false,
       "position": {},
       "removed": false,
       "selectable": false,
       "selected": false
      }
     },
     "e81c72aacf0043f78ad45da778456219": {
      "model_module": "jupyter-cytoscape",
      "model_module_version": "^1.3.3",
      "model_name": "NodeModel",
      "state": {
       "_model_module": "jupyter-cytoscape",
       "_model_module_version": "^1.3.3",
       "_model_name": "NodeModel",
       "_view_count": null,
       "_view_module": "jupyter-cytoscape",
       "_view_module_version": "^1.3.3",
       "_view_name": "NodeView",
       "classes": "",
       "data": {
        "color": "gray",
        "id": "-1825139685823884221",
        "label": "getitem",
        "shape": "ellipse"
       },
       "grabbable": true,
       "grabbed": false,
       "locked": false,
       "pannable": false,
       "position": {},
       "removed": false,
       "selectable": false,
       "selected": false
      }
     },
     "e82425e75beb476dab542a62c332e54d": {
      "model_module": "jupyter-cytoscape",
      "model_module_version": "^1.3.3",
      "model_name": "EdgeModel",
      "state": {
       "_model_module": "jupyter-cytoscape",
       "_model_module_version": "^1.3.3",
       "_model_name": "EdgeModel",
       "_view_count": null,
       "_view_module": "jupyter-cytoscape",
       "_view_module_version": "^1.3.3",
       "_view_name": "EdgeView",
       "classes": " directed ",
       "data": {
        "source": "3590915838886174941",
        "target": "214627093188833346"
       },
       "pannable": true,
       "removed": false,
       "selectable": false,
       "selected": false
      }
     },
     "eab64f161d3e497388d47528044eee34": {
      "model_module": "jupyter-cytoscape",
      "model_module_version": "^1.3.3",
      "model_name": "EdgeModel",
      "state": {
       "_model_module": "jupyter-cytoscape",
       "_model_module_version": "^1.3.3",
       "_model_name": "EdgeModel",
       "_view_count": null,
       "_view_module": "jupyter-cytoscape",
       "_view_module_version": "^1.3.3",
       "_view_name": "EdgeView",
       "classes": " directed ",
       "data": {
        "source": "-6628031145996916368",
        "target": "5245211587460751399"
       },
       "pannable": true,
       "removed": false,
       "selectable": false,
       "selected": false
      }
     },
     "ebb13e75f8d24ea7af10a9d36633c53c": {
      "model_module": "jupyter-cytoscape",
      "model_module_version": "^1.3.3",
      "model_name": "NodeModel",
      "state": {
       "_model_module": "jupyter-cytoscape",
       "_model_module_version": "^1.3.3",
       "_model_name": "NodeModel",
       "_view_count": null,
       "_view_module": "jupyter-cytoscape",
       "_view_module_version": "^1.3.3",
       "_view_name": "NodeView",
       "classes": "",
       "data": {
        "color": "gray",
        "id": "-2159337084952218622",
        "label": "values",
        "shape": "ellipse"
       },
       "grabbable": true,
       "grabbed": false,
       "locked": false,
       "pannable": false,
       "position": {},
       "removed": false,
       "selectable": false,
       "selected": false
      }
     },
     "ed04e1f6c57340d2bd5d6595bd163833": {
      "model_module": "jupyter-cytoscape",
      "model_module_version": "^1.3.3",
      "model_name": "EdgeModel",
      "state": {
       "_model_module": "jupyter-cytoscape",
       "_model_module_version": "^1.3.3",
       "_model_name": "EdgeModel",
       "_view_count": null,
       "_view_module": "jupyter-cytoscape",
       "_view_module_version": "^1.3.3",
       "_view_name": "EdgeView",
       "classes": " directed ",
       "data": {
        "source": "-3003987125419274856",
        "target": "5543684501450551995"
       },
       "pannable": true,
       "removed": false,
       "selectable": false,
       "selected": false
      }
     },
     "ed28004a47764c9591e5b4b722c632b8": {
      "model_module": "jupyter-cytoscape",
      "model_module_version": "^1.3.3",
      "model_name": "EdgeModel",
      "state": {
       "_model_module": "jupyter-cytoscape",
       "_model_module_version": "^1.3.3",
       "_model_name": "EdgeModel",
       "_view_count": null,
       "_view_module": "jupyter-cytoscape",
       "_view_module_version": "^1.3.3",
       "_view_name": "EdgeView",
       "classes": " directed ",
       "data": {
        "source": "6331170653445408337",
        "target": "-5728119703383890993"
       },
       "pannable": true,
       "removed": false,
       "selectable": false,
       "selected": false
      }
     },
     "ed2bfd9c101c4da090d8c4542e4b5dd0": {
      "model_module": "jupyter-cytoscape",
      "model_module_version": "^1.3.3",
      "model_name": "EdgeModel",
      "state": {
       "_model_module": "jupyter-cytoscape",
       "_model_module_version": "^1.3.3",
       "_model_name": "EdgeModel",
       "_view_count": null,
       "_view_module": "jupyter-cytoscape",
       "_view_module_version": "^1.3.3",
       "_view_name": "EdgeView",
       "classes": " directed ",
       "data": {
        "source": "229106684892762560",
        "target": "6712908430176316005"
       },
       "pannable": true,
       "removed": false,
       "selectable": false,
       "selected": false
      }
     },
     "eddc9d9e19c7487fb90a3ce6e213e91e": {
      "model_module": "jupyter-cytoscape",
      "model_module_version": "^1.3.3",
      "model_name": "NodeModel",
      "state": {
       "_model_module": "jupyter-cytoscape",
       "_model_module_version": "^1.3.3",
       "_model_name": "NodeModel",
       "_view_count": null,
       "_view_module": "jupyter-cytoscape",
       "_view_module_version": "^1.3.3",
       "_view_name": "NodeView",
       "classes": "",
       "data": {
        "color": "gray",
        "id": "-8239622574812004915",
        "label": "values",
        "shape": "ellipse"
       },
       "grabbable": true,
       "grabbed": false,
       "locked": false,
       "pannable": false,
       "position": {},
       "removed": false,
       "selectable": false,
       "selected": false
      }
     },
     "ee4f3ce2d2ee469f832d8ae334d83c57": {
      "model_module": "jupyter-cytoscape",
      "model_module_version": "^1.3.3",
      "model_name": "NodeModel",
      "state": {
       "_model_module": "jupyter-cytoscape",
       "_model_module_version": "^1.3.3",
       "_model_name": "NodeModel",
       "_view_count": null,
       "_view_module": "jupyter-cytoscape",
       "_view_module_version": "^1.3.3",
       "_view_name": "NodeView",
       "classes": "",
       "data": {
        "color": "gray",
        "id": "-6772394645476992832",
        "label": "2",
        "shape": "rectangle"
       },
       "grabbable": true,
       "grabbed": false,
       "locked": false,
       "pannable": false,
       "position": {},
       "removed": false,
       "selectable": false,
       "selected": false
      }
     },
     "eee4107082c948679a6be55b9dc20e49": {
      "model_module": "jupyter-cytoscape",
      "model_module_version": "^1.3.3",
      "model_name": "EdgeModel",
      "state": {
       "_model_module": "jupyter-cytoscape",
       "_model_module_version": "^1.3.3",
       "_model_name": "EdgeModel",
       "_view_count": null,
       "_view_module": "jupyter-cytoscape",
       "_view_module_version": "^1.3.3",
       "_view_name": "EdgeView",
       "classes": " directed ",
       "data": {
        "source": "-6484126754934106940",
        "target": "6210983614223662198"
       },
       "pannable": true,
       "removed": false,
       "selectable": false,
       "selected": false
      }
     },
     "ef73a7ceccb34a2790e82508edcaceb1": {
      "model_module": "jupyter-cytoscape",
      "model_module_version": "^1.3.3",
      "model_name": "NodeModel",
      "state": {
       "_model_module": "jupyter-cytoscape",
       "_model_module_version": "^1.3.3",
       "_model_name": "NodeModel",
       "_view_count": null,
       "_view_module": "jupyter-cytoscape",
       "_view_module_version": "^1.3.3",
       "_view_name": "NodeView",
       "classes": "",
       "data": {
        "color": "gray",
        "id": "3509251585282858930",
        "label": "0",
        "shape": "rectangle"
       },
       "grabbable": true,
       "grabbed": false,
       "locked": false,
       "pannable": false,
       "position": {},
       "removed": false,
       "selectable": false,
       "selected": false
      }
     },
     "f17675a7bad24b0b95015d3c7e6b4d36": {
      "model_module": "jupyter-cytoscape",
      "model_module_version": "^1.3.3",
      "model_name": "EdgeModel",
      "state": {
       "_model_module": "jupyter-cytoscape",
       "_model_module_version": "^1.3.3",
       "_model_name": "EdgeModel",
       "_view_count": null,
       "_view_module": "jupyter-cytoscape",
       "_view_module_version": "^1.3.3",
       "_view_name": "EdgeView",
       "classes": " directed ",
       "data": {
        "source": "7765871186817538708",
        "target": "669390781580465024"
       },
       "pannable": true,
       "removed": false,
       "selectable": false,
       "selected": false
      }
     },
     "f26d281c61254eee81ddf4c9abd04361": {
      "model_module": "jupyter-cytoscape",
      "model_module_version": "^1.3.3",
      "model_name": "NodeModel",
      "state": {
       "_model_module": "jupyter-cytoscape",
       "_model_module_version": "^1.3.3",
       "_model_name": "NodeModel",
       "_view_count": null,
       "_view_module": "jupyter-cytoscape",
       "_view_module_version": "^1.3.3",
       "_view_name": "NodeView",
       "classes": "",
       "data": {
        "color": "gray",
        "id": "5166708672130560359",
        "label": "1",
        "shape": "rectangle"
       },
       "grabbable": true,
       "grabbed": false,
       "locked": false,
       "pannable": false,
       "position": {},
       "removed": false,
       "selectable": false,
       "selected": false
      }
     },
     "f323676645a34b1788b367997595977f": {
      "model_module": "jupyter-cytoscape",
      "model_module_version": "^1.3.3",
      "model_name": "EdgeModel",
      "state": {
       "_model_module": "jupyter-cytoscape",
       "_model_module_version": "^1.3.3",
       "_model_name": "EdgeModel",
       "_view_count": null,
       "_view_module": "jupyter-cytoscape",
       "_view_module_version": "^1.3.3",
       "_view_name": "EdgeView",
       "classes": " directed ",
       "data": {
        "source": "-378092120596831720",
        "target": "4963365605746747811"
       },
       "pannable": true,
       "removed": false,
       "selectable": false,
       "selected": false
      }
     },
     "f33deb34c9fc4ffba09bf1ec58bc04c4": {
      "model_module": "jupyter-cytoscape",
      "model_module_version": "^1.3.3",
      "model_name": "NodeModel",
      "state": {
       "_model_module": "jupyter-cytoscape",
       "_model_module_version": "^1.3.3",
       "_model_name": "NodeModel",
       "_view_count": null,
       "_view_module": "jupyter-cytoscape",
       "_view_module_version": "^1.3.3",
       "_view_name": "NodeView",
       "classes": "",
       "data": {
        "color": "gray",
        "id": "5139090868474943069",
        "label": "inv",
        "shape": "ellipse"
       },
       "grabbable": true,
       "grabbed": false,
       "locked": false,
       "pannable": false,
       "position": {},
       "removed": false,
       "selectable": false,
       "selected": false
      }
     },
     "f3f837263887418f8d5b7f4d30978865": {
      "model_module": "jupyter-cytoscape",
      "model_module_version": "^1.3.3",
      "model_name": "EdgeModel",
      "state": {
       "_model_module": "jupyter-cytoscape",
       "_model_module_version": "^1.3.3",
       "_model_name": "EdgeModel",
       "_view_count": null,
       "_view_module": "jupyter-cytoscape",
       "_view_module_version": "^1.3.3",
       "_view_name": "EdgeView",
       "classes": " directed ",
       "data": {
        "source": "-2788304801517932783",
        "target": "-6867086290107849607"
       },
       "pannable": true,
       "removed": false,
       "selectable": false,
       "selected": false
      }
     },
     "f5d7fe6a2e6c4a94ae571e2205662ff7": {
      "model_module": "jupyter-cytoscape",
      "model_module_version": "^1.3.3",
      "model_name": "EdgeModel",
      "state": {
       "_model_module": "jupyter-cytoscape",
       "_model_module_version": "^1.3.3",
       "_model_name": "EdgeModel",
       "_view_count": null,
       "_view_module": "jupyter-cytoscape",
       "_view_module_version": "^1.3.3",
       "_view_name": "EdgeView",
       "classes": " directed ",
       "data": {
        "source": "4596416887094360139",
        "target": "-5698307822963293241"
       },
       "pannable": true,
       "removed": false,
       "selectable": false,
       "selected": false
      }
     },
     "f5dc69ed96bd46b19c14b124e6303527": {
      "model_module": "jupyter-cytoscape",
      "model_module_version": "^1.3.3",
      "model_name": "EdgeModel",
      "state": {
       "_model_module": "jupyter-cytoscape",
       "_model_module_version": "^1.3.3",
       "_model_name": "EdgeModel",
       "_view_count": null,
       "_view_module": "jupyter-cytoscape",
       "_view_module_version": "^1.3.3",
       "_view_name": "EdgeView",
       "classes": " directed ",
       "data": {
        "source": "6137237358810427962",
        "target": "2421691910160410931"
       },
       "pannable": true,
       "removed": false,
       "selectable": false,
       "selected": false
      }
     },
     "f67dcb6063ed450fbc721e882e73f8ea": {
      "model_module": "jupyter-cytoscape",
      "model_module_version": "^1.3.3",
      "model_name": "EdgeModel",
      "state": {
       "_model_module": "jupyter-cytoscape",
       "_model_module_version": "^1.3.3",
       "_model_name": "EdgeModel",
       "_view_count": null,
       "_view_module": "jupyter-cytoscape",
       "_view_module_version": "^1.3.3",
       "_view_name": "EdgeView",
       "classes": " directed ",
       "data": {
        "source": "8890558772377492715",
        "target": "-3003987125419274856"
       },
       "pannable": true,
       "removed": false,
       "selectable": false,
       "selected": false
      }
     },
     "f6be1d0849d1401c9f494c7d3ac62f29": {
      "model_module": "jupyter-cytoscape",
      "model_module_version": "^1.3.3",
      "model_name": "NodeModel",
      "state": {
       "_model_module": "jupyter-cytoscape",
       "_model_module_version": "^1.3.3",
       "_model_name": "NodeModel",
       "_view_count": null,
       "_view_module": "jupyter-cytoscape",
       "_view_module_version": "^1.3.3",
       "_view_name": "NodeView",
       "classes": "",
       "data": {
        "color": "gray",
        "id": "-4173232130790014483",
        "label": "1",
        "shape": "rectangle"
       },
       "grabbable": true,
       "grabbed": false,
       "locked": false,
       "pannable": false,
       "position": {},
       "removed": false,
       "selectable": false,
       "selected": false
      }
     },
     "f86ae513d6064ca88f1a9d8fbc027adf": {
      "model_module": "jupyter-cytoscape",
      "model_module_version": "^1.3.3",
      "model_name": "NodeModel",
      "state": {
       "_model_module": "jupyter-cytoscape",
       "_model_module_version": "^1.3.3",
       "_model_name": "NodeModel",
       "_view_count": null,
       "_view_module": "jupyter-cytoscape",
       "_view_module_version": "^1.3.3",
       "_view_name": "NodeView",
       "classes": "",
       "data": {
        "color": "gray",
        "id": "-6867086290107849607",
        "label": "6",
        "shape": "rectangle"
       },
       "grabbable": true,
       "grabbed": false,
       "locked": false,
       "pannable": false,
       "position": {},
       "removed": false,
       "selectable": false,
       "selected": false
      }
     },
     "f8cff012bb77447082287ba5a283114f": {
      "model_module": "jupyter-cytoscape",
      "model_module_version": "^1.3.3",
      "model_name": "NodeModel",
      "state": {
       "_model_module": "jupyter-cytoscape",
       "_model_module_version": "^1.3.3",
       "_model_name": "NodeModel",
       "_view_count": null,
       "_view_module": "jupyter-cytoscape",
       "_view_module_version": "^1.3.3",
       "_view_name": "NodeView",
       "classes": "",
       "data": {
        "color": "gray",
        "id": "-2965294203482439106",
        "label": "moment_chunk",
        "shape": "ellipse"
       },
       "grabbable": true,
       "grabbed": false,
       "locked": false,
       "pannable": false,
       "position": {},
       "removed": false,
       "selectable": false,
       "selected": false
      }
     },
     "f929aa3ab7234658ad0dc1951ddb2740": {
      "model_module": "jupyter-cytoscape",
      "model_module_version": "^1.3.3",
      "model_name": "NodeModel",
      "state": {
       "_model_module": "jupyter-cytoscape",
       "_model_module_version": "^1.3.3",
       "_model_name": "NodeModel",
       "_view_count": null,
       "_view_module": "jupyter-cytoscape",
       "_view_module_version": "^1.3.3",
       "_view_name": "NodeView",
       "classes": "",
       "data": {
        "color": "gray",
        "id": "1521361487213819043",
        "label": "5",
        "shape": "rectangle"
       },
       "grabbable": true,
       "grabbed": false,
       "locked": false,
       "pannable": false,
       "position": {},
       "removed": false,
       "selectable": false,
       "selected": false
      }
     },
     "fadaea080b194604a144893702190fe9": {
      "model_module": "jupyter-cytoscape",
      "model_module_version": "^1.3.3",
      "model_name": "NodeModel",
      "state": {
       "_model_module": "jupyter-cytoscape",
       "_model_module_version": "^1.3.3",
       "_model_name": "NodeModel",
       "_view_count": null,
       "_view_module": "jupyter-cytoscape",
       "_view_module_version": "^1.3.3",
       "_view_name": "NodeView",
       "classes": "",
       "data": {
        "color": "gray",
        "id": "-5700515573070889553",
        "label": "1",
        "shape": "rectangle"
       },
       "grabbable": true,
       "grabbed": false,
       "locked": false,
       "pannable": false,
       "position": {},
       "removed": false,
       "selectable": false,
       "selected": false
      }
     },
     "fb6cb062e6644b43856dc93459d961e1": {
      "model_module": "jupyter-cytoscape",
      "model_module_version": "^1.3.3",
      "model_name": "EdgeModel",
      "state": {
       "_model_module": "jupyter-cytoscape",
       "_model_module_version": "^1.3.3",
       "_model_name": "EdgeModel",
       "_view_count": null,
       "_view_module": "jupyter-cytoscape",
       "_view_module_version": "^1.3.3",
       "_view_name": "EdgeView",
       "classes": " directed ",
       "data": {
        "source": "2493997645905476342",
        "target": "3361751354552277218"
       },
       "pannable": true,
       "removed": false,
       "selectable": false,
       "selected": false
      }
     },
     "fe1a942641d14a61a824a013c7b494e9": {
      "model_module": "jupyter-cytoscape",
      "model_module_version": "^1.3.3",
      "model_name": "EdgeModel",
      "state": {
       "_model_module": "jupyter-cytoscape",
       "_model_module_version": "^1.3.3",
       "_model_name": "EdgeModel",
       "_view_count": null,
       "_view_module": "jupyter-cytoscape",
       "_view_module_version": "^1.3.3",
       "_view_name": "EdgeView",
       "classes": " directed ",
       "data": {
        "source": "-4777629558972427861",
        "target": "5620863048582971313"
       },
       "pannable": true,
       "removed": false,
       "selectable": false,
       "selected": false
      }
     }
    },
    "version_major": 2,
    "version_minor": 0
   }
  }
 },
 "nbformat": 4,
 "nbformat_minor": 4
}
